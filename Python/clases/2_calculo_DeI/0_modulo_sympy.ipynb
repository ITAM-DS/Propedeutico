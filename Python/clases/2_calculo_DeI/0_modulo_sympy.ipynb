{
 "cells": [
  {
   "cell_type": "markdown",
   "id": "505f3f07-decd-4acf-9051-a2d4e5fd8981",
   "metadata": {},
   "source": [
    "**Notas para contenedor de docker:**\n",
    "\n",
    "Comando de docker para ejecución de la nota de forma local:\n",
    "\n",
    "nota: cambiar `dir_montar` por la ruta de directorio que se desea mapear a `/datos` dentro del contenedor de docker.\n",
    "\n",
    "```\n",
    "dir_montar=<ruta completa de mi máquina a mi directorio>#aquí colocar la ruta al directorio a montar, por ejemplo: \n",
    "#dir_montar=/Users/erick/midirectorio.\n",
    "```\n",
    "\n",
    "Ejecutar:\n",
    "\n",
    "```\n",
    "VERSION=<versión imagen de docker>\n",
    "docker run --rm -v $dir_montar:/datos --name jupyterlab_prope_r_kernel_tidyverse -p 8888:8888 -d palmoreck/jupyterlab_prope_r_kernel_tidyverse:$VERSION\n",
    "\n",
    "```\n",
    "\n",
    "Ir a `localhost:8888` y escribir el password para jupyterlab: `qwerty`\n",
    "\n",
    "\n",
    "Detener el contenedor de docker:\n",
    "\n",
    "```\n",
    "docker stop jupyterlab_prope_r_kernel_tidyverse\n",
    "```\n",
    "\n",
    "Documentación de la imagen de docker `palmoreck/jupyterlab_prope_r_kernel_tidyverse:<versión imagen de docker>` en [liga](https://github.com/palmoreck/dockerfiles/tree/master/jupyterlab/prope_r_kernel_tidyverse)\n",
    "\n",
    "\n"
   ]
  },
  {
   "cell_type": "markdown",
   "id": "3b079e00-a3d3-404b-9922-a138d1be3080",
   "metadata": {},
   "source": [
    "---"
   ]
  },
  {
   "cell_type": "markdown",
   "id": "2beffe89-f268-4cbb-8ae5-02effa436a3a",
   "metadata": {},
   "source": [
    "Para ejecución de la nota usar:\n",
    "\n",
    "[docker](https://www.docker.com/) (instalación de forma **local** con [Get docker](https://docs.docker.com/install/)) y ejecutar comandos que están al inicio de la nota de forma **local**. \n",
    "\n",
    "O bien dar click en alguno de los botones siguientes:"
   ]
  },
  {
   "cell_type": "markdown",
   "id": "bf4566ff-c2f8-45ac-836e-44e28412a09a",
   "metadata": {},
   "source": [
    "[![Binder](https://mybinder.org/badge_logo.svg)](https://mybinder.org/v2/gh/palmoreck/dockerfiles-for-binder/jupyterlab_prope_r_kernel_tidyerse?urlpath=lab/tree/Propedeutico/Python/clases/2_calculo_DeI/1_aproximacion_a_derivadas_e_integrales.ipynb) esta opción crea una máquina individual en un servidor de Google, clona el repositorio y permite la ejecución de los notebooks de jupyter."
   ]
  },
  {
   "cell_type": "markdown",
   "id": "b327d7cb-8dd2-4952-898a-286626840e85",
   "metadata": {},
   "source": [
    "[![Run on Repl.it](https://repl.it/badge/github/palmoreck/dummy)](https://repl.it/languages/python3) esta opción no clona el repositorio, no ejecuta los notebooks de jupyter pero permite ejecución de instrucciones de Python de forma colaborativa con [repl.it](https://repl.it/). Al dar click se crearán nuevos ***repl*** debajo de sus users de ***repl.it***.\n"
   ]
  },
  {
   "cell_type": "markdown",
   "id": "928a233c-5ad1-4a7e-b99e-c91de2b209b1",
   "metadata": {},
   "source": [
    "En Python podemos utilizar el paquete *SymPy* para realizar cómputo algebraico o simbólico, ver [computer algebra](https://en.wikipedia.org/wiki/Computer_algebra)."
   ]
  },
  {
   "cell_type": "code",
   "execution_count": 1,
   "id": "5137b119-dffd-428b-81ae-91b74e9bca92",
   "metadata": {},
   "outputs": [],
   "source": [
    "import sympy #usamos import para importar módulos o paquetes de python"
   ]
  },
  {
   "cell_type": "markdown",
   "id": "5f0ea69c-b6ae-492c-af9b-bf55f99f3c95",
   "metadata": {},
   "source": [
    "# Representación de símbolos matemáticos como objetos de Python"
   ]
  },
  {
   "cell_type": "markdown",
   "id": "55214209-7006-45b2-a51c-8dcc3a2f8123",
   "metadata": {},
   "source": [
    "Para usar el contenido al que podemos acceder dentro de un paquete de Python utilizamos `sympy.<aquí escribir el contenido a usar>`"
   ]
  },
  {
   "cell_type": "markdown",
   "id": "85d06ff2-5291-4c17-8cd8-9b306b675998",
   "metadata": {},
   "source": [
    "## Clase `Symbol`"
   ]
  },
  {
   "cell_type": "markdown",
   "id": "e5f6cfa7-ca87-423d-a83d-d5885bd5af54",
   "metadata": {},
   "source": [
    "Usamos la clase `Symbol` para crear un objeto `Symbol` de Python:"
   ]
  },
  {
   "cell_type": "code",
   "execution_count": 2,
   "id": "ec1d3409-58d8-43a7-9865-bf55548d8bcb",
   "metadata": {},
   "outputs": [],
   "source": [
    "x = sympy.Symbol(\"x\") #el nombre del símbolo es x y se asigna a la variable x"
   ]
  },
  {
   "cell_type": "code",
   "execution_count": 3,
   "id": "b86ac925-2156-4f13-a8fb-e29868407891",
   "metadata": {},
   "outputs": [
    {
     "data": {
      "text/latex": [
       "$\\displaystyle x$"
      ],
      "text/plain": [
       "x"
      ]
     },
     "execution_count": 3,
     "metadata": {},
     "output_type": "execute_result"
    }
   ],
   "source": [
    "x"
   ]
  },
  {
   "cell_type": "markdown",
   "id": "8ea3e5ca-7604-4480-9f8f-d35726fe3fde",
   "metadata": {},
   "source": [
    "Y tenemos funciones ya en las librerías incluidas en Python cuando se instala en nuestras máquinas como `type`:"
   ]
  },
  {
   "cell_type": "code",
   "execution_count": 4,
   "id": "daa981e1-cfa9-4712-8044-70829bb0d64d",
   "metadata": {},
   "outputs": [
    {
     "data": {
      "text/plain": [
       "sympy.core.symbol.Symbol"
      ]
     },
     "execution_count": 4,
     "metadata": {},
     "output_type": "execute_result"
    }
   ],
   "source": [
    "type(x) #podemos revisar qué tipo de objeto es con la función type"
   ]
  },
  {
   "cell_type": "code",
   "execution_count": 5,
   "id": "dbbba2fc-5edf-469a-8ffa-986e35fe92d4",
   "metadata": {},
   "outputs": [],
   "source": [
    "y = sympy.Symbol(\"y\")"
   ]
  },
  {
   "cell_type": "code",
   "execution_count": 6,
   "id": "666d0202-f67c-4632-92c1-a09dee3093c5",
   "metadata": {},
   "outputs": [
    {
     "data": {
      "text/latex": [
       "$\\displaystyle y$"
      ],
      "text/plain": [
       "y"
      ]
     },
     "execution_count": 6,
     "metadata": {},
     "output_type": "execute_result"
    }
   ],
   "source": [
    "y"
   ]
  },
  {
   "cell_type": "code",
   "execution_count": 7,
   "id": "4f0bd7e4-f76b-461f-b43c-3e2c361dac9a",
   "metadata": {},
   "outputs": [
    {
     "data": {
      "text/plain": [
       "sympy.core.symbol.Symbol"
      ]
     },
     "execution_count": 7,
     "metadata": {},
     "output_type": "execute_result"
    }
   ],
   "source": [
    "type(y)"
   ]
  },
  {
   "cell_type": "markdown",
   "id": "739a140a-5866-440b-8085-993eb6c188ad",
   "metadata": {},
   "source": [
    "Podemos pasar argumentos a la clase `Symbol` para identificar el tipo del objeto."
   ]
  },
  {
   "cell_type": "code",
   "execution_count": 8,
   "id": "da7075ee-a85e-4edf-a4a7-d4a42f7979fd",
   "metadata": {},
   "outputs": [],
   "source": [
    "x = sympy.Symbol(\"x\")\n",
    "y = sympy.Symbol(\"y\", positive=True) #argumento positive igual a True\n",
    "z = sympy.Symbol(\"z\", negative=True)"
   ]
  },
  {
   "cell_type": "markdown",
   "id": "cb2865b4-1c31-4895-8a01-a24409381240",
   "metadata": {},
   "source": [
    "Una vez que hemos creado un objeto tipo `Symbol` podemos usar funciones como `sqrt`:"
   ]
  },
  {
   "cell_type": "code",
   "execution_count": 9,
   "id": "22ad4e7e-ef1f-4f38-bffd-e6286b98aebf",
   "metadata": {},
   "outputs": [
    {
     "data": {
      "text/latex": [
       "$\\displaystyle \\sqrt{x^{2}}$"
      ],
      "text/plain": [
       "sqrt(x**2)"
      ]
     },
     "execution_count": 9,
     "metadata": {},
     "output_type": "execute_result"
    }
   ],
   "source": [
    "sympy.sqrt(x**2)"
   ]
  },
  {
   "cell_type": "code",
   "execution_count": 10,
   "id": "96fd9b41-eb4d-4773-a87f-e8a671b1e8e9",
   "metadata": {},
   "outputs": [
    {
     "data": {
      "text/latex": [
       "$\\displaystyle y$"
      ],
      "text/plain": [
       "y"
      ]
     },
     "execution_count": 10,
     "metadata": {},
     "output_type": "execute_result"
    }
   ],
   "source": [
    "sympy.sqrt(y**2)"
   ]
  },
  {
   "cell_type": "code",
   "execution_count": 11,
   "id": "82f61093-f550-4ca5-a36e-a84ca913d910",
   "metadata": {},
   "outputs": [
    {
     "data": {
      "text/latex": [
       "$\\displaystyle - z$"
      ],
      "text/plain": [
       "-z"
      ]
     },
     "execution_count": 11,
     "metadata": {},
     "output_type": "execute_result"
    }
   ],
   "source": [
    "sympy.sqrt(z**2)"
   ]
  },
  {
   "cell_type": "markdown",
   "id": "54e23683-27d8-4ad8-b9dc-63694b28df25",
   "metadata": {},
   "source": [
    "*SymPy* nos devuelve simplificaciones útiles si identificamos el tipo del objeto:"
   ]
  },
  {
   "cell_type": "code",
   "execution_count": 12,
   "id": "d39af332-6a9f-4973-b648-318680dde334",
   "metadata": {},
   "outputs": [],
   "source": [
    "n1 = sympy.Symbol(\"n1\")\n",
    "n2 = sympy.Symbol(\"n2\", integer=True)\n",
    "n3 = sympy.Symbol(\"n3\", odd=True)\n",
    "n4 = sympy.Symbol(\"n4\", even=True)"
   ]
  },
  {
   "cell_type": "code",
   "execution_count": 13,
   "id": "d82a3c74-5dbd-424f-855d-2d5d624bfc45",
   "metadata": {},
   "outputs": [
    {
     "data": {
      "text/latex": [
       "$\\displaystyle \\cos{\\left(\\pi n_{1} \\right)}$"
      ],
      "text/plain": [
       "cos(pi*n1)"
      ]
     },
     "execution_count": 13,
     "metadata": {},
     "output_type": "execute_result"
    }
   ],
   "source": [
    "sympy.cos(n1*sympy.pi)"
   ]
  },
  {
   "cell_type": "code",
   "execution_count": 14,
   "id": "58a3ff7d-80c7-4411-b9b4-bd3263f7834a",
   "metadata": {},
   "outputs": [
    {
     "data": {
      "text/latex": [
       "$\\displaystyle \\left(-1\\right)^{n_{2}}$"
      ],
      "text/plain": [
       "(-1)**n2"
      ]
     },
     "execution_count": 14,
     "metadata": {},
     "output_type": "execute_result"
    }
   ],
   "source": [
    "sympy.cos(n2*sympy.pi)"
   ]
  },
  {
   "cell_type": "code",
   "execution_count": 15,
   "id": "07c48c40-f926-49db-befe-f41c1968d1c7",
   "metadata": {},
   "outputs": [
    {
     "data": {
      "text/latex": [
       "$\\displaystyle -1$"
      ],
      "text/plain": [
       "-1"
      ]
     },
     "execution_count": 15,
     "metadata": {},
     "output_type": "execute_result"
    }
   ],
   "source": [
    "sympy.cos(n3*sympy.pi)"
   ]
  },
  {
   "cell_type": "code",
   "execution_count": 16,
   "id": "872a8a48-d726-4dfe-9508-a3777a8a3914",
   "metadata": {},
   "outputs": [
    {
     "data": {
      "text/latex": [
       "$\\displaystyle 1$"
      ],
      "text/plain": [
       "1"
      ]
     },
     "execution_count": 16,
     "metadata": {},
     "output_type": "execute_result"
    }
   ],
   "source": [
    "sympy.cos(n4*sympy.pi)"
   ]
  },
  {
   "cell_type": "markdown",
   "id": "3c3534f4-801e-495d-8635-a3ab73fa5541",
   "metadata": {},
   "source": [
    "Podemos definir símbolos en una sola línea con la función de `symbols` como sigue:"
   ]
  },
  {
   "cell_type": "code",
   "execution_count": 17,
   "id": "0dcef389-f003-4922-8bff-0b793d4ae0d9",
   "metadata": {},
   "outputs": [],
   "source": [
    "a, b, c = sympy.symbols(\"a, b, c\") #obsérvese el uso de tuplas del lado izquierdo de la igualdad"
   ]
  },
  {
   "cell_type": "code",
   "execution_count": 18,
   "id": "7a5f99c3-36a4-4c36-b5f4-57ca40022f54",
   "metadata": {},
   "outputs": [
    {
     "data": {
      "text/latex": [
       "$\\displaystyle a$"
      ],
      "text/plain": [
       "a"
      ]
     },
     "execution_count": 18,
     "metadata": {},
     "output_type": "execute_result"
    }
   ],
   "source": [
    "a"
   ]
  },
  {
   "cell_type": "code",
   "execution_count": 19,
   "id": "4c6b8d70-c8ec-4de2-9da7-325ca185b4dc",
   "metadata": {},
   "outputs": [
    {
     "data": {
      "text/latex": [
       "$\\displaystyle b$"
      ],
      "text/plain": [
       "b"
      ]
     },
     "execution_count": 19,
     "metadata": {},
     "output_type": "execute_result"
    }
   ],
   "source": [
    "b"
   ]
  },
  {
   "cell_type": "markdown",
   "id": "2fe35e2b-6168-4d74-9aa7-839b51c9ba87",
   "metadata": {},
   "source": [
    "## Expresiones"
   ]
  },
  {
   "cell_type": "markdown",
   "id": "e905f028-8771-4257-86e8-d097ae97391e",
   "metadata": {},
   "source": [
    "Para representar en *SymPy* la expresión algebraica $1 + 2x^2 + 3x^3 - x^2 + 5$ creamos al símbolo $x$:"
   ]
  },
  {
   "cell_type": "code",
   "execution_count": 20,
   "id": "baf3efb4-4dbb-4b31-bc32-fb3d11032c9e",
   "metadata": {},
   "outputs": [],
   "source": [
    "x = sympy.Symbol(\"x\")"
   ]
  },
  {
   "cell_type": "code",
   "execution_count": 21,
   "id": "c5533fc3-d21d-49ae-83c0-a4153039f7d0",
   "metadata": {},
   "outputs": [],
   "source": [
    "expr = 1 + 2*x**2 + 3*x**3 - x**2 + 5"
   ]
  },
  {
   "cell_type": "code",
   "execution_count": 22,
   "id": "7414e540-775b-4805-9adc-b0795e589b0a",
   "metadata": {},
   "outputs": [
    {
     "data": {
      "text/latex": [
       "$\\displaystyle 3 x^{3} + x^{2} + 6$"
      ],
      "text/plain": [
       "3*x**3 + x**2 + 6"
      ]
     },
     "execution_count": 22,
     "metadata": {},
     "output_type": "execute_result"
    }
   ],
   "source": [
    "expr"
   ]
  },
  {
   "cell_type": "markdown",
   "id": "7f7682c2-9143-48f4-b574-17539e78ac9d",
   "metadata": {},
   "source": [
    "**obsérvese que se ha simplificado la expresión.**"
   ]
  },
  {
   "cell_type": "markdown",
   "id": "0d931ada-fb45-4495-90d5-c3a70080d6f9",
   "metadata": {},
   "source": [
    "## Subs"
   ]
  },
  {
   "cell_type": "markdown",
   "id": "b26e9ad4-f615-47c0-aa1c-3e29f9ed3f24",
   "metadata": {},
   "source": [
    "**Ejemplo evaluar la expresión $3x^3 + x^2 + 6$ en $x=1, 2$**"
   ]
  },
  {
   "cell_type": "code",
   "execution_count": 23,
   "id": "a78ab3c2-10d4-4988-8965-0416ddfe447b",
   "metadata": {},
   "outputs": [],
   "source": [
    "x = sympy.Symbol(\"x\")"
   ]
  },
  {
   "cell_type": "code",
   "execution_count": 24,
   "id": "ee09ad3e-65f6-4a55-835a-5238300f3d48",
   "metadata": {},
   "outputs": [],
   "source": [
    "expr = 3*x**3 + x**2 + 6"
   ]
  },
  {
   "cell_type": "markdown",
   "id": "851e0748-526a-4695-a832-20cef3e09811",
   "metadata": {},
   "source": [
    "Podemos usar el método `subs` del objeto `expr` para substituir el valor de $x$ en $1$:"
   ]
  },
  {
   "cell_type": "code",
   "execution_count": 25,
   "id": "ed0d6995-06e8-4693-8a72-568f7060db08",
   "metadata": {},
   "outputs": [
    {
     "data": {
      "text/latex": [
       "$\\displaystyle 10$"
      ],
      "text/plain": [
       "10"
      ]
     },
     "execution_count": 25,
     "metadata": {},
     "output_type": "execute_result"
    }
   ],
   "source": [
    "expr.subs(x,1)"
   ]
  },
  {
   "cell_type": "code",
   "execution_count": 26,
   "id": "0226deab-7d6a-468f-8557-3ef4958a521c",
   "metadata": {},
   "outputs": [
    {
     "data": {
      "text/latex": [
       "$\\displaystyle 34$"
      ],
      "text/plain": [
       "34"
      ]
     },
     "execution_count": 26,
     "metadata": {},
     "output_type": "execute_result"
    }
   ],
   "source": [
    "expr.subs(x,2)"
   ]
  },
  {
   "cell_type": "markdown",
   "id": "4056b2d4-f817-4a1a-8798-a10a4e5fc053",
   "metadata": {},
   "source": [
    "**Ejemplo: evaluar $xy + z^2x$ en $x = 1.25$, $y=0.4$, $z=3.2$** "
   ]
  },
  {
   "cell_type": "code",
   "execution_count": 27,
   "id": "bb240f03-6e15-4bcc-a4e8-43fee4bafe26",
   "metadata": {},
   "outputs": [],
   "source": [
    "x, y, z = sympy.symbols(\"x,y,z\")"
   ]
  },
  {
   "cell_type": "code",
   "execution_count": 28,
   "id": "62c29618-fdc8-4b9f-972e-378ac923c830",
   "metadata": {},
   "outputs": [],
   "source": [
    "expr = x*y + z**2*x"
   ]
  },
  {
   "cell_type": "code",
   "execution_count": 29,
   "id": "dc04960a-9fdf-46de-9991-d19f67321ec0",
   "metadata": {},
   "outputs": [],
   "source": [
    "vals = {x: 1.25, y: 0.4, z: 3.2} #obsérvese el uso de diccionarios"
   ]
  },
  {
   "cell_type": "code",
   "execution_count": 30,
   "id": "2a4f90d0-6547-4f2b-88a7-9d4cb1354698",
   "metadata": {},
   "outputs": [
    {
     "data": {
      "text/latex": [
       "$\\displaystyle 13.3$"
      ],
      "text/plain": [
       "13.3000000000000"
      ]
     },
     "execution_count": 30,
     "metadata": {},
     "output_type": "execute_result"
    }
   ],
   "source": [
    "expr.subs(vals)"
   ]
  },
  {
   "cell_type": "markdown",
   "id": "016cbe80-a75a-443e-92a3-0708bcd56c7c",
   "metadata": {},
   "source": [
    "## Simplify"
   ]
  },
  {
   "cell_type": "markdown",
   "id": "9e313ab4-4212-4ee0-a361-718ad97d4b16",
   "metadata": {},
   "source": [
    "**Ejemplo: $2(x^2 -x) -x(x+1)$**"
   ]
  },
  {
   "cell_type": "code",
   "execution_count": 31,
   "id": "48cbfb78-1a8b-49f1-b2ac-ae1f02f65412",
   "metadata": {},
   "outputs": [],
   "source": [
    "x = sympy.Symbol(\"x\")"
   ]
  },
  {
   "cell_type": "code",
   "execution_count": 32,
   "id": "355c1dcb-5007-47e9-9730-43d618559310",
   "metadata": {},
   "outputs": [],
   "source": [
    "expr2 = 2*(x**2 - x) - x*(x+1)"
   ]
  },
  {
   "cell_type": "code",
   "execution_count": 33,
   "id": "e604893d-1176-4803-b698-a214c5e7b4a5",
   "metadata": {},
   "outputs": [
    {
     "data": {
      "text/latex": [
       "$\\displaystyle 2 x^{2} - x \\left(x + 1\\right) - 2 x$"
      ],
      "text/plain": [
       "2*x**2 - x*(x + 1) - 2*x"
      ]
     },
     "execution_count": 33,
     "metadata": {},
     "output_type": "execute_result"
    }
   ],
   "source": [
    "expr2"
   ]
  },
  {
   "cell_type": "markdown",
   "id": "dd21849f-49cf-46e2-968d-4022735f5d74",
   "metadata": {},
   "source": [
    "Usamos la función `simplify` de *SymPy*:"
   ]
  },
  {
   "cell_type": "code",
   "execution_count": 34,
   "id": "5d6c2c55-e553-4514-8b66-d11e78937e98",
   "metadata": {},
   "outputs": [
    {
     "data": {
      "text/latex": [
       "$\\displaystyle x \\left(x - 3\\right)$"
      ],
      "text/plain": [
       "x*(x - 3)"
      ]
     },
     "execution_count": 34,
     "metadata": {},
     "output_type": "execute_result"
    }
   ],
   "source": [
    "sympy.simplify(expr2)"
   ]
  },
  {
   "cell_type": "markdown",
   "id": "2a0e2fb3-4414-4f06-b003-789aaf8874a5",
   "metadata": {},
   "source": [
    "Y es equivalente a usar el método *simplify* del objeto `expr2`:"
   ]
  },
  {
   "cell_type": "code",
   "execution_count": 35,
   "id": "375088d0-b94a-47fa-a04a-78eea82e1cfe",
   "metadata": {},
   "outputs": [
    {
     "data": {
      "text/latex": [
       "$\\displaystyle x \\left(x - 3\\right)$"
      ],
      "text/plain": [
       "x*(x - 3)"
      ]
     },
     "execution_count": 35,
     "metadata": {},
     "output_type": "execute_result"
    }
   ],
   "source": [
    "expr2.simplify()"
   ]
  },
  {
   "cell_type": "markdown",
   "id": "b3002fe3-fbf1-480d-9b7e-055b4626091d",
   "metadata": {},
   "source": [
    "**Ejemplo: $2\\sin(x)\\cos(x)$**"
   ]
  },
  {
   "cell_type": "code",
   "execution_count": 36,
   "id": "d2bbf256-eced-480d-8054-614844babcdb",
   "metadata": {},
   "outputs": [],
   "source": [
    "x = sympy.Symbol(\"x\")"
   ]
  },
  {
   "cell_type": "code",
   "execution_count": 37,
   "id": "e8df1972-39be-4aa7-9a74-2cec9d93a090",
   "metadata": {},
   "outputs": [],
   "source": [
    "expr3 = 2*sympy.sin(x)*sympy.cos(x)"
   ]
  },
  {
   "cell_type": "code",
   "execution_count": 38,
   "id": "ee39f987-504e-44b7-be74-e4ff20eaed9d",
   "metadata": {},
   "outputs": [
    {
     "data": {
      "text/latex": [
       "$\\displaystyle 2 \\sin{\\left(x \\right)} \\cos{\\left(x \\right)}$"
      ],
      "text/plain": [
       "2*sin(x)*cos(x)"
      ]
     },
     "execution_count": 38,
     "metadata": {},
     "output_type": "execute_result"
    }
   ],
   "source": [
    "expr3"
   ]
  },
  {
   "cell_type": "code",
   "execution_count": 39,
   "id": "23297f53-887f-4647-8ec8-200ac7e596ca",
   "metadata": {},
   "outputs": [
    {
     "data": {
      "text/latex": [
       "$\\displaystyle \\sin{\\left(2 x \\right)}$"
      ],
      "text/plain": [
       "sin(2*x)"
      ]
     },
     "execution_count": 39,
     "metadata": {},
     "output_type": "execute_result"
    }
   ],
   "source": [
    "expr3.simplify()"
   ]
  },
  {
   "cell_type": "markdown",
   "id": "3da46c6d-5d53-403b-8764-64897717c8fd",
   "metadata": {},
   "source": [
    "## Expand"
   ]
  },
  {
   "cell_type": "markdown",
   "id": "52884669-b651-4095-a6cf-3d51f3a199fb",
   "metadata": {},
   "source": [
    "**Ejemplo:** $(x+1)*(x+2)$"
   ]
  },
  {
   "cell_type": "code",
   "execution_count": 40,
   "id": "69df3ce6-7499-454b-9607-9b5e86813709",
   "metadata": {},
   "outputs": [],
   "source": [
    "x = sympy.Symbol(\"x\")"
   ]
  },
  {
   "cell_type": "code",
   "execution_count": 41,
   "id": "6a890c90-5e56-4682-9e0d-a223be4341d0",
   "metadata": {},
   "outputs": [],
   "source": [
    "expr = (x+1)*(x+2)"
   ]
  },
  {
   "cell_type": "code",
   "execution_count": 42,
   "id": "4dbc6a4a-bf97-40c2-b967-49434b25f38b",
   "metadata": {},
   "outputs": [
    {
     "data": {
      "text/latex": [
       "$\\displaystyle x^{2} + 3 x + 2$"
      ],
      "text/plain": [
       "x**2 + 3*x + 2"
      ]
     },
     "execution_count": 42,
     "metadata": {},
     "output_type": "execute_result"
    }
   ],
   "source": [
    "sympy.expand(expr)"
   ]
  },
  {
   "cell_type": "code",
   "execution_count": 43,
   "id": "51b0bc56-b812-483e-9662-cb560e14fd81",
   "metadata": {},
   "outputs": [
    {
     "data": {
      "text/latex": [
       "$\\displaystyle x^{2} + 3 x + 2$"
      ],
      "text/plain": [
       "x**2 + 3*x + 2"
      ]
     },
     "execution_count": 43,
     "metadata": {},
     "output_type": "execute_result"
    }
   ],
   "source": [
    "expr.expand()"
   ]
  },
  {
   "cell_type": "markdown",
   "id": "bc2764ce-70fa-4a63-8be9-8961fe5256ea",
   "metadata": {},
   "source": [
    "## Factor"
   ]
  },
  {
   "cell_type": "markdown",
   "id": "fdaa8c9c-4053-4e8f-92c5-b48f4375e6c5",
   "metadata": {},
   "source": [
    "**Ejemplo:** $x^2 -1$"
   ]
  },
  {
   "cell_type": "code",
   "execution_count": 44,
   "id": "012fb217-5ebb-47ca-bca3-6dd86fe4b430",
   "metadata": {},
   "outputs": [],
   "source": [
    "x = sympy.Symbol(\"x\")"
   ]
  },
  {
   "cell_type": "code",
   "execution_count": 45,
   "id": "f41e4120-5b21-4214-aef7-52b7dda2a3c6",
   "metadata": {},
   "outputs": [],
   "source": [
    "expr = x**2 -1"
   ]
  },
  {
   "cell_type": "code",
   "execution_count": 46,
   "id": "745f69e2-52e9-42ee-b384-5f5d07c50277",
   "metadata": {},
   "outputs": [
    {
     "data": {
      "text/latex": [
       "$\\displaystyle \\left(x - 1\\right) \\left(x + 1\\right)$"
      ],
      "text/plain": [
       "(x - 1)*(x + 1)"
      ]
     },
     "execution_count": 46,
     "metadata": {},
     "output_type": "execute_result"
    }
   ],
   "source": [
    "expr.factor()"
   ]
  },
  {
   "cell_type": "code",
   "execution_count": 47,
   "id": "0d1dd559-0dd9-4583-adbb-ca8e7334b57a",
   "metadata": {},
   "outputs": [
    {
     "data": {
      "text/latex": [
       "$\\displaystyle \\left(x - 1\\right) \\left(x + 1\\right)$"
      ],
      "text/plain": [
       "(x - 1)*(x + 1)"
      ]
     },
     "execution_count": 47,
     "metadata": {},
     "output_type": "execute_result"
    }
   ],
   "source": [
    "sympy.factor(expr)"
   ]
  },
  {
   "cell_type": "markdown",
   "id": "cdf69987-8761-4270-8ee3-a27e7172801e",
   "metadata": {},
   "source": [
    "## Ecuaciones"
   ]
  },
  {
   "cell_type": "markdown",
   "id": "4d706891-16f1-4ffa-b56c-d0cc8207279e",
   "metadata": {},
   "source": [
    "**Ejemplo:** $x^2+2x-3=0$"
   ]
  },
  {
   "cell_type": "code",
   "execution_count": 48,
   "id": "db486f25-40ea-4150-8892-90b06bb86d60",
   "metadata": {},
   "outputs": [],
   "source": [
    "x = sympy.Symbol(\"x\")"
   ]
  },
  {
   "cell_type": "code",
   "execution_count": 49,
   "id": "1d69f963-ec27-4212-984b-bc05582270ac",
   "metadata": {},
   "outputs": [
    {
     "data": {
      "text/plain": [
       "[-3, 1]"
      ]
     },
     "execution_count": 49,
     "metadata": {},
     "output_type": "execute_result"
    }
   ],
   "source": [
    "sympy.solve(x**2 + 2*x -3)"
   ]
  },
  {
   "cell_type": "markdown",
   "id": "ef7c9bc9-0714-4acd-8832-1303cc9495ba",
   "metadata": {},
   "source": [
    "**Ejemplo:** $ax^2+bx+c=0$ para la variable $x$"
   ]
  },
  {
   "cell_type": "code",
   "execution_count": 50,
   "id": "b7c224bf-19b6-47af-a5ad-f03b798cfe82",
   "metadata": {},
   "outputs": [],
   "source": [
    "x = sympy.Symbol(\"x\")"
   ]
  },
  {
   "cell_type": "code",
   "execution_count": 51,
   "id": "eb655f96-7b36-413a-a02b-6410cb3885bf",
   "metadata": {},
   "outputs": [],
   "source": [
    "a,b,c = sympy.symbols(\"a, b, c\")"
   ]
  },
  {
   "cell_type": "code",
   "execution_count": 52,
   "id": "6e210a86-a396-49e1-88ff-0b32b4f1b0f4",
   "metadata": {},
   "outputs": [
    {
     "data": {
      "text/plain": [
       "[(-b + sqrt(-4*a*c + b**2))/(2*a), -(b + sqrt(-4*a*c + b**2))/(2*a)]"
      ]
     },
     "execution_count": 52,
     "metadata": {},
     "output_type": "execute_result"
    }
   ],
   "source": [
    "sympy.solve(a*x**2 + b*x + c, x) #aquí especificamos la variable que es incógnita"
   ]
  },
  {
   "cell_type": "markdown",
   "id": "15e79798-d804-4d20-aba2-ae8e83a98dae",
   "metadata": {},
   "source": [
    "Y hay ejemplos de ecuaciones que no pueden resolverse de forma cerrada (en términos de sus coeficientes y operaciones) como $x^5 - x^2 +1 = 0$"
   ]
  },
  {
   "cell_type": "code",
   "execution_count": 53,
   "id": "80a3b216-21e1-4f98-89eb-539c6ac5c7f8",
   "metadata": {},
   "outputs": [],
   "source": [
    "x = sympy.Symbol(\"x\")"
   ]
  },
  {
   "cell_type": "code",
   "execution_count": 54,
   "id": "ccfc8725-a53b-4ebe-8363-035997ce45b6",
   "metadata": {},
   "outputs": [
    {
     "data": {
      "text/plain": [
       "[CRootOf(x**5 - x**2 + 1, 0),\n",
       " CRootOf(x**5 - x**2 + 1, 1),\n",
       " CRootOf(x**5 - x**2 + 1, 2),\n",
       " CRootOf(x**5 - x**2 + 1, 3),\n",
       " CRootOf(x**5 - x**2 + 1, 4)]"
      ]
     },
     "execution_count": 54,
     "metadata": {},
     "output_type": "execute_result"
    }
   ],
   "source": [
    "sympy.solve(x**5 - x**2 +1)"
   ]
  },
  {
   "cell_type": "markdown",
   "id": "a99a40da-5f14-4be6-a626-0590e177387e",
   "metadata": {},
   "source": [
    "## Referencias\n"
   ]
  },
  {
   "cell_type": "markdown",
   "id": "794eda62-aa30-4b69-bc35-8c5cece47287",
   "metadata": {},
   "source": [
    "* [SymPy](https://www.sympy.org/en/index.html) y [Numerical Python by Robert Johansson, Apress](https://www.apress.com/gp/book/9781484242452)"
   ]
  }
 ],
 "metadata": {
  "kernelspec": {
   "display_name": "Python 3 (ipykernel)",
   "language": "python",
   "name": "python3"
  },
  "language_info": {
   "codemirror_mode": {
    "name": "ipython",
    "version": 3
   },
   "file_extension": ".py",
   "mimetype": "text/x-python",
   "name": "python",
   "nbconvert_exporter": "python",
   "pygments_lexer": "ipython3",
   "version": "3.8.10"
  }
 },
 "nbformat": 4,
 "nbformat_minor": 5
}
