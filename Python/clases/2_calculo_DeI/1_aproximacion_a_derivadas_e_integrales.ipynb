{
 "cells": [
  {
   "cell_type": "markdown",
   "metadata": {},
   "source": [
    "# Aproximación a una función por el teorema de Taylor"
   ]
  },
  {
   "cell_type": "markdown",
   "metadata": {},
   "source": [
    "Las fórmulas de aproximación a las derivadas por diferencias finitas y a integrales definidas en un intervalo por las reglas de cuadratura *Newton-Cotes* pueden obtenerse con los polinomios de Taylor presentes en el teorema del mismo autor, el cual, bajo ciertas hipótesis nos proporciona una expansión de una función alrededor de un punto. El teorema es el siguiente:"
   ]
  },
  {
   "cell_type": "markdown",
   "metadata": {},
   "source": [
    "Sea $f \\in \\mathcal{C}^n([a,b])$, $f^{(n+1)}$ existe en [a,b]. Si $x_0 \\in [a,b]$ entonces $\\forall x \\in [a,b]$ se tiene: $f(x) = P_n(x) + R_n(x)$ donde: \n",
    "\n",
    "$$P_n(x) = \\displaystyle \\sum_{k=0}^n \\frac{f^{(k)}(x_0)(x-x_0)^k}{k!} \\quad (f^{(0)} = f)$$ y $$R_n(x) = \\frac{f^{(n+1)}(\\xi_x)(x-x_0)^{(n+1)}}{(n+1)!}$$ con $\\xi_x$ entre $x_0, x$ y $x_0$ se llama centro."
   ]
  },
  {
   "cell_type": "markdown",
   "metadata": {},
   "source": [
    "## Ejemplo:"
   ]
  },
  {
   "cell_type": "markdown",
   "metadata": {},
   "source": [
    "Aproximemos a la función $\\frac{1}{x}$ en el intervalo $[1,2]$ con polinomios de Taylor de orden $n$ con $n \\in \\{0,1,2\\}$ con centro en $x_0=1.5$. Los polinomios de Taylor son: "
   ]
  },
  {
   "cell_type": "markdown",
   "metadata": {},
   "source": [
    "$$P_0(x) = f(x_0) = \\frac{2}{3} \\quad \\text{(constante)}$$"
   ]
  },
  {
   "cell_type": "markdown",
   "metadata": {},
   "source": [
    "$$P_1(x) = f(x_0) + f^{(1)}(x_0)(x-x_0) = \\frac{2}{3} - \\frac{1}{x_0^2}(x-x_0) \\quad \\text{(lineal)}$$"
   ]
  },
  {
   "cell_type": "markdown",
   "metadata": {},
   "source": [
    "$$P_2(x) = f(x_0) + f^{(1)}(x_0)(x-x_0) + \\frac{f^{(2)}(x_0)(x-x_0)^2}{2} = \\frac{2}{3} - \\frac{1}{x_0^2}(x-x_0) + \\frac{2}{x_0^3}(x-x_0)^2 \\quad \\text{(cuadrático)}$$"
   ]
  },
  {
   "cell_type": "markdown",
   "metadata": {},
   "source": [
    "**Ejercicio: graficar la función y los polinomios constante, lineal y cuadrático en una sola gráfica con `matplotlib` en el intervalo [1,2]. ¿Cuánto es la aproximación de los polinomios en x=1.9? Calcula el error relativo de tus aproximaciones.**"
   ]
  },
  {
   "cell_type": "markdown",
   "metadata": {},
   "source": [
    "Otras aproximaciones a una función se pueden realizar con:\n",
    "\n",
    "* Interpoladores polinomiales (representación por Vandermonde, Newton, Lagrange).\n"
   ]
  },
  {
   "cell_type": "markdown",
   "metadata": {},
   "source": [
    "# Diferenciación numérica"
   ]
  },
  {
   "cell_type": "markdown",
   "metadata": {},
   "source": [
    "Las fórmulas de diferencias finitas pueden obtenerse con el teorema de Taylor. Por ejemplo:"
   ]
  },
  {
   "cell_type": "markdown",
   "metadata": {},
   "source": [
    "Sea $f \\in \\mathcal{C}^1([a,b])$ y $f^{(2)}$ existe y está acotada $\\forall x \\in [a,b]$ entonces, si $x+h \\in [a,b]$ con $h>0$ por el teorema de Taylor se tiene:"
   ]
  },
  {
   "cell_type": "markdown",
   "metadata": {},
   "source": [
    "$$f(x+h) = f(x) + f^{(1)}(x)h + f^{(2)}(\\xi_{x+h})\\frac{h^2}{2}$$ con $\\xi_{x+h} \\in [x,x+h]$"
   ]
  },
  {
   "cell_type": "markdown",
   "metadata": {},
   "source": [
    "Y al despejar $f^{(1)}(x)$ se tiene: $$f^{(1)}(x) = \\frac{f(x+h)-f(x)}{h} - f^{(2)}(\\xi_{x+h})\\frac{h}{2}$$"
   ]
  },
  {
   "cell_type": "markdown",
   "metadata": {},
   "source": [
    "Así también pueden obtenerse la versión centrada y la aproximación a la segunda derivada de $f$."
   ]
  },
  {
   "cell_type": "markdown",
   "metadata": {},
   "source": [
    "**Obs:** la aproximación por diferencias finitas a la primer derivada de la función tiene un error de orden $\\mathcal{O}(h)$ por lo que una elección de $h$ igual a $.1 = 10^{-1}$ generará aproximaciones con alrededor de un dígito correcto."
   ]
  },
  {
   "cell_type": "markdown",
   "metadata": {},
   "source": [
    "**Obs:** la diferenciación numérica por diferencias finitas no es un proceso con una alta exactitud pues los problemas del redondeo de la aritmética en la máquina se hacen presentes en el mismo. Como ejemplo de esta situación hágase el siguiente ejercicio."
   ]
  },
  {
   "cell_type": "markdown",
   "metadata": {},
   "source": [
    "**Ejercicio: realizar una gráfica de log(error relativo) vs log(h) (h en el eje horizontal) para aproximar la segunda derivada de $f(x)=e^{-x}$ en $x=1$ con $h \\in \\{10^{-16}, 10^{-14}, \\dots , 10^{-1}\\}$ y diferencias hacia delante. Valor a aproximar: $f^{(2)}(1) = e^{-1}$**. Usar:"
   ]
  },
  {
   "cell_type": "markdown",
   "metadata": {},
   "source": [
    "$$\\frac{d^2f(x)}{dx} \\approx \\frac{f(x+2h)-2f(x+h)+f(x)}{h^2}$$"
   ]
  },
  {
   "cell_type": "markdown",
   "metadata": {},
   "source": [
    "## Diferenciación numérica en más dimensiones"
   ]
  },
  {
   "cell_type": "markdown",
   "metadata": {},
   "source": [
    "La anterior aproximación por diferencias finitas también puede utilizarse para aproximar el gradiente de una función $f: \\mathbb{R}^n \\rightarrow \\mathbb{R}$ considerando que:"
   ]
  },
  {
   "cell_type": "markdown",
   "metadata": {},
   "source": [
    "$$\\nabla f(x) = \n",
    "\\begin{array}{l}\n",
    "\\left[ \\begin{array}{c}\n",
    "\\frac{\\partial f(x)}{\\partial x_1}\\\\\n",
    "\\vdots\\\\\n",
    "\\frac{\\partial f(x)}{\\partial x_n}\n",
    "\\end{array}\n",
    "\\right] = \\left[ \n",
    "\\begin{array}{c} \n",
    "\\displaystyle \\lim_{h \\rightarrow 0} \\frac{f(x+he_1) - f(x)}{h}\\\\\n",
    "\\vdots\\\\\n",
    "\\displaystyle \\lim_{h \\rightarrow 0} \\frac{f(x+he_n) - f(x)}{h}\n",
    "\\end{array}\n",
    "\\right]\n",
    "\\end{array} \\in \\mathbb{R}^n$$"
   ]
  },
  {
   "cell_type": "markdown",
   "metadata": {},
   "source": [
    "con $e_i$ vectores canónicos (poseen 1 en la posición $i$ y cero en las restantes) para $i=1, \\dots, n$."
   ]
  },
  {
   "cell_type": "markdown",
   "metadata": {},
   "source": [
    "**Obs:** el gradiente de una función como se definió arriba también es una función, de hecho: $\\nabla f: \\mathbb{R}^n \\rightarrow \\mathbb{R}^n$"
   ]
  },
  {
   "cell_type": "markdown",
   "metadata": {},
   "source": [
    "En este contexto el teorema de Taylor para el polinomio de grado 2 se puede escribir como: $$P_2(x) = f(x_0) + \\nabla f(x)^T(x-x_0) + \\frac{1}{2}(x-x_0)^T\\nabla^2f(x)(x-x_0) $$"
   ]
  },
  {
   "cell_type": "markdown",
   "metadata": {},
   "source": [
    "# Integración numérica"
   ]
  },
  {
   "cell_type": "markdown",
   "metadata": {},
   "source": [
    "Las reglas o métodos por cuadratura nos ayudan a aproximar integrales con sumas de la forma:"
   ]
  },
  {
   "cell_type": "markdown",
   "metadata": {},
   "source": [
    "$$\\displaystyle \\int_a^bf(x)dx \\approx \\displaystyle \\sum_{i=0}^nw_if(x_i)$$"
   ]
  },
  {
   "cell_type": "markdown",
   "metadata": {},
   "source": [
    "donde: $w_i$ es el peso para el nodo $x_i$. Los valores $f(x_i)$ se asumen conocidos.\n",
    "\n",
    "Todas las reglas o métodos por cuadratura se obtienen con interpoladores polinomiales del integrando (por ejemplo usando la representación de Lagrange) o también con el teorema Taylor."
   ]
  },
  {
   "cell_type": "markdown",
   "metadata": {},
   "source": [
    "Se realizan aproximaciones numéricas por:\n",
    "* Desconocimiento de la función en todo el intervalo $[a,b]$ y sólo se conoce en los nodos su valor.\n",
    "* Inexistencia de antiderivada o primitiva del integrando. Por ejemplo: "
   ]
  },
  {
   "cell_type": "markdown",
   "metadata": {},
   "source": [
    "$$\\displaystyle \\int_a^be^{-\\frac{x^2}{2}}dx$$ con $a,b$ números reales."
   ]
  },
  {
   "cell_type": "markdown",
   "metadata": {},
   "source": [
    "Dependiendo de la ubicación de los nodos y pesos es el método de cuadratura que resulta:\n",
    "\n",
    "* Newton-Cotes si los nodos y pesos son equidistantes como la regla del rectángulo, trapecio y Simpson (con el teorema de Taylor es posible obtener tales fórmulas).\n",
    "* Cuadratura Gaussiana si se desea obtener reglas o fórmulas que tengan la mayor exactitud posible. Ejemplos de este tipo de cuadratura se tiene la regla por cuadratura Gauss-Legendre en [-1,1] o Gauss-Hermite para el caso de integrales en $[-\\infty, \\infty]$ con integrando $e^{-x^2}f(x)$."
   ]
  },
  {
   "cell_type": "markdown",
   "metadata": {},
   "source": [
    "## Newton-Cotes"
   ]
  },
  {
   "cell_type": "markdown",
   "metadata": {},
   "source": [
    "### Regla del rectángulo."
   ]
  },
  {
   "cell_type": "markdown",
   "metadata": {},
   "source": [
    "### Regla del trapecio y Simpson."
   ]
  },
  {
   "cell_type": "markdown",
   "metadata": {},
   "source": [
    "Revisar sección 6.2 del libro de texto de J. Kiusalas Numerical Methods in Engineering with Python 3 para las fórmulas del trapecio y de Simpson."
   ]
  },
  {
   "cell_type": "markdown",
   "metadata": {},
   "source": [
    "**Ejercicio: aproximar el valor de la integral $\\displaystyle \\int_0^{\\pi}sin(x)dx = 2$ con reglas compuestas del rectángulo y trapecio con un número de subintervalos $n \\in \\{1,10,20,30,40 \\}$ y hacer gráfica de la forma error relativo vs $n$ ($n$ en el eje horizontal)**"
   ]
  },
  {
   "cell_type": "markdown",
   "metadata": {},
   "source": [
    "## Cuadratura Gaussiana"
   ]
  },
  {
   "cell_type": "markdown",
   "metadata": {},
   "source": [
    "Una distinción con la cuadratura por *Newton-Cotes* es que en este caso los pesos y nodos se eligen para tener una regla o fórmula que integre de forma exacta a los polinomios de grado menor o igual que $2n+1$ con $n \\in \\{0,1,2,\\dots\\}$. Esto es:"
   ]
  },
  {
   "cell_type": "markdown",
   "metadata": {},
   "source": [
    "$$\\displaystyle \\int_a^b w(x)Q_m(x)dx = \\sum_{i=0}^nw_iQ_m(x_i)$$ con $Q_m$ polinomio de grado $m \\leq 2n+1$ y $w(x)$ función de ponderación."
   ]
  },
  {
   "cell_type": "markdown",
   "metadata": {},
   "source": [
    "### Gauss-Legendre:"
   ]
  },
  {
   "cell_type": "markdown",
   "metadata": {},
   "source": [
    "Si se elige la base canónica de polinomios $\\{1, x, x^2, \\dots x^{2n+1}\\}$, $w(x)=1$ (no ponderación) y el intervalo $[-1,1]$ se tiene la regla por cuadratura conocida con el nombre de *Gauss-Legendre*. \n"
   ]
  },
  {
   "cell_type": "markdown",
   "metadata": {},
   "source": [
    "Teniendo el objetivo de integrar de forma exacta los polinomios de la base canónica para el caso de $n=1$, resultan las siguientes ecuaciones:"
   ]
  },
  {
   "cell_type": "markdown",
   "metadata": {},
   "source": [
    "$$2=\\displaystyle \\int_{-1}^{1}1dx = w_0 \\cdot 1 + w_1\\cdot1$$"
   ]
  },
  {
   "cell_type": "markdown",
   "metadata": {},
   "source": [
    "$$0 = \\displaystyle \\int_{-1}^1xdx = w_0x_0 + w_1x_1$$"
   ]
  },
  {
   "cell_type": "markdown",
   "metadata": {},
   "source": [
    "$$\\frac{2}{3} = \\displaystyle \\int_{-1}^1x^2dx = w_0x_0^2 + w_1x_1^2$$"
   ]
  },
  {
   "cell_type": "markdown",
   "metadata": {},
   "source": [
    "$$0 = \\displaystyle \\int_{-1}^1x^3dx = w_0x_0^3 + w_1x_1^3$$"
   ]
  },
  {
   "cell_type": "markdown",
   "metadata": {},
   "source": [
    "el cual es un sistema de 4 ecuaciones no lineales con 4 incógnitas: $(w_0, x_0), (w_1, x_1)$ cuya solución es: $w_0 = w_1 = 1$ y $x_0 =-\\sqrt{\\frac{1}{3}} \\approx 0.57735, x_1 = \\sqrt{\\frac{1}{3}} \\approx 0.57735$."
   ]
  },
  {
   "cell_type": "markdown",
   "metadata": {},
   "source": [
    "En la historia de estas reglas ya se han calculado los pesos y nodos para diferentes valores de los grados de los polinomios. A continuación se tiene la siguiente tabla para $n \\in \\{0,1,2,3,4\\}$ y una integral definida en el intervalo $[-1,1]$:"
   ]
  },
  {
   "cell_type": "markdown",
   "metadata": {},
   "source": [
    "|n  |grado|# (nodos + pesos)|pesos: $w_i, w_{i+1},\\dots$    |nodos: $x_i, x_{i+1},\\dots$              |\n",
    "|---|:----:|:---:|:-------:|:-----------------:|\n",
    "|0  |1|2|2|0\n",
    "|1  |3|4|1,1    |-$\\sqrt{\\frac{1}{3}}$,$\\sqrt{\\frac{1}{3}}$|\n",
    "|2  |5|6|$\\frac{5}{9}$, $\\frac{8}{9}$, $\\frac{5}{9}$ |$-\\sqrt{\\frac{3}{5}}$, 0, $\\sqrt{\\frac{3}{5}}$  |\n",
    "|3  |7|8|0.347855, 0.652145, 0.652145, 0.347855|-0.861136,-0.339981,0.339981,0.861136|\n",
    "|4  |9|10|0.236927, 0.478629, 0.568889, 0.478629, 0.236927 | -0.90618, -0.538469, 0, 0.538469, 0.90618|\n"
   ]
  },
  {
   "cell_type": "markdown",
   "metadata": {},
   "source": [
    "Y para una integral en $[a,b]$ se tiene:"
   ]
  },
  {
   "cell_type": "markdown",
   "metadata": {},
   "source": [
    "$$\\displaystyle \\int_{a}^{b}f(t)dt \\approx \\frac{(b-a)}{2} \\displaystyle \\sum_{i=0}^nw_if \\left (\\frac{1}{2}[(b-a)x_i+a+b] \\right )$$"
   ]
  },
  {
   "cell_type": "markdown",
   "metadata": {},
   "source": [
    "con los pesos definidos para el intervalo $[-1,1]$"
   ]
  },
  {
   "cell_type": "markdown",
   "metadata": {},
   "source": [
    "**Ejercicio: aproximar la integral de:**"
   ]
  },
  {
   "cell_type": "markdown",
   "metadata": {},
   "source": [
    "$$\\displaystyle \\int_0^1e^{-\\frac{t^2}{2}}dt$$"
   ]
  },
  {
   "cell_type": "markdown",
   "metadata": {},
   "source": [
    "**con cuadratura Gauss-Legendre con $n \\in \\{0,1,2,3,4\\}$. Realizar gráfica de la forma error relativo vs $n$ ($n$ en el eje horizontal). Valor a aproximar: $.855624391892149$**"
   ]
  },
  {
   "cell_type": "markdown",
   "metadata": {},
   "source": [
    "### Otras reglas de cuadratura Gaussiana"
   ]
  },
  {
   "cell_type": "markdown",
   "metadata": {},
   "source": [
    "Las reglas de cuadratura Gaussiana como se escribió en la sección anterior buscan tener la mayor exactitud posible para integrar polinomios de grado menor o igual $2n+1$. Diferentes elecciones de polinomios resultan en distintas reglas. Entre las más populares se encuentran:\n",
    "\n",
    "* Gauss-Chebyshev.\n",
    "* Gauss-Laguerre.\n",
    "* Gauss-Hermite.\n",
    "* Cuadratura Gaussiana con singularidad logarítmica.\n",
    "\n",
    "Y se puede probar que los nodos en la regla de cuadratura de cada una de las reglas anteriores son las raíces de los polinomios que las definen.\n",
    "\n",
    "(ver sección 6.4 el libro de texto de J. Kiusalas Numerical Methods in Engineering with Python 3 para la expresiones de las reglas anteriores y los valores de los pesos y nodos de cada una para diferentes números de nodos.)"
   ]
  },
  {
   "cell_type": "markdown",
   "metadata": {},
   "source": [
    "**Ejercicio: aproximar las integrales: $$(2\\pi\\sigma^2)^{-\\frac{1}{2}}\\displaystyle \\int_{-\\infty}^\\infty te^{\\frac{-(t-\\mu)^2}{2\\sigma^2}}dt$$**"
   ]
  },
  {
   "cell_type": "markdown",
   "metadata": {},
   "source": [
    "$$(2\\pi\\sigma^2)^{-\\frac{1}{2}}\\displaystyle \\int_{-\\infty}^\\infty t^2e^{\\frac{-(t-\\mu)^2}{2\\sigma^2}}dt$$"
   ]
  },
  {
   "cell_type": "markdown",
   "metadata": {},
   "source": [
    "donde: $\\sigma=0.25, \\mu=0.15$ cuyos valores respectivamente son: $0.15, 0.085$ con cuadratura de Gauss-Hermite. Para lo anterior, realizar cambio de variable $x=\\frac{t-\\mu}{\\sqrt{2\\sigma^2}}, dt=\\sqrt{2\\sigma^2}dx$."
   ]
  },
  {
   "cell_type": "markdown",
   "metadata": {},
   "source": [
    "### Integración en más dimensiones"
   ]
  },
  {
   "cell_type": "markdown",
   "metadata": {},
   "source": [
    "Revisar sección 6.5 del libro de texto de J. Kiusalas Numerical Methods in Engineering with Python 3 integrales múltiples hasta el ejemplo 6.14."
   ]
  },
  {
   "cell_type": "markdown",
   "metadata": {},
   "source": [
    "#### The curse of dimensionality"
   ]
  },
  {
   "cell_type": "markdown",
   "metadata": {},
   "source": [
    "Como puede observarse en el desarrollo de la sección 6.5, la aproximación por integración numérica a integrales múltiples por los métodos por Newton-Cotes o cuadratura Gaussiana implican sustituir la integral $\\int$ sobre una región por una $\\sum$ y evaluaciones del integrando en un conjunto de nodos multiplicados por pesos (suma ponderada). Esto para dimensiones igual a dos o tres es viable pero para dimensiones altas no es computacionalmente práctico. "
   ]
  },
  {
   "cell_type": "markdown",
   "metadata": {},
   "source": [
    "La razón de lo anterior tiene que ver con la cantidad de nodos y finalmente evaluaciones del integrando que se tienen que realizar para tener una aproximación con una exactitud aceptable. Por ejemplo, la regla del rectángulo o del trapecio tienen un error de orden $\\mathcal{O}(h^2)$ independientemente de si se está aproximando integrales de una o más dimensiones. Supóngase que se utilizan $n$ nodos para tener un valor de espaciado igual a $h$, entonces para $d$ dimensiones se requerirían $N=n^d$ evaluaciones del integrando, o bien, si se tiene un valor de $N$ igual a $10, 000$ y $d=4$ dimensiones el error sería del orden $\\mathcal{O}(N^{-2/d})$ lo que implicaría un valor de $h=.1$ para aproximadamente sólo **dos dígitos** correctos en la aproximación (para el enunciado anterior recuérdese que $h$ es proporcional a $n^{-1}$ y $n$ = $N^{1/d}$). Este esfuerzo enorme de evaluar $N$ veces el integrando para una exactitud pequeña se debe al problema de generar puntos para *llenar* un espacio $d$-dimensional y se conoce con el nombre de la maldición de la dimensionalidad, *the curse of dimensionality*."
   ]
  },
  {
   "cell_type": "markdown",
   "metadata": {},
   "source": [
    "Como alternativa a los métodos por cuadratura anteriores para las integrales de más dimensiones se tienen los métodos de integración por el método Monte Carlo que generan aproximaciones con una exactitud moderada (del orden de $\\mathcal{O}(n^{-1/2})$) para un número de puntos moderado independiente de la dimensión. Tales métodos de integración son similares a los métodos por cuadratura en el sentido que se eligen puntos en los que se evaluará el integrando para sumar sus valores pero la diferencia con estos métodos, es que en el método de integración por Monte Carlo los puntos son seleccionados de una forma *aleatoria* (de hecho es pseudo-aleatoria pues se generan con un programa de computadora) en lugar de generarse con una fórmula."
   ]
  },
  {
   "cell_type": "markdown",
   "metadata": {},
   "source": [
    "Los métodos por integración por Monte Carlo se revisarán una vez definido el concepto de **variables aleatorias**."
   ]
  }
 ],
 "metadata": {
  "kernelspec": {
   "display_name": "Python 3",
   "language": "python",
   "name": "python3"
  },
  "language_info": {
   "codemirror_mode": {
    "name": "ipython",
    "version": 3
   },
   "file_extension": ".py",
   "mimetype": "text/x-python",
   "name": "python",
   "nbconvert_exporter": "python",
   "pygments_lexer": "ipython3",
<<<<<<< Updated upstream
   "version": "3.6.8"
=======
   "version": "3.7.4"
>>>>>>> Stashed changes
  }
 },
 "nbformat": 4,
 "nbformat_minor": 2
}
