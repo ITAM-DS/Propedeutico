{
 "cells": [
  {
   "cell_type": "markdown",
   "metadata": {},
   "source": [
    "**Notas para contenedor de docker:**"
   ]
  },
  {
   "cell_type": "markdown",
   "metadata": {},
   "source": [
    "Comando de docker para ejecución de la nota de forma local:\n",
    "\n",
    "nota: cambiar `dir_montar` por la ruta de directorio que se desea mapear a `/datos` dentro del contenedor de docker.\n",
    "\n",
    "```\n",
    "dir_montar=<ruta completa de mi máquina a mi directorio>#aquí colocar la ruta al directorio a montar, por ejemplo: \n",
    "#dir_montar=/Users/erick/midirectorio.\n",
    "```\n",
    "\n",
    "Ejecutar:\n",
    "\n",
    "```\n",
    "$docker run --rm -v $dir_montar:/datos --name jupyterlab_prope_r_kernel_tidyverse -p 8888:8888 -d palmoreck/jupyterlab_prope_r_kernel_tidyverse:3.0.16   \n",
    "\n",
    "```"
   ]
  },
  {
   "cell_type": "markdown",
   "metadata": {},
   "source": [
    "Ir a `localhost:8888` y escribir el password para jupyterlab: `qwerty`\n",
    "\n",
    "Detener el contenedor de docker:\n",
    "\n",
    "```\n",
    "docker stop jupyterlab_prope_r_kernel_tidyverse\n",
    "```\n"
   ]
  },
  {
   "cell_type": "markdown",
   "metadata": {},
   "source": [
    "Documentación de la imagen de docker `palmoreck/jupyterlab_prope_r_kernel_tidyverse:3.0.16` en [liga](https://github.com/palmoreck/dockerfiles/tree/master/jupyterlab/prope_r_kernel_tidyverse)."
   ]
  },
  {
   "cell_type": "markdown",
   "metadata": {},
   "source": [
    "---"
   ]
  },
  {
   "cell_type": "markdown",
   "metadata": {},
   "source": [
    "Para ejecución de la nota usar:\n",
    "\n",
    "[docker](https://www.docker.com/) (instalación de forma **local** con [Get docker](https://docs.docker.com/install/)) y ejecutar comandos que están al inicio de la nota de forma **local**. \n",
    "\n",
    "O bien dar click en alguno de los botones siguientes:"
   ]
  },
  {
   "cell_type": "markdown",
   "metadata": {},
   "source": [
    "[![Binder](https://mybinder.org/badge_logo.svg)](https://mybinder.org/v2/gh/palmoreck/dockerfiles-for-binder/jupyterlab_prope_r_kernel_tidyerse?urlpath=lab/tree/Propedeutico/Python/clases/2_calculo_DeI/1_aproximacion_a_derivadas_e_integrales.ipynb) esta opción crea una máquina individual en un servidor de Google, clona el repositorio y permite la ejecución de los notebooks de jupyter."
   ]
  },
  {
   "cell_type": "markdown",
   "metadata": {},
   "source": [
    "[![Run on Repl.it](https://repl.it/badge/github/palmoreck/dummy)](https://repl.it/languages/python3) esta opción no clona el repositorio, no ejecuta los notebooks de jupyter pero permite ejecución de instrucciones de Python de forma colaborativa con [repl.it](https://repl.it/). Al dar click se crearán nuevos ***repl*** debajo de sus users de ***repl.it***.\n"
   ]
  },
  {
   "cell_type": "markdown",
   "metadata": {},
   "source": [
    "## Se sugiere apoyar esta nota con la lectura de los capítulos 5 y 6 del libro de texto de J. Kiusalaas \"Numerical Methods in Engineering with Python 3\"."
   ]
  },
  {
   "cell_type": "markdown",
   "metadata": {},
   "source": [
    "# Función"
   ]
  },
  {
   "cell_type": "markdown",
   "metadata": {},
   "source": [
    "Una función, $f$, es una regla de correspondencia entre un conjunto nombrado dominio, $D_f$ y otro conjunto nombrado codominio, $C_f$."
   ]
  },
  {
   "cell_type": "markdown",
   "metadata": {},
   "source": [
    "Notación: $f: A \\rightarrow B$ es una función de un conjunto $\\text{dom}f \\subseteq A$ en un conjunto $B$."
   ]
  },
  {
   "cell_type": "markdown",
   "metadata": {},
   "source": [
    "---\n",
    "\n",
    "**Observación**\n",
    "\n",
    "$\\text{dom}f$ (el dominio de $f$) podría ser un subconjunto propio de $A$, esto es, algunos elementos de $A$ y otros no, son mapeados a elementos de $B$.\n",
    "\n",
    "---"
   ]
  },
  {
   "cell_type": "markdown",
   "metadata": {},
   "source": [
    "**Ejemplos**\n",
    "\n",
    "* La regla de correspondencia que asocia a cada estudiante su clave única.\n",
    "\n",
    "* La regla de correspondencia que asocia a cada persona una casilla para votar en elecciones.\n",
    "\n",
    "* $f: \\mathbb{R} \\rightarrow \\mathbb{R}$ con $f(x) = x^2$. "
   ]
  },
  {
   "cell_type": "code",
   "execution_count": 1,
   "metadata": {},
   "outputs": [],
   "source": [
    "import matplotlib.pyplot as plt\n",
    "import numpy as np"
   ]
  },
  {
   "cell_type": "code",
   "execution_count": 2,
   "metadata": {},
   "outputs": [],
   "source": [
    "x = np.linspace(-1,1,100) #100 puntos equidistantes entre -1,1"
   ]
  },
  {
   "cell_type": "code",
   "execution_count": 3,
   "metadata": {},
   "outputs": [],
   "source": [
    "y = lambda x: x**2"
   ]
  },
  {
   "cell_type": "code",
   "execution_count": 4,
   "metadata": {},
   "outputs": [],
   "source": [
    "y_eval = y(x)"
   ]
  },
  {
   "cell_type": "code",
   "execution_count": 5,
   "metadata": {},
   "outputs": [
    {
     "data": {
      "image/png": "[encoded data removed]",
      "text/plain": [
       "<Figure size 432x288 with 1 Axes>"
      ]
     },
     "metadata": {
      "needs_background": "light"
     },
     "output_type": "display_data"
    }
   ],
   "source": [
    "plt.plot(x,y_eval)\n",
    "plt.title('y=x^2')\n",
    "plt.show()"
   ]
  },
  {
   "cell_type": "markdown",
   "metadata": {},
   "source": [
    "# Derivada de una función"
   ]
  },
  {
   "cell_type": "markdown",
   "metadata": {},
   "source": [
    "Consideremos en lo que sigue $f: \\mathbb{R} \\rightarrow \\mathbb{R}$."
   ]
  },
  {
   "cell_type": "markdown",
   "metadata": {},
   "source": [
    "$f$ es diferenciable en $x_0 \\in (a,b)$ si $\\displaystyle \\lim_{x \\rightarrow x_0} \\frac{f(x)-f(x_0)}{x-x_0}$ existe y escribimos:\n",
    "\n",
    "$$f^{(1)}(x_0) = \\displaystyle \\lim_{x \\rightarrow x_0} \\frac{f(x)-f(x_0)}{x-x_0}.$$\n",
    "\n",
    "$f$ es diferenciable en $[a,b]$ si es diferenciable en cada punto de $[a,b]$. Análogamente definiendo la variable $h=x-x_0$ se tiene:\n"
   ]
  },
  {
   "cell_type": "markdown",
   "metadata": {},
   "source": [
    "$f^{(1)}(x_0) = \\displaystyle \\lim_{h \\rightarrow 0} \\frac{f(x_0+h)-f(x_0)}{h}$ que típicamente se escribe como:\n",
    "\n",
    "$$f^{(1)}(x) = \\displaystyle \\lim_{h \\rightarrow 0} \\frac{f(x+h)-f(x)}{h}.$$"
   ]
  },
  {
   "cell_type": "markdown",
   "metadata": {},
   "source": [
    "---\n",
    "\n",
    "**Comentario** \n",
    "\n",
    "Si $f$ es diferenciable en $x_0$ entonces $f(x) \\approx f(x_0) + f^{(1)}(x_0)(x-x_0)$. Gráficamente:\n",
    "\n",
    "<img src=\"https://dl.dropboxusercontent.com/s/3t13ku6pk1pjwxo/f_diferenciable.png?dl=0\" heigth=\"500\" width=\"500\">\n",
    "\n",
    "---"
   ]
  },
  {
   "cell_type": "markdown",
   "metadata": {},
   "source": [
    "**Notación:** $\\mathcal{C}^n([a,b])=\\{\\text{funciones } f:\\mathbb{R} \\rightarrow \\mathbb{R} \\text{ con } n \\text{ derivadas continuas en el intervalo [a,b]}\\}$."
   ]
  },
  {
   "cell_type": "markdown",
   "metadata": {},
   "source": [
    "---\n",
    "\n",
    "**Observación**\n",
    "\n",
    "En la definición anterior se calculan límites los cuales pueden calcularse con el paquete *SymPy*."
   ]
  },
  {
   "cell_type": "code",
   "execution_count": 6,
   "metadata": {},
   "outputs": [],
   "source": [
    "import sympy"
   ]
  },
  {
   "cell_type": "markdown",
   "metadata": {},
   "source": [
    "**Límite de $\\frac{\\sin(x)}{x}$ para $x \\rightarrow 0$:**"
   ]
  },
  {
   "cell_type": "code",
   "execution_count": 7,
   "metadata": {},
   "outputs": [],
   "source": [
    "x = sympy.Symbol(\"x\")"
   ]
  },
  {
   "cell_type": "code",
   "execution_count": 8,
   "metadata": {},
   "outputs": [],
   "source": [
    "quotient = sympy.sin(x)/x"
   ]
  },
  {
   "cell_type": "code",
   "execution_count": 9,
   "metadata": {},
   "outputs": [
    {
     "data": {
      "text/latex": [
       "$\\displaystyle 1$"
      ],
      "text/plain": [
       "1"
      ]
     },
     "execution_count": 9,
     "metadata": {},
     "output_type": "execute_result"
    }
   ],
   "source": [
    "sympy.limit(quotient,x,0)"
   ]
  },
  {
   "cell_type": "markdown",
   "metadata": {},
   "source": [
    "---"
   ]
  },
  {
   "cell_type": "markdown",
   "metadata": {},
   "source": [
    "**Límite de $\\frac{\\cos(x+h) - \\cos(x)}{h}$ para $h \\rightarrow 0$:**"
   ]
  },
  {
   "cell_type": "code",
   "execution_count": 10,
   "metadata": {},
   "outputs": [],
   "source": [
    "x, h = sympy.symbols(\"x, h\")"
   ]
  },
  {
   "cell_type": "code",
   "execution_count": 11,
   "metadata": {},
   "outputs": [],
   "source": [
    "quotient = (sympy.cos(x+h) - sympy.cos(x))/h"
   ]
  },
  {
   "cell_type": "code",
   "execution_count": 12,
   "metadata": {},
   "outputs": [
    {
     "data": {
      "text/latex": [
       "$\\displaystyle - \\sin{\\left(x \\right)}$"
      ],
      "text/plain": [
       "-sin(x)"
      ]
     },
     "execution_count": 12,
     "metadata": {},
     "output_type": "execute_result"
    }
   ],
   "source": [
    "sympy.limit(quotient, h, 0)"
   ]
  },
  {
   "cell_type": "markdown",
   "metadata": {},
   "source": [
    "Lo anterior corresponde a la **derivada de $\\cos(x)$**:"
   ]
  },
  {
   "cell_type": "code",
   "execution_count": 13,
   "metadata": {},
   "outputs": [],
   "source": [
    "x = sympy.Symbol(\"x\")"
   ]
  },
  {
   "cell_type": "code",
   "execution_count": 14,
   "metadata": {},
   "outputs": [
    {
     "data": {
      "text/latex": [
       "$\\displaystyle - \\sin{\\left(x \\right)}$"
      ],
      "text/plain": [
       "-sin(x)"
      ]
     },
     "execution_count": 14,
     "metadata": {},
     "output_type": "execute_result"
    }
   ],
   "source": [
    "sympy.cos(x).diff(x)"
   ]
  },
  {
   "cell_type": "markdown",
   "metadata": {},
   "source": [
    "**Si queremos evaluar la derivada podemos usar:**"
   ]
  },
  {
   "cell_type": "code",
   "execution_count": 15,
   "metadata": {},
   "outputs": [
    {
     "data": {
      "text/latex": [
       "$\\displaystyle -1$"
      ],
      "text/plain": [
       "-1"
      ]
     },
     "execution_count": 15,
     "metadata": {},
     "output_type": "execute_result"
    }
   ],
   "source": [
    "sympy.cos(x).diff(x).subs(x,sympy.pi/2)"
   ]
  },
  {
   "cell_type": "markdown",
   "metadata": {},
   "source": [
    "**Otra forma:**"
   ]
  },
  {
   "cell_type": "code",
   "execution_count": 16,
   "metadata": {},
   "outputs": [
    {
     "data": {
      "text/latex": [
       "$\\displaystyle \\frac{d}{d x} \\cos{\\left(x \\right)}$"
      ],
      "text/plain": [
       "Derivative(cos(x), x)"
      ]
     },
     "execution_count": 16,
     "metadata": {},
     "output_type": "execute_result"
    }
   ],
   "source": [
    "sympy.Derivative(sympy.cos(x), x)"
   ]
  },
  {
   "cell_type": "code",
   "execution_count": 17,
   "metadata": {},
   "outputs": [
    {
     "data": {
      "text/latex": [
       "$\\displaystyle -1.0$"
      ],
      "text/plain": [
       "-1.00000000000000"
      ]
     },
     "execution_count": 17,
     "metadata": {},
     "output_type": "execute_result"
    }
   ],
   "source": [
    "sympy.Derivative(sympy.cos(x), x).doit_numerically(sympy.pi/2)"
   ]
  },
  {
   "cell_type": "markdown",
   "metadata": {},
   "source": [
    "# Errores absolutos y relativos de una aproximación\n",
    "\n",
    "Si `aprox` es mi cantidad con la que aproximo a mi objetivo `obj` entonces el error absoluto de `aprox` y el error relativo de `aprox` es:\n",
    "\n",
    "$$ErrAbs(\\text{aprox}) = |\\text{aprox} - \\text{obj}|.$$\n"
   ]
  },
  {
   "cell_type": "markdown",
   "metadata": {},
   "source": [
    "$$ErrRel(\\text{aprox}) = \\frac{ErrAbs(\\text{aprox})}{|\\text{obj}|}.$$"
   ]
  },
  {
   "cell_type": "markdown",
   "metadata": {},
   "source": [
    "---\n",
    "\n",
    "**Observación**\n",
    "\n",
    "* Obsérvese que `obj` debe ser distinto de cero para que el error relativo esté bien definido.\n",
    "\n",
    "* si $ErrRel(aprox) \\approx 10^{-k}$ se dice que `aprox` aproxima a `obj` con alrededor de $k$ dígitos correctos. Por ejemplo si $k=3$ entonces la cantidad `aprox` aproxima a la cantidad `obj` con alrededor de $3$ dígitos de precisión.\n",
    "\n",
    "---"
   ]
  },
  {
   "cell_type": "markdown",
   "metadata": {},
   "source": [
    "# Aproximación a una función por el teorema de Taylor"
   ]
  },
  {
   "cell_type": "markdown",
   "metadata": {},
   "source": [
    "Las fórmulas de aproximación a las derivadas por diferencias finitas y a integrales definidas en un intervalo por las reglas de cuadratura Newton-Cotes pueden obtenerse con los **polinomios de Taylor** presentes en el teorema del mismo autor, el cual, bajo ciertas hipótesis nos proporciona una expansión de una función alrededor de un punto. Otras opciones son con polinomios de Lagrange, ver [Lagrange_polynomial](https://en.wikipedia.org/wiki/Lagrange_polynomial). El teorema de Taylor es el siguiente:"
   ]
  },
  {
   "cell_type": "markdown",
   "metadata": {},
   "source": [
    "Sea $f \\in \\mathcal{C}^n([a,b])$, $f^{(n+1)}$ existe en [a,b]. Si $x_0 \\in [a,b]$ entonces $\\forall x \\in [a,b]$ se tiene: $f(x) = P_n(x) + R_n(x)$ donde: \n",
    "\n",
    "$$P_n(x) = \\displaystyle \\sum_{k=0}^n \\frac{f^{(k)}(x_0)(x-x_0)^k}{k!} \\quad (f^{(0)} = f)$$ y $$R_n(x) = \\frac{f^{(n+1)}(\\xi_x)(x-x_0)^{(n+1)}}{(n+1)!}$$ con $\\xi_x$ entre $x_0, x$ y $x_0$ se llama centro."
   ]
  },
  {
   "cell_type": "markdown",
   "metadata": {},
   "source": [
    "## Ejemplo"
   ]
  },
  {
   "cell_type": "markdown",
   "metadata": {},
   "source": [
    "Aproximemos a la función $\\frac{1}{x}$ en el intervalo $[1,2]$ con polinomios de Taylor de orden $n$ con $n \\in \\{0,1,2\\}$ con centro en $x_0=1.5$. Los polinomios de Taylor son: "
   ]
  },
  {
   "cell_type": "markdown",
   "metadata": {},
   "source": [
    "$$P_0(x) = f(x_0) = \\frac{2}{3} \\quad \\text{(constante)}$$"
   ]
  },
  {
   "cell_type": "markdown",
   "metadata": {},
   "source": [
    "$$P_1(x) = f(x_0) + f^{(1)}(x_0)(x-x_0) = \\frac{2}{3} - \\frac{1}{x_0^2}(x-x_0) =\\frac{2}{3} - \\frac{1}{1.5^2}(x-1.5) \\quad \\text{(lineal)}$$"
   ]
  },
  {
   "cell_type": "markdown",
   "metadata": {},
   "source": [
    "$$P_2(x) = f(x_0) + f^{(1)}(x_0)(x-x_0) + \\frac{f^{(2)}(x_0)(x-x_0)^2}{2} = \\frac{2}{3} - \\frac{1}{x_0^2}(x-x_0) + \\frac{1}{x_0^3}(x-x_0)^2 = \\frac{2}{3} -\\frac{1}{1.5^2}(x-1.5) + \\frac{1}{1.5^3}(x-1.5)^2 \\quad \\text{(cuadrático)}$$"
   ]
  },
  {
   "cell_type": "markdown",
   "metadata": {},
   "source": [
    "---\n",
    "\n",
    "**Ejercicio**\n",
    "\n",
    "Graficar la función y los polinomios constante, lineal y cuadrático en una sola gráfica con `matplotlib` en el intervalo [1,2]. ¿Cuánto es la aproximación de los polinomios en x=1.9? Calcula el error relativo de tus aproximaciones.\n"
   ]
  },
  {
   "cell_type": "markdown",
   "metadata": {},
   "source": [
    "---\n",
    "\n",
    "**Comentario** \n",
    "\n",
    "Otras aproximaciones a una función se pueden realizar con:\n",
    "\n",
    "* Interpoladores polinomiales (representación por Vandermonde, Newton, Lagrange).\n",
    "\n",
    "---"
   ]
  },
  {
   "cell_type": "markdown",
   "metadata": {},
   "source": [
    "# Diferenciación numérica por diferencias finitas"
   ]
  },
  {
   "cell_type": "markdown",
   "metadata": {},
   "source": [
    "Las fórmulas de diferencias finitas pueden obtenerse con el teorema de Taylor. Por ejemplo:"
   ]
  },
  {
   "cell_type": "markdown",
   "metadata": {},
   "source": [
    "Sea $f \\in \\mathcal{C}^1([a,b])$ y $f^{(2)}$ existe y está acotada $\\forall x \\in [a,b]$ entonces, si $x+h \\in [a,b]$ con $h>0$ por el teorema de Taylor se tiene:"
   ]
  },
  {
   "cell_type": "markdown",
   "metadata": {},
   "source": [
    "$$f(x+h) = f(x) + f^{(1)}(x)h + f^{(2)}(\\xi_{x+h})\\frac{h^2}{2}$$ con $\\xi_{x+h} \\in [x,x+h]$"
   ]
  },
  {
   "cell_type": "markdown",
   "metadata": {},
   "source": [
    "Y al despejar $f^{(1)}(x)$ se tiene la **aproximación por diferencias hacia delante a la primera derivada de $f$**: "
   ]
  },
  {
   "cell_type": "markdown",
   "metadata": {},
   "source": [
    "$$f^{(1)}(x) = \\frac{f(x+h)-f(x)}{h} - f^{(2)}(\\xi_{x+h})\\frac{h}{2}$$"
   ]
  },
  {
   "cell_type": "markdown",
   "metadata": {},
   "source": [
    "---\n",
    "\n",
    "**Observación**\n",
    "\n",
    "\n",
    "La aproximación por diferencias finitas a la primer derivada de la función tiene un error de orden $\\mathcal{O}(h)$ por lo que una elección de $h$ igual a $.1 = 10^{-1}$ generará aproximaciones con alrededor de un dígito correcto.\n",
    "\n",
    "---"
   ]
  },
  {
   "cell_type": "markdown",
   "metadata": {},
   "source": [
    "Así también pueden obtenerse la versión centrada y aproximaciones a la segunda derivada de $f$:"
   ]
  },
  {
   "cell_type": "markdown",
   "metadata": {},
   "source": [
    "**Aproximación por diferencias hacia delante para la segunda derivada**"
   ]
  },
  {
   "cell_type": "markdown",
   "metadata": {},
   "source": [
    "$$\\frac{d^2f(x)}{dx} \\approx \\frac{f(x+2h)-2f(x+h)+f(x)}{h^2}$$"
   ]
  },
  {
   "cell_type": "markdown",
   "metadata": {},
   "source": [
    "**Aproximación por diferencias centradas a la primer y segunda derivada**"
   ]
  },
  {
   "cell_type": "markdown",
   "metadata": {},
   "source": [
    "$$ \\frac{df(x)}{dx} \\approx \\frac{f(x+h)-f(x-h)}{2h}$$"
   ]
  },
  {
   "cell_type": "markdown",
   "metadata": {},
   "source": [
    "$$ \\frac{d^2f(x)}{dx} \\approx \\frac{f(x+h)-2f(x)+f(x-h)}{h^2}$$"
   ]
  },
  {
   "cell_type": "markdown",
   "metadata": {},
   "source": [
    "**Interpretación geométrica de aproximación por diferencias centradas a la primer derivada de $f$:**"
   ]
  },
  {
   "cell_type": "markdown",
   "metadata": {},
   "source": [
    "<img src=\"https://dl.dropboxusercontent.com/s/jwi0y1t5z58pydz/dif_centradas.png?dl=0\" heigth=\"500\" width=\"500\">"
   ]
  },
  {
   "cell_type": "markdown",
   "metadata": {},
   "source": [
    "---\n",
    "\n",
    "**Ejercicio** \n",
    "\n",
    "Aproximar la primera y segunda derivadas de la función `arctan` con diferencias finitas centradas en el punto $x=0.5$\n",
    "\n"
   ]
  },
  {
   "cell_type": "code",
   "execution_count": 18,
   "metadata": {},
   "outputs": [],
   "source": [
    "def central_approx_diff(f,x,h=0.0001): #el parámetro h tiene un valor default\n",
    "    df =(f(x+h) - f(x-h))/(2.0*h) #primera derivada\n",
    "    ddf =(f(x+h) - 2.0*f(x) + f(x-h))/h**2 #segunda derivada\n",
    "    return df,ddf"
   ]
  },
  {
   "cell_type": "code",
   "execution_count": 19,
   "metadata": {},
   "outputs": [],
   "source": [
    "import math"
   ]
  },
  {
   "cell_type": "code",
   "execution_count": 20,
   "metadata": {},
   "outputs": [
    {
     "name": "stdout",
     "output_type": "stream",
     "text": [
      "Primera derivada: 0.7999999995730867\n",
      "Segunda derivada: -0.6399999918915711\n"
     ]
    }
   ],
   "source": [
    "#Ejemplo de llamada a función utilizando el parámetro de default de h=0.0001\n",
    "x = 0.5 #punto donde se realizará la aproximación\n",
    "df, ddf = central_approx_diff(math.atan, x)\n",
    "print('Primera derivada:', df)\n",
    "print('Segunda derivada:', ddf)"
   ]
  },
  {
   "cell_type": "code",
   "execution_count": 21,
   "metadata": {},
   "outputs": [
    {
     "name": "stdout",
     "output_type": "stream",
     "text": [
      "Primera derivada: 0.799999999995249\n",
      "Segunda derivada: -0.639877040242709\n"
     ]
    }
   ],
   "source": [
    "#Ejemplo de llamada a función utilizando h=1e-6\n",
    "h = 1e-6\n",
    "x = 0.5\n",
    "df, ddf = central_approx_diff(math.atan, 0.5,h)\n",
    "print('Primera derivada:', df)\n",
    "print('Segunda derivada:', ddf)"
   ]
  },
  {
   "cell_type": "code",
   "execution_count": 22,
   "metadata": {},
   "outputs": [
    {
     "name": "stdout",
     "output_type": "stream",
     "text": [
      "0.8\n",
      "-0.64\n"
     ]
    }
   ],
   "source": [
    "#derivadas analíticas:\n",
    "d = 1/(1+x**2)\n",
    "dd = (-2*x)/(1+x**2)**2\n",
    "print(d)\n",
    "print(dd)"
   ]
  },
  {
   "cell_type": "code",
   "execution_count": 23,
   "metadata": {},
   "outputs": [],
   "source": [
    "def relative_absolute_error(aprox, obj):\n",
    "    if(np.abs(obj) > 0):\n",
    "        return np.abs(aprox-obj)/np.abs(obj)\n",
    "    else:\n",
    "        return np.abs(aprox-obj)"
   ]
  },
  {
   "cell_type": "code",
   "execution_count": 24,
   "metadata": {},
   "outputs": [],
   "source": [
    "rel_err_df = relative_absolute_error(df, d)"
   ]
  },
  {
   "cell_type": "code",
   "execution_count": 25,
   "metadata": {},
   "outputs": [
    {
     "data": {
      "text/plain": [
       "5.938860514476119e-12"
      ]
     },
     "execution_count": 25,
     "metadata": {},
     "output_type": "execute_result"
    }
   ],
   "source": [
    "rel_err_df"
   ]
  },
  {
   "cell_type": "code",
   "execution_count": 26,
   "metadata": {},
   "outputs": [],
   "source": [
    "rel_err_ddf = relative_absolute_error(ddf, dd)"
   ]
  },
  {
   "cell_type": "code",
   "execution_count": 27,
   "metadata": {},
   "outputs": [
    {
     "data": {
      "text/plain": [
       "0.00019212462076725195"
      ]
     },
     "execution_count": 27,
     "metadata": {},
     "output_type": "execute_result"
    }
   ],
   "source": [
    "rel_err_ddf"
   ]
  },
  {
   "cell_type": "markdown",
   "metadata": {},
   "source": [
    "---\n",
    "\n",
    "**Comentario** \n",
    "\n",
    "Otra forma de evaluar las aproximaciones realizadas es con módulos o paquetes de Python creados para este propósito en lugar de crear nuestras funciones como la de `relative_absolute_error`. En la siguiente celda instalamos el paquete [pytest](https://docs.pytest.org/en/latest/) y mostramos cómo evaluar la calidad de la aproximación con la función [approx](https://docs.pytest.org/en/latest/reference.html#pytest-approx) de este paquete.\n",
    "\n",
    "---"
   ]
  },
  {
   "cell_type": "code",
   "execution_count": 28,
   "metadata": {},
   "outputs": [
    {
     "name": "stdout",
     "output_type": "stream",
     "text": [
      "\u001b[33m  WARNING: The scripts py.test and pytest are installed in '/home/propeuser/.local/bin' which is not on PATH.\n",
      "  Consider adding this directory to PATH or, if you prefer to suppress this warning, use --no-warn-script-location.\u001b[0m\n"
     ]
    }
   ],
   "source": [
    "!pip3 install -q --user pytest"
   ]
  },
  {
   "cell_type": "code",
   "execution_count": 29,
   "metadata": {},
   "outputs": [],
   "source": [
    "from pytest import approx"
   ]
  },
  {
   "cell_type": "code",
   "execution_count": 30,
   "metadata": {},
   "outputs": [
    {
     "data": {
      "text/plain": [
       "True"
      ]
     },
     "execution_count": 30,
     "metadata": {},
     "output_type": "execute_result"
    }
   ],
   "source": [
    "df == approx(d)"
   ]
  },
  {
   "cell_type": "code",
   "execution_count": 31,
   "metadata": {},
   "outputs": [
    {
     "data": {
      "text/plain": [
       "False"
      ]
     },
     "execution_count": 31,
     "metadata": {},
     "output_type": "execute_result"
    }
   ],
   "source": [
    "ddf == approx(dd)"
   ]
  },
  {
   "cell_type": "markdown",
   "metadata": {},
   "source": [
    "Y podemos usar un valor definido de tolerancia definido para hacer la prueba (por default se tiene una tolerancia de $10^{-6}$)."
   ]
  },
  {
   "cell_type": "code",
   "execution_count": 32,
   "metadata": {},
   "outputs": [
    {
     "data": {
      "text/plain": [
       "True"
      ]
     },
     "execution_count": 32,
     "metadata": {},
     "output_type": "execute_result"
    }
   ],
   "source": [
    "ddf == approx(dd, rel=1e-3,abs=1e-3)"
   ]
  },
  {
   "cell_type": "markdown",
   "metadata": {},
   "source": [
    "---\n",
    "\n",
    "**Ejercicios** \n"
   ]
  },
  {
   "cell_type": "markdown",
   "metadata": {},
   "source": [
    "La diferenciación numérica por diferencias finitas **no es un proceso con una alta exactitud** pues los problemas del redondeo de la aritmética en la máquina se hacen presentes en el mismo. Como ejemplo de esta situación hágase el siguiente ejercicio 1."
   ]
  },
  {
   "cell_type": "markdown",
   "metadata": {},
   "source": [
    "\n",
    "1) **(Tarea) Realizar una gráfica de log(error relativo) vs log(h) (h en el eje horizontal) para aproximar la segunda derivada de $f(x)=e^{-x}$ en $x=1$ con $h \\in \\{10^{-16}, 10^{-14}, \\dots , 10^{-1}\\}$ y diferencias hacia delante. Valor a aproximar: $f^{(2)}(1) = e^{-1}$. Usar:**"
   ]
  },
  {
   "cell_type": "markdown",
   "metadata": {},
   "source": [
    "$$\\frac{d^2f(x)}{dx} \\approx \\frac{f(x+2h)-2f(x+h)+f(x)}{h^2}$$"
   ]
  },
  {
   "cell_type": "markdown",
   "metadata": {},
   "source": [
    "2) **Crear un módulo con nombre `central_finite_derivative.py` en el que se tengan dos funciones de Python que aproximen la primera y segunda derivada de una función en un punto `x`. Ambas funciones reciben `fun`, `x` y `h` donde: `fun` es la función a calcularse su primera y segunda derivadas, `x` es el punto donde se realiza la aproximación y `h` es el parámetro de espaciado entre `x` y `x+h` igual a $h=10^{-6}$. La salida de cada función es un `float`. \n",
    "Función de prueba: `math.atan` y `x=0.9`.**. \n",
    "\n",
    "**Los nombres de las funciones y sus salidas son:**"
   ]
  },
  {
   "cell_type": "markdown",
   "metadata": {},
   "source": [
    "| central_finite_derivative.py   | parámetros de entrada |salida|\n",
    "|:---:|:---:|:---:|\n",
    "| approx_first_derivative  | fun (function), x (float) ,h (float) | float|\n",
    "| approx_second_derivative | fun (function), x (float), h (float)| float|"
   ]
  },
  {
   "cell_type": "markdown",
   "metadata": {},
   "source": [
    "**3) (Tarea) Mismo ejercicio que 2) pero función de prueba: `math.asin` y `x=0.5`.**"
   ]
  },
  {
   "cell_type": "markdown",
   "metadata": {},
   "source": [
    "---"
   ]
  },
  {
   "cell_type": "markdown",
   "metadata": {},
   "source": [
    "## Diferenciación numérica en más dimensiones"
   ]
  },
  {
   "cell_type": "markdown",
   "metadata": {},
   "source": [
    "La anterior aproximación por diferencias finitas también puede utilizarse para aproximar el gradiente de una función $f: \\mathbb{R}^n \\rightarrow \\mathbb{R}$ considerando que:"
   ]
  },
  {
   "cell_type": "markdown",
   "metadata": {},
   "source": [
    "$$\\nabla f(x) = \n",
    "\\begin{array}{l}\n",
    "\\left[ \\begin{array}{c}\n",
    "\\frac{\\partial f(x)}{\\partial x_1}\\\\\n",
    "\\vdots\\\\\n",
    "\\frac{\\partial f(x)}{\\partial x_n}\n",
    "\\end{array}\n",
    "\\right] = \\left[ \n",
    "\\begin{array}{c} \n",
    "\\displaystyle \\lim_{h \\rightarrow 0} \\frac{f(x+he_1) - f(x)}{h}\\\\\n",
    "\\vdots\\\\\n",
    "\\displaystyle \\lim_{h \\rightarrow 0} \\frac{f(x+he_n) - f(x)}{h}\n",
    "\\end{array}\n",
    "\\right]\n",
    "\\end{array} \\in \\mathbb{R}^n$$"
   ]
  },
  {
   "cell_type": "markdown",
   "metadata": {},
   "source": [
    "con $e_i$ vectores canónicos (poseen 1 en la posición $i$ y cero en las restantes) para $i=1, \\dots, n$."
   ]
  },
  {
   "cell_type": "markdown",
   "metadata": {},
   "source": [
    "---\n",
    "\n",
    "**Observación** \n",
    "\n",
    "El gradiente de una función como se definió arriba también es una función, de hecho: $\\nabla f: \\mathbb{R}^n \\rightarrow \\mathbb{R}^n$.\n",
    "\n",
    "---"
   ]
  },
  {
   "cell_type": "markdown",
   "metadata": {},
   "source": [
    "En este contexto el teorema de Taylor para el polinomio de grado 2 se puede escribir como: $$P_2(x) = f(x_0) + \\nabla f(x_0)^T(x-x_0) + \\frac{1}{2}(x-x_0)^T\\nabla^2f(x_0)(x-x_0) $$"
   ]
  },
  {
   "cell_type": "markdown",
   "metadata": {},
   "source": [
    "# Integración numérica"
   ]
  },
  {
   "cell_type": "markdown",
   "metadata": {},
   "source": [
    "Las reglas o métodos por cuadratura nos ayudan a aproximar integrales con sumas de la forma:"
   ]
  },
  {
   "cell_type": "markdown",
   "metadata": {},
   "source": [
    "$$\\displaystyle \\int_a^bf(x)dx \\approx \\displaystyle \\sum_{i=0}^nw_if(x_i)$$"
   ]
  },
  {
   "cell_type": "markdown",
   "metadata": {},
   "source": [
    "donde: $w_i$ es el peso para el nodo $x_i$. Los valores $f(x_i)$ se asumen conocidos.\n",
    "\n",
    "Todas las reglas o métodos por cuadratura se obtienen con interpoladores polinomiales del integrando (por ejemplo usando la representación de Lagrange) o también con el teorema Taylor."
   ]
  },
  {
   "cell_type": "markdown",
   "metadata": {},
   "source": [
    "Se realizan aproximaciones numéricas por:\n",
    "* Desconocimiento de la función en todo el intervalo $[a,b]$ y sólo se conoce en los nodos su valor.\n",
    "* Inexistencia de antiderivada o primitiva del integrando. Por ejemplo: "
   ]
  },
  {
   "cell_type": "markdown",
   "metadata": {},
   "source": [
    "$$\\displaystyle \\int_a^be^{-\\frac{x^2}{2}}dx$$ con $a,b$ números reales."
   ]
  },
  {
   "cell_type": "markdown",
   "metadata": {},
   "source": [
    "Dependiendo de la ubicación de los nodos y pesos es el método de cuadratura que resulta:\n",
    "\n",
    "* Newton-Cotes si los nodos y pesos son equidistantes como la regla del rectángulo, trapecio y Simpson (con el teorema de Taylor es posible obtener tales fórmulas).\n",
    "* Cuadratura Gaussiana si se desea obtener reglas o fórmulas que tengan la mayor exactitud posible. Ejemplos de este tipo de cuadratura se tiene la regla por cuadratura Gauss-Legendre en [-1,1] o Gauss-Hermite para el caso de integrales en $[-\\infty, \\infty]$ con integrando $e^{-x^2}f(x)$."
   ]
  },
  {
   "cell_type": "markdown",
   "metadata": {},
   "source": [
    "---\n",
    "\n",
    "**Observación**\n",
    "\n",
    "Con *SymPy* también es posible calcular integrales definidas o indefinidas.\n"
   ]
  },
  {
   "cell_type": "markdown",
   "metadata": {},
   "source": [
    "**Integral indefinida de $\\sin(x)$:**"
   ]
  },
  {
   "cell_type": "code",
   "execution_count": 33,
   "metadata": {},
   "outputs": [],
   "source": [
    "x = sympy.Symbol('x')"
   ]
  },
  {
   "cell_type": "code",
   "execution_count": 34,
   "metadata": {},
   "outputs": [
    {
     "data": {
      "text/latex": [
       "$\\displaystyle - \\cos{\\left(x \\right)}$"
      ],
      "text/plain": [
       "-cos(x)"
      ]
     },
     "execution_count": 34,
     "metadata": {},
     "output_type": "execute_result"
    }
   ],
   "source": [
    "sympy.integrate(sympy.sin(x))"
   ]
  },
  {
   "cell_type": "markdown",
   "metadata": {},
   "source": [
    "**Integral definida de: $\\displaystyle \\int_0^\\infty e^{-x}dx$:**"
   ]
  },
  {
   "cell_type": "code",
   "execution_count": 35,
   "metadata": {},
   "outputs": [
    {
     "data": {
      "text/latex": [
       "$\\displaystyle 1$"
      ],
      "text/plain": [
       "1"
      ]
     },
     "execution_count": 35,
     "metadata": {},
     "output_type": "execute_result"
    }
   ],
   "source": [
    "sympy.integrate(sympy.exp(-x), (x, 0, sympy.oo))"
   ]
  },
  {
   "cell_type": "markdown",
   "metadata": {},
   "source": [
    "**otra forma:**"
   ]
  },
  {
   "cell_type": "code",
   "execution_count": 36,
   "metadata": {},
   "outputs": [
    {
     "data": {
      "text/latex": [
       "$\\displaystyle \\int\\limits_{0}^{\\infty} e^{- x}\\, dx$"
      ],
      "text/plain": [
       "Integral(exp(-x), (x, 0, oo))"
      ]
     },
     "execution_count": 36,
     "metadata": {},
     "output_type": "execute_result"
    }
   ],
   "source": [
    "sympy.Integral(sympy.exp(-x), (x, 0, sympy.oo))"
   ]
  },
  {
   "cell_type": "code",
   "execution_count": 37,
   "metadata": {},
   "outputs": [
    {
     "data": {
      "text/latex": [
       "$\\displaystyle 1$"
      ],
      "text/plain": [
       "1"
      ]
     },
     "execution_count": 37,
     "metadata": {},
     "output_type": "execute_result"
    }
   ],
   "source": [
    "sympy.Integral(sympy.exp(-x), (x, 0, sympy.oo)).doit()"
   ]
  },
  {
   "cell_type": "markdown",
   "metadata": {},
   "source": [
    "---"
   ]
  },
  {
   "cell_type": "markdown",
   "metadata": {},
   "source": [
    "## Newton-Cotes"
   ]
  },
  {
   "cell_type": "markdown",
   "metadata": {},
   "source": [
    "## Regla simple del rectángulo o del punto medio"
   ]
  },
  {
   "cell_type": "markdown",
   "metadata": {},
   "source": [
    "Denotaremos a esta regla como $Rf$. En este caso se aproxima el integrando $f$ por un polinomio de grado **cero** con nodo en $x_1 = \\frac{a+b}{2}$. Entonces: \n",
    "\n",
    "$$\\displaystyle \\int_a^bf(x)dx \\approx \\int_a^bf(x_1)dx = (b-a)f(x_1)=(b-a)f\\left( \\frac{a+b}{2} \\right ) = hf(x_1)$$\n",
    "\n",
    "con $h=b-a, x_1=\\frac{a+b}{2}$.\n"
   ]
  },
  {
   "cell_type": "markdown",
   "metadata": {},
   "source": [
    "<img src=\"https://dl.dropboxusercontent.com/s/mzlmnvgnltqamz3/rectangulo_simple.png?dl=0\" heigth=\"200\" width=\"200\">\n"
   ]
  },
  {
   "cell_type": "markdown",
   "metadata": {},
   "source": [
    "### Ejemplo de implementación de regla simple de rectángulo"
   ]
  },
  {
   "cell_type": "markdown",
   "metadata": {},
   "source": [
    "Utilizar la regla simple del rectángulo para aproximar la integral $\\displaystyle \\int_0^1e^{-x^2}dx \\approx 0.7468241328124271$."
   ]
  },
  {
   "cell_type": "code",
   "execution_count": 38,
   "metadata": {},
   "outputs": [],
   "source": [
    "f=lambda x: math.exp(-x**2) #integrand function"
   ]
  },
  {
   "cell_type": "code",
   "execution_count": 39,
   "metadata": {},
   "outputs": [],
   "source": [
    "def Rf(f,a,b):\n",
    "    node=(a+b)/2 #middle point\n",
    "    h=b-a\n",
    "    return h*f(node) #polynomial of zero degree"
   ]
  },
  {
   "cell_type": "code",
   "execution_count": 40,
   "metadata": {},
   "outputs": [
    {
     "data": {
      "text/plain": [
       "0.7788007830714049"
      ]
     },
     "execution_count": 40,
     "metadata": {},
     "output_type": "execute_result"
    }
   ],
   "source": [
    "Rf(f,0,1)"
   ]
  },
  {
   "cell_type": "markdown",
   "metadata": {},
   "source": [
    "Para contrastar con nuestra implementación usamos la función de `quad` dentro del paquete `scipy`. Ver [liga1 a quad](https://docs.scipy.org/doc/scipy/reference/tutorial/integrate.html), [liga 2 a quad](https://docs.scipy.org/doc/scipy/reference/generated/scipy.integrate.quad.html#scipy.integrate.quad) y [liga 3 a quad](https://github.com/scipy/scipy/blob/v1.4.1/scipy/integrate/quadpack.py#L44-L432) para referencias sobre `quad`."
   ]
  },
  {
   "cell_type": "code",
   "execution_count": 41,
   "metadata": {},
   "outputs": [],
   "source": [
    "from scipy.integrate import quad"
   ]
  },
  {
   "cell_type": "code",
   "execution_count": 42,
   "metadata": {},
   "outputs": [],
   "source": [
    "obj,err = quad(f, 0, 1)"
   ]
  },
  {
   "cell_type": "code",
   "execution_count": 43,
   "metadata": {},
   "outputs": [
    {
     "data": {
      "text/plain": [
       "0.7468241328124271"
      ]
     },
     "execution_count": 43,
     "metadata": {},
     "output_type": "execute_result"
    }
   ],
   "source": [
    "obj"
   ]
  },
  {
   "cell_type": "code",
   "execution_count": 44,
   "metadata": {},
   "outputs": [
    {
     "data": {
      "text/plain": [
       "8.291413475940725e-15"
      ]
     },
     "execution_count": 44,
     "metadata": {},
     "output_type": "execute_result"
    }
   ],
   "source": [
    "err"
   ]
  },
  {
   "cell_type": "code",
   "execution_count": 45,
   "metadata": {},
   "outputs": [
    {
     "data": {
      "text/plain": [
       "0.04281684114646715"
      ]
     },
     "execution_count": 45,
     "metadata": {},
     "output_type": "execute_result"
    }
   ],
   "source": [
    "relative_absolute_error(Rf(f,0,1), obj )"
   ]
  },
  {
   "cell_type": "code",
   "execution_count": 46,
   "metadata": {},
   "outputs": [
    {
     "data": {
      "text/plain": [
       "False"
      ]
     },
     "execution_count": 46,
     "metadata": {},
     "output_type": "execute_result"
    }
   ],
   "source": [
    "Rf(f,0,1) == approx(obj)"
   ]
  },
  {
   "cell_type": "code",
   "execution_count": 47,
   "metadata": {},
   "outputs": [
    {
     "data": {
      "text/plain": [
       "True"
      ]
     },
     "execution_count": 47,
     "metadata": {},
     "output_type": "execute_result"
    }
   ],
   "source": [
    "Rf(f,0,1) == approx(obj, abs=1e-1, rel=1e-1)"
   ]
  },
  {
   "cell_type": "markdown",
   "metadata": {},
   "source": [
    "## Regla compuesta del rectángulo"
   ]
  },
  {
   "cell_type": "markdown",
   "metadata": {},
   "source": [
    "En cada subintervalo construído como $[a_{i-1},a_i]$ con $i=1,\\dots,n$ se aplica la regla simple $Rf$, esto es:\n",
    "\n",
    "$$\\displaystyle \\int_{a_{i-1}}^{a_i}f(x)dx \\approx R_i(f) \\forall i=1,\\dots,n.$$"
   ]
  },
  {
   "cell_type": "markdown",
   "metadata": {},
   "source": [
    "De forma sencilla se puede ver que la regla compuesta del rectángulo $R_c(f)$ se escribe:\n",
    "\n",
    "$$R_c(f) = \\displaystyle \\sum_{i=1}^n(a_i-a_{i-1})f\\left( \\frac{a_i+a_{i-1}}{2}\\right) = \\frac{h}{n}\\sum_{i=1}^nf\\left( \\frac{a_i+a_{i-1}}{2}\\right)$$\n",
    "\n",
    "con $h=b-a$ y $n$ número de subintervalos."
   ]
  },
  {
   "cell_type": "markdown",
   "metadata": {},
   "source": [
    "<img src=\"https://dl.dropboxusercontent.com/s/j2wmiyoms7gxrzp/rectangulo_compuesto.png?dl=0\" heigth=\"200\" width=\"200\">\n"
   ]
  },
  {
   "cell_type": "markdown",
   "metadata": {},
   "source": [
    "---\n",
    "\n",
    "**Nota**\n",
    "\n",
    "Los nodos para el caso del rectángulo se obtienen con la fórmula: $x_i = a +(i+\\frac{1}{2})\\hat{h}, \\forall i=0,\\dots,n-1, \\hat{h}=\\frac{h}{n}$. Por ejemplo si $a=1, b=2$ y $\\hat{h}=\\frac{1}{4}$ (por tanto $n=4$ subintervalos) entonces:\n",
    "\n",
    "Los subintervalos que tenemos son: $\\left[1,\\frac{5}{4}\\right], \\left[\\frac{5}{4}, \\frac{6}{4}\\right], \\left[\\frac{6}{4}, \\frac{7}{4}\\right]$ y $\\left[\\frac{7}{4}, 2\\right]$. \n",
    "\n",
    "\n",
    "Los nodos están dados por: \n",
    "\n",
    "$$x_0 = 1 + \\left(0 + \\frac{1}{2} \\right)\\frac{1}{4} = 1 + \\frac{1}{8} = \\frac{9}{8}$$"
   ]
  },
  {
   "cell_type": "markdown",
   "metadata": {},
   "source": [
    "$$x_1 = 1 + \\left(1 + \\frac{1}{2}\\right)\\frac{1}{4} = 1 + \\frac{3}{2}\\cdot \\frac{1}{4} = \\frac{11}{8}$$"
   ]
  },
  {
   "cell_type": "markdown",
   "metadata": {},
   "source": [
    "$$x_2 = 1 + \\left(2 + \\frac{1}{2}\\right)\\frac{1}{4} = 1 + \\frac{5}{8}\\cdot \\frac{1}{4} = \\frac{13}{8}$$"
   ]
  },
  {
   "cell_type": "markdown",
   "metadata": {},
   "source": [
    "$$x_3 = 1 + \\left(3 + \\frac{1}{2}\\right)\\frac{1}{4} = 1 + \\frac{7}{2}\\cdot \\frac{1}{4} = \\frac{15}{8}$$"
   ]
  },
  {
   "cell_type": "markdown",
   "metadata": {},
   "source": [
    "---"
   ]
  },
  {
   "cell_type": "markdown",
   "metadata": {},
   "source": [
    "### Ejemplo de implementación de regla compuesta de rectángulo"
   ]
  },
  {
   "cell_type": "markdown",
   "metadata": {},
   "source": [
    "Utilizar la regla compuesta del rectángulo para aproximar la integral $\\int_0^1e^{-x^2}dx \\approx 0.7468241328124271$."
   ]
  },
  {
   "cell_type": "code",
   "execution_count": 48,
   "metadata": {},
   "outputs": [],
   "source": [
    "f=lambda x: np.exp(-x**2)"
   ]
  },
  {
   "cell_type": "code",
   "execution_count": 49,
   "metadata": {},
   "outputs": [],
   "source": [
    "def Rcf(f,a,b,n): #Rcf: composite rectangle method\n",
    "    \"\"\"\n",
    "    Compute numerical approximation using rectangle or mid-point\n",
    "    method in an interval.\n",
    "    Nodes are generated via formula: x_i = a+(i+1/2)h_hat for\n",
    "    i=0,1,...,n-1 and h_hat=(b-a)/n\n",
    "    Args:\n",
    "    \n",
    "        f (float): function expression of integrand.\n",
    "        \n",
    "        a (float): left point of interval.\n",
    "        \n",
    "        b (float): right point of interval.\n",
    "        \n",
    "        n (int): number of subintervals.\n",
    "        \n",
    "    Returns:\n",
    "    \n",
    "        sum_res (float): numerical approximation to integral\n",
    "            of f in the interval a,b\n",
    "    \"\"\"\n",
    "    h_hat = (b-a)/n\n",
    "    sum_res = 0\n",
    "    for i in range(n):\n",
    "        x = a+(i+1/2)*h_hat\n",
    "        sum_res += f(x)\n",
    "    return h_hat*sum_res"
   ]
  },
  {
   "cell_type": "code",
   "execution_count": 50,
   "metadata": {},
   "outputs": [],
   "source": [
    "a = 0\n",
    "b = 1"
   ]
  },
  {
   "cell_type": "code",
   "execution_count": 51,
   "metadata": {},
   "outputs": [
    {
     "data": {
      "text/plain": [
       "0.7788007830714049"
      ]
     },
     "execution_count": 51,
     "metadata": {},
     "output_type": "execute_result"
    }
   ],
   "source": [
    "aprox_1=Rcf(f,a,b,1) #1 subinterval\n",
    "aprox_1"
   ]
  },
  {
   "cell_type": "code",
   "execution_count": 52,
   "metadata": {},
   "outputs": [
    {
     "data": {
      "text/plain": [
       "0.7545979437721995"
      ]
     },
     "execution_count": 52,
     "metadata": {},
     "output_type": "execute_result"
    }
   ],
   "source": [
    "aprox_2=Rcf(f,a,b,2) #2 subintervals\n",
    "aprox_2"
   ]
  },
  {
   "cell_type": "code",
   "execution_count": 53,
   "metadata": {},
   "outputs": [
    {
     "data": {
      "text/plain": [
       "0.746824163469049"
      ]
     },
     "execution_count": 53,
     "metadata": {},
     "output_type": "execute_result"
    }
   ],
   "source": [
    "aprox_3=Rcf(f,a,b,10**3)#1000 subintervals\n",
    "aprox_3"
   ]
  },
  {
   "cell_type": "markdown",
   "metadata": {},
   "source": [
    "Y se puede evaluar el error de aproximación con el error relativo:"
   ]
  },
  {
   "cell_type": "code",
   "execution_count": 54,
   "metadata": {},
   "outputs": [
    {
     "data": {
      "text/plain": [
       "(0.04281684114646715, 0.010409158754012628, 4.1049318789768585e-08)"
      ]
     },
     "execution_count": 54,
     "metadata": {},
     "output_type": "execute_result"
    }
   ],
   "source": [
    "obj, err = quad(f, a, b)\n",
    "(relative_absolute_error(aprox_1,obj), relative_absolute_error(aprox_2,obj), relative_absolute_error(aprox_3,obj))"
   ]
  },
  {
   "cell_type": "code",
   "execution_count": 55,
   "metadata": {},
   "outputs": [
    {
     "data": {
      "text/plain": [
       "0.7468241328124271"
      ]
     },
     "execution_count": 55,
     "metadata": {},
     "output_type": "execute_result"
    }
   ],
   "source": [
    "obj"
   ]
  },
  {
   "cell_type": "markdown",
   "metadata": {},
   "source": [
    "## Regla del trapecio"
   ]
  },
  {
   "cell_type": "markdown",
   "metadata": {},
   "source": [
    "De forma sencilla se puede ver que la regla compuesta del trapecio $T_c(f)$ se escribe como:\n",
    "\n",
    "$$T_c(f) = \\displaystyle \\frac{h}{2n}\\left[f(x_0)+f(x_n)+2\\displaystyle\\sum_{i=1}^{n-1}f(x_i)\\right]$$\n",
    "\n",
    "con $h=b-a$ y $n$ número de subintervalos."
   ]
  },
  {
   "cell_type": "markdown",
   "metadata": {},
   "source": [
    "---\n",
    "\n",
    "**Nota**\n",
    "\n",
    "Los nodos para el caso del trapecio se obtienen con la fórmula: $x_i = a +i\\hat{h}, \\forall i=0,\\dots,n, \\hat{h}=\\frac{h}{n}$.\n",
    "\n",
    "---"
   ]
  },
  {
   "cell_type": "markdown",
   "metadata": {},
   "source": [
    "**(Tarea) Ejercicio:**\n",
    "\n",
    "**En un módulo con nombre `numerical_integration.py` aproximar el valor de la integral $\\displaystyle \\int_0^{\\pi}sin(x)dx = 2$ con regla compuesta del trapecio con $n=10^4$ subintervalos. Para este caso utilizar la función:**\n",
    "\n",
    "```\n",
    "def Tcf(f,a,b,n): #Tcf: composite trapezoidal method for f\n",
    "    \"\"\"\n",
    "    Compute numerical approximation using trapezoidal method in \n",
    "    an interval.\n",
    "    Nodes are generated via formula: x_i = a+ih_hat for i=0,1,...,n and h_hat=(b-a)/n\n",
    "    Args:\n",
    "        f (function): function expression of integrand\n",
    "        a (float): left point of interval\n",
    "        b (float): right point of interval\n",
    "        n (float): number of subintervals\n",
    "    Returns:\n",
    "        sum_res (float): numerical approximation to integral of f in the interval a,b\n",
    "    \"\"\"\n",
    "```"
   ]
  },
  {
   "cell_type": "markdown",
   "metadata": {},
   "source": [
    "---"
   ]
  },
  {
   "cell_type": "markdown",
   "metadata": {},
   "source": [
    "## Regla de Simpson"
   ]
  },
  {
   "cell_type": "markdown",
   "metadata": {},
   "source": [
    "**Revisar sección 6.2 del libro de texto de J. Kiusalaas Numerical Methods in Engineering with Python 3 para la fórmula de Simpson.**"
   ]
  },
  {
   "cell_type": "markdown",
   "metadata": {},
   "source": [
    "## Cuadratura Gaussiana"
   ]
  },
  {
   "cell_type": "markdown",
   "metadata": {},
   "source": [
    "Una distinción con la cuadratura por Newton-Cotes es que en este caso los pesos y nodos se eligen para tener una regla o fórmula que integre de forma exacta a los polinomios de grado menor o igual que $2n+1$ con $n \\in \\{0,1,2,\\dots\\}$. Esto es:"
   ]
  },
  {
   "cell_type": "markdown",
   "metadata": {},
   "source": [
    "$$\\displaystyle \\int_a^b w(x)Q_m(x)dx = \\sum_{i=0}^nw_iQ_m(x_i)$$ con $Q_m$ polinomio de grado $m \\leq 2n+1$ y $w(x)$ función de ponderación."
   ]
  },
  {
   "cell_type": "markdown",
   "metadata": {},
   "source": [
    "## Gauss-Legendre"
   ]
  },
  {
   "cell_type": "markdown",
   "metadata": {},
   "source": [
    "Si se elige la base canónica de polinomios $\\{1, x, x^2, \\dots x^{2n+1}\\}$, $w(x)=1$ (no ponderación), el intervalo $[-1,1]$ y la solución del siguiente sistema de ecuaciones podemos obtener la regla por cuadratura conocida con el nombre de Gauss-Legendre. "
   ]
  },
  {
   "cell_type": "markdown",
   "metadata": {},
   "source": [
    "---\n",
    "\n",
    "**Comentario**\n",
    "\n",
    "Otra forma de obtener esta regla es vía los polinomios de Legendre, ver [Legendre polynomials](https://en.wikipedia.org/wiki/Legendre_polynomials)\n",
    "\n",
    "---"
   ]
  },
  {
   "cell_type": "markdown",
   "metadata": {},
   "source": [
    "Teniendo el objetivo de integrar de forma exacta los polinomios de la base canónica para el caso de $n=1$, resultan las siguientes ecuaciones:"
   ]
  },
  {
   "cell_type": "markdown",
   "metadata": {},
   "source": [
    "$$2=\\displaystyle \\int_{-1}^{1}1dx = w_0 \\cdot 1 + w_1\\cdot1$$"
   ]
  },
  {
   "cell_type": "markdown",
   "metadata": {},
   "source": [
    "$$0 = \\displaystyle \\int_{-1}^1xdx = w_0x_0 + w_1x_1$$"
   ]
  },
  {
   "cell_type": "markdown",
   "metadata": {},
   "source": [
    "$$\\frac{2}{3} = \\displaystyle \\int_{-1}^1x^2dx = w_0x_0^2 + w_1x_1^2$$"
   ]
  },
  {
   "cell_type": "markdown",
   "metadata": {},
   "source": [
    "$$0 = \\displaystyle \\int_{-1}^1x^3dx = w_0x_0^3 + w_1x_1^3$$"
   ]
  },
  {
   "cell_type": "markdown",
   "metadata": {},
   "source": [
    "el cual es un sistema de 4 ecuaciones no lineales con 4 incógnitas: $(w_0, x_0), (w_1, x_1)$ cuya solución es: $w_0 = w_1 = 1$ y $x_0 =-\\sqrt{\\frac{1}{3}} \\approx -0.57735, x_1 = \\sqrt{\\frac{1}{3}} \\approx 0.57735$."
   ]
  },
  {
   "cell_type": "markdown",
   "metadata": {},
   "source": [
    "Ya se han calculado los pesos y nodos para diferentes valores de los grados de los polinomios. A continuación se tiene la siguiente tabla para $n \\in \\{0,1,2,3,4\\}$ y una integral definida en el intervalo $[-1,1]$:"
   ]
  },
  {
   "cell_type": "markdown",
   "metadata": {},
   "source": [
    "|n  |grado|# (num de nodos + num de pesos)|pesos: $w_i, w_{i+1}$    |nodos: $x_i, x_{i+1}$              |\n",
    "|---|:----:|:---:|:-------:|:-----------------:|\n",
    "|0  |1|2|2|0|\n",
    "|1  |3|4|1,1|-$\\sqrt{\\frac{1}{3}}$,$\\sqrt{\\frac{1}{3}}$|\n",
    "|2  |5|6|$\\frac{5}{9}$, $\\frac{8}{9}$, $\\frac{5}{9}$ |$-\\sqrt{\\frac{3}{5}}$, 0, $\\sqrt{\\frac{3}{5}}$  |\n",
    "|3  |7|8|0.347855, 0.652145, 0.652145, 0.347855|-0.861136,-0.339981,0.339981,0.861136|\n",
    "|4  |9|10|0.236927, 0.478629, 0.568889, 0.478629, 0.236927 | -0.90618, -0.538469, 0, 0.538469, 0.90618|\n"
   ]
  },
  {
   "cell_type": "markdown",
   "metadata": {},
   "source": [
    "Y para una integral en $[a,b]$ se utiliza la fórmula de cambio de variable:"
   ]
  },
  {
   "cell_type": "markdown",
   "metadata": {},
   "source": [
    "$$\\displaystyle \\int_{a}^{b}f(t)dt \\approx \\frac{(b-a)}{2} \\displaystyle \\sum_{i=0}^nw_if \\left (\\frac{1}{2}[(b-a)x_i+a+b] \\right )$$"
   ]
  },
  {
   "cell_type": "markdown",
   "metadata": {},
   "source": [
    "con los pesos definidos para el intervalo $[-1,1]$"
   ]
  },
  {
   "cell_type": "markdown",
   "metadata": {},
   "source": [
    "### Ejemplo con la cuadratura de Gauss-Legendre utilizando dos nodos aproximar la integral $\\int_0^1e^{-t^2}dt \\approx 0.7468241328124271$"
   ]
  },
  {
   "cell_type": "markdown",
   "metadata": {},
   "source": [
    "**Solución:** Utilizamos $f(t) = e^{-t^2}$ en:"
   ]
  },
  {
   "cell_type": "markdown",
   "metadata": {},
   "source": [
    "$$\\displaystyle \\int_{a}^{b}f(t)dt \\approx \\frac{(b-a)}{2} \\displaystyle \\sum_{i=0}^nw_if \\left (\\frac{1}{2}[(b-a)x_i+a+b] \\right )$$"
   ]
  },
  {
   "cell_type": "markdown",
   "metadata": {},
   "source": [
    "por lo que se tiene:\n",
    "\n",
    "\n",
    "$$\n",
    "\\begin{eqnarray}\n",
    "\\int_0^1e^{-t^2}dt &=& \\frac{(1-0)}{2} \\displaystyle \\sum_{i=0}^2w_i \\cdot \\exp\\left[-\\left ({\\frac{1}{2}[(1-0)x_i + 0 + 1]} \\right) ^2 \\right] \\nonumber \\\\\n",
    "&=& \\frac{1}{2} \\left ( 1\\cdot \\exp \\left[ -\\left ( \\frac{1}{2} \\left[-\\sqrt{\\frac{1}{3}}+1 \\right] \\right)^2 \\right] + 1\\cdot \\exp \\left[ -\\left ( \\frac{1}{2} \\left[\\sqrt{\\frac{1}{3}}+1 \\right] \\right)^2 \\right] \\right) \\nonumber \\\\\n",
    "\\end{eqnarray}\n",
    "$$"
   ]
  },
  {
   "cell_type": "markdown",
   "metadata": {},
   "source": [
    "y haciendo los cálculos en Python:"
   ]
  },
  {
   "cell_type": "code",
   "execution_count": 56,
   "metadata": {},
   "outputs": [],
   "source": [
    "cte0 = -(1/2*(-math.sqrt(1/3)+1))**2\n",
    "cte1 = -(1/2*(math.sqrt(1/3)+1))**2\n",
    "w0 = 1\n",
    "w1 = 1\n",
    "approx_GL = 1/2*(w0*math.exp(cte0) + w1*math.exp(cte1))"
   ]
  },
  {
   "cell_type": "code",
   "execution_count": 57,
   "metadata": {},
   "outputs": [
    {
     "data": {
      "text/plain": [
       "0.7465946882828597"
      ]
     },
     "execution_count": 57,
     "metadata": {},
     "output_type": "execute_result"
    }
   ],
   "source": [
    "approx_GL"
   ]
  },
  {
   "cell_type": "code",
   "execution_count": 58,
   "metadata": {},
   "outputs": [
    {
     "data": {
      "text/plain": [
       "0.7468241328124271"
      ]
     },
     "execution_count": 58,
     "metadata": {},
     "output_type": "execute_result"
    }
   ],
   "source": [
    "obj"
   ]
  },
  {
   "cell_type": "code",
   "execution_count": 59,
   "metadata": {},
   "outputs": [
    {
     "data": {
      "text/plain": [
       "0.00030722698890749486"
      ]
     },
     "execution_count": 59,
     "metadata": {},
     "output_type": "execute_result"
    }
   ],
   "source": [
    "relative_absolute_error(approx_GL, obj)"
   ]
  },
  {
   "cell_type": "markdown",
   "metadata": {},
   "source": [
    "---\n",
    "\n",
    "**(Tarea) Ejercicio: aproximar la integral de:**"
   ]
  },
  {
   "cell_type": "markdown",
   "metadata": {},
   "source": [
    "$$\\displaystyle \\int_0^1e^{-\\frac{t^2}{2}}dt \\approx .855624391892149$$"
   ]
  },
  {
   "cell_type": "markdown",
   "metadata": {},
   "source": [
    "**con cuadratura Gauss-Legendre**\n",
    "\n",
    "**1) En el módulo `numerical_integration.py` crear la función:**\n",
    "\n",
    "```\n",
    "def GLf(f,a,b,n): #GLf: Gauss-Legendre quadrature for f\n",
    "    \"\"\"\n",
    "    Compute numerical approximation using quadrature Gauss-Legendre.\n",
    "    Weights and nodes are obtained with table for n=0,1,2,3,4\n",
    "    Args:\n",
    "        f (function): function expression of integrand\n",
    "        a (float): left point of interval\n",
    "        b (float): right point of interval\n",
    "        n (float): number of subintervals\n",
    "    Returns:\n",
    "        sum_res (float): numerical approximation to integral of f in the interval a,b\n",
    "    \"\"\"\n",
    "```\n",
    "\n",
    "**2) Realizar una gráfica de la forma error relativo vs $n$ ($n$ en el eje horizontal).**\n"
   ]
  },
  {
   "cell_type": "markdown",
   "metadata": {},
   "source": [
    "---"
   ]
  },
  {
   "cell_type": "markdown",
   "metadata": {},
   "source": [
    "## Otras reglas de cuadratura Gaussiana"
   ]
  },
  {
   "cell_type": "markdown",
   "metadata": {},
   "source": [
    "Las reglas de cuadratura Gaussiana como se escribió en la sección anterior buscan tener la mayor exactitud posible para integrar polinomios de grado menor o igual $2n+1$. Diferentes elecciones de polinomios resultan en distintas reglas. Entre las más populares se encuentran:\n",
    "\n",
    "* Gauss-Chebyshev.\n",
    "* Gauss-Laguerre.\n",
    "* Gauss-Hermite.\n",
    "* Cuadratura Gaussiana con singularidad logarítmica.\n",
    "\n",
    "Y se puede probar que los nodos en la regla de cuadratura de cada una de las reglas anteriores son las raíces de los polinomios que las definen.\n",
    "\n",
    "**Revisar sección 6.4 el libro de texto de J. Kiusalaas Numerical Methods in Engineering with Python 3 para la expresiones de las reglas anteriores y los valores de los pesos y nodos de cada regla anterior para diferentes números de nodos. Como ayuda está el documento: [Gauss-Hermite-2-nodos.pdf](https://drive.google.com/file/d/1w7fGm0oOAoYlVeL_S61O1IGAdpaMBkJM/view?usp=sharing) para su consulta.**"
   ]
  },
  {
   "cell_type": "markdown",
   "metadata": {},
   "source": [
    "---\n",
    "\n",
    "**Ejercicio**\n",
    "\n",
    "**(Tarea) Aproximar las integrales: $$(2\\pi\\sigma^2)^{-\\frac{1}{2}}\\displaystyle \\int_{-\\infty}^\\infty te^{\\frac{-(t-\\mu)^2}{2\\sigma^2}}dt$$**"
   ]
  },
  {
   "cell_type": "markdown",
   "metadata": {},
   "source": [
    "$$(2\\pi\\sigma^2)^{-\\frac{1}{2}}\\displaystyle \\int_{-\\infty}^\\infty t^2e^{\\frac{-(t-\\mu)^2}{2\\sigma^2}}dt$$"
   ]
  },
  {
   "cell_type": "markdown",
   "metadata": {},
   "source": [
    "**donde: $\\sigma=0.25, \\mu=0.15$ cuyos valores respectivamente son: $0.15, 0.085$ con cuadratura de Gauss-Hermite y $n=5$. Para lo anterior, realizar cambio de variable $x=\\frac{t-\\mu}{\\sqrt{2\\sigma^2}}, dt=\\sqrt{2\\sigma^2}dx$. En el módulo de `numerical_integration.py` crear una función:**\n"
   ]
  },
  {
   "cell_type": "markdown",
   "metadata": {},
   "source": [
    "```\n",
    "def GHf(f,mu, sigma): #GHf: Gauss-Hermite quadrature for f\n",
    "    \"\"\"\n",
    "    Compute numerical approximation using quadrature Gauss-Hermite.\n",
    "    Weights and nodes are obtained with table in Kiusalaas for n=6\n",
    "    Args:\n",
    "        f (function): function expression of integrand\n",
    "        mu (float): mean\n",
    "        sigma (float): standard deviation\n",
    "    Returns:\n",
    "        sum_res (float): numerical approximation to integral of f in the interval a,b\n",
    "    \"\"\"\n",
    "\n",
    "```"
   ]
  },
  {
   "cell_type": "markdown",
   "metadata": {},
   "source": [
    "---"
   ]
  },
  {
   "cell_type": "markdown",
   "metadata": {},
   "source": [
    "## Integración numérica en más dimensiones"
   ]
  },
  {
   "cell_type": "markdown",
   "metadata": {},
   "source": [
    "**Revisar sección 6.5 del libro de texto de J. Kiusalaas Numerical Methods in Engineering with Python 3 integrales múltiples hasta el ejemplo 6.14.**"
   ]
  },
  {
   "cell_type": "markdown",
   "metadata": {},
   "source": [
    "### The curse of dimensionality"
   ]
  },
  {
   "cell_type": "markdown",
   "metadata": {},
   "source": [
    "Como puede observarse en el desarrollo de la sección 6.5, la aproximación por integración numérica a integrales múltiples por los métodos por Newton-Cotes o cuadratura Gaussiana implican sustituir la integral $\\int$ sobre una región por una $\\sum$ y evaluaciones del integrando en un conjunto de nodos multiplicados por pesos (suma ponderada). Esto para dimensiones igual a dos o tres es viable pero para dimensiones altas no es computacionalmente práctico. "
   ]
  },
  {
   "cell_type": "markdown",
   "metadata": {},
   "source": [
    "La razón de lo anterior tiene que ver con la cantidad de nodos y finalmente evaluaciones del integrando que se tienen que realizar para tener una aproximación con una exactitud aceptable. Por ejemplo, la regla del rectángulo o del trapecio tienen un error de orden $\\mathcal{O}(\\hat{h}^2)$ independientemente de si se está aproximando integrales de una o más dimensiones. "
   ]
  },
  {
   "cell_type": "markdown",
   "metadata": {},
   "source": [
    "Supóngase que se utilizan $n$ nodos para tener un valor de espaciado igual a $\\hat{h}$ en una dimensión, entonces para $\\mathcal{D}$ dimensiones se requerirían $N=n^\\mathcal{D}$ evaluaciones del integrando, o bien, si se tiene un valor de $N$ igual a $10, 000$ y $\\mathcal{D}=4$ dimensiones el error sería del orden $\\mathcal{O}(N^{-2/\\mathcal{D}})$ lo que implicaría un valor de $\\hat{h}=.1$ para aproximadamente sólo **dos dígitos** correctos en la aproximación (para el enunciado anterior recuérdese que $\\hat{h}$ es proporcional a $n^{-1}$ y $n$ = $N^{1/\\mathcal{D}}$). Este esfuerzo enorme de evaluar $N$ veces el integrando para una exactitud pequeña se debe al problema de generar puntos para *llenar* un espacio $\\mathcal{D}$-dimensional y se conoce con el nombre de la maldición de la dimensionalidad, [***the curse of dimensionality***](https://en.wikipedia.org/wiki/Curse_of_dimensionality)."
   ]
  },
  {
   "cell_type": "markdown",
   "metadata": {},
   "source": [
    "Como alternativa a los métodos por cuadratura anteriores para las integrales de más dimensiones se tienen los métodos de integración por el método Monte Carlo que generan aproximaciones con una exactitud moderada (del orden de $\\mathcal{O}(n^{-1/2})$) para un número de puntos moderado independiente de la dimensión. Tales métodos de integración son similares a los métodos por cuadratura en el sentido que se eligen puntos en los que se evaluará el integrando para sumar sus valores pero la diferencia con estos métodos, es que en el método de integración por Monte Carlo los puntos son seleccionados de una forma **aleatoria** (de hecho es pseudo-aleatoria pues se generan con un programa de computadora) en lugar de generarse con una fórmula."
   ]
  },
  {
   "cell_type": "markdown",
   "metadata": {},
   "source": [
    "Los métodos por integración por Monte Carlo requieren el concepto de **variables aleatorias**."
   ]
  },
  {
   "cell_type": "markdown",
   "metadata": {},
   "source": [
    "## Referencias\n"
   ]
  },
  {
   "cell_type": "markdown",
   "metadata": {},
   "source": [
    "* [SymPy](https://www.sympy.org/en/index.html) y [Numerical Python by Robert Johansson, Apress](https://www.apress.com/gp/book/9781484242452)"
   ]
  }
 ],
 "metadata": {
  "kernelspec": {
   "display_name": "Python 3",
   "language": "python",
   "name": "python3"
  },
  "language_info": {
   "codemirror_mode": {
    "name": "ipython",
    "version": 3
   },
   "file_extension": ".py",
   "mimetype": "text/x-python",
   "name": "python",
   "nbconvert_exporter": "python",
   "pygments_lexer": "ipython3",
   "version": "3.8.5"
  }
 },
 "nbformat": 4,
 "nbformat_minor": 4
}
