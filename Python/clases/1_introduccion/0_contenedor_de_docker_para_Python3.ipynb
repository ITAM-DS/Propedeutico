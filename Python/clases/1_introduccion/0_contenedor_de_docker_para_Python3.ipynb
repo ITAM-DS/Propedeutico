{
 "cells": [
  {
   "cell_type": "markdown",
   "metadata": {},
   "source": [
    "# Contenedor de docker para Python3"
   ]
  },
  {
   "cell_type": "markdown",
   "metadata": {},
   "source": [
    "Lo que se necesita para correr los ejemplos del propedéutico es:\n",
    "\n",
    "* Tener docker instalado en sus sistemas (ver [About Docker CE](https://docs.docker.com/install/)).\n",
    "* Elegir un directorio que se montará en el contenedor.\n",
    "* Ejecutar lo siguiente:\n",
    "\n",
    "```\n",
    "dir_montar=<ruta completa a directorio> #aquí colocar la ruta al directorio a montar.\n",
    "\n",
    "docker run -v $dir_montar:/datos --name micontenedor -dit -p 8888:8888 palmoreck/prope_python:v1 bash\n",
    "```\n",
    "\n",
    "\n",
    "Entramos al contenedor con:\n",
    "\n",
    "```\n",
    "docker exec -it -u=miuser micontenedor bash\n",
    "```\n",
    "\n",
    "Una vez dentro trabajamos en el ambiente propedeutico:\n",
    "\n",
    "```\n",
    "workon propedeutico\n",
    "```\n",
    "\n",
    "Si deseamos tener jupyterlab de forma local ejecutamos:\n",
    "\n",
    "```\n",
    "cd /\n",
    "\n",
    "jupyter lab --ip=0.0.0.0 --no-browser --allow-root &\n",
    "```\n",
    "\n",
    "y vamos a un browser y colocamos:\n",
    "\n",
    "```\n",
    "localhost:8888\n",
        "\n",
    "```\n",
    "NOTA: para Sistama Operativo Windows 10 Home:\n",
    "\n",
    "```\n",
    "La instalación de Docker Desktop for Windows requiere Windows 10 64bit: Pro, Enterprise or Education\n",
    "(Build 15063 o posterior).Para Windows 10 Home Edit., es necesario instalar:\n",
    "* [Docker Toolbox](https://docs.docker.com/toolbox/toolbox_install_windows/)\n",
    "Esta solución utiliza una Oracle VM Virtual Box para ejecutar Docker, por lo que es necesario:\n",
    "reconfigurar el Reenvío de Puertos para tener JupyterLab de forma local y ejecutarlo desde un Browser\n",
    "\n",
    "Abrir ORACLE VM VirtualBox e ir a: Configuración-->Red-->Avanzadas-->Reenvío de Puertos-->Agregar (+)\n",
    "```\n",
    "Finalmente, debemos registrar 8888 tanto en Puerto Anfitrión como en Puerto Invitado y Aceptar",
    " \n",
    "```"
   ]
  },  
  {
   "cell_type": "markdown",
   "metadata": {},
   "source": [
    "## Referencia para comandos básicos de docker:\n",
    "\n",
    "* [Comandos de docker para propedéutico](https://github.com/ITAM-DS/Propedeutico/blob/master/herramientas/docker/comandos.md)"
   ]
  },
  {
   "cell_type": "code",
   "execution_count": null,
   "metadata": {},
   "outputs": [],
   "source": []
  }
 ],
 "metadata": {
  "kernelspec": {
   "display_name": "Python 3",
   "language": "python",
   "name": "python3"
  },
  "language_info": {
   "codemirror_mode": {
    "name": "ipython",
    "version": 3
   },
   "file_extension": ".py",
   "mimetype": "text/x-python",
   "name": "python",
   "nbconvert_exporter": "python",
   "pygments_lexer": "ipython3",
   "version": "3.6.8"
  }
 },
 "nbformat": 4,
 "nbformat_minor": 2
}
