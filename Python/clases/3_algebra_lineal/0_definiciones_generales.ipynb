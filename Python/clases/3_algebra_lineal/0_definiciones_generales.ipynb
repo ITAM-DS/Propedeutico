{
 "cells": [
  {
   "cell_type": "markdown",
   "metadata": {},
   "source": [
    "**Notas para contenedor de docker:**"
   ]
  },
  {
   "cell_type": "markdown",
   "metadata": {},
   "source": [
    "Comando de docker para ejecución de la nota de forma local:\n",
    "\n",
    "nota: cambiar `dir_montar` por la ruta de directorio que se desea mapear a `/datos` dentro del contenedor de docker.\n",
    "\n",
    "```\n",
    "dir_montar=<ruta completa de mi máquina a mi directorio>#aquí colocar la ruta al directorio a montar, por ejemplo: \n",
    "#dir_montar=/Users/erick/midirectorio.\n",
    "```\n",
    "\n",
    "Ejecutar:\n",
    "\n",
    "```\n",
    "$docker run --rm -v $dir_montar:/datos --name jupyterlab_prope_r_kernel_tidyverse -p 8888:8888 -d palmoreck/jupyterlab_prope_r_kernel_tidyverse:3.0.16   \n",
    "\n",
    "```"
   ]
  },
  {
   "cell_type": "markdown",
   "metadata": {},
   "source": [
    "Ir a `localhost:8888` y escribir el password para jupyterlab: `qwerty`\n",
    "\n",
    "Detener el contenedor de docker:\n",
    "\n",
    "```\n",
    "docker stop jupyterlab_prope_r_kernel_tidyverse\n",
    "```\n"
   ]
  },
  {
   "cell_type": "markdown",
   "metadata": {},
   "source": [
    "Documentación de la imagen de docker `palmoreck/jupyterlab_prope_r_kernel_tidyverse:3.0.16` en [liga](https://github.com/palmoreck/dockerfiles/tree/master/jupyterlab/prope_r_kernel_tidyverse)."
   ]
  },
  {
   "cell_type": "markdown",
   "metadata": {},
   "source": [
    "---"
   ]
  },
  {
   "cell_type": "markdown",
   "metadata": {},
   "source": [
    "Para ejecución de la nota usar:\n",
    "\n",
    "[docker](https://www.docker.com/) (instalación de forma **local** con [Get docker](https://docs.docker.com/install/)) y ejecutar comandos que están al inicio de la nota de forma **local**. \n",
    "\n",
    "O bien dar click en alguno de los botones siguientes:"
   ]
  },
  {
   "cell_type": "markdown",
   "metadata": {},
   "source": [
    "[![Binder](https://mybinder.org/badge_logo.svg)](https://mybinder.org/v2/gh/palmoreck/dockerfiles-for-binder/jupyterlab_prope_r_kernel_tidyerse?urlpath=lab/tree/Propedeutico/Python/clases/3_algebra_lineal/0_definiciones_generales.ipynb) esta opción crea una máquina individual en un servidor de Google, clona el repositorio y permite la ejecución de los notebooks de jupyter."
   ]
  },
  {
   "cell_type": "markdown",
   "metadata": {},
   "source": [
    "[![Run on Repl.it](https://repl.it/badge/github/palmoreck/dummy)](https://repl.it/languages/python3) esta opción no clona el repositorio, no ejecuta los notebooks de jupyter pero permite ejecución de instrucciones de Python de forma colaborativa con [repl.it](https://repl.it/). Al dar click se crearán nuevos ***repl*** debajo de sus users de ***repl.it***.\n"
   ]
  },
  {
   "cell_type": "markdown",
   "metadata": {},
   "source": [
    "## Lo siguiente está basado en el capítulo 2 y apéndice del libro de texto de J. Kiusalaas \"Numerical Methods in Engineering with Python 3\" y el libro de \"Álgebra Lineal\" de S. Grossman y J. Flores."
   ]
  },
  {
   "cell_type": "markdown",
   "metadata": {},
   "source": [
    "**Se sugiere haber revisado la sección 1.5 del libro de texto de J. Kiusalaas \"Numerical Methods in Engineering with Python 3\": uso de *NumPy***"
   ]
  },
  {
   "cell_type": "markdown",
   "metadata": {},
   "source": [
    "**Nota: los ejercicios solicitados en esta nota deben realizarlos creando notebooks de jupyterlab.**"
   ]
  },
  {
   "cell_type": "markdown",
   "metadata": {},
   "source": [
    "# Vectores"
   ]
  },
  {
   "cell_type": "markdown",
   "metadata": {},
   "source": [
    "## Vector renglón de $n$ componentes "
   ]
  },
  {
   "cell_type": "markdown",
   "metadata": {},
   "source": [
    "Un vector de $n$ componentes se define como un conjunto **ordenado** de $n$ números escritos de la siguiente forma: $(x_1, x_2, \\dots, x_n)$"
   ]
  },
  {
   "cell_type": "markdown",
   "metadata": {},
   "source": [
    "## Vector columna  de $n$ componentes "
   ]
  },
  {
   "cell_type": "markdown",
   "metadata": {},
   "source": [
    "Un vector columna de $n$ componentes es un conjunto **ordenado** de $n$ números escritos de la siguiente forma: \n",
    "$\\left( \n",
    "\\begin{array}{c}\n",
    "x_1\\\\\n",
    "x_2\\\\\n",
    "\\vdots\\\\\n",
    "x_n\n",
    "\\end{array}\n",
    "\\right)$, $x_k$ se denomina la **k-ésima** componente del vector y puede estar en algún conjunto de números como $\\mathbb{R}$ o $\\mathbb{C}$. Típicamente si no se especifica el conjunto se supone $\\mathbb{R}$."
   ]
  },
  {
   "cell_type": "markdown",
   "metadata": {},
   "source": [
    "Los vectores renglón se encuentran en el conjunto $\\mathbb{R}^{1xn}$ y los vectores columna se encuentran en el conjunto $\\mathbb{R}^{nx1}$ o simplemente $\\mathbb{R}^n$."
   ]
  },
  {
   "cell_type": "markdown",
   "metadata": {},
   "source": [
    "---\n",
    "\n",
    "**Observación**\n",
    "\n",
    "En *NumPy* un *array* se considera tanto columna o renglón y dependiendo del uso se toma uno u otro.\n",
    "\n",
    "---"
   ]
  },
  {
   "cell_type": "markdown",
   "metadata": {},
   "source": [
    "Si quisiéramos forzar a un manejo de los *NumPy array*'s como renglones o columnas podríamos utilizar lo siguiente."
   ]
  },
  {
   "cell_type": "code",
   "execution_count": 1,
   "metadata": {},
   "outputs": [],
   "source": [
    "import numpy as np"
   ]
  },
  {
   "cell_type": "code",
   "execution_count": 2,
   "metadata": {},
   "outputs": [],
   "source": [
    "v = np.array([1,2,3,4,5])"
   ]
  },
  {
   "cell_type": "code",
   "execution_count": 3,
   "metadata": {},
   "outputs": [
    {
     "data": {
      "text/plain": [
       "array([[1, 2, 3, 4, 5]])"
      ]
     },
     "execution_count": 3,
     "metadata": {},
     "output_type": "execute_result"
    }
   ],
   "source": [
    "v.reshape(1,5)"
   ]
  },
  {
   "cell_type": "code",
   "execution_count": 4,
   "metadata": {},
   "outputs": [
    {
     "data": {
      "text/plain": [
       "(1, 5)"
      ]
     },
     "execution_count": 4,
     "metadata": {},
     "output_type": "execute_result"
    }
   ],
   "source": [
    "v.reshape(1,5).shape"
   ]
  },
  {
   "cell_type": "code",
   "execution_count": 5,
   "metadata": {},
   "outputs": [
    {
     "data": {
      "text/plain": [
       "array([[1],\n",
       "       [2],\n",
       "       [3],\n",
       "       [4],\n",
       "       [5]])"
      ]
     },
     "execution_count": 5,
     "metadata": {},
     "output_type": "execute_result"
    }
   ],
   "source": [
    "v.reshape(5,1)"
   ]
  },
  {
   "cell_type": "code",
   "execution_count": 6,
   "metadata": {},
   "outputs": [
    {
     "data": {
      "text/plain": [
       "(5, 1)"
      ]
     },
     "execution_count": 6,
     "metadata": {},
     "output_type": "execute_result"
    }
   ],
   "source": [
    "v.reshape(5,1).shape"
   ]
  },
  {
   "cell_type": "markdown",
   "metadata": {},
   "source": [
    "# Matrices"
   ]
  },
  {
   "cell_type": "markdown",
   "metadata": {},
   "source": [
    "El arreglo de coeficientes: $$A=\\begin{bmatrix} a_{11} & a_{12} & \\cdots& a_{1n} \\\\ a_{21} & a_{22} & \\cdots& a_{2n} \\\\ &&\\vdots \\\\ a_{m1} & a_{m2} & \\cdots& a_{mn} \\end{bmatrix}$$ "
   ]
  },
  {
   "cell_type": "markdown",
   "metadata": {},
   "source": [
    "se le nombra matriz de $mxn$. En caso que se tenga un sistema de la forma $Ax=b$ con $b$ vector de constantes conocidas, se le nombra matriz de coeficientes del sistema y al vector $b$ se le nombra lado derecho; la matriz de coeficientes aumentada con el lado derecho se le nombra matriz aumentada: $$ [A|b] = \\left [\\begin{array}{cccc|c} a_{11} & a_{12} & \\cdots& a_{1n} & b_1 \\\\ a_{21} & a_{22} & \\cdots& a_{2n} & b_2 \\\\ && \\vdots& & \\\\ a_{m1} & a_{m2} & \\cdots& a_{mn} & b_m \\end{array} \\right ]$$"
   ]
  },
  {
   "cell_type": "markdown",
   "metadata": {},
   "source": [
    "---\n",
    "\n",
    "**Definiciones** \n",
    "\n",
    "Formalmente un escalar es un número real o complejo y una matriz es un arreglo rectangular de escalares y se escribe $A \\in \\mathbb{R}^{mxn}$ o $A \\in \\mathbb{C}^{mxn}$ para denotar que $A$ es un arreglo de dos dimensiones de números reales o de números complejos respectivamente y $A$ tiene dimensiones $mxn$: $m$ renglones y $n$ columnas.\n",
    "\n",
    "Una matriz se nombra cuadrada si $m=n$ y rectangular si $m \\neq n$.\n",
    "\n",
    "Una submatriz de una matriz $A$ es un arreglo que se forma al eliminar cualquier combinación de renglones y columnas de $A$. Por ejemplo, $B = \\begin{bmatrix} 2 &4 \\\\ -3& 7\\end{bmatrix}$ es una submatriz de $A = \\begin{bmatrix} 2 &1& 3& 4 \\\\ 8& 6& 5& -9\\\\ -3& 8& 3& 7 \\end{bmatrix}$.\n",
    "\n",
    "El símbolo $A_{i*}$ es utilizado para denotar el $i$-ésimo renglón de $A$ y $A_{*j}$ la $j$-ésima columna de A. Por ejemplo $A_{2*} = \\begin{bmatrix} 8& 6& 5& -9 \\end{bmatrix}$ y $A_{*2} = \\begin{bmatrix} 1 \\\\6\\\\8 \\end{bmatrix}$ en la definición anterior.\n",
    "\n",
    "---"
   ]
  },
  {
   "cell_type": "markdown",
   "metadata": {},
   "source": [
    "# Operaciones en el álgebra lineal con *NumPy*"
   ]
  },
  {
   "cell_type": "markdown",
   "metadata": {},
   "source": [
    "## Producto escalar-vector, suma y punto entre vectores"
   ]
  },
  {
   "cell_type": "code",
   "execution_count": 7,
   "metadata": {},
   "outputs": [],
   "source": [
    "v1 = np.array([6,-3,4])\n",
    "v2 = np.array([4,5,0])\n",
    "scalar = -1/2"
   ]
  },
  {
   "cell_type": "code",
   "execution_count": 8,
   "metadata": {},
   "outputs": [
    {
     "data": {
      "text/plain": [
       "array([-3. ,  1.5, -2. ])"
      ]
     },
     "execution_count": 8,
     "metadata": {},
     "output_type": "execute_result"
    }
   ],
   "source": [
    "scalar*v1"
   ]
  },
  {
   "cell_type": "code",
   "execution_count": 9,
   "metadata": {},
   "outputs": [
    {
     "data": {
      "text/plain": [
       "9"
      ]
     },
     "execution_count": 9,
     "metadata": {},
     "output_type": "execute_result"
    }
   ],
   "source": [
    "v1.dot(v2)"
   ]
  },
  {
   "cell_type": "code",
   "execution_count": 10,
   "metadata": {},
   "outputs": [
    {
     "data": {
      "text/plain": [
       "array([10,  2,  4])"
      ]
     },
     "execution_count": 10,
     "metadata": {},
     "output_type": "execute_result"
    }
   ],
   "source": [
    "v1+v2"
   ]
  },
  {
   "cell_type": "markdown",
   "metadata": {},
   "source": [
    "## Producto matriz vector *point wise*"
   ]
  },
  {
   "cell_type": "code",
   "execution_count": 11,
   "metadata": {},
   "outputs": [
    {
     "data": {
      "text/plain": [
       "array([[ 2,  5,  0],\n",
       "       [ 3,  6,  6],\n",
       "       [-6,  4, -1],\n",
       "       [ 5,  4,  9]])"
      ]
     },
     "execution_count": 11,
     "metadata": {},
     "output_type": "execute_result"
    }
   ],
   "source": [
    "A = np.array([[2,5,0],\n",
    "              [3,6,6],\n",
    "              [-6,4,-1],\n",
    "              [5,4,9]])\n",
    "A"
   ]
  },
  {
   "cell_type": "code",
   "execution_count": 12,
   "metadata": {},
   "outputs": [
    {
     "data": {
      "text/plain": [
       "array([-2,  1,  4])"
      ]
     },
     "execution_count": 12,
     "metadata": {},
     "output_type": "execute_result"
    }
   ],
   "source": [
    "v = np.array([-2,1,4])\n",
    "v"
   ]
  },
  {
   "cell_type": "code",
   "execution_count": 13,
   "metadata": {},
   "outputs": [
    {
     "data": {
      "text/plain": [
       "array([[ -4,   5,   0],\n",
       "       [ -6,   6,  24],\n",
       "       [ 12,   4,  -4],\n",
       "       [-10,   4,  36]])"
      ]
     },
     "execution_count": 13,
     "metadata": {},
     "output_type": "execute_result"
    }
   ],
   "source": [
    "A*v"
   ]
  },
  {
   "cell_type": "markdown",
   "metadata": {},
   "source": [
    "## Producto matriz-vector"
   ]
  },
  {
   "cell_type": "code",
   "execution_count": 14,
   "metadata": {},
   "outputs": [
    {
     "data": {
      "text/plain": [
       "array([[ 2,  5,  0],\n",
       "       [ 3,  6,  6],\n",
       "       [-6,  4, -1],\n",
       "       [ 5,  4,  9]])"
      ]
     },
     "execution_count": 14,
     "metadata": {},
     "output_type": "execute_result"
    }
   ],
   "source": [
    "A = np.array([[2,5,0],\n",
    "              [3,6,6],\n",
    "              [-6,4,-1],\n",
    "              [5,4,9]])\n",
    "A"
   ]
  },
  {
   "cell_type": "code",
   "execution_count": 15,
   "metadata": {},
   "outputs": [
    {
     "data": {
      "text/plain": [
       "array([-2,  1,  4])"
      ]
     },
     "execution_count": 15,
     "metadata": {},
     "output_type": "execute_result"
    }
   ],
   "source": [
    "v = np.array([-2,1,4])\n",
    "v"
   ]
  },
  {
   "cell_type": "code",
   "execution_count": 16,
   "metadata": {},
   "outputs": [
    {
     "data": {
      "text/plain": [
       "array([ 1, 24, 12, 30])"
      ]
     },
     "execution_count": 16,
     "metadata": {},
     "output_type": "execute_result"
    }
   ],
   "source": [
    "A.dot(v)"
   ]
  },
  {
   "cell_type": "code",
   "execution_count": 17,
   "metadata": {},
   "outputs": [
    {
     "data": {
      "text/plain": [
       "array([ 1, 24, 12, 30])"
      ]
     },
     "execution_count": 17,
     "metadata": {},
     "output_type": "execute_result"
    }
   ],
   "source": [
    "A@v"
   ]
  },
  {
   "cell_type": "code",
   "execution_count": 18,
   "metadata": {},
   "outputs": [
    {
     "data": {
      "text/plain": [
       "array([ 7,  0, -3,  2])"
      ]
     },
     "execution_count": 18,
     "metadata": {},
     "output_type": "execute_result"
    }
   ],
   "source": [
    "v = np.array([7,0,-3,2])\n",
    "v"
   ]
  },
  {
   "cell_type": "code",
   "execution_count": 19,
   "metadata": {},
   "outputs": [
    {
     "data": {
      "text/plain": [
       "array([42, 31, 21])"
      ]
     },
     "execution_count": 19,
     "metadata": {},
     "output_type": "execute_result"
    }
   ],
   "source": [
    "v@A"
   ]
  },
  {
   "cell_type": "markdown",
   "metadata": {},
   "source": [
    "---\n",
    "\n",
    "**Observación** \n",
    "\n",
    "En este último ejemplo que no fue necesario indicar que tenemos un vector renglón para realizar por la izquierda la multiplicación: $vA$.\n",
    "\n",
    "---"
   ]
  },
  {
   "cell_type": "markdown",
   "metadata": {},
   "source": [
    "## Suma y producto matriz-matriz *point wise*"
   ]
  },
  {
   "cell_type": "code",
   "execution_count": 20,
   "metadata": {},
   "outputs": [
    {
     "data": {
      "text/plain": [
       "array([[ 2,  5,  0],\n",
       "       [ 3,  6,  6],\n",
       "       [-6,  4, -1],\n",
       "       [ 5,  4,  9]])"
      ]
     },
     "execution_count": 20,
     "metadata": {},
     "output_type": "execute_result"
    }
   ],
   "source": [
    "A = np.array([[2,5,0],\n",
    "              [3,6,6],\n",
    "              [-6,4,-1],\n",
    "              [5,4,9]])\n",
    "A"
   ]
  },
  {
   "cell_type": "code",
   "execution_count": 21,
   "metadata": {},
   "outputs": [
    {
     "data": {
      "text/plain": [
       "array([[ 2, -2,  3],\n",
       "       [ 1, -1,  5],\n",
       "       [ 0, -2,  1],\n",
       "       [ 0,  0, -3]])"
      ]
     },
     "execution_count": 21,
     "metadata": {},
     "output_type": "execute_result"
    }
   ],
   "source": [
    "B = np.array([[2,-2,3],\n",
    "              [1,-1,5],\n",
    "              [0,-2,1],\n",
    "              [0,0,-3]])\n",
    "B"
   ]
  },
  {
   "cell_type": "code",
   "execution_count": 22,
   "metadata": {},
   "outputs": [
    {
     "data": {
      "text/plain": [
       "array([[ 4,  3,  3],\n",
       "       [ 4,  5, 11],\n",
       "       [-6,  2,  0],\n",
       "       [ 5,  4,  6]])"
      ]
     },
     "execution_count": 22,
     "metadata": {},
     "output_type": "execute_result"
    }
   ],
   "source": [
    "A+B"
   ]
  },
  {
   "cell_type": "code",
   "execution_count": 23,
   "metadata": {},
   "outputs": [
    {
     "data": {
      "text/plain": [
       "array([[  4, -10,   0],\n",
       "       [  3,  -6,  30],\n",
       "       [  0,  -8,  -1],\n",
       "       [  0,   0, -27]])"
      ]
     },
     "execution_count": 23,
     "metadata": {},
     "output_type": "execute_result"
    }
   ],
   "source": [
    "A*B"
   ]
  },
  {
   "cell_type": "markdown",
   "metadata": {},
   "source": [
    "## Producto matriz-matriz"
   ]
  },
  {
   "cell_type": "code",
   "execution_count": 24,
   "metadata": {},
   "outputs": [
    {
     "data": {
      "text/plain": [
       "array([[ 2,  5,  0],\n",
       "       [ 3,  6,  6],\n",
       "       [-6,  4, -1],\n",
       "       [ 5,  4,  9]])"
      ]
     },
     "execution_count": 24,
     "metadata": {},
     "output_type": "execute_result"
    }
   ],
   "source": [
    "A = np.array([[2,5,0],\n",
    "              [3,6,6],\n",
    "              [-6,4,-1],\n",
    "              [5,4,9]])\n",
    "A"
   ]
  },
  {
   "cell_type": "code",
   "execution_count": 25,
   "metadata": {},
   "outputs": [
    {
     "data": {
      "text/plain": [
       "array([[ 2, -2,  3],\n",
       "       [ 1, -1,  5],\n",
       "       [ 0, -2,  1]])"
      ]
     },
     "execution_count": 25,
     "metadata": {},
     "output_type": "execute_result"
    }
   ],
   "source": [
    "B = np.array([[2,-2,3],\n",
    "              [1,-1,5],\n",
    "              [0,-2,1]])\n",
    "B"
   ]
  },
  {
   "cell_type": "code",
   "execution_count": 26,
   "metadata": {},
   "outputs": [
    {
     "data": {
      "text/plain": [
       "array([[  9,  -9,  31],\n",
       "       [ 12, -24,  45],\n",
       "       [ -8,  10,   1],\n",
       "       [ 14, -32,  44]])"
      ]
     },
     "execution_count": 26,
     "metadata": {},
     "output_type": "execute_result"
    }
   ],
   "source": [
    "A@B"
   ]
  },
  {
   "cell_type": "markdown",
   "metadata": {},
   "source": [
    "Ver:\n",
    "\n",
    "* [numpy-for-matlab-users](https://www.numpy.org/devdocs/user/numpy-for-matlab-users.html)\n",
    "* [Quickstart tutorial](https://docs.scipy.org/doc/numpy/user/quickstart.html)\n"
   ]
  },
  {
   "cell_type": "markdown",
   "metadata": {},
   "source": [
    "## Clase `Matrix` en *SymPy*"
   ]
  },
  {
   "cell_type": "code",
   "execution_count": 27,
   "metadata": {},
   "outputs": [],
   "source": [
    "import sympy"
   ]
  },
  {
   "cell_type": "markdown",
   "metadata": {},
   "source": [
    "Usamos la clase `Matrix` para representar vectores y matrices de forma simbólica:"
   ]
  },
  {
   "cell_type": "code",
   "execution_count": 28,
   "metadata": {},
   "outputs": [
    {
     "data": {
      "text/latex": [
       "$\\displaystyle \\left[\\begin{matrix}1\\\\2\\end{matrix}\\right]$"
      ],
      "text/plain": [
       "Matrix([\n",
       "[1],\n",
       "[2]])"
      ]
     },
     "execution_count": 28,
     "metadata": {},
     "output_type": "execute_result"
    }
   ],
   "source": [
    "sympy.Matrix([1,2]) #vector columna de tamaño 2 x 1"
   ]
  },
  {
   "cell_type": "code",
   "execution_count": 29,
   "metadata": {},
   "outputs": [
    {
     "data": {
      "text/latex": [
       "$\\displaystyle \\left[\\begin{matrix}1 & 2\\end{matrix}\\right]$"
      ],
      "text/plain": [
       "Matrix([[1, 2]])"
      ]
     },
     "execution_count": 29,
     "metadata": {},
     "output_type": "execute_result"
    }
   ],
   "source": [
    "sympy.Matrix([[1,2]]) #matriz de tamaño 1 x 2"
   ]
  },
  {
   "cell_type": "code",
   "execution_count": 30,
   "metadata": {},
   "outputs": [
    {
     "data": {
      "text/latex": [
       "$\\displaystyle \\left[\\begin{matrix}1 & 2\\\\3 & 4\\end{matrix}\\right]$"
      ],
      "text/plain": [
       "Matrix([\n",
       "[1, 2],\n",
       "[3, 4]])"
      ]
     },
     "execution_count": 30,
     "metadata": {},
     "output_type": "execute_result"
    }
   ],
   "source": [
    "sympy.Matrix([[1,2],\n",
    "             [3,4]])"
   ]
  },
  {
   "cell_type": "code",
   "execution_count": 31,
   "metadata": {},
   "outputs": [
    {
     "data": {
      "text/latex": [
       "$\\displaystyle \\left[\\begin{matrix}1 & 2\\\\3 & 4\\end{matrix}\\right]$"
      ],
      "text/plain": [
       "Matrix([\n",
       "[1, 2],\n",
       "[3, 4]])"
      ]
     },
     "execution_count": 31,
     "metadata": {},
     "output_type": "execute_result"
    }
   ],
   "source": [
    "l = [[1,2], [3,4]] \n",
    "sympy.Matrix(l)"
   ]
  },
  {
   "cell_type": "markdown",
   "metadata": {},
   "source": [
    "## Matrices con entradas simbólicas"
   ]
  },
  {
   "cell_type": "code",
   "execution_count": 32,
   "metadata": {},
   "outputs": [],
   "source": [
    "a, b, c, d, e, f = sympy.symbols(\"a, b, c, d, e, f\")"
   ]
  },
  {
   "cell_type": "code",
   "execution_count": 33,
   "metadata": {},
   "outputs": [],
   "source": [
    "M = sympy.Matrix([[a,b],\n",
    "                  [c,d]])"
   ]
  },
  {
   "cell_type": "code",
   "execution_count": 34,
   "metadata": {},
   "outputs": [
    {
     "data": {
      "text/latex": [
       "$\\displaystyle \\left[\\begin{matrix}a & b\\\\c & d\\end{matrix}\\right]$"
      ],
      "text/plain": [
       "Matrix([\n",
       "[a, b],\n",
       "[c, d]])"
      ]
     },
     "execution_count": 34,
     "metadata": {},
     "output_type": "execute_result"
    }
   ],
   "source": [
    "M"
   ]
  },
  {
   "cell_type": "code",
   "execution_count": 35,
   "metadata": {},
   "outputs": [],
   "source": [
    "v = sympy.Matrix([e, f])"
   ]
  },
  {
   "cell_type": "code",
   "execution_count": 36,
   "metadata": {},
   "outputs": [
    {
     "data": {
      "text/latex": [
       "$\\displaystyle \\left[\\begin{matrix}e\\\\f\\end{matrix}\\right]$"
      ],
      "text/plain": [
       "Matrix([\n",
       "[e],\n",
       "[f]])"
      ]
     },
     "execution_count": 36,
     "metadata": {},
     "output_type": "execute_result"
    }
   ],
   "source": [
    "v"
   ]
  },
  {
   "cell_type": "code",
   "execution_count": 37,
   "metadata": {},
   "outputs": [
    {
     "data": {
      "text/plain": [
       "2"
      ]
     },
     "execution_count": 37,
     "metadata": {},
     "output_type": "execute_result"
    }
   ],
   "source": [
    "v.rows"
   ]
  },
  {
   "cell_type": "code",
   "execution_count": 38,
   "metadata": {},
   "outputs": [
    {
     "data": {
      "text/plain": [
       "1"
      ]
     },
     "execution_count": 38,
     "metadata": {},
     "output_type": "execute_result"
    }
   ],
   "source": [
    "v.cols"
   ]
  },
  {
   "cell_type": "markdown",
   "metadata": {},
   "source": [
    "Una forma para crear vectores en la que no enlistamos a las variables."
   ]
  },
  {
   "cell_type": "code",
   "execution_count": 39,
   "metadata": {},
   "outputs": [],
   "source": [
    "values = sympy.symbols(\"g, h\")"
   ]
  },
  {
   "cell_type": "code",
   "execution_count": 40,
   "metadata": {},
   "outputs": [],
   "source": [
    "v = sympy.Matrix(values)"
   ]
  },
  {
   "cell_type": "code",
   "execution_count": 41,
   "metadata": {},
   "outputs": [
    {
     "data": {
      "text/latex": [
       "$\\displaystyle \\left[\\begin{matrix}g\\\\h\\end{matrix}\\right]$"
      ],
      "text/plain": [
       "Matrix([\n",
       "[g],\n",
       "[h]])"
      ]
     },
     "execution_count": 41,
     "metadata": {},
     "output_type": "execute_result"
    }
   ],
   "source": [
    "v"
   ]
  },
  {
   "cell_type": "markdown",
   "metadata": {},
   "source": [
    "## Acceder a elementos"
   ]
  },
  {
   "cell_type": "code",
   "execution_count": 42,
   "metadata": {},
   "outputs": [],
   "source": [
    "v1, v2, w1, w2 = sympy.symbols(\"v1, v2, w1, w2\")"
   ]
  },
  {
   "cell_type": "code",
   "execution_count": 43,
   "metadata": {},
   "outputs": [],
   "source": [
    "v = sympy.Matrix([v1, v2])\n",
    "w = sympy.Matrix([w1, w2])"
   ]
  },
  {
   "cell_type": "code",
   "execution_count": 44,
   "metadata": {},
   "outputs": [
    {
     "data": {
      "text/latex": [
       "$\\displaystyle \\left[\\begin{matrix}v_{1}\\\\v_{2}\\end{matrix}\\right]$"
      ],
      "text/plain": [
       "Matrix([\n",
       "[v1],\n",
       "[v2]])"
      ]
     },
     "execution_count": 44,
     "metadata": {},
     "output_type": "execute_result"
    }
   ],
   "source": [
    "v"
   ]
  },
  {
   "cell_type": "code",
   "execution_count": 45,
   "metadata": {},
   "outputs": [
    {
     "data": {
      "text/latex": [
       "$\\displaystyle v_{1}$"
      ],
      "text/plain": [
       "v1"
      ]
     },
     "execution_count": 45,
     "metadata": {},
     "output_type": "execute_result"
    }
   ],
   "source": [
    "v[0]"
   ]
  },
  {
   "cell_type": "code",
   "execution_count": 46,
   "metadata": {},
   "outputs": [
    {
     "data": {
      "text/latex": [
       "$\\displaystyle v_{2}$"
      ],
      "text/plain": [
       "v2"
      ]
     },
     "execution_count": 46,
     "metadata": {},
     "output_type": "execute_result"
    }
   ],
   "source": [
    "v[1]"
   ]
  },
  {
   "cell_type": "code",
   "execution_count": 47,
   "metadata": {},
   "outputs": [
    {
     "data": {
      "text/latex": [
       "$\\displaystyle \\left[\\begin{matrix}a & b\\\\c & d\\end{matrix}\\right]$"
      ],
      "text/plain": [
       "Matrix([\n",
       "[a, b],\n",
       "[c, d]])"
      ]
     },
     "execution_count": 47,
     "metadata": {},
     "output_type": "execute_result"
    }
   ],
   "source": [
    "M"
   ]
  },
  {
   "cell_type": "code",
   "execution_count": 48,
   "metadata": {},
   "outputs": [
    {
     "data": {
      "text/latex": [
       "$\\displaystyle a$"
      ],
      "text/plain": [
       "a"
      ]
     },
     "execution_count": 48,
     "metadata": {},
     "output_type": "execute_result"
    }
   ],
   "source": [
    "M[0]"
   ]
  },
  {
   "cell_type": "code",
   "execution_count": 49,
   "metadata": {},
   "outputs": [
    {
     "data": {
      "text/latex": [
       "$\\displaystyle b$"
      ],
      "text/plain": [
       "b"
      ]
     },
     "execution_count": 49,
     "metadata": {},
     "output_type": "execute_result"
    }
   ],
   "source": [
    "M[1]"
   ]
  },
  {
   "cell_type": "markdown",
   "metadata": {},
   "source": [
    "Otra forma más natural al álgebra lineal."
   ]
  },
  {
   "cell_type": "code",
   "execution_count": 50,
   "metadata": {},
   "outputs": [
    {
     "data": {
      "text/latex": [
       "$\\displaystyle a$"
      ],
      "text/plain": [
       "a"
      ]
     },
     "execution_count": 50,
     "metadata": {},
     "output_type": "execute_result"
    }
   ],
   "source": [
    "M[0,0]"
   ]
  },
  {
   "cell_type": "code",
   "execution_count": 51,
   "metadata": {},
   "outputs": [
    {
     "data": {
      "text/latex": [
       "$\\displaystyle b$"
      ],
      "text/plain": [
       "b"
      ]
     },
     "execution_count": 51,
     "metadata": {},
     "output_type": "execute_result"
    }
   ],
   "source": [
    "M[0,1]"
   ]
  },
  {
   "cell_type": "code",
   "execution_count": 52,
   "metadata": {},
   "outputs": [
    {
     "data": {
      "text/latex": [
       "$\\displaystyle c$"
      ],
      "text/plain": [
       "c"
      ]
     },
     "execution_count": 52,
     "metadata": {},
     "output_type": "execute_result"
    }
   ],
   "source": [
    "M[1,0]"
   ]
  },
  {
   "cell_type": "code",
   "execution_count": 53,
   "metadata": {},
   "outputs": [
    {
     "data": {
      "text/latex": [
       "$\\displaystyle d$"
      ],
      "text/plain": [
       "d"
      ]
     },
     "execution_count": 53,
     "metadata": {},
     "output_type": "execute_result"
    }
   ],
   "source": [
    "M[1,1]"
   ]
  },
  {
   "cell_type": "markdown",
   "metadata": {},
   "source": [
    "Primer renglón, segunda columna de una matriz."
   ]
  },
  {
   "cell_type": "code",
   "execution_count": 54,
   "metadata": {},
   "outputs": [
    {
     "data": {
      "text/latex": [
       "$\\displaystyle \\left[\\begin{matrix}a & b\\\\c & d\\end{matrix}\\right]$"
      ],
      "text/plain": [
       "Matrix([\n",
       "[a, b],\n",
       "[c, d]])"
      ]
     },
     "execution_count": 54,
     "metadata": {},
     "output_type": "execute_result"
    }
   ],
   "source": [
    "M"
   ]
  },
  {
   "cell_type": "code",
   "execution_count": 55,
   "metadata": {},
   "outputs": [
    {
     "data": {
      "text/latex": [
       "$\\displaystyle \\left[\\begin{matrix}a & b\\end{matrix}\\right]$"
      ],
      "text/plain": [
       "Matrix([[a, b]])"
      ]
     },
     "execution_count": 55,
     "metadata": {},
     "output_type": "execute_result"
    }
   ],
   "source": [
    "M.row(0)"
   ]
  },
  {
   "cell_type": "code",
   "execution_count": 56,
   "metadata": {},
   "outputs": [
    {
     "data": {
      "text/latex": [
       "$\\displaystyle \\left[\\begin{matrix}b\\\\d\\end{matrix}\\right]$"
      ],
      "text/plain": [
       "Matrix([\n",
       "[b],\n",
       "[d]])"
      ]
     },
     "execution_count": 56,
     "metadata": {},
     "output_type": "execute_result"
    }
   ],
   "source": [
    "M.col(1)"
   ]
  },
  {
   "cell_type": "code",
   "execution_count": 57,
   "metadata": {},
   "outputs": [
    {
     "data": {
      "text/plain": [
       "2"
      ]
     },
     "execution_count": 57,
     "metadata": {},
     "output_type": "execute_result"
    }
   ],
   "source": [
    "M.rows"
   ]
  },
  {
   "cell_type": "code",
   "execution_count": 58,
   "metadata": {},
   "outputs": [
    {
     "data": {
      "text/plain": [
       "2"
      ]
     },
     "execution_count": 58,
     "metadata": {},
     "output_type": "execute_result"
    }
   ],
   "source": [
    "M.cols"
   ]
  },
  {
   "cell_type": "markdown",
   "metadata": {},
   "source": [
    "## Algunas matrices comunes"
   ]
  },
  {
   "cell_type": "code",
   "execution_count": 59,
   "metadata": {},
   "outputs": [
    {
     "data": {
      "text/latex": [
       "$\\displaystyle \\left[\\begin{matrix}1 & 0 & 0\\\\0 & 1 & 0\\\\0 & 0 & 1\\end{matrix}\\right]$"
      ],
      "text/plain": [
       "Matrix([\n",
       "[1, 0, 0],\n",
       "[0, 1, 0],\n",
       "[0, 0, 1]])"
      ]
     },
     "execution_count": 59,
     "metadata": {},
     "output_type": "execute_result"
    }
   ],
   "source": [
    "sympy.eye(3)"
   ]
  },
  {
   "cell_type": "code",
   "execution_count": 60,
   "metadata": {},
   "outputs": [
    {
     "data": {
      "text/latex": [
       "$\\displaystyle \\left[\\begin{matrix}0 & 0 & 0 & 0\\\\0 & 0 & 0 & 0\\\\0 & 0 & 0 & 0\\\\0 & 0 & 0 & 0\\end{matrix}\\right]$"
      ],
      "text/plain": [
       "Matrix([\n",
       "[0, 0, 0, 0],\n",
       "[0, 0, 0, 0],\n",
       "[0, 0, 0, 0],\n",
       "[0, 0, 0, 0]])"
      ]
     },
     "execution_count": 60,
     "metadata": {},
     "output_type": "execute_result"
    }
   ],
   "source": [
    "sympy.zeros(4)"
   ]
  },
  {
   "cell_type": "code",
   "execution_count": 61,
   "metadata": {},
   "outputs": [
    {
     "data": {
      "text/latex": [
       "$\\displaystyle \\left[\\begin{matrix}1 & 1 & 1 & 1 & 1\\\\1 & 1 & 1 & 1 & 1\\\\1 & 1 & 1 & 1 & 1\\\\1 & 1 & 1 & 1 & 1\\\\1 & 1 & 1 & 1 & 1\\end{matrix}\\right]$"
      ],
      "text/plain": [
       "Matrix([\n",
       "[1, 1, 1, 1, 1],\n",
       "[1, 1, 1, 1, 1],\n",
       "[1, 1, 1, 1, 1],\n",
       "[1, 1, 1, 1, 1],\n",
       "[1, 1, 1, 1, 1]])"
      ]
     },
     "execution_count": 61,
     "metadata": {},
     "output_type": "execute_result"
    }
   ],
   "source": [
    "sympy.ones(5)"
   ]
  },
  {
   "cell_type": "markdown",
   "metadata": {},
   "source": [
    "# Operaciones en el álgebra lineal con *SymPy*"
   ]
  },
  {
   "cell_type": "markdown",
   "metadata": {},
   "source": [
    "## Producto escalar-vector"
   ]
  },
  {
   "cell_type": "code",
   "execution_count": 62,
   "metadata": {},
   "outputs": [],
   "source": [
    "alpha = sympy.Symbol(\"alpha\")"
   ]
  },
  {
   "cell_type": "code",
   "execution_count": 63,
   "metadata": {},
   "outputs": [
    {
     "data": {
      "text/latex": [
       "$\\displaystyle \\left[\\begin{matrix}\\alpha v_{1}\\\\\\alpha v_{2}\\end{matrix}\\right]$"
      ],
      "text/plain": [
       "Matrix([\n",
       "[alpha*v1],\n",
       "[alpha*v2]])"
      ]
     },
     "execution_count": 63,
     "metadata": {},
     "output_type": "execute_result"
    }
   ],
   "source": [
    "alpha*v"
   ]
  },
  {
   "cell_type": "markdown",
   "metadata": {},
   "source": [
    "## Sumas entre vectores"
   ]
  },
  {
   "cell_type": "code",
   "execution_count": 64,
   "metadata": {},
   "outputs": [
    {
     "data": {
      "text/latex": [
       "$\\displaystyle \\left[\\begin{matrix}v_{1} + w_{1}\\\\v_{2} + w_{2}\\end{matrix}\\right]$"
      ],
      "text/plain": [
       "Matrix([\n",
       "[v1 + w1],\n",
       "[v2 + w2]])"
      ]
     },
     "execution_count": 64,
     "metadata": {},
     "output_type": "execute_result"
    }
   ],
   "source": [
    "v + w"
   ]
  },
  {
   "cell_type": "markdown",
   "metadata": {},
   "source": [
    "## Producto punto"
   ]
  },
  {
   "cell_type": "code",
   "execution_count": 65,
   "metadata": {},
   "outputs": [
    {
     "data": {
      "text/latex": [
       "$\\displaystyle v_{1} w_{1} + v_{2} w_{2}$"
      ],
      "text/plain": [
       "v1*w1 + v2*w2"
      ]
     },
     "execution_count": 65,
     "metadata": {},
     "output_type": "execute_result"
    }
   ],
   "source": [
    "v.dot(w)"
   ]
  },
  {
   "cell_type": "markdown",
   "metadata": {},
   "source": [
    "## Producto Matriz-vector"
   ]
  },
  {
   "cell_type": "code",
   "execution_count": 66,
   "metadata": {},
   "outputs": [
    {
     "data": {
      "text/latex": [
       "$\\displaystyle \\left[\\begin{matrix}a v_{1} + b v_{2}\\\\c v_{1} + d v_{2}\\end{matrix}\\right]$"
      ],
      "text/plain": [
       "Matrix([\n",
       "[a*v1 + b*v2],\n",
       "[c*v1 + d*v2]])"
      ]
     },
     "execution_count": 66,
     "metadata": {},
     "output_type": "execute_result"
    }
   ],
   "source": [
    "M*v"
   ]
  },
  {
   "cell_type": "markdown",
   "metadata": {},
   "source": [
    "## Producto Matriz-Matriz"
   ]
  },
  {
   "cell_type": "code",
   "execution_count": 67,
   "metadata": {},
   "outputs": [
    {
     "data": {
      "text/latex": [
       "$\\displaystyle \\left[\\begin{matrix}a^{2} + b c & a b + b d\\\\a c + c d & b c + d^{2}\\end{matrix}\\right]$"
      ],
      "text/plain": [
       "Matrix([\n",
       "[a**2 + b*c,  a*b + b*d],\n",
       "[ a*c + c*d, b*c + d**2]])"
      ]
     },
     "execution_count": 67,
     "metadata": {},
     "output_type": "execute_result"
    }
   ],
   "source": [
    "M*M"
   ]
  },
  {
   "cell_type": "markdown",
   "metadata": {},
   "source": [
    "## Clase [MatrixSymbol](https://docs.sympy.org/latest/modules/matrices/expressions.html)"
   ]
  },
  {
   "cell_type": "code",
   "execution_count": 68,
   "metadata": {},
   "outputs": [],
   "source": [
    "M = sympy.MatrixSymbol('M', 2, 2)"
   ]
  },
  {
   "cell_type": "code",
   "execution_count": 69,
   "metadata": {},
   "outputs": [
    {
     "data": {
      "text/latex": [
       "$\\displaystyle M$"
      ],
      "text/plain": [
       "M"
      ]
     },
     "execution_count": 69,
     "metadata": {},
     "output_type": "execute_result"
    }
   ],
   "source": [
    "M"
   ]
  },
  {
   "cell_type": "code",
   "execution_count": 70,
   "metadata": {},
   "outputs": [
    {
     "data": {
      "text/latex": [
       "$\\displaystyle \\left[\\begin{array}{cc}M_{0, 0} & M_{0, 1}\\\\M_{1, 0} & M_{1, 1}\\end{array}\\right]$"
      ],
      "text/plain": [
       "Matrix([\n",
       "[M[0, 0], M[0, 1]],\n",
       "[M[1, 0], M[1, 1]]])"
      ]
     },
     "execution_count": 70,
     "metadata": {},
     "output_type": "execute_result"
    }
   ],
   "source": [
    "sympy.Matrix(M)"
   ]
  },
  {
   "cell_type": "code",
   "execution_count": 71,
   "metadata": {},
   "outputs": [
    {
     "data": {
      "text/latex": [
       "$\\displaystyle 2$"
      ],
      "text/plain": [
       "2"
      ]
     },
     "execution_count": 71,
     "metadata": {},
     "output_type": "execute_result"
    }
   ],
   "source": [
    "M.rows"
   ]
  },
  {
   "cell_type": "code",
   "execution_count": 72,
   "metadata": {},
   "outputs": [
    {
     "data": {
      "text/latex": [
       "$\\displaystyle 2$"
      ],
      "text/plain": [
       "2"
      ]
     },
     "execution_count": 72,
     "metadata": {},
     "output_type": "execute_result"
    }
   ],
   "source": [
    "M.cols"
   ]
  },
  {
   "cell_type": "code",
   "execution_count": 73,
   "metadata": {},
   "outputs": [
    {
     "data": {
      "text/latex": [
       "$\\displaystyle \\left[\\begin{array}{cc}M_{0, 0} & M_{0, 1}\\end{array}\\right]$"
      ],
      "text/plain": [
       "Matrix([[M[0, 0], M[0, 1]]])"
      ]
     },
     "execution_count": 73,
     "metadata": {},
     "output_type": "execute_result"
    }
   ],
   "source": [
    "sympy.Matrix(M[0,:])"
   ]
  },
  {
   "cell_type": "code",
   "execution_count": 74,
   "metadata": {},
   "outputs": [
    {
     "data": {
      "text/latex": [
       "$\\displaystyle \\left[\\begin{array}{cc}M_{1, 0} & M_{1, 1}\\end{array}\\right]$"
      ],
      "text/plain": [
       "Matrix([[M[1, 0], M[1, 1]]])"
      ]
     },
     "execution_count": 74,
     "metadata": {},
     "output_type": "execute_result"
    }
   ],
   "source": [
    "sympy.Matrix(M[1,:])"
   ]
  },
  {
   "cell_type": "code",
   "execution_count": 75,
   "metadata": {},
   "outputs": [
    {
     "data": {
      "text/latex": [
       "$\\displaystyle M \\left[\\begin{matrix}v_{1}\\\\v_{2}\\end{matrix}\\right]$"
      ],
      "text/plain": [
       "M*Matrix([\n",
       "[v1],\n",
       "[v2]])"
      ]
     },
     "execution_count": 75,
     "metadata": {},
     "output_type": "execute_result"
    }
   ],
   "source": [
    "M*v"
   ]
  },
  {
   "cell_type": "code",
   "execution_count": 76,
   "metadata": {},
   "outputs": [
    {
     "data": {
      "text/latex": [
       "$\\displaystyle v_{1} M_{0, 0} + v_{2} M_{0, 1}$"
      ],
      "text/plain": [
       "v1*M[0, 0] + v2*M[0, 1]"
      ]
     },
     "execution_count": 76,
     "metadata": {},
     "output_type": "execute_result"
    }
   ],
   "source": [
    "(M*v)[0,0]"
   ]
  },
  {
   "cell_type": "code",
   "execution_count": 77,
   "metadata": {},
   "outputs": [
    {
     "data": {
      "text/latex": [
       "$\\displaystyle v_{1} M_{1, 0} + v_{2} M_{1, 1}$"
      ],
      "text/plain": [
       "v1*M[1, 0] + v2*M[1, 1]"
      ]
     },
     "execution_count": 77,
     "metadata": {},
     "output_type": "execute_result"
    }
   ],
   "source": [
    "(M*v)[1,0]"
   ]
  },
  {
   "cell_type": "markdown",
   "metadata": {},
   "source": [
    "# Para más sobre operaciones vectoriales, matriciales y propiedades y definiciones de matrices especiales:\n",
    "\n",
    "* **Capítulo 2** del libro de \"Álgebra Lineal\" de S. Grossman y J. Flores hasta sección 2.3. De esta sección hasta la 2.7 se trabajan las definiciones de matriz identidad, inversa, simétrica y triangular inferior-superior. En el capítulo 3 se trabaja con la definición del determinante de una matriz y sus propiedades.\n",
    "\n",
    "* **Capítulo 3** del libro \"Matrix Analysis and Applied Linear Algebra\"de Carl D. Meyer."
   ]
  },
  {
   "cell_type": "markdown",
   "metadata": {},
   "source": [
    "# Espacios vectoriales"
   ]
  },
  {
   "cell_type": "markdown",
   "metadata": {},
   "source": [
    "**Lo siguiente está basado en el capítulo 5 del libro \"Álgebra Lineal\" de S. Grossman y J. Flores.**"
   ]
  },
  {
   "cell_type": "markdown",
   "metadata": {},
   "source": [
    "Como se vio arriba, las operaciones binarias de (suma, producto por un escalar): $(+,\\cdot)$ se encuentran definidas para el conjunto $\\mathbb{R}^n$ que es el conjunto de tuplas ordenadas de tamaño $n$ y tales operaciones están bien definidas pues obtenemos elementos del mismo conjunto. También, tales operaciones están bien definidas para el conjunto $\\mathbb{R}^{mxn}$, el cual es el conjunto de matrices de tamaño $mxn$."
   ]
  },
  {
   "cell_type": "markdown",
   "metadata": {},
   "source": [
    "Para aquellos conjuntos $V$ a los que se les define una (suma, producto por un escalar), $(+,\\cdot)$, y el escalar está definido en un conjunto $K$ llamado campo, y cumplen con las siguientes propiedades se les llama *espacios vectoriales* y estos en general son distintos a $\\mathbb{R}^n$ o $\\mathbb{R}^{mxn}$:"
   ]
  },
  {
   "cell_type": "markdown",
   "metadata": {},
   "source": [
    "1) Si $x \\in V$, $y \\in V$ entonces $x+y \\in V$ (cerradura bajo la suma).\n",
    "\n",
    "2) $\\forall x,y,z \\in V$ se cumple: $(x+y)+z=x+(y+z)$ (ley asociativa de la suma de vectores).\n",
    "\n",
    "3) $\\exists 0 \\in V$ tal que para todo $x \\in V$, $x+0=0+x=x$ (el $0$ se llama vector cero).\n",
    "\n",
    "4) Si $x \\in V$, $\\exists -x \\in V$ tal que $x+(-x)=0$ ($-x$ se llama inverso aditivo de $x$ y $0$ es el elemento descrito por la propiedad 3).\n",
    "\n",
    "5) Si $x,y \\in V$, entonces $x+y=y+x$ (ley conmutativa de la suma de vectores).\n",
    "\n",
    "6) Si $x \\in V$, $\\alpha \\in K$ entonces $\\alpha \\cdot x \\in V$ (cerradura bajo la multiplicación por un escalar).\n",
    "\n",
    "7) Si $x, y \\in V$, $\\alpha \\in K$ entonces $\\alpha \\cdot (x+y)=\\alpha \\cdot x + \\alpha \\cdot y$ (primera ley distributiva).\n",
    "\n",
    "8) Si $x \\in V$, $\\alpha, \\beta \\in K$ entonces $(\\alpha + \\beta)\\cdot x = \\alpha \\cdot x + \\beta \\cdot x$ (segunda ley distributiva).\n",
    "\n",
    "9) Si $x \\in V$, $\\alpha, \\beta \\in K$ entonces $\\alpha(\\beta \\cdot x) = (\\alpha \\beta)\\cdot x$ (ley asociativa de la multiplicación por escalares).\n",
    "\n",
    "10) $\\forall x \\in V,$ $\\exists 1 \\in K$ tal que: $1\\cdot x = x$."
   ]
  },
  {
   "cell_type": "markdown",
   "metadata": {},
   "source": [
    "## Ejemplos de espacios vectoriales\n",
    "\n",
    "* $\\mathbb{R}^n, \\mathbb{R}^{mxn}, \\mathbb{C}^n, \\mathbb{C}^{mxn}$.\n",
    "\n",
    "* $V=\\{0\\}$.\n",
    "\n",
    "* $V=\\{ (x,y) \\in \\mathbb{R}^2 : y = mx, m \\in \\mathbb{R}, x \\in \\mathbb{R}\\}$.\n",
    "\n",
    "* $V=\\{ (x,y,z) \\in \\mathbb{R}^3 : ax+by+cz=0, a \\in \\mathbb{R}, b \\in \\mathbb{R}, c\\in \\mathbb{R} \\}$.\n",
    "\n",
    "* $V = \\{ a_0 + a_1x + a_2x^2 + \\dots a_{n-1}x^{n-1} + a_nx^n : a_0, a_1, \\dots, a_n \\in \\mathbb{R}\\}$.\n",
    "\n",
    "* $V = \\mathcal{C}([0,1])$."
   ]
  },
  {
   "cell_type": "markdown",
   "metadata": {},
   "source": [
    "---\n",
    "\n",
    "**Observación** \n",
    "\n",
    "Los elementos de un espacio vectorial se les nombra *vectores*, por ejemplo un elemento del conjunto $V = \\mathcal{C}([0,1])$ es $f(x)=x^2$ y refiriéndose a este elemento, rigurosamente es un *vector* (aunque sea una función).\n",
    "\n",
    "---"
   ]
  },
  {
   "cell_type": "markdown",
   "metadata": {},
   "source": [
    "Ver:\n",
    "    \n",
    "* Fin de la sección $5.1$ y sección $5.2$ del libro de Álgebra Lineal de S. Grossman y J. Flores, para tema de subespacios vectoriales. "
   ]
  },
  {
   "cell_type": "markdown",
   "metadata": {},
   "source": [
    "# Combinación lineal, espacio generado y bases"
   ]
  },
  {
   "cell_type": "markdown",
   "metadata": {},
   "source": [
    "Para las siguientes definiciones se considera el espacio vectorial $V=\\mathbb{R}^n$. Un vector en este espacio es $x=\\left( \n",
    "\\begin{array}{c}\n",
    "x_1\\\\\n",
    "x_2\\\\\n",
    "\\vdots\\\\\n",
    "x_n\n",
    "\\end{array}\n",
    "\\right)$."
   ]
  },
  {
   "cell_type": "markdown",
   "metadata": {},
   "source": [
    "## Combinación lineal"
   ]
  },
  {
   "cell_type": "markdown",
   "metadata": {},
   "source": [
    "Se nombra combinación lineal a la siguiente suma ponderada: $\\displaystyle \\sum_{i=1}^n a_ix_i$ con $x_1,\\dots,x_n \\in \\mathbb{R}^n$ y $a_1,\\dots,a_n \\in \\mathbb{R}$."
   ]
  },
  {
   "cell_type": "markdown",
   "metadata": {},
   "source": [
    "Por ejemplo, en $\\mathbb{R}^3$ el vector: \n",
    "$\\left(\\begin{array}{c}\n",
    "-7\\\\\n",
    "7\\\\\n",
    "7\n",
    "\\end{array}\n",
    "\\right)$ es una combinación lineal de:\n",
    "$\\left(\\begin{array}{c}\n",
    "-1\\\\\n",
    "2\\\\\n",
    "4\n",
    "\\end{array}\n",
    "\\right)$ y \n",
    "$\\left(\\begin{array}{c}\n",
    "5\\\\\n",
    "-3\\\\\n",
    "1\n",
    "\\end{array}\n",
    "\\right)$ pues:\n",
    "\n",
    "$$\n",
    "\\begin{array}{l}\n",
    "\\left( \\begin{array}{c}\n",
    "-7\\\\\n",
    "7\\\\\n",
    "7\n",
    "\\end{array}\n",
    "\\right) = 2\\left( \n",
    "\\begin{array}{c} \n",
    "-1\\\\\n",
    "2\\\\\n",
    "4\n",
    "\\end{array}\n",
    "\\right)\n",
    "-\\left( \n",
    "\\begin{array}{c} \n",
    "5\\\\\n",
    "-3\\\\\n",
    "1\n",
    "\\end{array}\n",
    "\\right)\n",
    "\\end{array} \n",
    "$$"
   ]
  },
  {
   "cell_type": "markdown",
   "metadata": {},
   "source": [
    "y otro ejemplo: \n",
    "$-2\\left(\\begin{array}{c}\n",
    "3\\\\\n",
    "0\\\\\n",
    "\\end{array}\n",
    "\\right)\n",
    "+4\\left(\\begin{array}{c}\n",
    "0\\\\\n",
    "1\\\\\n",
    "\\end{array}\n",
    "\\right)$ es una combinación lineal de \n",
    "$\\left(\\begin{array}{c}\n",
    "3\\\\\n",
    "0\\\\\n",
    "\\end{array}\n",
    "\\right)$ y\n",
    "$\\left(\\begin{array}{c}\n",
    "0\\\\\n",
    "1\\\\\n",
    "\\end{array}\n",
    "\\right)$."
   ]
  },
  {
   "cell_type": "markdown",
   "metadata": {},
   "source": [
    "## Conjunto generador"
   ]
  },
  {
   "cell_type": "markdown",
   "metadata": {},
   "source": [
    "Los vectores $x_1, x_2, \\dots,x_n$ generan a $\\mathbb{R}^n$ si todo vector en $\\mathbb{R}^n$ se puede escribir como una combinación lineal de los mismos. Esto es, si $x \\in \\mathbb{R}^n$ entonces $x = \\displaystyle \\sum_{i=1}^n \\alpha_i x_i$ con $\\alpha_i \\in \\mathbb{R}$. \n",
    "\n",
    "Por ejemplo, los $n$ vectores canónicos que tienen un $1$ en la posición $i$:\n",
    "\n",
    "$$e_i = \\left(\\begin{array}{c}\n",
    "0\\\\\n",
    "\\vdots\\\\\n",
    "0\\\\\n",
    "1\\\\\n",
    "0\\\\\n",
    "\\vdots\\\\\n",
    "0\n",
    "\\end{array}\n",
    "\\right) \\leftarrow \\text{posición i}$$\n",
    "\n",
    "son un conjunto generador del espacio $\\mathbb{R}^n$. Por ejemplo, en $\\mathbb{R}^3$:\n",
    "\n",
    "$$\n",
    "\\begin{array}{l}\n",
    "\\left( \\begin{array}{c}\n",
    "-7\\\\\n",
    "7\\\\\n",
    "7\n",
    "\\end{array}\n",
    "\\right) = -7\\left( \n",
    "\\begin{array}{c} \n",
    "1\\\\\n",
    "0\\\\\n",
    "0\n",
    "\\end{array}\n",
    "\\right)\n",
    "+7\\left( \n",
    "\\begin{array}{c} \n",
    "0\\\\\n",
    "1\\\\\n",
    "0\n",
    "\\end{array}\n",
    "\\right)\n",
    "+\n",
    "7\\left( \n",
    "\\begin{array}{c} \n",
    "0\\\\\n",
    "0\\\\\n",
    "1\n",
    "\\end{array}\n",
    "\\right)\n",
    "\\end{array} \n",
    "$$\n"
   ]
  },
  {
   "cell_type": "markdown",
   "metadata": {},
   "source": [
    "### Espacio generado"
   ]
  },
  {
   "cell_type": "markdown",
   "metadata": {},
   "source": [
    "Es el conjunto formado por combinaciones lineales de un conjunto vectores. Por ejemplo, si nuestro conjunto de vectores es $\\{x_1,x_2\\}$ entonces el espacio generado es: $$\\text{gen}\\{x_1,x_2\\}=<x_1,x_2>=\\{\\alpha_1 x_1 + \\alpha_2 x_2 \\}.$$"
   ]
  },
  {
   "cell_type": "markdown",
   "metadata": {},
   "source": [
    "---\n",
    "\n",
    "**Observación** \n",
    "\n",
    "Este espacio generado es un subespacio vectorial de $\\mathbb{R}^n$.\n",
    "\n",
    "---"
   ]
  },
  {
   "cell_type": "markdown",
   "metadata": {},
   "source": [
    "## Independencia/dependencia lineal"
   ]
  },
  {
   "cell_type": "markdown",
   "metadata": {},
   "source": [
    "El conjunto $\\{x_1, x_2, \\dots, x_k\\}$ para $k \\in \\mathbb{N}$, es un conjunto con dependencia lineal (o conjunto linealmente dependiente o los vectores $x_1,x_2,\\dots, x_k$ son linealmente dependientes) si algún vector en tal conjunto se escribe como combinación lineal de los restantes. Por ejemplo, los vectores:\n",
    "\n",
    "\n",
    "$$\n",
    "\\left( \\begin{array}{c}\n",
    "-7\\\\\n",
    "7\\\\\n",
    "7\n",
    "\\end{array}\n",
    "\\right), \\left( \n",
    "\\begin{array}{c} \n",
    "-1\\\\\n",
    "2\\\\\n",
    "4\n",
    "\\end{array}\n",
    "\\right), \\left( \n",
    "\\begin{array}{c} \n",
    "5\\\\\n",
    "-3\\\\\n",
    "1\n",
    "\\end{array}\n",
    "\\right)\n",
    "$$\n",
    "\n",
    "son **linealmente dependientes** como se vio arriba."
   ]
  },
  {
   "cell_type": "markdown",
   "metadata": {},
   "source": [
    "Si el conjunto $\\{x_1, x_2, \\dots, x_k\\}$ no es linealmente dependiente entonces es **linealmente independiente**. \n",
    "\n",
    "También se utiliza para la definición de independencia lineal que la ecuación: $$\\alpha_1 x_1 + \\alpha_2 x_2 + \\dots + \\alpha_k x_k = 0$$ con incógnitas $\\alpha_i$'s tiene solución única dada por $\\alpha_1 = \\alpha_2 = \\dots = \\alpha_k = 0$."
   ]
  },
  {
   "cell_type": "markdown",
   "metadata": {},
   "source": [
    "Como ejemplos de vectores linealmente independientes se tienen:\n",
    "\n",
    "* $e_1, e_2, \\dots, e_k$ con k un número natural.\n",
    "\n",
    "* $\\left( \\begin{array}{c}\n",
    "1\\\\\n",
    "-2\\\\\n",
    "3\n",
    "\\end{array}\n",
    "\\right), \\left( \n",
    "\\begin{array}{c} \n",
    "2\\\\\n",
    "-2\\\\\n",
    "0\n",
    "\\end{array}\n",
    "\\right), \\left( \n",
    "\\begin{array}{c} \n",
    "0\\\\\n",
    "1\\\\\n",
    "7\n",
    "\\end{array}\n",
    "\\right)\n",
    "$"
   ]
  },
  {
   "cell_type": "markdown",
   "metadata": {},
   "source": [
    "---\n",
    "\n",
    "**Observación** \n",
    "\n",
    "en el espacio $\\mathbb{R}^n$ sólo se pueden tener a lo más $n$ vectores linealmente independientes. Entonces los vectores: \n",
    "$\\left( \\begin{array}{c}\n",
    "2\\\\\n",
    "-3\\\\\n",
    "4\n",
    "\\end{array}\n",
    "\\right), \\left( \n",
    "\\begin{array}{c} \n",
    "4\\\\\n",
    "7\\\\\n",
    "-6\n",
    "\\end{array}\n",
    "\\right), \\left( \n",
    "\\begin{array}{c} \n",
    "18\\\\\n",
    "-11\\\\\n",
    "4\n",
    "\\end{array}\n",
    "\\right),\n",
    "\\left( \n",
    "\\begin{array}{c} \n",
    "2\\\\\n",
    "-7\\\\\n",
    "3\n",
    "\\end{array}\n",
    "\\right)\n",
    "$ son linealmente dependientes en $\\mathbb{R}^3$ pues constituyen un conjunto de $4$ vectores de $3$ elementos cada uno. Y esto equivale a escribir que $Ax=0$ tiene solución $x$ diferente de cero con $A \\in \\mathbb{R}^{3x4}$ formada por las columnas de los vectores anteriores.\n",
    "\n",
    "---"
   ]
  },
  {
   "cell_type": "markdown",
   "metadata": {},
   "source": [
    "## Base"
   ]
  },
  {
   "cell_type": "markdown",
   "metadata": {},
   "source": [
    "Los conjuntos de vectores en $\\mathbb{R}^n$ que son linealmente independientes y su espacio generado es $\\mathbb{R}^n$ se les nombra base. Por ejemplo:\n",
    "\n",
    "* $e_1, e_2, \\dots, e_k \\in \\mathbb{R}^k$ con $k \\in \\mathbb{N}$ son base de $\\mathbb{R}^k$  y si consideramos $e_1, e_2, \\dots, e_n \\in \\mathbb{R}^n$ entonces estos últimos son base del espacio $\\mathbb{R}^n$.\n",
    "\n",
    "* $\\left( \\begin{array}{c}\n",
    "1\\\\\n",
    "-2\\\\\n",
    "3\n",
    "\\end{array}\n",
    "\\right), \\left( \n",
    "\\begin{array}{c} \n",
    "2\\\\\n",
    "-2\\\\\n",
    "0\n",
    "\\end{array}\n",
    "\\right), \\left( \n",
    "\\begin{array}{c} \n",
    "0\\\\\n",
    "1\\\\\n",
    "7\n",
    "\\end{array}\n",
    "\\right)\n",
    "$ son base del espacio $\\mathbb{R}^3$."
   ]
  },
  {
   "cell_type": "markdown",
   "metadata": {},
   "source": [
    "---\n",
    "\n",
    "**Comentarios** \n",
    "\n",
    "* El conjunto $\\{e_1, e_2, \\dots, e_n\\}$ es nombrada *base canónica* de $\\mathbb{R}^n$.\n",
    "\n",
    "* Si un espacio vectorial tiene una base con un número finito de elementos, entonces se le nombra espacio de **dimensión finita**, en otro caso es un espacio vectorial de **dimensión infinita**.\n",
    "\n",
    "* De las ventajas que existen al trabajar con bases es que cualquier elemento en el espacio vectorial de dimensión finita se puede representar como una combinación lineal de los vectores en la base.\n",
    "\n",
    "* Si $V=\\{0\\}$ entonces típicamente se considera que $V$ tiene dimensión cero.\n",
    "\n",
    "---"
   ]
  },
  {
   "cell_type": "markdown",
   "metadata": {},
   "source": [
    "# Vectores ortogonales"
   ]
  },
  {
   "cell_type": "markdown",
   "metadata": {},
   "source": [
    "Los vectores $x, y \\in \\mathbb{R}^n$ son ortogonales si $x^Ty=0$. El conjunto $\\{x_1,x_2,\\dots,x_k\\} \\in \\mathbb{R}^n$ es ortogonal si $x_i^Tx_j = 0$ para $i \\neq j$ y si además $x_i^Tx_i = 1$ (norma igual a uno) entonces se nombra conjunto ortonormal."
   ]
  },
  {
   "cell_type": "markdown",
   "metadata": {},
   "source": [
    "Norma 2 o Euclidiana de un vector: si $x \\in \\mathbb{R}^n$ entonces la norma 2 o Euclidiana de $x$, denotada por $||x||_2$ se define como: $||x||_2 = \\sqrt{x^Tx}$."
   ]
  },
  {
   "cell_type": "markdown",
   "metadata": {},
   "source": [
    "## Matriz ortogonal"
   ]
  },
  {
   "cell_type": "markdown",
   "metadata": {},
   "source": [
    "Una matriz $A \\in \\mathbb{R}^{nxn}$ se nombra ortogonal si sus columnas son ortogonales y cada columna es ortonormal. Tal propiedad se puede escribir de forma matricial como $A^TA = I$ donde: $I$ es la matriz identidad."
   ]
  },
  {
   "cell_type": "markdown",
   "metadata": {},
   "source": [
    "Como ejemplos de matrices ortogonales en $\\mathbb{R}^{nxn}$ se tienen las matrices de rotación y reflexión."
   ]
  },
  {
   "cell_type": "markdown",
   "metadata": {},
   "source": [
    "### Matriz de rotación en sentido contrario a las manecillas del reloj en el plano"
   ]
  },
  {
   "cell_type": "markdown",
   "metadata": {},
   "source": [
    "Está dada por: $$R_{\\theta} = \\begin{bmatrix} cos(\\theta) & -sen(\\theta) \\\\ sen(\\theta)& cos(\\theta)\\end{bmatrix}$$"
   ]
  },
  {
   "cell_type": "markdown",
   "metadata": {},
   "source": [
    "### Ejemplo\n",
    "\n",
    "\n",
    "Usar esta matriz de rotación para rotar un ángulo de $\\frac{\\pi}{3}$ en sentido contrario a las manecillas del reloj al vector $\\left(\\begin{array}{c}\n",
    "-3\\\\\n",
    "4\\\\\n",
    "\\end{array}\n",
    "\\right)$.\n",
    "\n"
   ]
  },
  {
   "cell_type": "code",
   "execution_count": 78,
   "metadata": {},
   "outputs": [],
   "source": [
    "import matplotlib.pyplot as plt\n",
    "import math"
   ]
  },
  {
   "cell_type": "markdown",
   "metadata": {},
   "source": [
    "Definición de $v$:"
   ]
  },
  {
   "cell_type": "code",
   "execution_count": 79,
   "metadata": {},
   "outputs": [],
   "source": [
    "v = np.array([-3,4])"
   ]
  },
  {
   "cell_type": "markdown",
   "metadata": {},
   "source": [
    "Definición de matriz $R_\\theta$ con $\\theta = \\pi/3$:"
   ]
  },
  {
   "cell_type": "code",
   "execution_count": 80,
   "metadata": {},
   "outputs": [],
   "source": [
    "theta = math.pi/3\n",
    "R_theta = np.array([[math.cos(theta), -math.sin(theta)],\n",
    "                    [math.sin(theta), math.cos(theta)]])"
   ]
  },
  {
   "cell_type": "markdown",
   "metadata": {},
   "source": [
    "Realizamos la rotación para obtener $v_{\\text{rot}}$:"
   ]
  },
  {
   "cell_type": "code",
   "execution_count": 81,
   "metadata": {},
   "outputs": [],
   "source": [
    "v_rot = R_theta@v"
   ]
  },
  {
   "cell_type": "code",
   "execution_count": 82,
   "metadata": {},
   "outputs": [
    {
     "data": {
      "text/plain": [
       "array([-4.96410162, -0.59807621])"
      ]
     },
     "execution_count": 82,
     "metadata": {},
     "output_type": "execute_result"
    }
   ],
   "source": [
    "v_rot"
   ]
  },
  {
   "cell_type": "markdown",
   "metadata": {},
   "source": [
    "Realizamos la gráfica:"
   ]
  },
  {
   "cell_type": "code",
   "execution_count": 83,
   "metadata": {},
   "outputs": [],
   "source": [
    "A = np.array([[0, 0],\n",
    "              v])"
   ]
  },
  {
   "cell_type": "code",
   "execution_count": 84,
   "metadata": {},
   "outputs": [
    {
     "data": {
      "text/plain": [
       "array([[ 0,  0],\n",
       "       [-3,  4]])"
      ]
     },
     "execution_count": 84,
     "metadata": {},
     "output_type": "execute_result"
    }
   ],
   "source": [
    "A"
   ]
  },
  {
   "cell_type": "code",
   "execution_count": 85,
   "metadata": {},
   "outputs": [],
   "source": [
    "A2 = np.array([[0, 0],\n",
    "               v_rot])"
   ]
  },
  {
   "cell_type": "code",
   "execution_count": 86,
   "metadata": {},
   "outputs": [
    {
     "data": {
      "text/plain": [
       "array([[ 0.        ,  0.        ],\n",
       "       [-4.96410162, -0.59807621]])"
      ]
     },
     "execution_count": 86,
     "metadata": {},
     "output_type": "execute_result"
    }
   ],
   "source": [
    "A2"
   ]
  },
  {
   "cell_type": "code",
   "execution_count": 87,
   "metadata": {},
   "outputs": [
    {
     "data": {
      "image/png": "[encoded data removed]",
      "text/plain": [
       "<Figure size 432x288 with 1 Axes>"
      ]
     },
     "metadata": {
      "needs_background": "light"
     },
     "output_type": "display_data"
    }
   ],
   "source": [
    "plt.plot(A[:,0], A[:,1], '-',\n",
    "         A2[:,0], A2[:,1],'r-',\n",
    "         )\n",
    "plt.legend(['Vector', 'Vector con rotación'])\n",
    "plt.title(\"Hacemos rotación de $\\pi/3$\")\n",
    "plt.show()"
   ]
  },
  {
   "cell_type": "markdown",
   "metadata": {},
   "source": [
    "### Matriz de reflexión de Householder"
   ]
  },
  {
   "cell_type": "markdown",
   "metadata": {},
   "source": [
    "Está dada por: $$R_{H} = I - 2 \\frac{uu^T}{u^Tu}$$ con $u \\in \\mathbb{R}^n -\\{0\\}$ y realiza la reflexión respecto al conjunto de vectores ortogonales a $u$. "
   ]
  },
  {
   "cell_type": "markdown",
   "metadata": {},
   "source": [
    "---\n",
    "\n",
    "**(Tarea)Ejercicio**\n",
    "\n",
    "\n",
    "Reflejar al vector $\\left(\\begin{array}{c}\n",
    "1\\\\\n",
    "1\\\\\n",
    "\\end{array}\n",
    "\\right)$ utilizando al vector $\\left(\\begin{array}{c}\n",
    "-\\frac{4}{3}\\\\\n",
    "\\frac{2}{3}\\\\\n",
    "\\end{array}\n",
    "\\right)$ para construir a $R_{H}$.\n",
    "\n",
    "Utilizar `pyplot` para hacer la gráfica del vector $\\left(\\begin{array}{c}1\\\\1\\\\\\end{array}\\right)$, $\\left(\\begin{array}{c} -\\frac{4}{3}\\\\ \\frac{2}{3}\\\\ \\end{array} \\right)$ y su reflejo, todo en una misma ventana de graficación.\n",
    "\n",
    "---"
   ]
  },
  {
   "cell_type": "markdown",
   "metadata": {},
   "source": [
    "## Base ortogonal, ortonormal"
   ]
  },
  {
   "cell_type": "markdown",
   "metadata": {},
   "source": [
    "Un conjunto de vectores que forma una base de un espacio vectorial que además es un conjunto ortogonal se le nombra base ortogonal. Si adicionalmente cada vector tiene norma igual a 1 entonces es una base ortonormal."
   ]
  },
  {
   "cell_type": "markdown",
   "metadata": {},
   "source": [
    "# Espacio nulo, espacio nulo izquierdo, imagen de una matriz, espacio renglón y espacio columna"
   ]
  },
  {
   "cell_type": "markdown",
   "metadata": {},
   "source": [
    "En lo siguiente se considera $A \\in \\mathbb{R}^{mxn}$."
   ]
  },
  {
   "cell_type": "markdown",
   "metadata": {},
   "source": [
    "## Espacio nulo"
   ]
  },
  {
   "cell_type": "markdown",
   "metadata": {},
   "source": [
    "$\\mathcal{N}(A) = \\{x \\in \\mathbb{R}^n : Ax =0\\}$"
   ]
  },
  {
   "cell_type": "markdown",
   "metadata": {},
   "source": [
    "---\n",
    "\n",
    "**Observación** \n",
    "\n",
    "Es un subespacio de $\\mathbb{R}^n$.\n",
    "\n",
    "---"
   ]
  },
  {
   "cell_type": "markdown",
   "metadata": {},
   "source": [
    "**La dimensión de $\\mathcal{N}(A)$ se le nombra nulidad.** Si $\\mathcal{N}(A)$ sólo contiene al vector $0$, esto es: $\\mathcal{N}(A) = \\{0\\}$ entonces la nulidad de $\\mathcal{N}(A)$ es igual a 0."
   ]
  },
  {
   "cell_type": "markdown",
   "metadata": {},
   "source": [
    "## Espacio nulo izquierdo"
   ]
  },
  {
   "cell_type": "markdown",
   "metadata": {},
   "source": [
    "$\\mathcal{N}(A^T) = \\{x \\in \\mathbb{R}^m : A^Tx =0\\}$"
   ]
  },
  {
   "cell_type": "markdown",
   "metadata": {},
   "source": [
    "---\n",
    "\n",
    "**Observación** \n",
    "\n",
    "\n",
    "Es un subespacio de $\\mathbb{R}^m$.\n",
    "\n",
    "---"
   ]
  },
  {
   "cell_type": "markdown",
   "metadata": {},
   "source": [
    "## Imagen de una matriz"
   ]
  },
  {
   "cell_type": "markdown",
   "metadata": {},
   "source": [
    "$Im(A) = \\{y \\in \\mathbb{R}^m: y=Ax \\text{ para alguna } x \\in \\mathbb{R}^n\\}$"
   ]
  },
  {
   "cell_type": "markdown",
   "metadata": {},
   "source": [
    "---\n",
    "\n",
    "**Observación** \n",
    "\n",
    "Es un subespacio de $\\mathbb{R}^m$.\n",
    "\n",
    "---"
   ]
  },
  {
   "cell_type": "markdown",
   "metadata": {},
   "source": [
    "**La dimensión de $Im(A)$ se le nombra $rank$**."
   ]
  },
  {
   "cell_type": "markdown",
   "metadata": {},
   "source": [
    "## Espacio renglón y espacio columna de una matriz"
   ]
  },
  {
   "cell_type": "markdown",
   "metadata": {},
   "source": [
    "El espacio renglón es el conjunto generado por los renglones de $A$ y el espacio columna es el conjunto generado por las columnas de $A$."
   ]
  },
  {
   "cell_type": "markdown",
   "metadata": {},
   "source": [
    "---\n",
    "\n",
    "**Observación** \n",
    "\n",
    "Se prueba que el espacio columna es igual a la imagen de la matriz en cuestión y la dimensión de los mismos es igual al *rank*. También se prueba que el espacio renglón de $A^T$ es el mismo que el espacio columna de $A$.\n",
    "\n",
    "---"
   ]
  },
  {
   "cell_type": "markdown",
   "metadata": {},
   "source": [
    "## Espacio nulo con *SymPy*"
   ]
  },
  {
   "cell_type": "code",
   "execution_count": 88,
   "metadata": {},
   "outputs": [],
   "source": [
    "M = sympy.Matrix([[1, 2, 3, 0, 0], \n",
    "                  [4, 10, 0, 0, 1]])"
   ]
  },
  {
   "cell_type": "code",
   "execution_count": 89,
   "metadata": {},
   "outputs": [
    {
     "data": {
      "text/latex": [
       "$\\displaystyle \\left[\\begin{matrix}1 & 2 & 3 & 0 & 0\\\\4 & 10 & 0 & 0 & 1\\end{matrix}\\right]$"
      ],
      "text/plain": [
       "Matrix([\n",
       "[1,  2, 3, 0, 0],\n",
       "[4, 10, 0, 0, 1]])"
      ]
     },
     "execution_count": 89,
     "metadata": {},
     "output_type": "execute_result"
    }
   ],
   "source": [
    "M"
   ]
  },
  {
   "cell_type": "code",
   "execution_count": 90,
   "metadata": {},
   "outputs": [
    {
     "name": "stdout",
     "output_type": "stream",
     "text": [
      "⎡⎡-15⎤  ⎡0⎤  ⎡ 1  ⎤⎤\n",
      "⎢⎢   ⎥  ⎢ ⎥  ⎢    ⎥⎥\n",
      "⎢⎢ 6 ⎥  ⎢0⎥  ⎢-1/2⎥⎥\n",
      "⎢⎢   ⎥  ⎢ ⎥  ⎢    ⎥⎥\n",
      "⎢⎢ 1 ⎥, ⎢0⎥, ⎢ 0  ⎥⎥\n",
      "⎢⎢   ⎥  ⎢ ⎥  ⎢    ⎥⎥\n",
      "⎢⎢ 0 ⎥  ⎢1⎥  ⎢ 0  ⎥⎥\n",
      "⎢⎢   ⎥  ⎢ ⎥  ⎢    ⎥⎥\n",
      "⎣⎣ 0 ⎦  ⎣0⎦  ⎣ 1  ⎦⎦\n"
     ]
    }
   ],
   "source": [
    "sympy.pprint(M.nullspace())"
   ]
  },
  {
   "cell_type": "markdown",
   "metadata": {},
   "source": [
    "## Espacio columna con *SymPy*"
   ]
  },
  {
   "cell_type": "code",
   "execution_count": 91,
   "metadata": {},
   "outputs": [],
   "source": [
    "M = sympy.Matrix([[1, 1, 2], \n",
    "                  [2 ,1 , 3], \n",
    "                  [3 , 1, 4]])"
   ]
  },
  {
   "cell_type": "code",
   "execution_count": 92,
   "metadata": {},
   "outputs": [
    {
     "name": "stdout",
     "output_type": "stream",
     "text": [
      "⎡⎡1⎤  ⎡1⎤⎤\n",
      "⎢⎢ ⎥  ⎢ ⎥⎥\n",
      "⎢⎢2⎥, ⎢1⎥⎥\n",
      "⎢⎢ ⎥  ⎢ ⎥⎥\n",
      "⎣⎣3⎦  ⎣1⎦⎦\n"
     ]
    }
   ],
   "source": [
    "sympy.pprint(M.columnspace())"
   ]
  },
  {
   "cell_type": "markdown",
   "metadata": {},
   "source": [
    "# Transformaciones lineales"
   ]
  },
  {
   "cell_type": "markdown",
   "metadata": {},
   "source": [
    "Sean $V$ y $W$ espacios vectoriales con campo en $\\mathbb{R}$ entonces una transformación lineal $T$ de $V$ en $W$, denotada por $T: V \\rightarrow W$, es una función que asigna a cada vector $v \\in V$ un vector único $T(v) \\in W$ y que satisface para cada $u,v \\in V$ y cada escalar $\\alpha \\in \\mathbb{R}$:\n",
    "\n"
   ]
  },
  {
   "cell_type": "markdown",
   "metadata": {},
   "source": [
    "$$\n",
    "T(u+v)=T(u)+T(v)\n",
    "$$\n"
   ]
  },
  {
   "cell_type": "markdown",
   "metadata": {},
   "source": [
    "$$\n",
    "T(\\alpha v)=\\alpha T(v)\n",
    "$$"
   ]
  },
  {
   "cell_type": "markdown",
   "metadata": {},
   "source": [
    "## Ejemplos"
   ]
  },
  {
   "cell_type": "markdown",
   "metadata": {},
   "source": [
    "\n",
    "\n",
    "* $T\\left(\\begin{array}{c}\n",
    "x\\\\\n",
    "y\\\\\n",
    "\\end{array}\n",
    "\\right) = \\left(\\begin{array}{c}\n",
    "x+y\\\\\n",
    "x-y\\\\\n",
    "3y\n",
    "\\end{array}\n",
    "\\right)$\n",
    "\n",
    "* $T\\left(\\begin{array}{c}\n",
    "x\\\\\n",
    "y\\\\\n",
    "\\end{array}\n",
    "\\right)= R_{\\theta}\\left(\\begin{array}{c}\n",
    "x\\\\\n",
    "y\\\\\n",
    "\\end{array}\n",
    "\\right)\n",
    "$ con $R_{\\theta}$ matriz de rotación se conoce como transformación de rotación.\n",
    "\n",
    "* $T\\left(\\begin{array}{c}\n",
    "x\\\\\n",
    "y\\\\\n",
    "\\end{array}\n",
    "\\right)= \\left(\\begin{array}{c}\n",
    "-x\\\\\n",
    "y\\\\\n",
    "\\end{array}\n",
    "\\right)\n",
    "$ la cual es una transformación de reflexión respecto al eje vertical en el plano."
   ]
  },
  {
   "cell_type": "markdown",
   "metadata": {},
   "source": [
    "## Núcleo e imagen de las transformaciones lineales"
   ]
  },
  {
   "cell_type": "markdown",
   "metadata": {},
   "source": [
    "Se consideran $V, W$ espacios vectoriales y $T: V \\rightarrow W$ una transformación lineal. "
   ]
  },
  {
   "cell_type": "markdown",
   "metadata": {},
   "source": [
    "### Núcleo o kernel"
   ]
  },
  {
   "cell_type": "markdown",
   "metadata": {},
   "source": [
    "Se denota por $nu(T)$ y está dado por $nu(T) = \\{v \\in V : T(v) = 0\\}$."
   ]
  },
  {
   "cell_type": "markdown",
   "metadata": {},
   "source": [
    "---\n",
    "\n",
    "**Observación**\n",
    "\n",
    "Este conjunto no es vacío pues $T(0) = 0$ por lo que $0 \\in nu(T)$. Además es un subespacio vectorial de $V$ y su dimensión se nombra *nulidad* de $T$.\n",
    "\n",
    "---"
   ]
  },
  {
   "cell_type": "markdown",
   "metadata": {},
   "source": [
    "### Imagen"
   ]
  },
  {
   "cell_type": "markdown",
   "metadata": {},
   "source": [
    "Se denota por $im(T)$ y está dado por $im(T) = \\{w \\in W : w = T(v) \\text{ para alguna } v \\in V\\}$."
   ]
  },
  {
   "cell_type": "markdown",
   "metadata": {},
   "source": [
    "---\n",
    "\n",
    "**Observación**\n",
    "\n",
    "Es un subespacio vectorial de $W$ y su dimensión se nombra *rank* de T.\n",
    "\n",
    "---"
   ]
  },
  {
   "cell_type": "markdown",
   "metadata": {},
   "source": [
    "### Representación matricial de una transformación lineal"
   ]
  },
  {
   "cell_type": "markdown",
   "metadata": {},
   "source": [
    "Sea $T: \\mathbb{R}^n \\rightarrow \\mathbb{R}^m$ una transformación lineal. Existe entonces una matriz única de $mxn$, $A$ tal que: $T(x) = Ax \\quad \\forall x \\in \\mathbb{R}^n$."
   ]
  },
  {
   "cell_type": "markdown",
   "metadata": {},
   "source": [
    "---\n",
    "\n",
    "**Observación** \n",
    "\n",
    "La matriz $A$ del resultado depende de las bases elegidas en $\\mathbb{R}^n, \\mathbb{R}^m$.\n",
    "\n",
    "---"
   ]
  },
  {
   "cell_type": "markdown",
   "metadata": {},
   "source": [
    "**(Tarea)Ejercicio**\n",
    "\n",
    "Para reforzar esta serie de definiciones deben elegir dos ejercicios por cada definición anterior del libro \"Álgebra Lineal\" de S. Grossman y J. Flores, capítulos 5 y 7 y utilizar *NumPy* y *SymPy* para resolver tales ejercicios.\n",
    "\n",
    "---"
   ]
  },
  {
   "cell_type": "markdown",
   "metadata": {},
   "source": [
    "## Referencias\n"
   ]
  },
  {
   "cell_type": "markdown",
   "metadata": {},
   "source": [
    "* [SymPy](https://www.sympy.org/en/index.html) y [Numerical Python by Robert Johansson, Apress](https://www.apress.com/gp/book/9781484242452)"
   ]
  }
 ],
 "metadata": {
  "kernelspec": {
   "display_name": "Python 3",
   "language": "python",
   "name": "python3"
  },
  "language_info": {
   "codemirror_mode": {
    "name": "ipython",
    "version": 3
   },
   "file_extension": ".py",
   "mimetype": "text/x-python",
   "name": "python",
   "nbconvert_exporter": "python",
   "pygments_lexer": "ipython3",
   "version": "3.8.5"
  }
 },
 "nbformat": 4,
 "nbformat_minor": 4
}
