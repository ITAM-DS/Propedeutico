{
 "cells": [
  {
   "cell_type": "markdown",
   "metadata": {},
   "source": [
    "# Contenedor de docker para *Python3* y *R*\n",
    "\n",
    "Lo que se necesita para correr los ejemplos del propedéutico es:\n",
    "\n",
    "* Tener docker instalado en sus sistemas (ver [Get Docker](https://docs.docker.com/install/)).\n",
    "* Elegir un directorio que se montará en el contenedor (la ruta al directorio de su elección **no** debe tener espacios o caracteres como acentos, si desean separar las palabras usen guiones).\n",
    "* Ejecutar lo siguiente:\n",
    "\n",
    "Modificar la variable en bash `dir_montar` de acuerdo al caso de cada persona.\n",
    "\n",
    "```\n",
    "dir_montar=<ruta completa de mi máquina a mi directorio>#aquí colocar la ruta al directorio a montar, por ejemplo: \n",
    "#dir_montar=/Users/erick/midirectorio.\n",
    "```\n",
    "\n",
    "Ejecutar:\n",
    "\n",
    "```\n",
    "docker run --rm -v $dir_montar:/datos --name jupyterlab_prope_r_kernel_tidyverse -p 8888:8888 -d palmoreck/jupyterlab_prope_r_kernel_tidyverse:3.4.3\n",
    "\n",
    "```\n",
    "\n",
    "y vamos a un browser y colocamos:\n",
    "\n",
    "    localhost:8888\n",
    "    \n",
    "el password es `qwerty`.\n",
    "\n",
    "La documentación de la imagen de docker `palmoreck/jupyterlab_prope_r_kernel_tidyverse:3.0.16` la pueden encontrar [aquí](https://github.com/palmoreck/dockerfiles/tree/master/jupyterlab/prope_r_kernel_tidyverse)\n",
    "\n",
    "\n",
    "## NOTA: Sistema Operativo Windows \n",
    "\n",
    "Revisar las instrucciones:\n",
    "\n",
    "* [install_docker_windows_home_10](https://github.com/ITAM-DS/Propedeutico/blob/main/herramientas/docker/install_docker_windows_home_10.md)\n",
    "\n",
    "* [install_docker_windows_MS_10](https://github.com/ITAM-DS/Propedeutico/blob/main/herramientas/docker/install_docker_windows_MS_10.md)"
   ]
  },
  {
   "cell_type": "markdown",
   "metadata": {},
   "source": [
    "# Algunas referencias para docker:\n",
    "\n",
    "* [docker en repo de prope](https://github.com/ITAM-DS/Propedeutico/tree/main/herramientas/docker)"
   ]
  }
 ],
 "metadata": {
  "kernelspec": {
   "display_name": "Python 3 (ipykernel)",
   "language": "python",
   "name": "python3"
  },
  "language_info": {
   "codemirror_mode": {
    "name": "ipython",
    "version": 3
   },
   "file_extension": ".py",
   "mimetype": "text/x-python",
   "name": "python",
   "nbconvert_exporter": "python",
   "pygments_lexer": "ipython3",
   "version": "3.8.10"
  }
 },
 "nbformat": 4,
 "nbformat_minor": 4
}
