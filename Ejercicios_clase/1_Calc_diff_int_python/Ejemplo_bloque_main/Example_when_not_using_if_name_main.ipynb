{
 "cells": [
  {
   "cell_type": "markdown",
   "metadata": {},
   "source": [
    "Para ejecución de esta nota se puede dar click en el siguiente botón:"
   ]
  },
  {
   "cell_type": "markdown",
   "metadata": {},
   "source": [
    "[![Binder](https://mybinder.org/badge_logo.svg)](https://mybinder.org/v2/gh/palmoreck/dockerfiles-for-binder/jupyterlab_prope_r_kernel_tidyerse?urlpath=lab/tree/Propedeutico/Python/clases/2_calculo_DeI/) esta opción crea una máquina individual en un servidor de Google, clona el repositorio y permite la ejecución de los notebooks de jupyter."
   ]
  },
  {
   "cell_type": "markdown",
   "metadata": {},
   "source": [
    "**Si no usamos el bloque**\n",
    "\n",
    "```\n",
    "if __name__ == \"__main__\":\n",
    "```\n",
    "\n",
    "**en el archivo `central_finite_derivative_no_main_block.py` observen:**"
   ]
  },
  {
   "cell_type": "code",
   "execution_count": 1,
   "metadata": {
    "ExecuteTime": {
     "end_time": "2020-06-17T23:57:44.130608Z",
     "start_time": "2020-06-17T23:57:44.124325Z"
    }
   },
   "outputs": [
    {
     "name": "stdout",
     "output_type": "stream",
     "text": [
      "Writing central_finite_derivative_no_main_block.py\n"
     ]
    }
   ],
   "source": [
    "%%file central_finite_derivative_no_main_block.py\n",
    "def approx_first_derivative_no_main_block(f,x,h):\n",
    "    \"\"\"\n",
    "    Numerical differentiation by finite differences. Uses central point formula\n",
    "    to approximate first derivative of function.\n",
    "    Args:\n",
    "        f (function): function definition.\n",
    "        x (float): point where first derivative will be approximated\n",
    "        h (float): step size for central differences. Tipically less than 1\n",
    "    Returns:\n",
    "        df (float): approximation to first_derivative.\n",
    "    \"\"\"\n",
    "    df = (f(x+h) - f(x-h))/(2.0*h)\n",
    "    return df\n",
    "\n",
    "def approx_second_derivative_no_main_block(f,x,h):\n",
    "    \"\"\"\n",
    "    Numerical differentiation by finite differences. Uses central point formula\n",
    "    to approximate second derivative of function.\n",
    "    Args:\n",
    "        f (function): function definition.\n",
    "        x (float): point where second derivative will be approximated\n",
    "        h (float): step size for central differences. Tipically less than 1\n",
    "    Returns:\n",
    "        ddf (float): approximation to second_derivative.\n",
    "    \"\"\"\n",
    "    ddf =(f(x+h) - 2.0*f(x) + f(x-h))/h**2\n",
    "    return ddf\n",
    "\n",
    "## Python libraries\n",
    "import numpy as np\n",
    "\n",
    "## Parameters\n",
    "f = np.arctan\n",
    "x = 0.9\n",
    "h = 1e-6\n",
    "\n",
    "## Main code\n",
    "res_first_d = approx_first_derivative_no_main_block(f,x,h)\n",
    "res_second_d = approx_second_derivative_no_main_block(f,x,h)\n",
    "\n",
    "print(res_first_d)\n",
    "print(res_second_d)"
   ]
  },
  {
   "cell_type": "code",
   "execution_count": 2,
   "metadata": {
    "ExecuteTime": {
     "end_time": "2020-06-17T23:58:02.203133Z",
     "start_time": "2020-06-17T23:58:02.040833Z"
    }
   },
   "outputs": [
    {
     "name": "stdout",
     "output_type": "stream",
     "text": [
      "0.5524861878547505\n",
      "-0.54944937488699\n"
     ]
    }
   ],
   "source": [
    "from central_finite_derivative_no_main_block import approx_first_derivative_no_main_block, \\\n",
    "                                                    approx_second_derivative_no_main_block"
   ]
  },
  {
   "cell_type": "markdown",
   "metadata": {},
   "source": [
    "**Al hacer los imports se ejecutan las instrucciones que están en el archivo de `central_finite_derivative_no_main_block.py` en este caso se imprimen los resultados de las aproximaciones.**"
   ]
  },
  {
   "cell_type": "markdown",
   "metadata": {},
   "source": [
    "**Entonces mejor hacemos:**"
   ]
  },
  {
   "cell_type": "code",
   "execution_count": 3,
   "metadata": {
    "ExecuteTime": {
     "end_time": "2020-06-17T23:58:13.227960Z",
     "start_time": "2020-06-17T23:58:13.222001Z"
    }
   },
   "outputs": [
    {
     "name": "stdout",
     "output_type": "stream",
     "text": [
      "Writing central_finite_derivative.py\n"
     ]
    }
   ],
   "source": [
    "%%file central_finite_derivative.py\n",
    "def approx_first_derivative(f,x,h):\n",
    "    \"\"\"\n",
    "    Numerical differentiation by finite differences. Uses central point formula\n",
    "    to approximate first derivative of function.\n",
    "    Args:\n",
    "        f (function): function definition.\n",
    "        x (float): point where first derivative will be approximated\n",
    "        h (float): step size for central differences. Tipically less than 1\n",
    "    Returns:\n",
    "        df (float): approximation to first_derivative.\n",
    "    \"\"\"\n",
    "    df = (f(x+h) - f(x-h))/(2.0*h)\n",
    "    return df\n",
    "\n",
    "def approx_second_derivative(f,x,h):\n",
    "    \"\"\"\n",
    "    Numerical differentiation by finite differences. Uses central point formula\n",
    "    to approximate second derivative of function.\n",
    "    Args:\n",
    "        f (function): function definition.\n",
    "        x (float): point where second derivative will be approximated\n",
    "        h (float): step size for central differences. Tipically less than 1\n",
    "    Returns:\n",
    "        ddf (float): approximation to second_derivative.\n",
    "    \"\"\"\n",
    "    ddf =(f(x+h) - 2.0*f(x) + f(x-h))/h**2\n",
    "    return ddf\n",
    "\n",
    "def main_function():\n",
    "    \"\"\"\n",
    "    Main execution function\n",
    "      args:\n",
    "        -\n",
    "      returns:\n",
    "        -\n",
    "    \"\"\"\n",
    "    \n",
    "    ## Python libraries\n",
    "    import numpy as np\n",
    "\n",
    "    ## Parameters\n",
    "    f = np.arctan\n",
    "    x = 0.9\n",
    "    h = 1e-6\n",
    "\n",
    "    ## Main code\n",
    "    res_first_d = approx_first_derivative(f,x,h)\n",
    "    res_second_d = approx_second_derivative(f,x,h)\n",
    "\n",
    "    print(res_first_d)\n",
    "    print(res_second_d)\n",
    "\n",
    "if __name__ == \"__main__\":\n",
    "    main_function()\n"
   ]
  },
  {
   "cell_type": "code",
   "execution_count": 4,
   "metadata": {
    "ExecuteTime": {
     "end_time": "2020-06-17T23:58:15.509977Z",
     "start_time": "2020-06-17T23:58:15.505270Z"
    }
   },
   "outputs": [],
   "source": [
    "from central_finite_derivative import approx_first_derivative, approx_second_derivative"
   ]
  },
  {
   "cell_type": "markdown",
   "metadata": {},
   "source": [
    "**Ya no se imprime nada al hacer los imports.**"
   ]
  },
  {
   "cell_type": "markdown",
   "metadata": {},
   "source": [
    "**Ejecutamos las líneas del `main`:**"
   ]
  },
  {
   "cell_type": "code",
   "execution_count": 5,
   "metadata": {
    "ExecuteTime": {
     "end_time": "2020-06-17T23:58:29.790791Z",
     "start_time": "2020-06-17T23:58:29.786926Z"
    }
   },
   "outputs": [],
   "source": [
    "import numpy as np"
   ]
  },
  {
   "cell_type": "code",
   "execution_count": 6,
   "metadata": {
    "ExecuteTime": {
     "end_time": "2020-06-17T23:58:30.258096Z",
     "start_time": "2020-06-17T23:58:30.254660Z"
    }
   },
   "outputs": [],
   "source": [
    "## Parameters\n",
    "f = np.arctan\n",
    "x = 0.9\n",
    "h = 1e-6"
   ]
  },
  {
   "cell_type": "code",
   "execution_count": 7,
   "metadata": {
    "ExecuteTime": {
     "end_time": "2020-06-17T23:58:30.769181Z",
     "start_time": "2020-06-17T23:58:30.766164Z"
    }
   },
   "outputs": [],
   "source": [
    "## Main code\n",
    "res_first_d = approx_first_derivative(f,x,h)\n",
    "res_second_d = approx_second_derivative(f,x,h)"
   ]
  },
  {
   "cell_type": "code",
   "execution_count": 8,
   "metadata": {
    "ExecuteTime": {
     "end_time": "2020-06-17T23:58:31.310954Z",
     "start_time": "2020-06-17T23:58:31.307254Z"
    }
   },
   "outputs": [
    {
     "name": "stdout",
     "output_type": "stream",
     "text": [
      "0.5524861878547505\n",
      "-0.54944937488699\n"
     ]
    }
   ],
   "source": [
    "print(res_first_d)\n",
    "print(res_second_d)"
   ]
  },
  {
   "cell_type": "markdown",
   "metadata": {},
   "source": [
    "**O bien hacemos:**"
   ]
  },
  {
   "cell_type": "code",
   "execution_count": 9,
   "metadata": {
    "ExecuteTime": {
     "end_time": "2020-06-17T23:58:36.099367Z",
     "start_time": "2020-06-17T23:58:36.092966Z"
    }
   },
   "outputs": [
    {
     "name": "stdout",
     "output_type": "stream",
     "text": [
      "Writing central_finite_derivative_alternative.py\n"
     ]
    }
   ],
   "source": [
    "%%file central_finite_derivative_alternative.py\n",
    "def approx_first_derivative_alternative(f,x,h):\n",
    "    \"\"\"\n",
    "    Numerical differentiation by finite differences. Uses central point formula\n",
    "    to approximate first derivative of function.\n",
    "    Args:\n",
    "        f (function): function definition.\n",
    "        x (float): point where first derivative will be approximated\n",
    "        h (float): step size for central differences. Tipically less than 1\n",
    "    Returns:\n",
    "        df (float): approximation to first_derivative.\n",
    "    \"\"\"\n",
    "    df = (f(x+h) - f(x-h))/(2.0*h)\n",
    "    return df\n",
    "\n",
    "def approx_second_derivative_alternative(f,x,h):\n",
    "    \"\"\"\n",
    "    Numerical differentiation by finite differences. Uses central point formula\n",
    "    to approximate second derivative of function.\n",
    "    Args:\n",
    "        f (function): function definition.\n",
    "        x (float): point where second derivative will be approximated\n",
    "        h (float): step size for central differences. Tipically less than 1\n",
    "    Returns:\n",
    "        ddf (float): approximation to second_derivative.\n",
    "    \"\"\"\n",
    "    ddf =(f(x+h) - 2.0*f(x) + f(x-h))/h**2\n",
    "    return ddf\n"
   ]
  },
  {
   "cell_type": "markdown",
   "metadata": {},
   "source": [
    "**La siguiente celda de imports sólo sirve para mostrar que no se imprime nada al hacer los imports:**"
   ]
  },
  {
   "cell_type": "code",
   "execution_count": 10,
   "metadata": {
    "ExecuteTime": {
     "end_time": "2020-06-17T23:58:38.585274Z",
     "start_time": "2020-06-17T23:58:38.580806Z"
    }
   },
   "outputs": [],
   "source": [
    "from central_finite_derivative_alternative import approx_first_derivative_alternative, \\\n",
    "                                                  approx_second_derivative_alternative"
   ]
  },
  {
   "cell_type": "markdown",
   "metadata": {},
   "source": [
    "**Y ejecutamos las líneas del main directamente en celdas de jupyterlab o podemos tener un archivo `main.py` que contenga las líneas del main y ejecutarlo en bash con una línea: `python3 main.py`**"
   ]
  },
  {
   "cell_type": "code",
   "execution_count": 11,
   "metadata": {
    "ExecuteTime": {
     "end_time": "2020-06-17T23:58:46.632503Z",
     "start_time": "2020-06-17T23:58:46.627995Z"
    }
   },
   "outputs": [
    {
     "name": "stdout",
     "output_type": "stream",
     "text": [
      "Writing main.py\n"
     ]
    }
   ],
   "source": [
    "%%file main.py\n",
    "from central_finite_derivative_alternative import approx_first_derivative_alternative, \\\n",
    "                                                  approx_second_derivative_alternative\n",
    "import numpy as np\n",
    "\n",
    "## Parameters\n",
    "f = np.arctan\n",
    "x = 0.9\n",
    "h = 1e-6\n",
    "\n",
    "## Main code\n",
    "res_first_d = approx_first_derivative_alternative(f,x,h)\n",
    "res_second_d = approx_second_derivative_alternative(f,x,h)\n",
    "\n",
    "print(res_first_d)\n",
    "print(res_second_d)"
   ]
  },
  {
   "cell_type": "code",
   "execution_count": 12,
   "metadata": {
    "ExecuteTime": {
     "end_time": "2020-06-17T23:58:48.638302Z",
     "start_time": "2020-06-17T23:58:48.353323Z"
    }
   },
   "outputs": [
    {
     "name": "stdout",
     "output_type": "stream",
     "text": [
      "0.5524861878547505\n",
      "-0.54944937488699\n"
     ]
    }
   ],
   "source": [
    "%%bash \n",
    "python3 main.py"
   ]
  },
  {
   "cell_type": "markdown",
   "metadata": {},
   "source": [
    "---\n",
    "---"
   ]
  }
 ],
 "metadata": {
  "kernelspec": {
   "display_name": "Python 3",
   "language": "python",
   "name": "python3"
  },
  "language_info": {
   "codemirror_mode": {
    "name": "ipython",
    "version": 3
   },
   "file_extension": ".py",
   "mimetype": "text/x-python",
   "name": "python",
   "nbconvert_exporter": "python",
   "pygments_lexer": "ipython3",
   "version": "3.7.4"
  }
 },
 "nbformat": 4,
 "nbformat_minor": 4
}
