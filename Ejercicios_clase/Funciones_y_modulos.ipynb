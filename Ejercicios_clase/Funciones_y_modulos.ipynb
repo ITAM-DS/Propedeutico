{
 "cells": [
  {
   "cell_type": "markdown",
   "metadata": {},
   "source": [
    "# Funciones y módulos\n",
    "- Date: 15 junio 2020"
   ]
  },
  {
   "cell_type": "markdown",
   "metadata": {},
   "source": [
    "---\n",
    "---"
   ]
  },
  {
   "cell_type": "markdown",
   "metadata": {},
   "source": [
    "## Imports"
   ]
  },
  {
   "cell_type": "markdown",
   "metadata": {},
   "source": [
    "#### Python libraries"
   ]
  },
  {
   "cell_type": "code",
   "execution_count": 15,
   "metadata": {
    "ExecuteTime": {
     "end_time": "2020-06-15T23:26:49.231142Z",
     "start_time": "2020-06-15T23:26:49.228449Z"
    }
   },
   "outputs": [],
   "source": [
    "import re"
   ]
  },
  {
   "cell_type": "markdown",
   "metadata": {},
   "source": [
    "---"
   ]
  },
  {
   "cell_type": "code",
   "execution_count": 1,
   "metadata": {
    "ExecuteTime": {
     "end_time": "2020-06-15T23:16:39.637971Z",
     "start_time": "2020-06-15T23:16:39.634107Z"
    }
   },
   "outputs": [],
   "source": [
    "string = \"\"\"The merry old queen of Katoren has died\n",
    "and there’s no heir to the throne. Six sour ministers rule the land\n",
    "and claim that they’re looking for a new queen,\n",
    "but nothing happens – for seventeen years. \n",
    "Then suddenly there’s a girl standing at the door of the royal\n",
    "palace who was born on the night the queen died.\n",
    "\n",
    "This girl, <name> , has firmly resolved to become the new queen of Katoren and\n",
    "she asks the six ministers what she must do in order to be considered for \n",
    "the role. The ministers, afraid of losing their splendid position at court, give the\n",
    "girl seven almost impossible tasks, which can be brought to a successful\n",
    "conclusion only by one who possesses royal attributes such as wisdom,\n",
    "courage and self-sacrifice. The six ministers are convinced that <name> will fall\n",
    "at the first hurdle, but she turns out to have an amazing amount of\n",
    "persistence and ingenuity.\n",
    "\"\"\""
   ]
  },
  {
   "cell_type": "code",
   "execution_count": 2,
   "metadata": {
    "ExecuteTime": {
     "end_time": "2020-06-15T23:16:44.300644Z",
     "start_time": "2020-06-15T23:16:44.285808Z"
    }
   },
   "outputs": [
    {
     "data": {
      "text/plain": [
       "'The merry old queen of Katoren has died\\nand there’s no heir to the throne. Six sour ministers rule the land\\nand claim that they’re looking for a new queen,\\nbut nothing happens – for seventeen years. \\nThen suddenly there’s a girl standing at the door of the royal\\npalace who was born on the night the queen died.\\n\\nThis girl, <name> , has firmly resolved to become the new queen of Katoren and\\nshe asks the six ministers what she must do in order to be considered for \\nthe role. The ministers, afraid of losing their splendid position at court, give the\\ngirl seven almost impossible tasks, which can be brought to a successful\\nconclusion only by one who possesses royal attributes such as wisdom,\\ncourage and self-sacrifice. The six ministers are convinced that <name> will fall\\nat the first hurdle, but she turns out to have an amazing amount of\\npersistence and ingenuity.\\n'"
      ]
     },
     "execution_count": 2,
     "metadata": {},
     "output_type": "execute_result"
    }
   ],
   "source": [
    "string"
   ]
  },
  {
   "cell_type": "markdown",
   "metadata": {},
   "source": [
    "---"
   ]
  },
  {
   "cell_type": "markdown",
   "metadata": {},
   "source": [
    "## Solución 1\n",
    "Usar `splitlines`que dividirá por línea el string"
   ]
  },
  {
   "cell_type": "markdown",
   "metadata": {},
   "source": [
    "#### 1) Dividir el texto en líneas"
   ]
  },
  {
   "cell_type": "code",
   "execution_count": 3,
   "metadata": {
    "ExecuteTime": {
     "end_time": "2020-06-15T23:19:02.273289Z",
     "start_time": "2020-06-15T23:19:02.270471Z"
    }
   },
   "outputs": [],
   "source": [
    "k = 0"
   ]
  },
  {
   "cell_type": "code",
   "execution_count": 5,
   "metadata": {
    "ExecuteTime": {
     "end_time": "2020-06-15T23:19:29.538996Z",
     "start_time": "2020-06-15T23:19:29.526978Z"
    }
   },
   "outputs": [
    {
     "name": "stdout",
     "output_type": "stream",
     "text": [
      "The merry old queen of Katoren has died\n",
      "0\n",
      "and there’s no heir to the throne. Six sour ministers rule the land\n",
      "1\n",
      "and claim that they’re looking for a new queen,\n",
      "2\n",
      "but nothing happens – for seventeen years. \n",
      "3\n",
      "Then suddenly there’s a girl standing at the door of the royal\n",
      "4\n",
      "palace who was born on the night the queen died.\n",
      "5\n",
      "\n",
      "6\n",
      "This girl, <name> , has firmly resolved to become the new queen of Katoren and\n",
      "7\n",
      "she asks the six ministers what she must do in order to be considered for \n",
      "8\n",
      "the role. The ministers, afraid of losing their splendid position at court, give the\n",
      "9\n",
      "girl seven almost impossible tasks, which can be brought to a successful\n",
      "10\n",
      "conclusion only by one who possesses royal attributes such as wisdom,\n",
      "11\n",
      "courage and self-sacrifice. The six ministers are convinced that <name> will fall\n",
      "12\n",
      "at the first hurdle, but she turns out to have an amazing amount of\n",
      "13\n",
      "persistence and ingenuity.\n",
      "14\n"
     ]
    }
   ],
   "source": [
    "for line in string.splitlines():\n",
    "    print(line)\n",
    "    print(k)\n",
    "    k += 1"
   ]
  },
  {
   "cell_type": "markdown",
   "metadata": {},
   "source": [
    "#### 2) Encontrar la ocurrencia"
   ]
  },
  {
   "cell_type": "code",
   "execution_count": 10,
   "metadata": {
    "ExecuteTime": {
     "end_time": "2020-06-15T23:22:59.567251Z",
     "start_time": "2020-06-15T23:22:59.563914Z"
    }
   },
   "outputs": [],
   "source": [
    "k = 0"
   ]
  },
  {
   "cell_type": "code",
   "execution_count": 11,
   "metadata": {
    "ExecuteTime": {
     "end_time": "2020-06-15T23:22:59.704701Z",
     "start_time": "2020-06-15T23:22:59.699915Z"
    }
   },
   "outputs": [
    {
     "name": "stdout",
     "output_type": "stream",
     "text": [
      "lo encontré\n",
      "línea:  7\n",
      "lo encontré\n",
      "línea:  12\n"
     ]
    }
   ],
   "source": [
    "for line in string.splitlines():\n",
    "    if '<name>' in line:\n",
    "        print(\"lo encontré\")\n",
    "        print(\"línea: \", k)\n",
    "    k += 1"
   ]
  },
  {
   "cell_type": "markdown",
   "metadata": {},
   "source": [
    "#### 3) Usar función para dividir la línea donde ocurre `<name>` en palabras o sínbolos y guardar en lista"
   ]
  },
  {
   "cell_type": "code",
   "execution_count": 12,
   "metadata": {
    "ExecuteTime": {
     "end_time": "2020-06-15T23:25:13.613338Z",
     "start_time": "2020-06-15T23:25:13.608942Z"
    }
   },
   "outputs": [
    {
     "name": "stdout",
     "output_type": "stream",
     "text": [
      "['This', 'girl,', '<name>', ',', 'has', 'firmly', 'resolved', 'to', 'become', 'the', 'new', 'queen', 'of', 'Katoren', 'and']\n",
      "['courage', 'and', 'self-sacrifice.', 'The', 'six', 'ministers', 'are', 'convinced', 'that', '<name>', 'will', 'fall']\n"
     ]
    }
   ],
   "source": [
    "for line in string.splitlines():\n",
    "    if '<name>' in line:\n",
    "        l = line.split()\n",
    "        print(l)"
   ]
  },
  {
   "cell_type": "markdown",
   "metadata": {},
   "source": [
    "#### 4) Cambio entre name y nombre definido"
   ]
  },
  {
   "cell_type": "code",
   "execution_count": 25,
   "metadata": {
    "ExecuteTime": {
     "end_time": "2020-06-15T23:34:52.182824Z",
     "start_time": "2020-06-15T23:34:52.178747Z"
    }
   },
   "outputs": [],
   "source": [
    "def change_name(list_line, name=\"Lisa\"):\n",
    "    \"\"\"\n",
    "    Function that changes name in list\n",
    "    \"\"\"\n",
    "    \n",
    "    k = 0 # índice para recorrer line\n",
    "    \n",
    "    for t in list_line:\n",
    "        if t == \"<name>\":\n",
    "            list_line[k] = name\n",
    "        k += 1\n",
    "    return list_line        "
   ]
  },
  {
   "cell_type": "code",
   "execution_count": 26,
   "metadata": {
    "ExecuteTime": {
     "end_time": "2020-06-15T23:34:52.397270Z",
     "start_time": "2020-06-15T23:34:52.393156Z"
    }
   },
   "outputs": [
    {
     "name": "stdout",
     "output_type": "stream",
     "text": [
      "['This', 'girl,', 'Lisa', ',', 'has', 'firmly', 'resolved', 'to', 'become', 'the', 'new', 'queen', 'of', 'Katoren', 'and']\n",
      "['courage', 'and', 'self-sacrifice.', 'The', 'six', 'ministers', 'are', 'convinced', 'that', 'Lisa', 'will', 'fall']\n"
     ]
    }
   ],
   "source": [
    "for line in string.splitlines():\n",
    "    if '<name>' in line:\n",
    "        l = line.split()\n",
    "        l = change_name(l)\n",
    "        print(l)"
   ]
  },
  {
   "cell_type": "markdown",
   "metadata": {},
   "source": [
    "#### 5) Hacer reunión de lista en un sólo string con `join`"
   ]
  },
  {
   "cell_type": "code",
   "execution_count": 25,
   "metadata": {
    "ExecuteTime": {
     "end_time": "2020-06-15T23:34:52.182824Z",
     "start_time": "2020-06-15T23:34:52.178747Z"
    }
   },
   "outputs": [],
   "source": [
    "def change_name(list_line, name=\"Lisa\"):\n",
    "    \"\"\"\n",
    "    Function that changes name in list\n",
    "    \"\"\"\n",
    "    \n",
    "    k = 0 # índice para recorrer line\n",
    "    \n",
    "    for t in list_line:\n",
    "        if t == \"<name>\":\n",
    "            list_line[k] = name\n",
    "        k += 1\n",
    "    return list_line        "
   ]
  },
  {
   "cell_type": "code",
   "execution_count": 28,
   "metadata": {
    "ExecuteTime": {
     "end_time": "2020-06-15T23:37:03.398609Z",
     "start_time": "2020-06-15T23:37:03.393726Z"
    }
   },
   "outputs": [
    {
     "name": "stdout",
     "output_type": "stream",
     "text": [
      "This girl, Lisa , has firmly resolved to become the new queen of Katoren and\n",
      "courage and self-sacrifice. The six ministers are convinced that Lisa will fall\n"
     ]
    }
   ],
   "source": [
    "for line in string.splitlines():\n",
    "    if '<name>' in line:\n",
    "        l = line.split()\n",
    "        l = change_name(l)\n",
    "        l = ' '.join(l)\n",
    "        line = l\n",
    "        print(line)"
   ]
  },
  {
   "cell_type": "markdown",
   "metadata": {},
   "source": [
    "#### 6) Vamos a hacer la escritura con `with` y un *context manager*"
   ]
  },
  {
   "cell_type": "code",
   "execution_count": 39,
   "metadata": {
    "ExecuteTime": {
     "end_time": "2020-06-15T23:52:34.498452Z",
     "start_time": "2020-06-15T23:52:34.493111Z"
    }
   },
   "outputs": [
    {
     "name": "stdout",
     "output_type": "stream",
     "text": [
      "Writing clase_15_junio_queen.py\n"
     ]
    }
   ],
   "source": [
    "%%file clase_15_junio_queen.py\n",
    "\n",
    "\n",
    "string = \"\"\"The merry old queen of Katoren has died\n",
    "and there’s no heir to the throne. Six sour ministers rule the land\n",
    "and claim that they’re looking for a new queen,\n",
    "but nothing happens – for seventeen years. \n",
    "Then suddenly there’s a girl standing at the door of the royal\n",
    "palace who was born on the night the queen died.\n",
    "\n",
    "This girl, <name> , has firmly resolved to become the new queen of Katoren and\n",
    "she asks the six ministers what she must do in order to be considered for \n",
    "the role. The ministers, afraid of losing their splendid position at court, give the\n",
    "girl seven almost impossible tasks, which can be brought to a successful\n",
    "conclusion only by one who possesses royal attributes such as wisdom,\n",
    "courage and self-sacrifice. The six ministers are convinced that <name> will fall\n",
    "at the first hurdle, but she turns out to have an amazing amount of\n",
    "persistence and ingenuity.\n",
    "\"\"\"\n",
    "\n",
    "\n",
    "filename = 'queen_of_Katoren.txt'\n",
    "\n",
    "def change_name(list_line, name=\"Lisa\"):\n",
    "    \"\"\"\n",
    "    Function that changes name in list\n",
    "    \"\"\"\n",
    "    \n",
    "    k = 0 # índice para recorrer line\n",
    "    \n",
    "    for t in list_line:\n",
    "        if t == \"<name>\":\n",
    "            list_line[k] = name\n",
    "        k += 1\n",
    "    return list_line        \n",
    "\n",
    "with open(filename, 'w+') as f:\n",
    "\n",
    "    for line in string.splitlines():\n",
    "        \n",
    "        if '<name>' in line:\n",
    "            l = line.split()\n",
    "            l = change_name(l)\n",
    "            l = ' '.join(l)\n",
    "            line = l\n",
    "            print(line)\n",
    "            \n",
    "        f.write(line + '\\n')"
   ]
  },
  {
   "cell_type": "markdown",
   "metadata": {},
   "source": [
    "---"
   ]
  },
  {
   "cell_type": "markdown",
   "metadata": {},
   "source": [
    "#### Ejemplos de comandos `magic`"
   ]
  },
  {
   "cell_type": "code",
   "execution_count": 36,
   "metadata": {
    "ExecuteTime": {
     "end_time": "2020-06-15T23:47:10.251940Z",
     "start_time": "2020-06-15T23:47:10.226008Z"
    },
    "scrolled": true
   },
   "outputs": [
    {
     "name": "stdout",
     "output_type": "stream",
     "text": [
      "The merry old queen of Katoren has died\n",
      "and there’s no heir to the throne. Six sour ministers rule the land\n",
      "and claim that they’re looking for a new queen,\n",
      "but nothing happens – for seventeen years. \n",
      "Then suddenly there’s a girl standing at the door of the royal\n",
      "palace who was born on the night the queen died.\n",
      "\n",
      "This girl, Lisa , has firmly resolved to become the new queen of Katoren and\n",
      "she asks the six ministers what she must do in order to be considered for \n",
      "the role. The ministers, afraid of losing their splendid position at court, give the\n",
      "girl seven almost impossible tasks, which can be brought to a successful\n",
      "conclusion only by one who possesses royal attributes such as wisdom,\n",
      "courage and self-sacrifice. The six ministers are convinced that Lisa will fall\n",
      "at the first hurdle, but she turns out to have an amazing amount of\n",
      "persistence and ingenuity.\n"
     ]
    }
   ],
   "source": [
    "%%bash\n",
    "cat 'queen_of_Katoren.txt'"
   ]
  },
  {
   "cell_type": "code",
   "execution_count": 37,
   "metadata": {
    "ExecuteTime": {
     "end_time": "2020-06-15T23:48:56.764336Z",
     "start_time": "2020-06-15T23:48:56.758679Z"
    }
   },
   "outputs": [
    {
     "name": "stdout",
     "output_type": "stream",
     "text": [
      "Writing hola.txt\n"
     ]
    }
   ],
   "source": [
    "%%file hola.txt\n",
    "Esta es una prueba"
   ]
  },
  {
   "cell_type": "markdown",
   "metadata": {},
   "source": [
    "---"
   ]
  },
  {
   "cell_type": "markdown",
   "metadata": {},
   "source": [
    "## Solución 2\n",
    "Usar `splitlines`que dividirá por línea el string"
   ]
  },
  {
   "cell_type": "code",
   "execution_count": 14,
   "metadata": {
    "ExecuteTime": {
     "end_time": "2020-06-15T23:26:15.583083Z",
     "start_time": "2020-06-15T23:26:15.580077Z"
    },
    "scrolled": true
   },
   "outputs": [
    {
     "name": "stdout",
     "output_type": "stream",
     "text": [
      "The merry old queen of Katoren has died\n",
      "and there’s no heir to the throne. Six sour ministers rule the land\n",
      "and claim that they’re looking for a new queen,\n",
      "but nothing happens – for seventeen years. \n",
      "Then suddenly there’s a girl standing at the door of the royal\n",
      "palace who was born on the night the queen died.\n",
      "\n",
      "This girl, <name> , has firmly resolved to become the new queen of Katoren and\n",
      "she asks the six ministers what she must do in order to be considered for \n",
      "the role. The ministers, afraid of losing their splendid position at court, give the\n",
      "girl seven almost impossible tasks, which can be brought to a successful\n",
      "conclusion only by one who possesses royal attributes such as wisdom,\n",
      "courage and self-sacrifice. The six ministers are convinced that <name> will fall\n",
      "at the first hurdle, but she turns out to have an amazing amount of\n",
      "persistence and ingenuity.\n",
      "\n"
     ]
    }
   ],
   "source": [
    "print(string)"
   ]
  },
  {
   "cell_type": "code",
   "execution_count": 44,
   "metadata": {
    "ExecuteTime": {
     "end_time": "2020-06-15T23:56:23.635486Z",
     "start_time": "2020-06-15T23:56:23.632736Z"
    }
   },
   "outputs": [
    {
     "name": "stdout",
     "output_type": "stream",
     "text": [
      "The merry old queen of Katoren has died\n",
      "and there’s no heir to the throne. Six sour ministers rule the land\n",
      "and claim that they’re looking for a new queen,\n",
      "but nothing happens – for seventeen years. \n",
      "Then suddenly there’s a girl standing at the door of the royal\n",
      "palace who was born on the night the queen died.\n",
      "\n",
      "This girl, Lisa , has firmly resolved to become the new queen of Katoren and\n",
      "she asks the six ministers what she must do in order to be considered for \n",
      "the role. The ministers, afraid of losing their splendid position at court, give the\n",
      "girl seven almost impossible tasks, which can be brought to a successful\n",
      "conclusion only by one who possesses royal attributes such as wisdom,\n",
      "courage and self-sacrifice. The six ministers are convinced that Lisa will fall\n",
      "at the first hurdle, but she turns out to have an amazing amount of\n",
      "persistence and ingenuity.\n",
      "\n"
     ]
    }
   ],
   "source": [
    "print(re.sub('<name>', 'Lisa', string))"
   ]
  },
  {
   "cell_type": "markdown",
   "metadata": {},
   "source": [
    "---\n",
    "---"
   ]
  }
 ],
 "metadata": {
  "kernelspec": {
   "display_name": "Python 3",
   "language": "python",
   "name": "python3"
  },
  "language_info": {
   "codemirror_mode": {
    "name": "ipython",
    "version": 3
   },
   "file_extension": ".py",
   "mimetype": "text/x-python",
   "name": "python",
   "nbconvert_exporter": "python",
   "pygments_lexer": "ipython3",
   "version": "3.7.4"
  }
 },
 "nbformat": 4,
 "nbformat_minor": 4
}
