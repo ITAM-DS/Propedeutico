{
 "cells": [
  {
   "cell_type": "markdown",
   "metadata": {},
   "source": [
    "**Notas para contenedor de docker:**\n",
    "\n",
    "Comando de docker para ejecución de la nota de forma local:\n",
    "\n",
    "nota: cambiar `dir_montar` por la ruta de directorio que se desea mapear a `/datos` dentro del contenedor de docker.\n",
    "\n",
    "```\n",
    "dir_montar=<ruta completa de mi máquina a mi directorio>#aquí colocar la ruta al directorio a montar, por ejemplo: \n",
    "#dir_montar=/Users/erick/midirectorio.\n",
    "```\n",
    "\n",
    "Ejecutar:\n",
    "\n",
    "```\n",
    "VERSION=<versión imagen de docker>\n",
    "docker run --rm -v $dir_montar:/datos --name jupyterlab_prope_r_kernel_tidyverse -p 8888:8888 -d palmoreck/jupyterlab_prope_r_kernel_tidyverse:$VERSION\n",
    "\n",
    "```\n",
    "\n",
    "Ir a `localhost:8888` y escribir el password para jupyterlab: `qwerty`\n",
    "\n",
    "\n",
    "Detener el contenedor de docker:\n",
    "\n",
    "```\n",
    "docker stop jupyterlab_prope_r_kernel_tidyverse\n",
    "```\n",
    "\n",
    "Documentación de la imagen de docker `palmoreck/jupyterlab_prope_r_kernel_tidyverse:<versión imagen de docker>` en [liga](https://github.com/palmoreck/dockerfiles/tree/master/jupyterlab/prope_r_kernel_tidyverse)\n",
    "\n",
    "\n"
   ]
  },
  {
   "cell_type": "markdown",
   "metadata": {},
   "source": [
    "---"
   ]
  },
  {
   "cell_type": "markdown",
   "metadata": {},
   "source": [
    "Para ejecución de la nota usar:\n",
    "\n",
    "[docker](https://www.docker.com/) (instalación de forma **local** con [Get docker](https://docs.docker.com/install/)) y ejecutar comandos que están al inicio de la nota de forma **local**. \n",
    "\n",
    "O bien dar click en alguno de los botones siguientes:"
   ]
  },
  {
   "cell_type": "markdown",
   "metadata": {},
   "source": [
    "[![Binder](https://mybinder.org/badge_logo.svg)](https://mybinder.org/v2/gh/palmoreck/dockerfiles-for-binder/jupyterlab_prope_r_kernel_tidyverse?urlpath=lab/tree/Propedeutico/R/clases/1_introduccion/2_core_R.ipynb) esta opción crea una máquina individual en un servidor de Google, clona el repositorio y permite la ejecución de los notebooks de jupyter."
   ]
  },
  {
   "cell_type": "markdown",
   "metadata": {},
   "source": [
    "[![Run on Repl.it](https://repl.it/badge/github/palmoreck/dummy)](https://repl.it/languages/Rlang) esta opción no clona el repositorio, no ejecuta los notebooks de jupyter pero permite ejecución de instrucciones de Python de forma colaborativa con [repl.it](https://repl.it/). Al dar click se crearán nuevos ***repl*** debajo de sus users de ***repl.it***.\n"
   ]
  },
  {
   "cell_type": "markdown",
   "metadata": {},
   "source": [
    "# Ejemplos y enunciados de diferentes libros"
   ]
  },
  {
   "cell_type": "markdown",
   "metadata": {},
   "source": [
    "## J. Albert & M. Rizzo, \"R by Example\", 2012."
   ]
  },
  {
   "cell_type": "markdown",
   "metadata": {},
   "source": [
    "El libro tiene github: https://github.com/mariarizzo/RbyExample"
   ]
  },
  {
   "cell_type": "code",
   "execution_count": 1,
   "metadata": {},
   "outputs": [],
   "source": [
    "options(repr.plot.width=7, repr.plot.height=7) #this line is not necessary to execute in R, is just\n",
    "                                               #to have a smaller plot because we're using the kernel of R\n",
    "                                               #in jupyterlab"
   ]
  },
  {
   "cell_type": "markdown",
   "metadata": {},
   "source": [
    "## Valores, tipos, operadores aritméticos, variables, *print* y *assignment* statements en *R*"
   ]
  },
  {
   "cell_type": "markdown",
   "metadata": {},
   "source": [
    "### Ejemplos de valores y tipos"
   ]
  },
  {
   "cell_type": "code",
   "execution_count": 2,
   "metadata": {},
   "outputs": [
    {
     "data": {
      "text/html": [
       "2"
      ],
      "text/latex": [
       "2"
      ],
      "text/markdown": [
       "2"
      ],
      "text/plain": [
       "[1] 2"
      ]
     },
     "metadata": {},
     "output_type": "display_data"
    }
   ],
   "source": [
    "2L #es un número entero, la L le indica a R que se almacene como entero"
   ]
  },
  {
   "cell_type": "code",
   "execution_count": 3,
   "metadata": {},
   "outputs": [
    {
     "data": {
      "text/html": [
       "'integer'"
      ],
      "text/latex": [
       "'integer'"
      ],
      "text/markdown": [
       "'integer'"
      ],
      "text/plain": [
       "[1] \"integer\""
      ]
     },
     "metadata": {},
     "output_type": "display_data"
    }
   ],
   "source": [
    "typeof(2L)"
   ]
  },
  {
   "cell_type": "code",
   "execution_count": 4,
   "metadata": {},
   "outputs": [
    {
     "data": {
      "text/html": [
       "3"
      ],
      "text/latex": [
       "3"
      ],
      "text/markdown": [
       "3"
      ],
      "text/plain": [
       "[1] 3"
      ]
     },
     "metadata": {},
     "output_type": "display_data"
    }
   ],
   "source": [
    "3.0 #es un número en punto flotante "
   ]
  },
  {
   "cell_type": "code",
   "execution_count": 5,
   "metadata": {},
   "outputs": [
    {
     "data": {
      "text/html": [
       "'double'"
      ],
      "text/latex": [
       "'double'"
      ],
      "text/markdown": [
       "'double'"
      ],
      "text/plain": [
       "[1] \"double\""
      ]
     },
     "metadata": {},
     "output_type": "display_data"
    }
   ],
   "source": [
    "typeof(3.0)"
   ]
  },
  {
   "cell_type": "code",
   "execution_count": 6,
   "metadata": {},
   "outputs": [
    {
     "data": {
      "text/html": [
       "'double'"
      ],
      "text/latex": [
       "'double'"
      ],
      "text/markdown": [
       "'double'"
      ],
      "text/plain": [
       "[1] \"double\""
      ]
     },
     "metadata": {},
     "output_type": "display_data"
    }
   ],
   "source": [
    "typeof(3) #observen que por default le asigna double"
   ]
  },
  {
   "cell_type": "code",
   "execution_count": 7,
   "metadata": {},
   "outputs": [
    {
     "data": {
      "text/html": [
       "'Hola mundo!'"
      ],
      "text/latex": [
       "'Hola mundo!'"
      ],
      "text/markdown": [
       "'Hola mundo!'"
      ],
      "text/plain": [
       "[1] \"Hola mundo!\""
      ]
     },
     "metadata": {},
     "output_type": "display_data"
    }
   ],
   "source": [
    "\"Hola mundo!\" #es un tipo character"
   ]
  },
  {
   "cell_type": "code",
   "execution_count": 8,
   "metadata": {},
   "outputs": [
    {
     "data": {
      "text/html": [
       "'character'"
      ],
      "text/latex": [
       "'character'"
      ],
      "text/markdown": [
       "'character'"
      ],
      "text/plain": [
       "[1] \"character\""
      ]
     },
     "metadata": {},
     "output_type": "display_data"
    }
   ],
   "source": [
    "typeof(\"Hola mundo!\")"
   ]
  },
  {
   "cell_type": "code",
   "execution_count": 9,
   "metadata": {},
   "outputs": [
    {
     "data": {
      "text/html": [
       "'2'"
      ],
      "text/latex": [
       "'2'"
      ],
      "text/markdown": [
       "'2'"
      ],
      "text/plain": [
       "[1] \"2\""
      ]
     },
     "metadata": {},
     "output_type": "display_data"
    }
   ],
   "source": [
    "\"2\" #es un character, en R no hacemos distinción con '2'"
   ]
  },
  {
   "cell_type": "code",
   "execution_count": 10,
   "metadata": {},
   "outputs": [
    {
     "data": {
      "text/html": [
       "'2'"
      ],
      "text/latex": [
       "'2'"
      ],
      "text/markdown": [
       "'2'"
      ],
      "text/plain": [
       "[1] \"2\""
      ]
     },
     "metadata": {},
     "output_type": "display_data"
    }
   ],
   "source": [
    "'2'"
   ]
  },
  {
   "cell_type": "code",
   "execution_count": 11,
   "metadata": {},
   "outputs": [
    {
     "data": {
      "text/html": [
       "'character'"
      ],
      "text/latex": [
       "'character'"
      ],
      "text/markdown": [
       "'character'"
      ],
      "text/plain": [
       "[1] \"character\""
      ]
     },
     "metadata": {},
     "output_type": "display_data"
    }
   ],
   "source": [
    "typeof(\"2\")"
   ]
  },
  {
   "cell_type": "code",
   "execution_count": 12,
   "metadata": {},
   "outputs": [
    {
     "data": {
      "text/html": [
       "'character'"
      ],
      "text/latex": [
       "'character'"
      ],
      "text/markdown": [
       "'character'"
      ],
      "text/plain": [
       "[1] \"character\""
      ]
     },
     "metadata": {},
     "output_type": "display_data"
    }
   ],
   "source": [
    "typeof('2')"
   ]
  },
  {
   "cell_type": "markdown",
   "metadata": {},
   "source": [
    "### Ejemplos de operadores"
   ]
  },
  {
   "cell_type": "code",
   "execution_count": 13,
   "metadata": {},
   "outputs": [
    {
     "data": {
      "text/html": [
       "9"
      ],
      "text/latex": [
       "9"
      ],
      "text/markdown": [
       "9"
      ],
      "text/plain": [
       "[1] 9"
      ]
     },
     "metadata": {},
     "output_type": "display_data"
    }
   ],
   "source": [
    "4 + 5"
   ]
  },
  {
   "cell_type": "code",
   "execution_count": 14,
   "metadata": {},
   "outputs": [
    {
     "data": {
      "text/html": [
       "6"
      ],
      "text/latex": [
       "6"
      ],
      "text/markdown": [
       "6"
      ],
      "text/plain": [
       "[1] 6"
      ]
     },
     "metadata": {},
     "output_type": "display_data"
    }
   ],
   "source": [
    "-3 + 9"
   ]
  },
  {
   "cell_type": "code",
   "execution_count": 15,
   "metadata": {},
   "outputs": [
    {
     "data": {
      "text/html": [
       "8"
      ],
      "text/latex": [
       "8"
      ],
      "text/markdown": [
       "8"
      ],
      "text/plain": [
       "[1] 8"
      ]
     },
     "metadata": {},
     "output_type": "display_data"
    }
   ],
   "source": [
    "2*4"
   ]
  },
  {
   "cell_type": "code",
   "execution_count": 16,
   "metadata": {},
   "outputs": [
    {
     "data": {
      "text/html": [
       "1.5"
      ],
      "text/latex": [
       "1.5"
      ],
      "text/markdown": [
       "1.5"
      ],
      "text/plain": [
       "[1] 1.5"
      ]
     },
     "metadata": {},
     "output_type": "display_data"
    }
   ],
   "source": [
    "3/2"
   ]
  },
  {
   "cell_type": "code",
   "execution_count": 17,
   "metadata": {},
   "outputs": [
    {
     "data": {
      "text/html": [
       "243"
      ],
      "text/latex": [
       "243"
      ],
      "text/markdown": [
       "243"
      ],
      "text/plain": [
       "[1] 243"
      ]
     },
     "metadata": {},
     "output_type": "display_data"
    }
   ],
   "source": [
    "3^5"
   ]
  },
  {
   "cell_type": "markdown",
   "metadata": {},
   "source": [
    "## *Print statement*"
   ]
  },
  {
   "cell_type": "code",
   "execution_count": 18,
   "metadata": {},
   "outputs": [
    {
     "name": "stdout",
     "output_type": "stream",
     "text": [
      "[1] \"Hola mundo!\"\n"
     ]
    }
   ],
   "source": [
    "print(\"Hola mundo!\") #imprime en pantalla"
   ]
  },
  {
   "cell_type": "code",
   "execution_count": 19,
   "metadata": {},
   "outputs": [
    {
     "name": "stdout",
     "output_type": "stream",
     "text": [
      "[1] 4\n"
     ]
    }
   ],
   "source": [
    "print(4.0)"
   ]
  },
  {
   "cell_type": "code",
   "execution_count": 20,
   "metadata": {},
   "outputs": [
    {
     "name": "stdout",
     "output_type": "stream",
     "text": [
      "4.0"
     ]
    }
   ],
   "source": [
    "cat(sprintf(\"4.0\"))"
   ]
  },
  {
   "cell_type": "markdown",
   "metadata": {},
   "source": [
    "## *Assignment statement*"
   ]
  },
  {
   "cell_type": "markdown",
   "metadata": {},
   "source": [
    "Creamos una variable y le damos un valor:"
   ]
  },
  {
   "cell_type": "code",
   "execution_count": 21,
   "metadata": {},
   "outputs": [],
   "source": [
    "m <- \"Este mensaje es un string que almacenamos en la variable m, tal variable hace referencia a un valor de tipo string\""
   ]
  },
  {
   "cell_type": "code",
   "execution_count": 22,
   "metadata": {},
   "outputs": [
    {
     "data": {
      "text/html": [
       "'Este mensaje es un string que almacenamos en la variable m, tal variable hace referencia a un valor de tipo string'"
      ],
      "text/latex": [
       "'Este mensaje es un string que almacenamos en la variable m, tal variable hace referencia a un valor de tipo string'"
      ],
      "text/markdown": [
       "'Este mensaje es un string que almacenamos en la variable m, tal variable hace referencia a un valor de tipo string'"
      ],
      "text/plain": [
       "[1] \"Este mensaje es un string que almacenamos en la variable m, tal variable hace referencia a un valor de tipo string\""
      ]
     },
     "metadata": {},
     "output_type": "display_data"
    }
   ],
   "source": [
    "m"
   ]
  },
  {
   "cell_type": "code",
   "execution_count": 23,
   "metadata": {},
   "outputs": [],
   "source": [
    "n = 17 #variable que hace referencia a un dato tipo integer"
   ]
  },
  {
   "cell_type": "code",
   "execution_count": 24,
   "metadata": {},
   "outputs": [
    {
     "data": {
      "text/html": [
       "17"
      ],
      "text/latex": [
       "17"
      ],
      "text/markdown": [
       "17"
      ],
      "text/plain": [
       "[1] 17"
      ]
     },
     "metadata": {},
     "output_type": "display_data"
    }
   ],
   "source": [
    "n"
   ]
  },
  {
   "cell_type": "markdown",
   "metadata": {},
   "source": [
    "## Vectores"
   ]
  },
  {
   "cell_type": "markdown",
   "metadata": {},
   "source": [
    "[c](https://www.rdocumentation.org/packages/base/versions/3.6.2/topics/c) es una función que realiza un *combine*, crea un vector de sus argumentos que se almacena en `x`. Por ejemplo:"
   ]
  },
  {
   "cell_type": "code",
   "execution_count": 25,
   "metadata": {},
   "outputs": [],
   "source": [
    "x <- c(-2, 109, 1, 0) "
   ]
  },
  {
   "cell_type": "code",
   "execution_count": 26,
   "metadata": {},
   "outputs": [
    {
     "name": "stdout",
     "output_type": "stream",
     "text": [
      "[1]  -2 109   1   0\n"
     ]
    }
   ],
   "source": [
    "print(x)"
   ]
  },
  {
   "cell_type": "markdown",
   "metadata": {},
   "source": [
    "Otras funciones que crean vectores las encontramos en el paquete de [stats](https://stat.ethz.ch/R-manual/R-devel/library/stats/html/00Index.html) como [rpois](https://stat.ethz.ch/R-manual/R-devel/library/stats/html/Poisson.html):"
   ]
  },
  {
   "cell_type": "code",
   "execution_count": 27,
   "metadata": {},
   "outputs": [],
   "source": [
    "set.seed(2000)\n",
    "y <- rpois(200, lambda = .61)"
   ]
  },
  {
   "cell_type": "code",
   "execution_count": 28,
   "metadata": {},
   "outputs": [
    {
     "name": "stdout",
     "output_type": "stream",
     "text": [
      "  [1] 0 1 0 0 1 0 2 1 1 1 0 0 0 0 3 0 1 0 2 0 2 2 1 1 2 1 0 1 1 0 1 0 0 2 1 1 0\n",
      " [38] 2 0 0 1 0 0 0 1 0 1 0 1 2 0 1 0 1 0 0 0 1 2 0 0 1 0 0 0 1 0 1 0 0 0 0 1 1\n",
      " [75] 1 0 0 0 0 1 0 1 0 4 1 0 1 1 2 0 1 1 1 1 0 0 1 0 1 1 1 0 0 1 0 0 0 2 0 0 1\n",
      "[112] 0 1 3 1 1 0 0 1 2 1 0 0 6 0 0 1 0 0 0 1 0 1 0 1 1 0 0 0 0 0 2 0 0 0 1 0 0\n",
      "[149] 0 1 1 0 0 1 1 0 1 0 1 1 0 1 0 0 0 0 1 0 1 1 0 1 2 1 0 1 0 0 1 0 0 2 1 0 2\n",
      "[186] 0 0 0 1 2 1 0 1 0 0 0 0 1 0 0\n"
     ]
    }
   ],
   "source": [
    "print(y)"
   ]
  },
  {
   "cell_type": "markdown",
   "metadata": {},
   "source": [
    "Podemos hacer operaciones con los vectores, por ejemplo:"
   ]
  },
  {
   "cell_type": "code",
   "execution_count": 29,
   "metadata": {},
   "outputs": [
    {
     "name": "stdout",
     "output_type": "stream",
     "text": [
      "[1]  -6 105  -3  -4\n"
     ]
    }
   ],
   "source": [
    "print(x-4)"
   ]
  },
  {
   "cell_type": "code",
   "execution_count": 30,
   "metadata": {},
   "outputs": [
    {
     "name": "stdout",
     "output_type": "stream",
     "text": [
      "[1]  -8.000000 140.000000  -4.000000  -5.333333\n"
     ]
    }
   ],
   "source": [
    "print(4/3*(x-4))"
   ]
  },
  {
   "cell_type": "markdown",
   "metadata": {},
   "source": [
    "Y realizar operaciones entre vectores como:"
   ]
  },
  {
   "cell_type": "code",
   "execution_count": 31,
   "metadata": {},
   "outputs": [],
   "source": [
    "x2 <- c(48.2, 11.05, -1, 0)"
   ]
  },
  {
   "cell_type": "code",
   "execution_count": 32,
   "metadata": {},
   "outputs": [
    {
     "name": "stdout",
     "output_type": "stream",
     "text": [
      "[1] -50.20  97.95   2.00   0.00\n"
     ]
    }
   ],
   "source": [
    "print(x-x2)"
   ]
  },
  {
   "cell_type": "markdown",
   "metadata": {},
   "source": [
    "Otra función para crear un vector de ceros en memoria es con la función [vector](https://www.rdocumentation.org/packages/base/versions/3.6.2/topics/vector):"
   ]
  },
  {
   "cell_type": "code",
   "execution_count": 33,
   "metadata": {},
   "outputs": [],
   "source": [
    "vec <- vector(\"double\", 10)"
   ]
  },
  {
   "cell_type": "code",
   "execution_count": 34,
   "metadata": {},
   "outputs": [
    {
     "data": {
      "text/html": [
       "<style>\n",
       ".list-inline {list-style: none; margin:0; padding: 0}\n",
       ".list-inline>li {display: inline-block}\n",
       ".list-inline>li:not(:last-child)::after {content: \"\\00b7\"; padding: 0 .5ex}\n",
       "</style>\n",
       "<ol class=list-inline><li>0</li><li>0</li><li>0</li><li>0</li><li>0</li><li>0</li><li>0</li><li>0</li><li>0</li><li>0</li></ol>\n"
      ],
      "text/latex": [
       "\\begin{enumerate*}\n",
       "\\item 0\n",
       "\\item 0\n",
       "\\item 0\n",
       "\\item 0\n",
       "\\item 0\n",
       "\\item 0\n",
       "\\item 0\n",
       "\\item 0\n",
       "\\item 0\n",
       "\\item 0\n",
       "\\end{enumerate*}\n"
      ],
      "text/markdown": [
       "1. 0\n",
       "2. 0\n",
       "3. 0\n",
       "4. 0\n",
       "5. 0\n",
       "6. 0\n",
       "7. 0\n",
       "8. 0\n",
       "9. 0\n",
       "10. 0\n",
       "\n",
       "\n"
      ],
      "text/plain": [
       " [1] 0 0 0 0 0 0 0 0 0 0"
      ]
     },
     "metadata": {},
     "output_type": "display_data"
    }
   ],
   "source": [
    "vec"
   ]
  },
  {
   "cell_type": "markdown",
   "metadata": {},
   "source": [
    "## Ejemplo: President's heights"
   ]
  },
  {
   "cell_type": "markdown",
   "metadata": {},
   "source": [
    "An article in [Wikipedia](https://en.wikipedia.org/wiki/Heights_of_presidents_and_presidential_candidates_of_the_United_States) reports data on the heights of Presidents of the United States and the heights of their opponents in the presidential election. It has been observed ([reference](https://www.washingtonpost.com/?noredirect=on), [reference](https://usatoday30.usatoday.com/news/politicselections/nation/president/2004-06-23-bush-kerry-cover_x.htm)) that the taller presidential candidate typically wins the election. In this example, we explore the data corresponding to the elections in the television era. Next values are the heights of the presidents and their opponents in the U.S. presidential elections of 1948 through 2008, extracted from the Wikipedia article."
   ]
  },
  {
   "cell_type": "code",
   "execution_count": 35,
   "metadata": {},
   "outputs": [],
   "source": [
    "winner <- c(185, 182, 182, 188, 188, 188, 185, 185, 177,\n",
    "            182, 182, 193, 183, 179, 179, 175)\n",
    "opponent <- c(175, 193, 185, 187, 188, 173, 180, 177, 183,\n",
    "              185, 180, 180, 182, 178, 178, 173)\n"
   ]
  },
  {
   "cell_type": "code",
   "execution_count": 36,
   "metadata": {},
   "outputs": [
    {
     "data": {
      "text/html": [
       "16"
      ],
      "text/latex": [
       "16"
      ],
      "text/markdown": [
       "16"
      ],
      "text/plain": [
       "[1] 16"
      ]
     },
     "metadata": {},
     "output_type": "display_data"
    }
   ],
   "source": [
    "length(winner)"
   ]
  },
  {
   "cell_type": "markdown",
   "metadata": {},
   "source": [
    "Using [seq](https://www.rdocumentation.org/packages/base/versions/3.6.2/topics/seq) function:"
   ]
  },
  {
   "cell_type": "code",
   "execution_count": 37,
   "metadata": {},
   "outputs": [],
   "source": [
    "year <- seq(from=2008, to=1948, by=-4)"
   ]
  },
  {
   "cell_type": "markdown",
   "metadata": {},
   "source": [
    "According to the [Washington Post blog](https://www.washingtonpost.com/?noredirect=on), Wikipedia misstates “Bill Clinton’s height, which was measured during official medical exams at 6 foot 2-1/2, making him just a tad taller than George H.W. Bush.” We can correct the height measurement for Bill Clinton by assigning a height of 189 cm to the fourth and fifth entries of the vector winner"
   ]
  },
  {
   "cell_type": "code",
   "execution_count": 38,
   "metadata": {},
   "outputs": [],
   "source": [
    "winner[4:5] <- 189"
   ]
  },
  {
   "cell_type": "code",
   "execution_count": 39,
   "metadata": {},
   "outputs": [
    {
     "name": "stdout",
     "output_type": "stream",
     "text": [
      " [1] 185 182 182 189 189 188 185 185 177 182 182 193 183 179 179 175\n"
     ]
    }
   ],
   "source": [
    "print(winner)"
   ]
  },
  {
   "cell_type": "markdown",
   "metadata": {},
   "source": [
    "Are presidents taller than average adult males? According to the National Center for Health Statistics, in 2005 the average height for an adult male in the United States is 5 feet 9.2 inches or 175.768 cm. The sample mean is computed by the [mean](https://www.rdocumentation.org/packages/base/versions/3.6.2/topics/mean) function."
   ]
  },
  {
   "cell_type": "code",
   "execution_count": 40,
   "metadata": {},
   "outputs": [
    {
     "data": {
      "text/html": [
       "183.4375"
      ],
      "text/latex": [
       "183.4375"
      ],
      "text/markdown": [
       "183.4375"
      ],
      "text/plain": [
       "[1] 183.4375"
      ]
     },
     "metadata": {},
     "output_type": "display_data"
    }
   ],
   "source": [
    "mean(winner)"
   ]
  },
  {
   "cell_type": "code",
   "execution_count": 41,
   "metadata": {},
   "outputs": [
    {
     "data": {
      "text/html": [
       "181.0625"
      ],
      "text/latex": [
       "181.0625"
      ],
      "text/markdown": [
       "181.0625"
      ],
      "text/plain": [
       "[1] 181.0625"
      ]
     },
     "metadata": {},
     "output_type": "display_data"
    }
   ],
   "source": [
    "mean(opponent)"
   ]
  },
  {
   "cell_type": "code",
   "execution_count": 42,
   "metadata": {},
   "outputs": [],
   "source": [
    "difference <- winner - opponent"
   ]
  },
  {
   "cell_type": "code",
   "execution_count": 43,
   "metadata": {},
   "outputs": [
    {
     "name": "stdout",
     "output_type": "stream",
     "text": [
      " [1]  10 -11  -3   2   1  15   5   8  -6  -3   2  13   1   1   1   2\n"
     ]
    }
   ],
   "source": [
    "print(difference)"
   ]
  },
  {
   "cell_type": "markdown",
   "metadata": {},
   "source": [
    "An easy way to display our data is as a *data frame*, see [data.frame](https://www.rdocumentation.org/packages/base/versions/3.6.2/topics/data.frame):"
   ]
  },
  {
   "cell_type": "code",
   "execution_count": 44,
   "metadata": {},
   "outputs": [
    {
     "data": {
      "text/html": [
       "<table class=\"dataframe\">\n",
       "<caption>A data.frame: 16 × 4</caption>\n",
       "<thead>\n",
       "\t<tr><th scope=col>year</th><th scope=col>winner</th><th scope=col>opponent</th><th scope=col>difference</th></tr>\n",
       "\t<tr><th scope=col>&lt;dbl&gt;</th><th scope=col>&lt;dbl&gt;</th><th scope=col>&lt;dbl&gt;</th><th scope=col>&lt;dbl&gt;</th></tr>\n",
       "</thead>\n",
       "<tbody>\n",
       "\t<tr><td>2008</td><td>185</td><td>175</td><td> 10</td></tr>\n",
       "\t<tr><td>2004</td><td>182</td><td>193</td><td>-11</td></tr>\n",
       "\t<tr><td>2000</td><td>182</td><td>185</td><td> -3</td></tr>\n",
       "\t<tr><td>1996</td><td>189</td><td>187</td><td>  2</td></tr>\n",
       "\t<tr><td>1992</td><td>189</td><td>188</td><td>  1</td></tr>\n",
       "\t<tr><td>1988</td><td>188</td><td>173</td><td> 15</td></tr>\n",
       "\t<tr><td>1984</td><td>185</td><td>180</td><td>  5</td></tr>\n",
       "\t<tr><td>1980</td><td>185</td><td>177</td><td>  8</td></tr>\n",
       "\t<tr><td>1976</td><td>177</td><td>183</td><td> -6</td></tr>\n",
       "\t<tr><td>1972</td><td>182</td><td>185</td><td> -3</td></tr>\n",
       "\t<tr><td>1968</td><td>182</td><td>180</td><td>  2</td></tr>\n",
       "\t<tr><td>1964</td><td>193</td><td>180</td><td> 13</td></tr>\n",
       "\t<tr><td>1960</td><td>183</td><td>182</td><td>  1</td></tr>\n",
       "\t<tr><td>1956</td><td>179</td><td>178</td><td>  1</td></tr>\n",
       "\t<tr><td>1952</td><td>179</td><td>178</td><td>  1</td></tr>\n",
       "\t<tr><td>1948</td><td>175</td><td>173</td><td>  2</td></tr>\n",
       "</tbody>\n",
       "</table>\n"
      ],
      "text/latex": [
       "A data.frame: 16 × 4\n",
       "\\begin{tabular}{llll}\n",
       " year & winner & opponent & difference\\\\\n",
       " <dbl> & <dbl> & <dbl> & <dbl>\\\\\n",
       "\\hline\n",
       "\t 2008 & 185 & 175 &  10\\\\\n",
       "\t 2004 & 182 & 193 & -11\\\\\n",
       "\t 2000 & 182 & 185 &  -3\\\\\n",
       "\t 1996 & 189 & 187 &   2\\\\\n",
       "\t 1992 & 189 & 188 &   1\\\\\n",
       "\t 1988 & 188 & 173 &  15\\\\\n",
       "\t 1984 & 185 & 180 &   5\\\\\n",
       "\t 1980 & 185 & 177 &   8\\\\\n",
       "\t 1976 & 177 & 183 &  -6\\\\\n",
       "\t 1972 & 182 & 185 &  -3\\\\\n",
       "\t 1968 & 182 & 180 &   2\\\\\n",
       "\t 1964 & 193 & 180 &  13\\\\\n",
       "\t 1960 & 183 & 182 &   1\\\\\n",
       "\t 1956 & 179 & 178 &   1\\\\\n",
       "\t 1952 & 179 & 178 &   1\\\\\n",
       "\t 1948 & 175 & 173 &   2\\\\\n",
       "\\end{tabular}\n"
      ],
      "text/markdown": [
       "\n",
       "A data.frame: 16 × 4\n",
       "\n",
       "| year &lt;dbl&gt; | winner &lt;dbl&gt; | opponent &lt;dbl&gt; | difference &lt;dbl&gt; |\n",
       "|---|---|---|---|\n",
       "| 2008 | 185 | 175 |  10 |\n",
       "| 2004 | 182 | 193 | -11 |\n",
       "| 2000 | 182 | 185 |  -3 |\n",
       "| 1996 | 189 | 187 |   2 |\n",
       "| 1992 | 189 | 188 |   1 |\n",
       "| 1988 | 188 | 173 |  15 |\n",
       "| 1984 | 185 | 180 |   5 |\n",
       "| 1980 | 185 | 177 |   8 |\n",
       "| 1976 | 177 | 183 |  -6 |\n",
       "| 1972 | 182 | 185 |  -3 |\n",
       "| 1968 | 182 | 180 |   2 |\n",
       "| 1964 | 193 | 180 |  13 |\n",
       "| 1960 | 183 | 182 |   1 |\n",
       "| 1956 | 179 | 178 |   1 |\n",
       "| 1952 | 179 | 178 |   1 |\n",
       "| 1948 | 175 | 173 |   2 |\n",
       "\n"
      ],
      "text/plain": [
       "   year winner opponent difference\n",
       "1  2008 185    175       10       \n",
       "2  2004 182    193      -11       \n",
       "3  2000 182    185       -3       \n",
       "4  1996 189    187        2       \n",
       "5  1992 189    188        1       \n",
       "6  1988 188    173       15       \n",
       "7  1984 185    180        5       \n",
       "8  1980 185    177        8       \n",
       "9  1976 177    183       -6       \n",
       "10 1972 182    185       -3       \n",
       "11 1968 182    180        2       \n",
       "12 1964 193    180       13       \n",
       "13 1960 183    182        1       \n",
       "14 1956 179    178        1       \n",
       "15 1952 179    178        1       \n",
       "16 1948 175    173        2       "
      ]
     },
     "metadata": {},
     "output_type": "display_data"
    }
   ],
   "source": [
    "data.frame(year, winner, opponent, difference)"
   ]
  },
  {
   "cell_type": "markdown",
   "metadata": {},
   "source": [
    "... We see that most, but not all, of the differences in height are positive, indicating that the taller candidate won the election. "
   ]
  },
  {
   "cell_type": "code",
   "execution_count": 45,
   "metadata": {},
   "outputs": [],
   "source": [
    "taller.won <- winner > opponent"
   ]
  },
  {
   "cell_type": "code",
   "execution_count": 46,
   "metadata": {},
   "outputs": [
    {
     "name": "stdout",
     "output_type": "stream",
     "text": [
      " [1]  TRUE FALSE FALSE  TRUE  TRUE  TRUE  TRUE  TRUE FALSE FALSE  TRUE  TRUE\n",
      "[13]  TRUE  TRUE  TRUE  TRUE\n"
     ]
    }
   ],
   "source": [
    "print(taller.won)"
   ]
  },
  {
   "cell_type": "markdown",
   "metadata": {},
   "source": [
    "The [table](https://www.rdocumentation.org/packages/base/versions/3.6.2/topics/table) function summarizes discrete data such as the result in the vector `taller.won`"
   ]
  },
  {
   "cell_type": "code",
   "execution_count": 47,
   "metadata": {},
   "outputs": [
    {
     "data": {
      "text/plain": [
       "taller.won\n",
       "FALSE  TRUE \n",
       "    4    12 "
      ]
     },
     "metadata": {},
     "output_type": "display_data"
    }
   ],
   "source": [
    "table(taller.won)"
   ]
  },
  {
   "cell_type": "markdown",
   "metadata": {},
   "source": [
    "We can use the result of table to display percentages if we divide the result by 16 and multiply that result by 100."
   ]
  },
  {
   "cell_type": "code",
   "execution_count": 48,
   "metadata": {},
   "outputs": [
    {
     "data": {
      "text/plain": [
       "taller.won\n",
       "FALSE  TRUE \n",
       "   25    75 "
      ]
     },
     "metadata": {},
     "output_type": "display_data"
    }
   ],
   "source": [
    "table(taller.won) / 16 * 100"
   ]
  },
  {
   "cell_type": "markdown",
   "metadata": {},
   "source": [
    "Thus, in the last 16 elections, the odds in favor of the taller candidate winning the election are 3 to 1."
   ]
  },
  {
   "cell_type": "markdown",
   "metadata": {},
   "source": [
    "Several types of graphs of this data may be interesting to help visualize any pattern. For example, we could display a barplot of differences using the [barplot](https://www.rdocumentation.org/packages/graphics/versions/3.6.2/topics/barplot) function. For the plot we use the [rev](https://www.rdocumentation.org/packages/DescTools/versions/0.99.36/topics/Rev) function to reverse the order of the differences so that the election year is increasing from left to right. We also provide a descriptive label for both axes."
   ]
  },
  {
   "cell_type": "code",
   "execution_count": 49,
   "metadata": {},
   "outputs": [
    {
     "data": {
      "image/png": "[encoded data removed]",
      "text/plain": [
       "plot without title"
      ]
     },
     "metadata": {
      "image/png": {
       "height": 420,
       "width": 420
      }
     },
     "output_type": "display_data"
    }
   ],
   "source": [
    "barplot(rev(difference), \n",
    "        xlab=\"Election years 1948 to 2008\",\n",
    "        ylab=\"Height difference in cm\", \n",
    "        col=\"steelblue\") #see colors() for built-in colors in R"
   ]
  },
  {
   "cell_type": "markdown",
   "metadata": {},
   "source": [
    "Barplot of the difference in height of the election winner in the Electoral College over the height of the main opponent in the U.S. Presidential elections. Height differences in centimeters for election years 1948 through 2008 are shown from left to right. The electoral vote determines the outcome of the election. In 12 out of these 16 elections, the taller candidate won the electoral vote. In 2000, the taller candidate (Al Gore) did not win the electoral vote, but received more popular votes."
   ]
  },
  {
   "cell_type": "markdown",
   "metadata": {},
   "source": [
    "It would also be interesting to display a *scatterplot* of the data. A *scatterplot* of loser’s heights vs winner’s height..."
   ]
  },
  {
   "cell_type": "code",
   "execution_count": 50,
   "metadata": {},
   "outputs": [
    {
     "data": {
      "image/png": "[encoded data removed]",
      "text/plain": [
       "plot without title"
      ]
     },
     "metadata": {
      "image/png": {
       "height": 420,
       "width": 420
      }
     },
     "output_type": "display_data"
    }
   ],
   "source": [
    "plot(winner, opponent, pch=3, col=\"red\") #pch argument defines type of symbol, see ?points\n",
    "abline(0,1)"
   ]
  },
  {
   "cell_type": "markdown",
   "metadata": {},
   "source": [
    "There are some overlappings, we can use [jitter](https://www.rdocumentation.org/packages/base/versions/3.6.2/topics/jitter) to add some noise:"
   ]
  },
  {
   "cell_type": "code",
   "execution_count": 51,
   "metadata": {},
   "outputs": [
    {
     "data": {
      "image/png": "[encoded data removed]",
      "text/plain": [
       "plot without title"
      ]
     },
     "metadata": {
      "image/png": {
       "height": 420,
       "width": 420
      }
     },
     "output_type": "display_data"
    }
   ],
   "source": [
    "plot(jitter(winner), jitter(opponent), pch=3, col='red')\n",
    "abline(0,1)"
   ]
  },
  {
   "cell_type": "markdown",
   "metadata": {},
   "source": [
    "---\n",
    "\n",
    "**Comentario**\n",
    "\n",
    "El ejemplo anterior lo podemos escribir en un sólo *script* el cual contiene las líneas de código de arriba.\n",
    "\n",
    "Archivo con extensión `.R`:\n",
    "\n",
    "```r\n",
    "winner <- c(185, 182, 182, 188, 188, 188, 185, 185, 177,\n",
    "182, 182, 193, 183, 179, 179, 175)\n",
    "\n",
    "opponent <- c(175, 193, 185, 187, 188, 173, 180, 177, 183,\n",
    "185, 180, 180, 182, 178, 178, 173)\n",
    "\n",
    "year <- seq(from=2008, to=1948, by=-4)\n",
    "\n",
    "winner[4:5] <- 189\n",
    "\n",
    "difference <- winner - opponent\n",
    "\n",
    "data.frame(year, winner, opponent, difference)\n",
    "\n",
    "taller.won <- winner > opponent\n",
    "\n",
    "if (sum(taller.won) > sum(!taller.won)) print('its true that the taller presidential candidate typically wins the election')\n",
    "```\n",
    "\n",
    "Y lo ejecutamos guardándolo con nombre `example_script_presidents_heights.R` en el directorio de trabajo, el cual se obtiene con: `getwd()`\n",
    "\n"
   ]
  },
  {
   "cell_type": "code",
   "execution_count": 52,
   "metadata": {},
   "outputs": [
    {
     "data": {
      "text/html": [
       "'/datos/propedeutico_desde_2019/ramas_repo/prope-main/R/clases/1_introduccion'"
      ],
      "text/latex": [
       "'/datos/propedeutico\\_desde\\_2019/ramas\\_repo/prope-main/R/clases/1\\_introduccion'"
      ],
      "text/markdown": [
       "'/datos/propedeutico_desde_2019/ramas_repo/prope-main/R/clases/1_introduccion'"
      ],
      "text/plain": [
       "[1] \"/datos/propedeutico_desde_2019/ramas_repo/prope-main/R/clases/1_introduccion\""
      ]
     },
     "metadata": {},
     "output_type": "display_data"
    }
   ],
   "source": [
    "getwd()"
   ]
  },
  {
   "cell_type": "markdown",
   "metadata": {},
   "source": [
    "Hacemos:"
   ]
  },
  {
   "cell_type": "code",
   "execution_count": 54,
   "metadata": {},
   "outputs": [
    {
     "name": "stdout",
     "output_type": "stream",
     "text": [
      "[1] \"its true that the taller presidential candidate typically wins the election\"\n"
     ]
    }
   ],
   "source": [
    "source(\"example_script_presidents_heights.R\")"
   ]
  },
  {
   "cell_type": "markdown",
   "metadata": {},
   "source": [
    "---"
   ]
  },
  {
   "cell_type": "markdown",
   "metadata": {},
   "source": [
    "## ¿Cómo ejecutamos algunos comandos de R desde bash?"
   ]
  },
  {
   "cell_type": "markdown",
   "metadata": {},
   "source": [
    "Una forma sencilla es con la opción de `-e`\n",
    "\n",
    "```\n",
    " R -e 'print(\"Hola Mundo!\")' -e 'library(prob)' \n",
    " ```"
   ]
  },
  {
   "cell_type": "markdown",
   "metadata": {},
   "source": [
    "## ¿Cómo ejecutamos un script de R desde bash?"
   ]
  },
  {
   "cell_type": "markdown",
   "metadata": {},
   "source": [
    "Una opción es con [Rscript](https://www.rdocumentation.org/packages/utils/versions/3.6.2/topics/Rscript)"
   ]
  },
  {
   "cell_type": "markdown",
   "metadata": {},
   "source": [
    "```\n",
    "Rscript example_script_presidents_heights.R\n",
    "```"
   ]
  },
  {
   "cell_type": "markdown",
   "metadata": {},
   "source": [
    "*Output:*"
   ]
  },
  {
   "cell_type": "markdown",
   "metadata": {},
   "source": [
    "```\n",
    "   year winner opponent difference\n",
    "1  2008    185      175         10\n",
    "2  2004    182      193        -11\n",
    "3  2000    182      185         -3\n",
    "4  1996    189      187          2\n",
    "5  1992    189      188          1\n",
    "6  1988    188      173         15\n",
    "7  1984    185      180          5\n",
    "8  1980    185      177          8\n",
    "9  1976    177      183         -6\n",
    "10 1972    182      185         -3\n",
    "11 1968    182      180          2\n",
    "12 1964    193      180         13\n",
    "13 1960    183      182          1\n",
    "14 1956    179      178          1\n",
    "15 1952    179      178          1\n",
    "16 1948    175      173          2\n",
    "[1] \"its true that the taller presidential candidate typically wins the election\"\n",
    "```"
   ]
  },
  {
   "cell_type": "markdown",
   "metadata": {},
   "source": [
    "Otra opción es con [R CMD batch](https://stat.ethz.ch/R-manual/R-devel/library/utils/html/BATCH.html) la cual generará un archivo con extensión `.out`"
   ]
  },
  {
   "cell_type": "markdown",
   "metadata": {},
   "source": [
    "```\n",
    "R CMD BATCH example_script_presidents_heights.R\n",
    "```"
   ]
  },
  {
   "cell_type": "markdown",
   "metadata": {},
   "source": [
    "Resultado:"
   ]
  },
  {
   "cell_type": "markdown",
   "metadata": {},
   "source": [
    "```\n",
    "cat example_script_presidents_heights.Rout \n",
    "\n",
    "R version 3.6.3 (2020-02-29) -- \"Holding the Windsock\"\n",
    "Copyright (C) 2020 The R Foundation for Statistical Computing\n",
    "Platform: x86_64-pc-linux-gnu (64-bit)\n",
    "\n",
    "R is free software and comes with ABSOLUTELY NO WARRANTY.\n",
    "You are welcome to redistribute it under certain conditions.\n",
    "Type 'license()' or 'licence()' for distribution details.\n",
    "\n",
    "R is a collaborative project with many contributors.\n",
    "Type 'contributors()' for more information and\n",
    "'citation()' on how to cite R or R packages in publications.\n",
    "\n",
    "Type 'demo()' for some demos, 'help()' for on-line help, or\n",
    "'help.start()' for an HTML browser interface to help.\n",
    "Type 'q()' to quit R.\n",
    "\n",
    "> #Archivo con extensión .R:\n",
    "> winner <- c(185, 182, 182, 188, 188, 188, 185, 185, 177,\n",
    "+ 182, 182, 193, 183, 179, 179, 175)\n",
    "> opponent <- c(175, 193, 185, 187, 188, 173, 180, 177, 183,\n",
    "+ 185, 180, 180, 182, 178, 178, 173)\n",
    "> year = seq(from=2008, to=1948, by=-4)\n",
    "> winner[4:5] = 189\n",
    "> difference = winner - opponent\n",
    "> data.frame(year, winner, opponent, difference)\n",
    "   year winner opponent difference\n",
    "1  2008    185      175         10\n",
    "2  2004    182      193        -11\n",
    "3  2000    182      185         -3\n",
    "4  1996    189      187          2\n",
    "5  1992    189      188          1\n",
    "6  1988    188      173         15\n",
    "7  1984    185      180          5\n",
    "8  1980    185      177          8\n",
    "9  1976    177      183         -6\n",
    "10 1972    182      185         -3\n",
    "11 1968    182      180          2\n",
    "12 1964    193      180         13\n",
    "13 1960    183      182          1\n",
    "14 1956    179      178          1\n",
    "15 1952    179      178          1\n",
    "16 1948    175      173          2\n",
    "> taller.won = winner > opponent\n",
    "> if (sum(taller.won) > sum(!taller.won))\n",
    "+     print('its true that the taller presidential candidate typically wins the election')\n",
    "[1] \"its true that the taller presidential candidate typically wins the election\"\n",
    "> \n",
    "> proc.time()\n",
    "   user  system elapsed \n",
    "  0.140   0.020   0.193 \n",
    "```"
   ]
  },
  {
   "cell_type": "markdown",
   "metadata": {},
   "source": [
    "## Funciones"
   ]
  },
  {
   "cell_type": "markdown",
   "metadata": {},
   "source": [
    "Sintaxis de una función:\n",
    "\n",
    "```r\n",
    "f <- function(x, ...){\n",
    "\n",
    "}\n",
    "```"
   ]
  },
  {
   "cell_type": "markdown",
   "metadata": {},
   "source": [
    "Aquí `f` es el nombre de la función, `x` es el nombre del primer parámetro, `...` indica parámetros posibles (las funciones pueden definirse sin parámetros). Los `{}` encierran el cuerpo de la función. El valor que regresa la función es el valor de la última expresión evaluada."
   ]
  },
  {
   "cell_type": "markdown",
   "metadata": {},
   "source": [
    "## Ejemplo"
   ]
  },
  {
   "cell_type": "code",
   "execution_count": 55,
   "metadata": {},
   "outputs": [],
   "source": [
    "variance_simple_computation <- \n",
    "function(x){\n",
    "    v <- var(x)\n",
    "    n <- NROW(x) #number of observations in x\n",
    "    v*(n-1)/n\n",
    "}"
   ]
  },
  {
   "cell_type": "markdown",
   "metadata": {},
   "source": [
    "La cual calcula: $$ \\hat{\\sigma}^2 = \\frac{1}{n}\\displaystyle \\sum_{i=1}^n(x_i - \\bar{x})^2 = \\frac{n-1}{n}s^2$$"
   ]
  },
  {
   "cell_type": "code",
   "execution_count": 56,
   "metadata": {},
   "outputs": [],
   "source": [
    "vec <- c(51.9, 51.8, 51.9, 53)"
   ]
  },
  {
   "cell_type": "code",
   "execution_count": 57,
   "metadata": {},
   "outputs": [
    {
     "data": {
      "text/html": [
       "0.242500000000001"
      ],
      "text/latex": [
       "0.242500000000001"
      ],
      "text/markdown": [
       "0.242500000000001"
      ],
      "text/plain": [
       "[1] 0.2425"
      ]
     },
     "metadata": {},
     "output_type": "display_data"
    }
   ],
   "source": [
    "variance_simple_computation(vec)"
   ]
  },
  {
   "cell_type": "markdown",
   "metadata": {},
   "source": [
    "---\n",
    "\n",
    "**Observación** \n",
    "\n",
    "Antes del último `}` anterior, el *statement* `return v*(n-1)/n` también es utilizado.\n",
    "\n",
    "---"
   ]
  },
  {
   "cell_type": "markdown",
   "metadata": {},
   "source": [
    "## Argumentos de funciones"
   ]
  },
  {
   "cell_type": "markdown",
   "metadata": {},
   "source": [
    "Supóngase que se desea aproximar la integral $$B(a,b) = \\displaystyle \\int_0^1x^{a-1}(1-x)^{b-1}dx,$$ para constantes $a >0, b > 0$ conocidas. "
   ]
  },
  {
   "cell_type": "markdown",
   "metadata": {},
   "source": [
    "Se utiliza la función [integrate](https://www.rdocumentation.org/packages/stats/versions/3.6.2/topics/integrate) y la definición del integrando dada por:"
   ]
  },
  {
   "cell_type": "code",
   "execution_count": 59,
   "metadata": {},
   "outputs": [],
   "source": [
    "f <- function(x, a=1, b=1)\n",
    "    x^(a-1)*(1-x)^(b-1)"
   ]
  },
  {
   "cell_type": "markdown",
   "metadata": {},
   "source": [
    "---\n",
    "\n",
    "**Observación**\n",
    "\n",
    "Para el cuerpo de una función que sólo tiene una línea, no son necesarios `{}`. También obsérvese que se definieron valores por *default* \n",
    "para los parámetros `a` y `b`.\n",
    "\n",
    "---"
   ]
  },
  {
   "cell_type": "code",
   "execution_count": 60,
   "metadata": {},
   "outputs": [],
   "source": [
    "x <- seq(0,1,.2)"
   ]
  },
  {
   "cell_type": "code",
   "execution_count": 61,
   "metadata": {},
   "outputs": [
    {
     "name": "stdout",
     "output_type": "stream",
     "text": [
      "[1] 0.00 0.16 0.24 0.24 0.16 0.00\n"
     ]
    }
   ],
   "source": [
    "print(f(x,a=2,b=2))"
   ]
  },
  {
   "cell_type": "markdown",
   "metadata": {},
   "source": [
    "---\n",
    "\n",
    "**Observación** \n",
    "\n",
    "Se definió `x` como un vector y se le pasó a la `f`. Entonces la `f` realiza las operaciones de una forma vectorizada y devuelve un vector del mismo tamaño que `x`.\n",
    "\n",
    "---"
   ]
  },
  {
   "cell_type": "code",
   "execution_count": 36,
   "metadata": {},
   "outputs": [
    {
     "data": {
      "text/plain": [
       "0.1666667 with absolute error < 1.9e-15"
      ]
     },
     "metadata": {},
     "output_type": "display_data"
    }
   ],
   "source": [
    "integrate(f, lower = 0, upper = 1, a=2, b=2)"
   ]
  },
  {
   "cell_type": "markdown",
   "metadata": {},
   "source": [
    "---\n",
    "\n",
    "**Observación** \n",
    "\n",
    "La función `integrate` es un ejemplo de una función con *extra arguments*.\n"
   ]
  },
  {
   "cell_type": "code",
   "execution_count": 62,
   "metadata": {},
   "outputs": [
    {
     "data": {
      "text/html": [
       "<pre class=language-r><code>function (f, lower, upper, ..., subdivisions = 100L, rel.tol = .Machine$double.eps^0.25, \n",
       "<span style=white-space:pre-wrap>    abs.tol = rel.tol, stop.on.error = TRUE, keep.xy = FALSE, </span>\n",
       "<span style=white-space:pre-wrap>    aux = NULL) </span>\n",
       "NULL</code></pre>"
      ],
      "text/latex": [
       "\\begin{minted}{r}\n",
       "function (f, lower, upper, ..., subdivisions = 100L, rel.tol = .Machine\\$double.eps\\textasciicircum{}0.25, \n",
       "    abs.tol = rel.tol, stop.on.error = TRUE, keep.xy = FALSE, \n",
       "    aux = NULL) \n",
       "NULL\n",
       "\\end{minted}"
      ],
      "text/markdown": [
       "```r\n",
       "function (f, lower, upper, ..., subdivisions = 100L, rel.tol = .Machine$double.eps^0.25, \n",
       "    abs.tol = rel.tol, stop.on.error = TRUE, keep.xy = FALSE, \n",
       "    aux = NULL) \n",
       "NULL\n",
       "```"
      ],
      "text/plain": [
       "function (f, lower, upper, ..., subdivisions = 100L, rel.tol = .Machine$double.eps^0.25, \n",
       "    abs.tol = rel.tol, stop.on.error = TRUE, keep.xy = FALSE, \n",
       "    aux = NULL) \n",
       "NULL"
      ]
     },
     "metadata": {},
     "output_type": "display_data"
    }
   ],
   "source": [
    "args(integrate)"
   ]
  },
  {
   "cell_type": "markdown",
   "metadata": {},
   "source": [
    "los tres puntos que se observan son los *extra arguments* y en el ejemplo son $a$ y $b$ que se le pasan a la función `f` y la función `integrate` no los utiliza ni los tiene definidos."
   ]
  },
  {
   "cell_type": "markdown",
   "metadata": {},
   "source": [
    "---"
   ]
  },
  {
   "cell_type": "markdown",
   "metadata": {},
   "source": [
    "Se puede realizar la gráfica de una función con la función [curve](https://www.rdocumentation.org/packages/graphics/versions/3.6.2/topics/curve). En el caso anterior si deseamos graficar el integrando: $x^{a-1}*(1-x)^{b-1}$ para $x$ de $0$ a $1$ y $a=b=.5$ se ejecuta:"
   ]
  },
  {
   "cell_type": "code",
   "execution_count": 63,
   "metadata": {},
   "outputs": [
    {
     "data": {
      "image/png": "[encoded data removed]",
      "text/plain": [
       "plot without title"
      ]
     },
     "metadata": {
      "image/png": {
       "height": 420,
       "width": 420
      }
     },
     "output_type": "display_data"
    }
   ],
   "source": [
    "curve(x^.5*(1-x)^.5, from = 0, to=1, ylab=\"f(x)\")"
   ]
  },
  {
   "cell_type": "markdown",
   "metadata": {},
   "source": [
    "## Vectores y Matrices"
   ]
  },
  {
   "cell_type": "markdown",
   "metadata": {},
   "source": [
    "### Ejemplo: class mobility"
   ]
  },
  {
   "cell_type": "markdown",
   "metadata": {},
   "source": [
    "The following model of class mobility is discussed in Ross [Introduction to Probability Models, Example 4.19, p. 207]. Assume that the class of a child (lower, middle, or upper class) depends only on the class of his/her parents. The class of the parents is indicated by the row label. The entries in the table below correspond to the chance that the child will transition to the class indicated by the column label."
   ]
  },
  {
   "cell_type": "markdown",
   "metadata": {},
   "source": [
    "|-----| lower | middle | upper |\n",
    "|-----|:-----:|:------:|:-----:|\n",
    "|lower| 0.45  | 0.48   | 0.07  | \n",
    "|middle| 0.05 | 0.70   | 0.25  |\n",
    "|upper|0.01   |0.5|0.49|"
   ]
  },
  {
   "cell_type": "markdown",
   "metadata": {},
   "source": [
    "To create a matrix with these transition probabilities, we use the matrix function. First, the vector of probabilities probs is constructed to supply the entries of the matrix. Then the matrix is defined by its entries, number of rows, and number of columns."
   ]
  },
  {
   "cell_type": "code",
   "execution_count": 64,
   "metadata": {},
   "outputs": [],
   "source": [
    "probs <- c(.45, .05, .01, .48, .70, .50, .07, .25, .49)"
   ]
  },
  {
   "cell_type": "markdown",
   "metadata": {},
   "source": [
    "See [matrix](https://www.rdocumentation.org/packages/base/versions/3.6.2/topics/matrix)"
   ]
  },
  {
   "cell_type": "code",
   "execution_count": 65,
   "metadata": {},
   "outputs": [],
   "source": [
    "P <- matrix(probs, nrow=3, ncol=3)"
   ]
  },
  {
   "cell_type": "code",
   "execution_count": 66,
   "metadata": {},
   "outputs": [
    {
     "data": {
      "text/html": [
       "<table class=\"dataframe\">\n",
       "<caption>A matrix: 3 × 3 of type dbl</caption>\n",
       "<tbody>\n",
       "\t<tr><td>0.45</td><td>0.48</td><td>0.07</td></tr>\n",
       "\t<tr><td>0.05</td><td>0.70</td><td>0.25</td></tr>\n",
       "\t<tr><td>0.01</td><td>0.50</td><td>0.49</td></tr>\n",
       "</tbody>\n",
       "</table>\n"
      ],
      "text/latex": [
       "A matrix: 3 × 3 of type dbl\n",
       "\\begin{tabular}{lll}\n",
       "\t 0.45 & 0.48 & 0.07\\\\\n",
       "\t 0.05 & 0.70 & 0.25\\\\\n",
       "\t 0.01 & 0.50 & 0.49\\\\\n",
       "\\end{tabular}\n"
      ],
      "text/markdown": [
       "\n",
       "A matrix: 3 × 3 of type dbl\n",
       "\n",
       "| 0.45 | 0.48 | 0.07 |\n",
       "| 0.05 | 0.70 | 0.25 |\n",
       "| 0.01 | 0.50 | 0.49 |\n",
       "\n"
      ],
      "text/plain": [
       "     [,1] [,2] [,3]\n",
       "[1,] 0.45 0.48 0.07\n",
       "[2,] 0.05 0.70 0.25\n",
       "[3,] 0.01 0.50 0.49"
      ]
     },
     "metadata": {},
     "output_type": "display_data"
    }
   ],
   "source": [
    "P"
   ]
  },
  {
   "cell_type": "markdown",
   "metadata": {},
   "source": [
    "Notice that the values are entered by column; to enter the data by row, use the optional argument byrow=TRUE in the matrix function. Matrices can optionally have row names and column names. In this case, row names and column names are identical, so we can assign both using"
   ]
  },
  {
   "cell_type": "code",
   "execution_count": 67,
   "metadata": {},
   "outputs": [],
   "source": [
    "rownames(P) <- colnames(P) <- c(\"lower\", \"middle\", \"upper\")"
   ]
  },
  {
   "cell_type": "markdown",
   "metadata": {},
   "source": [
    "and the updated value of P is"
   ]
  },
  {
   "cell_type": "code",
   "execution_count": 68,
   "metadata": {},
   "outputs": [
    {
     "data": {
      "text/html": [
       "<table class=\"dataframe\">\n",
       "<caption>A matrix: 3 × 3 of type dbl</caption>\n",
       "<thead>\n",
       "\t<tr><th></th><th scope=col>lower</th><th scope=col>middle</th><th scope=col>upper</th></tr>\n",
       "</thead>\n",
       "<tbody>\n",
       "\t<tr><th scope=row>lower</th><td>0.45</td><td>0.48</td><td>0.07</td></tr>\n",
       "\t<tr><th scope=row>middle</th><td>0.05</td><td>0.70</td><td>0.25</td></tr>\n",
       "\t<tr><th scope=row>upper</th><td>0.01</td><td>0.50</td><td>0.49</td></tr>\n",
       "</tbody>\n",
       "</table>\n"
      ],
      "text/latex": [
       "A matrix: 3 × 3 of type dbl\n",
       "\\begin{tabular}{r|lll}\n",
       "  & lower & middle & upper\\\\\n",
       "\\hline\n",
       "\tlower & 0.45 & 0.48 & 0.07\\\\\n",
       "\tmiddle & 0.05 & 0.70 & 0.25\\\\\n",
       "\tupper & 0.01 & 0.50 & 0.49\\\\\n",
       "\\end{tabular}\n"
      ],
      "text/markdown": [
       "\n",
       "A matrix: 3 × 3 of type dbl\n",
       "\n",
       "| <!--/--> | lower | middle | upper |\n",
       "|---|---|---|---|\n",
       "| lower | 0.45 | 0.48 | 0.07 |\n",
       "| middle | 0.05 | 0.70 | 0.25 |\n",
       "| upper | 0.01 | 0.50 | 0.49 |\n",
       "\n"
      ],
      "text/plain": [
       "       lower middle upper\n",
       "lower  0.45  0.48   0.07 \n",
       "middle 0.05  0.70   0.25 \n",
       "upper  0.01  0.50   0.49 "
      ]
     },
     "metadata": {},
     "output_type": "display_data"
    }
   ],
   "source": [
    "P"
   ]
  },
  {
   "cell_type": "markdown",
   "metadata": {},
   "source": [
    "See: [rownames](https://www.rdocumentation.org/packages/tibble/versions/3.0.1/topics/rownames), [colnames](https://www.rdocumentation.org/packages/gpuR/versions/2.0.3/topics/colnames)."
   ]
  },
  {
   "cell_type": "markdown",
   "metadata": {},
   "source": [
    "In the matrix $P = (p_{ij})$, the probability $p_{ij}$ in the $i$-th row and $j$-th column is the probability of a transition from class $i$ to class $j$ in one generation."
   ]
  },
  {
   "cell_type": "markdown",
   "metadata": {},
   "source": [
    "This type of matrix has rows that sum to 1 (because each row is a probability distribution on the three classes). This fact can be verified by the [rowSums](https://www.rdocumentation.org/packages/raster/versions/3.1-5/topics/rowSums) function."
   ]
  },
  {
   "cell_type": "code",
   "execution_count": 69,
   "metadata": {},
   "outputs": [
    {
     "data": {
      "text/html": [
       "<style>\n",
       ".dl-inline {width: auto; margin:0; padding: 0}\n",
       ".dl-inline>dt, .dl-inline>dd {float: none; width: auto; display: inline-block}\n",
       ".dl-inline>dt::after {content: \":\\0020\"; padding-right: .5ex}\n",
       ".dl-inline>dt:not(:first-of-type) {padding-left: .5ex}\n",
       "</style><dl class=dl-inline><dt>lower</dt><dd>1</dd><dt>middle</dt><dd>1</dd><dt>upper</dt><dd>1</dd></dl>\n"
      ],
      "text/latex": [
       "\\begin{description*}\n",
       "\\item[lower] 1\n",
       "\\item[middle] 1\n",
       "\\item[upper] 1\n",
       "\\end{description*}\n"
      ],
      "text/markdown": [
       "lower\n",
       ":   1middle\n",
       ":   1upper\n",
       ":   1\n",
       "\n"
      ],
      "text/plain": [
       " lower middle  upper \n",
       "     1      1      1 "
      ]
     },
     "metadata": {},
     "output_type": "display_data"
    }
   ],
   "source": [
    "rowSums(P)"
   ]
  },
  {
   "cell_type": "markdown",
   "metadata": {},
   "source": [
    "Another approach uses the [apply](https://www.rdocumentation.org/packages/base/versions/3.6.2/topics/apply) function. It requires specifying the name of the matrix, MARGIN (row=1, column=2), and FUN (function) as its arguments."
   ]
  },
  {
   "cell_type": "code",
   "execution_count": 70,
   "metadata": {},
   "outputs": [
    {
     "data": {
      "text/html": [
       "<style>\n",
       ".dl-inline {width: auto; margin:0; padding: 0}\n",
       ".dl-inline>dt, .dl-inline>dd {float: none; width: auto; display: inline-block}\n",
       ".dl-inline>dt::after {content: \":\\0020\"; padding-right: .5ex}\n",
       ".dl-inline>dt:not(:first-of-type) {padding-left: .5ex}\n",
       "</style><dl class=dl-inline><dt>lower</dt><dd>1</dd><dt>middle</dt><dd>1</dd><dt>upper</dt><dd>1</dd></dl>\n"
      ],
      "text/latex": [
       "\\begin{description*}\n",
       "\\item[lower] 1\n",
       "\\item[middle] 1\n",
       "\\item[upper] 1\n",
       "\\end{description*}\n"
      ],
      "text/markdown": [
       "lower\n",
       ":   1middle\n",
       ":   1upper\n",
       ":   1\n",
       "\n"
      ],
      "text/plain": [
       " lower middle  upper \n",
       "     1      1      1 "
      ]
     },
     "metadata": {},
     "output_type": "display_data"
    }
   ],
   "source": [
    "apply(P, MARGIN=1, FUN=sum)"
   ]
  },
  {
   "cell_type": "markdown",
   "metadata": {},
   "source": [
    "It can be shown that the transition probabilities for two generations are given by the product $P2 =PP$, which can be computed by the matrix multiplication operator [%*%](https://www.rdocumentation.org/packages/base/versions/3.6.2/topics/matmult)."
   ]
  },
  {
   "cell_type": "code",
   "execution_count": 71,
   "metadata": {},
   "outputs": [
    {
     "data": {
      "text/html": [
       "<table class=\"dataframe\">\n",
       "<caption>A matrix: 3 × 3 of type dbl</caption>\n",
       "<thead>\n",
       "\t<tr><th></th><th scope=col>lower</th><th scope=col>middle</th><th scope=col>upper</th></tr>\n",
       "</thead>\n",
       "<tbody>\n",
       "\t<tr><th scope=row>lower</th><td>0.2272</td><td>0.5870</td><td>0.1858</td></tr>\n",
       "\t<tr><th scope=row>middle</th><td>0.0600</td><td>0.6390</td><td>0.3010</td></tr>\n",
       "\t<tr><th scope=row>upper</th><td>0.0344</td><td>0.5998</td><td>0.3658</td></tr>\n",
       "</tbody>\n",
       "</table>\n"
      ],
      "text/latex": [
       "A matrix: 3 × 3 of type dbl\n",
       "\\begin{tabular}{r|lll}\n",
       "  & lower & middle & upper\\\\\n",
       "\\hline\n",
       "\tlower & 0.2272 & 0.5870 & 0.1858\\\\\n",
       "\tmiddle & 0.0600 & 0.6390 & 0.3010\\\\\n",
       "\tupper & 0.0344 & 0.5998 & 0.3658\\\\\n",
       "\\end{tabular}\n"
      ],
      "text/markdown": [
       "\n",
       "A matrix: 3 × 3 of type dbl\n",
       "\n",
       "| <!--/--> | lower | middle | upper |\n",
       "|---|---|---|---|\n",
       "| lower | 0.2272 | 0.5870 | 0.1858 |\n",
       "| middle | 0.0600 | 0.6390 | 0.3010 |\n",
       "| upper | 0.0344 | 0.5998 | 0.3658 |\n",
       "\n"
      ],
      "text/plain": [
       "       lower  middle upper \n",
       "lower  0.2272 0.5870 0.1858\n",
       "middle 0.0600 0.6390 0.3010\n",
       "upper  0.0344 0.5998 0.3658"
      ]
     },
     "metadata": {},
     "output_type": "display_data"
    }
   ],
   "source": [
    "P2 <- P %*% P\n",
    "P2"
   ]
  },
  {
   "cell_type": "markdown",
   "metadata": {},
   "source": [
    "$P^2$ squares every element of the matrix and the result is the matrix $(p^2_{ij})$, not the matrix product.\n",
    "\n"
   ]
  },
  {
   "cell_type": "code",
   "execution_count": 72,
   "metadata": {},
   "outputs": [
    {
     "data": {
      "text/html": [
       "<table class=\"dataframe\">\n",
       "<caption>A matrix: 3 × 3 of type dbl</caption>\n",
       "<thead>\n",
       "\t<tr><th></th><th scope=col>lower</th><th scope=col>middle</th><th scope=col>upper</th></tr>\n",
       "</thead>\n",
       "<tbody>\n",
       "\t<tr><th scope=row>lower</th><td>0.2025</td><td>0.2304</td><td>0.0049</td></tr>\n",
       "\t<tr><th scope=row>middle</th><td>0.0025</td><td>0.4900</td><td>0.0625</td></tr>\n",
       "\t<tr><th scope=row>upper</th><td>0.0001</td><td>0.2500</td><td>0.2401</td></tr>\n",
       "</tbody>\n",
       "</table>\n"
      ],
      "text/latex": [
       "A matrix: 3 × 3 of type dbl\n",
       "\\begin{tabular}{r|lll}\n",
       "  & lower & middle & upper\\\\\n",
       "\\hline\n",
       "\tlower & 0.2025 & 0.2304 & 0.0049\\\\\n",
       "\tmiddle & 0.0025 & 0.4900 & 0.0625\\\\\n",
       "\tupper & 0.0001 & 0.2500 & 0.2401\\\\\n",
       "\\end{tabular}\n"
      ],
      "text/markdown": [
       "\n",
       "A matrix: 3 × 3 of type dbl\n",
       "\n",
       "| <!--/--> | lower | middle | upper |\n",
       "|---|---|---|---|\n",
       "| lower | 0.2025 | 0.2304 | 0.0049 |\n",
       "| middle | 0.0025 | 0.4900 | 0.0625 |\n",
       "| upper | 0.0001 | 0.2500 | 0.2401 |\n",
       "\n"
      ],
      "text/plain": [
       "       lower  middle upper \n",
       "lower  0.2025 0.2304 0.0049\n",
       "middle 0.0025 0.4900 0.0625\n",
       "upper  0.0001 0.2500 0.2401"
      ]
     },
     "metadata": {},
     "output_type": "display_data"
    }
   ],
   "source": [
    "P^2"
   ]
  },
  {
   "cell_type": "markdown",
   "metadata": {},
   "source": [
    "To extract elements from the matrix, the [row, column] syntax is used. If the row or column is omitted, this specifies all rows (columns). In two generations, the probability that descendants of lower class parents can transition to upper class is in row 1, column 3:"
   ]
  },
  {
   "cell_type": "code",
   "execution_count": 73,
   "metadata": {},
   "outputs": [
    {
     "data": {
      "text/html": [
       "0.1858"
      ],
      "text/latex": [
       "0.1858"
      ],
      "text/markdown": [
       "0.1858"
      ],
      "text/plain": [
       "[1] 0.1858"
      ]
     },
     "metadata": {},
     "output_type": "display_data"
    }
   ],
   "source": [
    "P2[1,3]"
   ]
  },
  {
   "cell_type": "markdown",
   "metadata": {},
   "source": [
    "and the probability distribution for lower class to (lower, middle, upper) is given by row 1:"
   ]
  },
  {
   "cell_type": "code",
   "execution_count": 74,
   "metadata": {},
   "outputs": [
    {
     "data": {
      "text/html": [
       "<style>\n",
       ".dl-inline {width: auto; margin:0; padding: 0}\n",
       ".dl-inline>dt, .dl-inline>dd {float: none; width: auto; display: inline-block}\n",
       ".dl-inline>dt::after {content: \":\\0020\"; padding-right: .5ex}\n",
       ".dl-inline>dt:not(:first-of-type) {padding-left: .5ex}\n",
       "</style><dl class=dl-inline><dt>lower</dt><dd>0.2272</dd><dt>middle</dt><dd>0.587</dd><dt>upper</dt><dd>0.1858</dd></dl>\n"
      ],
      "text/latex": [
       "\\begin{description*}\n",
       "\\item[lower] 0.2272\n",
       "\\item[middle] 0.587\n",
       "\\item[upper] 0.1858\n",
       "\\end{description*}\n"
      ],
      "text/markdown": [
       "lower\n",
       ":   0.2272middle\n",
       ":   0.587upper\n",
       ":   0.1858\n",
       "\n"
      ],
      "text/plain": [
       " lower middle  upper \n",
       "0.2272 0.5870 0.1858 "
      ]
     },
     "metadata": {},
     "output_type": "display_data"
    }
   ],
   "source": [
    "P2[1,]"
   ]
  },
  {
   "cell_type": "markdown",
   "metadata": {},
   "source": [
    "After several generations, each row of the transition matrix will be approximately equal, with probabilities $p = (l,m,u)$ corresponding to the percentages of lower, middle, and upper class occupations. After eight transitions, the probabilities are $P8$:"
   ]
  },
  {
   "cell_type": "code",
   "execution_count": 75,
   "metadata": {},
   "outputs": [
    {
     "data": {
      "text/html": [
       "<table class=\"dataframe\">\n",
       "<caption>A matrix: 3 × 3 of type dbl</caption>\n",
       "<thead>\n",
       "\t<tr><th></th><th scope=col>lower</th><th scope=col>middle</th><th scope=col>upper</th></tr>\n",
       "</thead>\n",
       "<tbody>\n",
       "\t<tr><th scope=row>lower</th><td>0.06350395</td><td>0.6233444</td><td>0.3131516</td></tr>\n",
       "\t<tr><th scope=row>middle</th><td>0.06239010</td><td>0.6234412</td><td>0.3141687</td></tr>\n",
       "\t<tr><th scope=row>upper</th><td>0.06216410</td><td>0.6234574</td><td>0.3143785</td></tr>\n",
       "</tbody>\n",
       "</table>\n"
      ],
      "text/latex": [
       "A matrix: 3 × 3 of type dbl\n",
       "\\begin{tabular}{r|lll}\n",
       "  & lower & middle & upper\\\\\n",
       "\\hline\n",
       "\tlower & 0.06350395 & 0.6233444 & 0.3131516\\\\\n",
       "\tmiddle & 0.06239010 & 0.6234412 & 0.3141687\\\\\n",
       "\tupper & 0.06216410 & 0.6234574 & 0.3143785\\\\\n",
       "\\end{tabular}\n"
      ],
      "text/markdown": [
       "\n",
       "A matrix: 3 × 3 of type dbl\n",
       "\n",
       "| <!--/--> | lower | middle | upper |\n",
       "|---|---|---|---|\n",
       "| lower | 0.06350395 | 0.6233444 | 0.3131516 |\n",
       "| middle | 0.06239010 | 0.6234412 | 0.3141687 |\n",
       "| upper | 0.06216410 | 0.6234574 | 0.3143785 |\n",
       "\n"
      ],
      "text/plain": [
       "       lower      middle    upper    \n",
       "lower  0.06350395 0.6233444 0.3131516\n",
       "middle 0.06239010 0.6234412 0.3141687\n",
       "upper  0.06216410 0.6234574 0.3143785"
      ]
     },
     "metadata": {},
     "output_type": "display_data"
    }
   ],
   "source": [
    "P4 <- P2 %*% P2\n",
    "P8 <- P4 %*% P4\n",
    "P8"
   ]
  },
  {
   "cell_type": "markdown",
   "metadata": {},
   "source": [
    "It can be shown that the limiting probabilities are 0.07, 0.62, and 0.31. For the solution $p = (l,m,u)$, see Ross [Introduction to Probability Models, p. 207]."
   ]
  },
  {
   "cell_type": "markdown",
   "metadata": {},
   "source": [
    "To enter a matrix of constants, as in this example, it is usually easier to enter data by rows using byrow=TRUE in the matrix function. The `by row` format makes it easier to see (visually) the data vector as a matrix in the code."
   ]
  },
  {
   "cell_type": "code",
   "execution_count": 76,
   "metadata": {},
   "outputs": [],
   "source": [
    "Q <- matrix(c( 0.45, 0.48, 0.07,\n",
    "               0.05, 0.70, 0.25, \n",
    "               0.01, 0.50, 0.49), nrow=3, ncol=3, byrow=TRUE)"
   ]
  },
  {
   "cell_type": "code",
   "execution_count": 77,
   "metadata": {},
   "outputs": [
    {
     "data": {
      "text/html": [
       "<table class=\"dataframe\">\n",
       "<caption>A matrix: 3 × 3 of type dbl</caption>\n",
       "<tbody>\n",
       "\t<tr><td>0.45</td><td>0.48</td><td>0.07</td></tr>\n",
       "\t<tr><td>0.05</td><td>0.70</td><td>0.25</td></tr>\n",
       "\t<tr><td>0.01</td><td>0.50</td><td>0.49</td></tr>\n",
       "</tbody>\n",
       "</table>\n"
      ],
      "text/latex": [
       "A matrix: 3 × 3 of type dbl\n",
       "\\begin{tabular}{lll}\n",
       "\t 0.45 & 0.48 & 0.07\\\\\n",
       "\t 0.05 & 0.70 & 0.25\\\\\n",
       "\t 0.01 & 0.50 & 0.49\\\\\n",
       "\\end{tabular}\n"
      ],
      "text/markdown": [
       "\n",
       "A matrix: 3 × 3 of type dbl\n",
       "\n",
       "| 0.45 | 0.48 | 0.07 |\n",
       "| 0.05 | 0.70 | 0.25 |\n",
       "| 0.01 | 0.50 | 0.49 |\n",
       "\n"
      ],
      "text/plain": [
       "     [,1] [,2] [,3]\n",
       "[1,] 0.45 0.48 0.07\n",
       "[2,] 0.05 0.70 0.25\n",
       "[3,] 0.01 0.50 0.49"
      ]
     },
     "metadata": {},
     "output_type": "display_data"
    }
   ],
   "source": [
    "Q"
   ]
  },
  {
   "cell_type": "markdown",
   "metadata": {},
   "source": [
    "Matrix operations for numeric matrices in R:\n",
    "\n",
    "* Elementwise multiplication: $*$\n",
    "  \n",
    "  If matrices $A = (a_{ij})$ and $B = (b_{ij})$ have the same dimension, then $A*B$ is evaluated as the matrix with entries $(a_{ij}b_{ij})$.\n",
    "  \n",
    "* If $A = (a_{ij})$ is a matrix then $A^r$ is evaluated as the matrix with entries $(a_{rij})$.\n",
    "\n",
    "* Matrix multiplication: $\\%*\\%$\n",
    "\n",
    "  If $A = (a_{ij})$ is an $n x k$ matrix and $B = (b_{ij})$ is a $k x m$ matrix, then $A \\%*\\% B$ is evaluated as the $n x m$ matrix product $AB$.\n",
    "\n",
    "* Matrix inverse:\n",
    "\n",
    "  If A is a nonsingular matrix, the inverse of A is returned by *solve(A)*. See [solve](https://www.rdocumentation.org/packages/base/versions/3.6.2/topics/solve).\n",
    "  \n",
    "  For eigenvalues and matrix factorization see [eigen](https://www.rdocumentation.org/packages/base/versions/3.6.2/topics/eigen), [qr](https://www.rdocumentation.org/packages/base/versions/3.6.2/topics/qr), [chol](https://www.rdocumentation.org/packages/base/versions/3.6.2/topics/chol), [svd](https://www.rdocumentation.org/packages/base/versions/3.6.2/topics/svd)."
   ]
  },
  {
   "cell_type": "markdown",
   "metadata": {},
   "source": [
    "## Data Frames"
   ]
  },
  {
   "cell_type": "markdown",
   "metadata": {},
   "source": [
    "Un *data frame* tiene renglones y columnas. Las variables corresponden a las columnas y las observaciones a los renglones. Las variables pueden ser numéricas (números) o categóricas (caracteres o factores)."
   ]
  },
  {
   "cell_type": "markdown",
   "metadata": {},
   "source": [
    "### Ejemplo: USArrests"
   ]
  },
  {
   "cell_type": "code",
   "execution_count": 78,
   "metadata": {},
   "outputs": [
    {
     "data": {
      "text/html": [
       "\n",
       "<table width=\"100%\" summary=\"page for datasets-package {datasets}\"><tr><td>datasets-package {datasets}</td><td style=\"text-align: right;\">R Documentation</td></tr></table>\n",
       "\n",
       "<h2>\n",
       "The R Datasets Package\n",
       "</h2>\n",
       "\n",
       "<h3>Description</h3>\n",
       "\n",
       "<p>Base R datasets\n",
       "</p>\n",
       "\n",
       "\n",
       "<h3>Details</h3>\n",
       "\n",
       "<p>This package contains a variety of datasets.  For a complete\n",
       "list, use <code>library(help = \"datasets\")</code>.\n",
       "</p>\n",
       "\n",
       "\n",
       "<h3>Author(s)</h3>\n",
       "\n",
       "<p>R Core Team and contributors worldwide\n",
       "</p>\n",
       "<p>Maintainer: R Core Team <a href=\"mailto:R-core@r-project.org\">R-core@r-project.org</a>\n",
       "</p>\n",
       "\n",
       "<hr /><div style=\"text-align: center;\">[Package <em>datasets</em> version 4.1.0 ]</div>"
      ],
      "text/latex": [
       "\\inputencoding{utf8}\n",
       "\\HeaderA{datasets-package}{The R Datasets Package}{datasets.Rdash.package}\n",
       "\\aliasA{datasets}{datasets-package}{datasets}\n",
       "\\keyword{package}{datasets-package}\n",
       "%\n",
       "\\begin{Description}\\relax\n",
       "Base R datasets\n",
       "\\end{Description}\n",
       "%\n",
       "\\begin{Details}\\relax\n",
       "This package contains a variety of datasets.  For a complete\n",
       "list, use \\code{library(help = \"datasets\")}.\n",
       "\\end{Details}\n",
       "%\n",
       "\\begin{Author}\\relax\n",
       "R Core Team and contributors worldwide\n",
       "\n",
       "Maintainer: R Core Team \\email{R-core@r-project.org}\n",
       "\\end{Author}"
      ],
      "text/plain": [
       "datasets-package           package:datasets            R Documentation\n",
       "\n",
       "_\bT_\bh_\be _\bR _\bD_\ba_\bt_\ba_\bs_\be_\bt_\bs _\bP_\ba_\bc_\bk_\ba_\bg_\be\n",
       "\n",
       "_\bD_\be_\bs_\bc_\br_\bi_\bp_\bt_\bi_\bo_\bn:\n",
       "\n",
       "     Base R datasets\n",
       "\n",
       "_\bD_\be_\bt_\ba_\bi_\bl_\bs:\n",
       "\n",
       "     This package contains a variety of datasets.  For a complete list,\n",
       "     use ‘library(help = \"datasets\")’.\n",
       "\n",
       "_\bA_\bu_\bt_\bh_\bo_\br(_\bs):\n",
       "\n",
       "     R Core Team and contributors worldwide\n",
       "\n",
       "     Maintainer: R Core Team <email: R-core@r-project.org>\n"
      ]
     },
     "metadata": {},
     "output_type": "display_data"
    }
   ],
   "source": [
    "?datasets"
   ]
  },
  {
   "cell_type": "code",
   "execution_count": 54,
   "metadata": {},
   "outputs": [
    {
     "data": {
      "text/html": [
       "\n",
       "<table width=\"100%\" summary=\"page for USArrests {datasets}\"><tr><td>USArrests {datasets}</td><td style=\"text-align: right;\">R Documentation</td></tr></table>\n",
       "\n",
       "<h2>Violent Crime Rates by US State</h2>\n",
       "\n",
       "<h3>Description</h3>\n",
       "\n",
       "<p>This data set contains statistics, in arrests per 100,000 residents\n",
       "for assault, murder, and rape in each of the 50 US states in 1973.\n",
       "Also given is the percent of the population living in urban areas.\n",
       "</p>\n",
       "\n",
       "\n",
       "<h3>Usage</h3>\n",
       "\n",
       "<pre>USArrests</pre>\n",
       "\n",
       "\n",
       "<h3>Format</h3>\n",
       "\n",
       "<p>A data frame with 50 observations on 4 variables.\n",
       "</p>\n",
       "\n",
       "<table summary=\"Rd table\">\n",
       "<tr>\n",
       " <td style=\"text-align: right;\">\n",
       "    [,1]  </td><td style=\"text-align: left;\"> Murder    </td><td style=\"text-align: left;\"> numeric </td><td style=\"text-align: left;\"> Murder arrests (per 100,000)</td>\n",
       "</tr>\n",
       "<tr>\n",
       " <td style=\"text-align: right;\">\n",
       "    [,2]  </td><td style=\"text-align: left;\"> Assault   </td><td style=\"text-align: left;\"> numeric </td><td style=\"text-align: left;\"> Assault arrests (per 100,000)</td>\n",
       "</tr>\n",
       "<tr>\n",
       " <td style=\"text-align: right;\">\n",
       "    [,3]  </td><td style=\"text-align: left;\"> UrbanPop  </td><td style=\"text-align: left;\"> numeric </td><td style=\"text-align: left;\"> Percent urban population</td>\n",
       "</tr>\n",
       "<tr>\n",
       " <td style=\"text-align: right;\">\n",
       "    [,4]  </td><td style=\"text-align: left;\"> Rape      </td><td style=\"text-align: left;\"> numeric </td><td style=\"text-align: left;\"> Rape arrests (per 100,000)\n",
       "  </td>\n",
       "</tr>\n",
       "\n",
       "</table>\n",
       "\n",
       "\n",
       "\n",
       "<h3>Note</h3>\n",
       "\n",
       "<p><code>USArrests</code> contains the data as in McNeil's monograph.  For the\n",
       "<code>UrbanPop</code> percentages, a review of the table (No. 21) in the\n",
       "Statistical Abstracts 1975 reveals a transcription error for Maryland\n",
       "(and that McNeil used the same &ldquo;round to even&rdquo; rule that <span style=\"font-family: Courier New, Courier; color: #666666;\"><b>R</b></span>'s\n",
       "<code>round()</code> uses), as found by Daniel S Coven (Arizona).\n",
       "</p>\n",
       "<p>See the example below on how to correct the error and improve accuracy\n",
       "for the &lsquo;&lt;n&gt;.5&rsquo; percentages.\n",
       "</p>\n",
       "\n",
       "\n",
       "<h3>Source</h3>\n",
       "\n",
       "<p>World Almanac and Book of facts 1975.  (Crime rates).\n",
       "</p>\n",
       "<p>Statistical Abstracts of the United States 1975, p.20, (Urban rates),\n",
       "possibly available as\n",
       "<a href=\"https://books.google.ch/books?id=zl9qAAAAMAAJ&amp;pg=PA20\">https://books.google.ch/books?id=zl9qAAAAMAAJ&amp;pg=PA20</a>.\n",
       "</p>\n",
       "\n",
       "\n",
       "<h3>References</h3>\n",
       "\n",
       "<p>McNeil, D. R. (1977)\n",
       "<em>Interactive Data Analysis</em>.\n",
       "New York: Wiley.\n",
       "</p>\n",
       "\n",
       "\n",
       "<h3>See Also</h3>\n",
       "\n",
       "<p>The <code>state</code> data sets.</p>\n",
       "\n",
       "\n",
       "<h3>Examples</h3>\n",
       "\n",
       "<pre>\n",
       "summary(USArrests)\n",
       "\n",
       "require(graphics)\n",
       "pairs(USArrests, panel = panel.smooth, main = \"USArrests data\")\n",
       "\n",
       "## Difference between 'USArrests' and its correction\n",
       "USArrests[\"Maryland\", \"UrbanPop\"] # 67 -- the transcription error\n",
       "UA.C &lt;- USArrests\n",
       "UA.C[\"Maryland\", \"UrbanPop\"] &lt;- 76.6\n",
       "\n",
       "## also +/- 0.5 to restore the original  &lt;n&gt;.5  percentages\n",
       "s5u &lt;- c(\"Colorado\", \"Florida\", \"Mississippi\", \"Wyoming\")\n",
       "s5d &lt;- c(\"Nebraska\", \"Pennsylvania\")\n",
       "UA.C[s5u, \"UrbanPop\"] &lt;- UA.C[s5u, \"UrbanPop\"] + 0.5\n",
       "UA.C[s5d, \"UrbanPop\"] &lt;- UA.C[s5d, \"UrbanPop\"] - 0.5\n",
       "\n",
       "## ==&gt; UA.C  is now a *C*orrected version of  USArrests\n",
       "</pre>\n",
       "\n",
       "<hr /><div style=\"text-align: center;\">[Package <em>datasets</em> version 3.6.3 ]</div>"
      ],
      "text/latex": [
       "\\inputencoding{utf8}\n",
       "\\HeaderA{USArrests}{Violent Crime Rates by US State}{USArrests}\n",
       "\\keyword{datasets}{USArrests}\n",
       "%\n",
       "\\begin{Description}\\relax\n",
       "This data set contains statistics, in arrests per 100,000 residents\n",
       "for assault, murder, and rape in each of the 50 US states in 1973.\n",
       "Also given is the percent of the population living in urban areas.\n",
       "\\end{Description}\n",
       "%\n",
       "\\begin{Usage}\n",
       "\\begin{verbatim}\n",
       "USArrests\n",
       "\\end{verbatim}\n",
       "\\end{Usage}\n",
       "%\n",
       "\\begin{Format}\n",
       "A data frame with 50 observations on 4 variables.\n",
       "\n",
       "\n",
       "\\Tabular{rlll}{\n",
       "[,1]  & Murder    & numeric & Murder arrests (per 100,000)\\\\{}\n",
       "[,2]  & Assault   & numeric & Assault arrests (per 100,000)\\\\{}\n",
       "[,3]  & UrbanPop  & numeric & Percent urban population\\\\{}\n",
       "[,4]  & Rape      & numeric & Rape arrests (per 100,000)\n",
       "}\n",
       "\\end{Format}\n",
       "%\n",
       "\\begin{Note}\\relax\n",
       "\\code{USArrests} contains the data as in McNeil's monograph.  For the\n",
       "\\code{UrbanPop} percentages, a review of the table (No. 21) in the\n",
       "Statistical Abstracts 1975 reveals a transcription error for Maryland\n",
       "(and that McNeil used the same ``round to even'' rule that \\R{}'s\n",
       "\\code{\\LinkA{round}{round}()} uses), as found by Daniel S Coven (Arizona).\n",
       "\n",
       "See the example below on how to correct the error and improve accuracy\n",
       "for the `<n>.5' percentages.\n",
       "\\end{Note}\n",
       "%\n",
       "\\begin{Source}\\relax\n",
       "World Almanac and Book of facts 1975.  (Crime rates).\n",
       "\n",
       "Statistical Abstracts of the United States 1975, p.20, (Urban rates),\n",
       "possibly available as\n",
       "\\url{https://books.google.ch/books?id=zl9qAAAAMAAJ&pg=PA20}.\n",
       "\\end{Source}\n",
       "%\n",
       "\\begin{References}\\relax\n",
       "McNeil, D. R. (1977)\n",
       "\\emph{Interactive Data Analysis}.\n",
       "New York: Wiley.\n",
       "\\end{References}\n",
       "%\n",
       "\\begin{SeeAlso}\\relax\n",
       "The \\code{\\LinkA{state}{state}} data sets.\n",
       "\\end{SeeAlso}\n",
       "%\n",
       "\\begin{Examples}\n",
       "\\begin{ExampleCode}\n",
       "summary(USArrests)\n",
       "\n",
       "require(graphics)\n",
       "pairs(USArrests, panel = panel.smooth, main = \"USArrests data\")\n",
       "\n",
       "## Difference between 'USArrests' and its correction\n",
       "USArrests[\"Maryland\", \"UrbanPop\"] # 67 -- the transcription error\n",
       "UA.C <- USArrests\n",
       "UA.C[\"Maryland\", \"UrbanPop\"] <- 76.6\n",
       "\n",
       "## also +/- 0.5 to restore the original  <n>.5  percentages\n",
       "s5u <- c(\"Colorado\", \"Florida\", \"Mississippi\", \"Wyoming\")\n",
       "s5d <- c(\"Nebraska\", \"Pennsylvania\")\n",
       "UA.C[s5u, \"UrbanPop\"] <- UA.C[s5u, \"UrbanPop\"] + 0.5\n",
       "UA.C[s5d, \"UrbanPop\"] <- UA.C[s5d, \"UrbanPop\"] - 0.5\n",
       "\n",
       "## ==> UA.C  is now a *C*orrected version of  USArrests\n",
       "\\end{ExampleCode}\n",
       "\\end{Examples}"
      ],
      "text/plain": [
       "USArrests               package:datasets               R Documentation\n",
       "\n",
       "_\bV_\bi_\bo_\bl_\be_\bn_\bt _\bC_\br_\bi_\bm_\be _\bR_\ba_\bt_\be_\bs _\bb_\by _\bU_\bS _\bS_\bt_\ba_\bt_\be\n",
       "\n",
       "_\bD_\be_\bs_\bc_\br_\bi_\bp_\bt_\bi_\bo_\bn:\n",
       "\n",
       "     This data set contains statistics, in arrests per 100,000\n",
       "     residents for assault, murder, and rape in each of the 50 US\n",
       "     states in 1973.  Also given is the percent of the population\n",
       "     living in urban areas.\n",
       "\n",
       "_\bU_\bs_\ba_\bg_\be:\n",
       "\n",
       "     USArrests\n",
       "     \n",
       "_\bF_\bo_\br_\bm_\ba_\bt:\n",
       "\n",
       "     A data frame with 50 observations on 4 variables.\n",
       "\n",
       "       [,1]  Murder    numeric  Murder arrests (per 100,000)  \n",
       "       [,2]  Assault   numeric  Assault arrests (per 100,000) \n",
       "       [,3]  UrbanPop  numeric  Percent urban population      \n",
       "       [,4]  Rape      numeric  Rape arrests (per 100,000)    \n",
       "      \n",
       "_\bN_\bo_\bt_\be:\n",
       "\n",
       "     ‘USArrests’ contains the data as in McNeil's monograph.  For the\n",
       "     ‘UrbanPop’ percentages, a review of the table (No. 21) in the\n",
       "     Statistical Abstracts 1975 reveals a transcription error for\n",
       "     Maryland (and that McNeil used the same “round to even” rule that\n",
       "     R's ‘round()’ uses), as found by Daniel S Coven (Arizona).\n",
       "\n",
       "     See the example below on how to correct the error and improve\n",
       "     accuracy for the ‘<n>.5’ percentages.\n",
       "\n",
       "_\bS_\bo_\bu_\br_\bc_\be:\n",
       "\n",
       "     World Almanac and Book of facts 1975.  (Crime rates).\n",
       "\n",
       "     Statistical Abstracts of the United States 1975, p.20, (Urban\n",
       "     rates), possibly available as <URL:\n",
       "     https://books.google.ch/books?id=zl9qAAAAMAAJ&pg=PA20>.\n",
       "\n",
       "_\bR_\be_\bf_\be_\br_\be_\bn_\bc_\be_\bs:\n",
       "\n",
       "     McNeil, D. R. (1977) _Interactive Data Analysis_.  New York:\n",
       "     Wiley.\n",
       "\n",
       "_\bS_\be_\be _\bA_\bl_\bs_\bo:\n",
       "\n",
       "     The ‘state’ data sets.\n",
       "\n",
       "_\bE_\bx_\ba_\bm_\bp_\bl_\be_\bs:\n",
       "\n",
       "     summary(USArrests)\n",
       "     \n",
       "     require(graphics)\n",
       "     pairs(USArrests, panel = panel.smooth, main = \"USArrests data\")\n",
       "     \n",
       "     ## Difference between 'USArrests' and its correction\n",
       "     USArrests[\"Maryland\", \"UrbanPop\"] # 67 -- the transcription error\n",
       "     UA.C <- USArrests\n",
       "     UA.C[\"Maryland\", \"UrbanPop\"] <- 76.6\n",
       "     \n",
       "     ## also +/- 0.5 to restore the original  <n>.5  percentages\n",
       "     s5u <- c(\"Colorado\", \"Florida\", \"Mississippi\", \"Wyoming\")\n",
       "     s5d <- c(\"Nebraska\", \"Pennsylvania\")\n",
       "     UA.C[s5u, \"UrbanPop\"] <- UA.C[s5u, \"UrbanPop\"] + 0.5\n",
       "     UA.C[s5d, \"UrbanPop\"] <- UA.C[s5d, \"UrbanPop\"] - 0.5\n",
       "     \n",
       "     ## ==> UA.C  is now a *C*orrected version of  USArrests\n",
       "     "
      ]
     },
     "metadata": {},
     "output_type": "display_data"
    }
   ],
   "source": [
    "?USArrests"
   ]
  },
  {
   "cell_type": "markdown",
   "metadata": {},
   "source": [
    "The USArrests data records rates of violent crimes in the US. The statistics are given as arrests per 100,000 residents for assault, murder, and rape in each of the 50 US states in 1973. The percentage of the population living in urban areas is also given. Some basic functions to get started with a data frame are illustrated with this data set."
   ]
  },
  {
   "cell_type": "markdown",
   "metadata": {},
   "source": [
    "To display the first few lines of data:"
   ]
  },
  {
   "cell_type": "code",
   "execution_count": 79,
   "metadata": {},
   "outputs": [
    {
     "name": "stdout",
     "output_type": "stream",
     "text": [
      "           Murder Assault UrbanPop Rape\n",
      "Alabama      13.2     236       58 21.2\n",
      "Alaska       10.0     263       48 44.5\n",
      "Arizona       8.1     294       80 31.0\n",
      "Arkansas      8.8     190       50 19.5\n",
      "California    9.0     276       91 40.6\n",
      "Colorado      7.9     204       78 38.7\n"
     ]
    }
   ],
   "source": [
    "print(head(USArrests))"
   ]
  },
  {
   "cell_type": "markdown",
   "metadata": {},
   "source": [
    "See [head](https://www.rdocumentation.org/packages/utils/versions/3.6.2/topics/head)."
   ]
  },
  {
   "cell_type": "markdown",
   "metadata": {},
   "source": [
    "The result shows that we have four variables named Murder, Assault, UrbanPop, and Rape, and that the observations (rows) are labeled by the name of the state. We also see that the states appear to be listed in alphabetical order. All of the variables appear to be quantitative, which we expected from the description above."
   ]
  },
  {
   "cell_type": "markdown",
   "metadata": {},
   "source": [
    "**Sample size and dimension**"
   ]
  },
  {
   "cell_type": "markdown",
   "metadata": {},
   "source": [
    "How many observations are in this data set? (NROW, nrow, or dim). See [nrow](https://www.rdocumentation.org/packages/base/versions/3.6.2/topics/nrow), [dim](https://www.rdocumentation.org/packages/base/versions/3.6.2/topics/dim)."
   ]
  },
  {
   "cell_type": "code",
   "execution_count": 80,
   "metadata": {},
   "outputs": [
    {
     "data": {
      "text/html": [
       "50"
      ],
      "text/latex": [
       "50"
      ],
      "text/markdown": [
       "50"
      ],
      "text/plain": [
       "[1] 50"
      ]
     },
     "metadata": {},
     "output_type": "display_data"
    }
   ],
   "source": [
    "NROW(USArrests)"
   ]
  },
  {
   "cell_type": "code",
   "execution_count": 81,
   "metadata": {},
   "outputs": [
    {
     "data": {
      "text/html": [
       "50"
      ],
      "text/latex": [
       "50"
      ],
      "text/markdown": [
       "50"
      ],
      "text/plain": [
       "[1] 50"
      ]
     },
     "metadata": {},
     "output_type": "display_data"
    }
   ],
   "source": [
    "nrow(USArrests)"
   ]
  },
  {
   "cell_type": "code",
   "execution_count": 82,
   "metadata": {},
   "outputs": [
    {
     "name": "stdout",
     "output_type": "stream",
     "text": [
      "[1] 50  4\n"
     ]
    }
   ],
   "source": [
    "print(dim(USArrests))"
   ]
  },
  {
   "cell_type": "markdown",
   "metadata": {},
   "source": [
    "The dimension (dim) of a data frame or a matrix returns a vector with the number of rows and number of columns. NROW returns the number of observations. We have 50 observations corresponding to the 50 states in the U.S."
   ]
  },
  {
   "cell_type": "markdown",
   "metadata": {},
   "source": [
    "**Names of variables**"
   ]
  },
  {
   "cell_type": "markdown",
   "metadata": {},
   "source": [
    "Get (or set) names of variables in the data frame:"
   ]
  },
  {
   "cell_type": "code",
   "execution_count": 83,
   "metadata": {},
   "outputs": [
    {
     "name": "stdout",
     "output_type": "stream",
     "text": [
      "[1] \"Murder\"   \"Assault\"  \"UrbanPop\" \"Rape\"    \n"
     ]
    }
   ],
   "source": [
    "print(names(USArrests))"
   ]
  },
  {
   "cell_type": "markdown",
   "metadata": {},
   "source": [
    "See [names](https://www.rdocumentation.org/packages/base/versions/3.6.2/topics/names)."
   ]
  },
  {
   "cell_type": "markdown",
   "metadata": {},
   "source": [
    "### Structure of the data"
   ]
  },
  {
   "cell_type": "markdown",
   "metadata": {},
   "source": [
    "Display information about the structure of the data frame (str):"
   ]
  },
  {
   "cell_type": "code",
   "execution_count": 84,
   "metadata": {},
   "outputs": [
    {
     "name": "stdout",
     "output_type": "stream",
     "text": [
      "'data.frame':\t50 obs. of  4 variables:\n",
      " $ Murder  : num  13.2 10 8.1 8.8 9 7.9 3.3 5.9 15.4 17.4 ...\n",
      " $ Assault : int  236 263 294 190 276 204 110 238 335 211 ...\n",
      " $ UrbanPop: int  58 48 80 50 91 78 77 72 80 60 ...\n",
      " $ Rape    : num  21.2 44.5 31 19.5 40.6 38.7 11.1 15.8 31.9 25.8 ...\n"
     ]
    }
   ],
   "source": [
    "str(USArrests)"
   ]
  },
  {
   "cell_type": "markdown",
   "metadata": {},
   "source": [
    "See [str](https://www.rdocumentation.org/packages/utils/versions/3.6.2/topics/str)."
   ]
  },
  {
   "cell_type": "markdown",
   "metadata": {},
   "source": [
    "The result of str gives the dimension as well as the name and type of each variable. We have two numeric type and two integer type variables. Although we can think of integer as a special case of numeric, they are stored differently in R."
   ]
  },
  {
   "cell_type": "markdown",
   "metadata": {},
   "source": [
    "For many data sets, like USArrests, all of the data are numbers and in this case the data can be converted to a matrix using as.matrix. But in order to store the data in a matrix, all variables must be of the same type so R will convert the integers to numeric. Compare the result in matrix form:"
   ]
  },
  {
   "cell_type": "code",
   "execution_count": 85,
   "metadata": {},
   "outputs": [],
   "source": [
    "arrests <- as.matrix(USArrests)"
   ]
  },
  {
   "cell_type": "code",
   "execution_count": 86,
   "metadata": {},
   "outputs": [
    {
     "name": "stdout",
     "output_type": "stream",
     "text": [
      " num [1:50, 1:4] 13.2 10 8.1 8.8 9 7.9 3.3 5.9 15.4 17.4 ...\n",
      " - attr(*, \"dimnames\")=List of 2\n",
      "  ..$ : chr [1:50] \"Alabama\" \"Alaska\" \"Arizona\" \"Arkansas\" ...\n",
      "  ..$ : chr [1:4] \"Murder\" \"Assault\" \"UrbanPop\" \"Rape\"\n"
     ]
    }
   ],
   "source": [
    "str(arrests)"
   ]
  },
  {
   "cell_type": "markdown",
   "metadata": {},
   "source": [
    "See [as.matrix](https://www.rdocumentation.org/packages/raster/versions/3.1-5/topics/as.matrix)."
   ]
  },
  {
   "cell_type": "markdown",
   "metadata": {},
   "source": [
    "This output shows that all of the data was converted to numeric, listed on the first line as num. The attributes (attr) are the row and column names (dimnames). The conversion preserved the row labels and converted the variable names to column labels. We used names to get the names of the variables in the data frame, but we would use rownames, colnames or dimnames (to get both) to get the row and/or column names. These last three functions can also be used on data frames."
   ]
  },
  {
   "cell_type": "markdown",
   "metadata": {},
   "source": [
    "### Missing values"
   ]
  },
  {
   "cell_type": "markdown",
   "metadata": {},
   "source": [
    "The [is.na](https://www.rdocumentation.org/packages/ursa/versions/3.8.20/topics/is.na) function returns TRUE for a missing value and otherwise FALSE. The expression is.na(USArrests) will return a data frame the same size as USArrests where every entry is TRUE or FALSE. To quickly check if any of the results are TRUE we use the any function."
   ]
  },
  {
   "cell_type": "code",
   "execution_count": 87,
   "metadata": {},
   "outputs": [
    {
     "data": {
      "text/html": [
       "FALSE"
      ],
      "text/latex": [
       "FALSE"
      ],
      "text/markdown": [
       "FALSE"
      ],
      "text/plain": [
       "[1] FALSE"
      ]
     },
     "metadata": {},
     "output_type": "display_data"
    }
   ],
   "source": [
    "any(is.na(USArrests))"
   ]
  },
  {
   "cell_type": "markdown",
   "metadata": {},
   "source": [
    "### Working with a data frame"
   ]
  },
  {
   "cell_type": "markdown",
   "metadata": {},
   "source": [
    "In this section we illustrate some operations on data frames, and some basic statistics and plots."
   ]
  },
  {
   "cell_type": "markdown",
   "metadata": {},
   "source": [
    "**Compute summary statistics**"
   ]
  },
  {
   "cell_type": "markdown",
   "metadata": {},
   "source": [
    "Obtain appropriate summary statistics for each variable using summary. For numeric data, the summary function computes a five-number summary and sample mean."
   ]
  },
  {
   "cell_type": "code",
   "execution_count": 88,
   "metadata": {},
   "outputs": [
    {
     "data": {
      "text/plain": [
       "     Murder          Assault         UrbanPop          Rape      \n",
       " Min.   : 0.800   Min.   : 45.0   Min.   :32.00   Min.   : 7.30  \n",
       " 1st Qu.: 4.075   1st Qu.:109.0   1st Qu.:54.50   1st Qu.:15.07  \n",
       " Median : 7.250   Median :159.0   Median :66.00   Median :20.10  \n",
       " Mean   : 7.788   Mean   :170.8   Mean   :65.54   Mean   :21.23  \n",
       " 3rd Qu.:11.250   3rd Qu.:249.0   3rd Qu.:77.75   3rd Qu.:26.18  \n",
       " Max.   :17.400   Max.   :337.0   Max.   :91.00   Max.   :46.00  "
      ]
     },
     "metadata": {},
     "output_type": "display_data"
    }
   ],
   "source": [
    "summary(USArrests)"
   ]
  },
  {
   "cell_type": "markdown",
   "metadata": {},
   "source": [
    "See [summary](https://www.rdocumentation.org/packages/base/versions/3.6.2/topics/summary)."
   ]
  },
  {
   "cell_type": "markdown",
   "metadata": {},
   "source": [
    "If there were any missing values, the number of missing values would be included in the summaries. If any of our variables were categorical, summary would tabulate the values for those variables."
   ]
  },
  {
   "cell_type": "markdown",
   "metadata": {},
   "source": [
    "From the summary it appears that the mean and median are approximately equal for all variables except Assault. The mean for Assault is larger than the median, indicating that the assault data is positively skewed."
   ]
  },
  {
   "cell_type": "markdown",
   "metadata": {},
   "source": [
    "**Extract data from a data frame**"
   ]
  },
  {
   "cell_type": "markdown",
   "metadata": {},
   "source": [
    "The simplest way to extract data from a data frame uses the matrix-style [row, column] indexing."
   ]
  },
  {
   "cell_type": "code",
   "execution_count": 89,
   "metadata": {},
   "outputs": [
    {
     "data": {
      "text/html": [
       "9"
      ],
      "text/latex": [
       "9"
      ],
      "text/markdown": [
       "9"
      ],
      "text/plain": [
       "[1] 9"
      ]
     },
     "metadata": {},
     "output_type": "display_data"
    }
   ],
   "source": [
    "USArrests[\"California\", \"Murder\"]"
   ]
  },
  {
   "cell_type": "code",
   "execution_count": 90,
   "metadata": {},
   "outputs": [
    {
     "data": {
      "text/html": [
       "<table class=\"dataframe\">\n",
       "<caption>A data.frame: 1 × 4</caption>\n",
       "<thead>\n",
       "\t<tr><th></th><th scope=col>Murder</th><th scope=col>Assault</th><th scope=col>UrbanPop</th><th scope=col>Rape</th></tr>\n",
       "\t<tr><th></th><th scope=col>&lt;dbl&gt;</th><th scope=col>&lt;int&gt;</th><th scope=col>&lt;int&gt;</th><th scope=col>&lt;dbl&gt;</th></tr>\n",
       "</thead>\n",
       "<tbody>\n",
       "\t<tr><th scope=row>California</th><td>9</td><td>276</td><td>91</td><td>40.6</td></tr>\n",
       "</tbody>\n",
       "</table>\n"
      ],
      "text/latex": [
       "A data.frame: 1 × 4\n",
       "\\begin{tabular}{r|llll}\n",
       "  & Murder & Assault & UrbanPop & Rape\\\\\n",
       "  & <dbl> & <int> & <int> & <dbl>\\\\\n",
       "\\hline\n",
       "\tCalifornia & 9 & 276 & 91 & 40.6\\\\\n",
       "\\end{tabular}\n"
      ],
      "text/markdown": [
       "\n",
       "A data.frame: 1 × 4\n",
       "\n",
       "| <!--/--> | Murder &lt;dbl&gt; | Assault &lt;int&gt; | UrbanPop &lt;int&gt; | Rape &lt;dbl&gt; |\n",
       "|---|---|---|---|---|\n",
       "| California | 9 | 276 | 91 | 40.6 |\n",
       "\n"
      ],
      "text/plain": [
       "           Murder Assault UrbanPop Rape\n",
       "California 9      276     91       40.6"
      ]
     },
     "metadata": {},
     "output_type": "display_data"
    }
   ],
   "source": [
    "USArrests[\"California\", ]"
   ]
  },
  {
   "cell_type": "markdown",
   "metadata": {},
   "source": [
    "**Extract a variable using \\\\$**"
   ]
  },
  {
   "cell_type": "markdown",
   "metadata": {},
   "source": [
    "Variables can be extracted using the $ operator followed by the name of the\n",
    "variable."
   ]
  },
  {
   "cell_type": "code",
   "execution_count": 91,
   "metadata": {},
   "outputs": [
    {
     "name": "stdout",
     "output_type": "stream",
     "text": [
      " [1] 236 263 294 190 276 204 110 238 335 211  46 120 249 113  56 115 109 249  83\n",
      "[20] 300 149 255  72 259 178 109 102 252  57 159 285 254 337  45 120 151 159 106\n",
      "[39] 174 279  86 188 201 120  48 156 145  81  53 161\n"
     ]
    }
   ],
   "source": [
    "print(USArrests$Assault)"
   ]
  },
  {
   "cell_type": "markdown",
   "metadata": {},
   "source": [
    "**Histograms**"
   ]
  },
  {
   "cell_type": "markdown",
   "metadata": {},
   "source": [
    "In the summary of the USArrests data frame, we observed that the distribution of assaults may be positively skewed because the sample mean is larger than the sample median. A histogram of the data helps to visualize the shape of the distribution. We show two versions of the histogram of Assault. "
   ]
  },
  {
   "cell_type": "code",
   "execution_count": 92,
   "metadata": {},
   "outputs": [
    {
     "data": {
      "image/png": "[encoded data removed]",
      "text/plain": [
       "Plot with title “Histogram of USArrests$Assault”"
      ]
     },
     "metadata": {
      "image/png": {
       "height": 420,
       "width": 420
      }
     },
     "output_type": "display_data"
    }
   ],
   "source": [
    "par(mfrow=c(1,2)) #subplots\n",
    "par(cex=0.4) #control size of labels\n",
    "hist(USArrests$Assault)\n",
    "library(MASS)#need for truehist function\n",
    "truehist(USArrests$Assault, col='lightcyan') #see colors() for built-in colors in R"
   ]
  },
  {
   "cell_type": "markdown",
   "metadata": {},
   "source": [
    "See [hist](https://www.rdocumentation.org/packages/graphics/versions/3.6.2/topics/hist)."
   ]
  },
  {
   "cell_type": "markdown",
   "metadata": {},
   "source": [
    "The skewness is easier to observe in the right histogram. There are obvious differences in the histograms; one is that the vertical scales differ. Another is that there are a different number of bins. First figure is a frequency histogram, and second figure is a probability histogram."
   ]
  },
  {
   "cell_type": "markdown",
   "metadata": {},
   "source": [
    "Try the following command and compare the result with histogram which is on the right."
   ]
  },
  {
   "cell_type": "code",
   "execution_count": 93,
   "metadata": {},
   "outputs": [
    {
     "data": {
      "image/png": "[encoded data removed]",
      "text/plain": [
       "Plot with title “Histogram of USArrests$Assault”"
      ]
     },
     "metadata": {
      "image/png": {
       "height": 420,
       "width": 420
      }
     },
     "output_type": "display_data"
    }
   ],
   "source": [
    "hist(USArrests$Assault, prob=TRUE, breaks=\"scott\")"
   ]
  },
  {
   "cell_type": "markdown",
   "metadata": {},
   "source": [
    "The two histogram functions hist and truehist have different default methods for determining the bin width, and the truehist function by default produces a probability histogram. The optional arguments of hist above match the defaults of truehist."
   ]
  },
  {
   "cell_type": "markdown",
   "metadata": {},
   "source": [
    "**Attaching a data frame**"
   ]
  },
  {
   "cell_type": "markdown",
   "metadata": {},
   "source": [
    "If we attach the data frame, the variables can be referenced directly by name, without the dollar sign operator. For example, computing the percent of crimes that are murders using vectorized operations can be done as:"
   ]
  },
  {
   "cell_type": "code",
   "execution_count": 94,
   "metadata": {},
   "outputs": [],
   "source": [
    "attach(USArrests)"
   ]
  },
  {
   "cell_type": "markdown",
   "metadata": {},
   "source": [
    "See [attach](https://www.rdocumentation.org/packages/base/versions/3.6.2/topics/attach)."
   ]
  },
  {
   "cell_type": "code",
   "execution_count": 95,
   "metadata": {},
   "outputs": [
    {
     "name": "stdout",
     "output_type": "stream",
     "text": [
      "[1] 4.881657 3.149606 2.431702 4.031150 2.764128 3.152434\n"
     ]
    }
   ],
   "source": [
    "murder.pct <- 100 * Murder / (Murder + Assault + Rape)\n",
    "print(head(murder.pct))"
   ]
  },
  {
   "cell_type": "markdown",
   "metadata": {},
   "source": [
    "If a data frame is attached, it can be detached when it is no longer needed using the detach function."
   ]
  },
  {
   "cell_type": "code",
   "execution_count": 96,
   "metadata": {},
   "outputs": [],
   "source": [
    "detach(USArrests)\n",
    "rm(murder.pct) #remove variable from memory"
   ]
  },
  {
   "cell_type": "markdown",
   "metadata": {},
   "source": [
    "See [detach](https://www.rdocumentation.org/packages/base/versions/3.6.2/topics/detach)."
   ]
  },
  {
   "cell_type": "markdown",
   "metadata": {},
   "source": [
    "An alternative to attaching a data frame is (sometimes) to use the with function. It is useful for displaying plots or summary statistics. However, variables created using with are local to it."
   ]
  },
  {
   "cell_type": "code",
   "execution_count": 97,
   "metadata": {},
   "outputs": [],
   "source": [
    "with(USArrests, expr={murder.pct = 100 * Murder / (Murder + Assault + Rape)})"
   ]
  },
  {
   "cell_type": "markdown",
   "metadata": {},
   "source": [
    "See [with](https://www.rdocumentation.org/packages/base/versions/3.6.2/topics/with)."
   ]
  },
  {
   "cell_type": "code",
   "execution_count": 98,
   "metadata": {},
   "outputs": [
    {
     "ename": "ERROR",
     "evalue": "Error in print(murder.pct): object 'murder.pct' not found\n",
     "output_type": "error",
     "traceback": [
      "Error in print(murder.pct): object 'murder.pct' not found\nTraceback:\n",
      "1. print(murder.pct)"
     ]
    }
   ],
   "source": [
    "print(murder.pct)"
   ]
  },
  {
   "cell_type": "markdown",
   "metadata": {},
   "source": [
    "The documentation for with states that “assignments within expr take place in the constructed environment and not in the user’s workspace.” So all computations involving the variable murder.pct created in the expr block of the with function would have to be completed within the scope of the expr block. This can sometimes lead to unexpected errors in an analysis that can easily go undetected."
   ]
  },
  {
   "cell_type": "markdown",
   "metadata": {},
   "source": [
    "Is it good programming practice to attach a data frame? A disadvantage is that there can be conflicts with names of variables already in the workspace. Many functions in R have a data argument, which allows the variables to be referenced by name within the list of arguments, without attaching the data frame. Unfortunately, some R functions (such as plot) do not have a data argument. The use of with could lead to unexpected programming errors, especially for novices. Overall, we find that attaching a data frame is sometimes helpful to make code more readable."
   ]
  },
  {
   "cell_type": "markdown",
   "metadata": {},
   "source": [
    "**Scatterplots and correlations**"
   ]
  },
  {
   "cell_type": "markdown",
   "metadata": {},
   "source": [
    "In the USArrests data all of the variables are numbers, so it is interesting to display scatterplots of different pairs of data to look for possible relations between the variables. We can display a single scatterplot using the plot function.... To obtain a plot of murders vs percent urban population we use"
   ]
  },
  {
   "cell_type": "code",
   "execution_count": 99,
   "metadata": {},
   "outputs": [],
   "source": [
    "attach(USArrests)"
   ]
  },
  {
   "cell_type": "code",
   "execution_count": 100,
   "metadata": {},
   "outputs": [
    {
     "data": {
      "image/png": "[encoded data removed]",
      "text/plain": [
       "plot without title"
      ]
     },
     "metadata": {
      "image/png": {
       "height": 420,
       "width": 420
      }
     },
     "output_type": "display_data"
    }
   ],
   "source": [
    "plot(UrbanPop, Murder)"
   ]
  },
  {
   "cell_type": "markdown",
   "metadata": {},
   "source": [
    "See [plot](https://www.rdocumentation.org/packages/graphics/versions/3.6.2/topics/plot)."
   ]
  },
  {
   "cell_type": "markdown",
   "metadata": {},
   "source": [
    "The plot does not reveal a very strong relation between murders and percent population. The pairs function can be used to display an array of scatterplots for each pair of variables."
   ]
  },
  {
   "cell_type": "code",
   "execution_count": 101,
   "metadata": {},
   "outputs": [
    {
     "data": {
      "image/png": "[encoded data removed]",
      "text/plain": [
       "plot without title"
      ]
     },
     "metadata": {
      "image/png": {
       "height": 420,
       "width": 420
      }
     },
     "output_type": "display_data"
    }
   ],
   "source": [
    "pairs(USArrests, cex.labels=1.1) #control size of diagonal labels"
   ]
  },
  {
   "cell_type": "markdown",
   "metadata": {},
   "source": [
    "See [pairs](https://www.rdocumentation.org/packages/graphics/versions/3.6.2/topics/pairs)."
   ]
  },
  {
   "cell_type": "markdown",
   "metadata": {},
   "source": [
    "There appears to be a positive association between murder and assault rates, but weak or no association between murder and percent urban population. There is a positive association between rape and percent urban population."
   ]
  },
  {
   "cell_type": "markdown",
   "metadata": {},
   "source": [
    "The correlation statistic measures the degree of linear association between two variables. One can obtain correlation for a pair of variables or a table of correlation statistics for a group of variables using the cor function. By default it computes the Pearson correlation coefficient."
   ]
  },
  {
   "cell_type": "code",
   "execution_count": 102,
   "metadata": {},
   "outputs": [
    {
     "data": {
      "text/html": [
       "0.0695726217359934"
      ],
      "text/latex": [
       "0.0695726217359934"
      ],
      "text/markdown": [
       "0.0695726217359934"
      ],
      "text/plain": [
       "[1] 0.06957262"
      ]
     },
     "metadata": {},
     "output_type": "display_data"
    }
   ],
   "source": [
    "cor(UrbanPop, Murder)"
   ]
  },
  {
   "cell_type": "code",
   "execution_count": 103,
   "metadata": {},
   "outputs": [
    {
     "data": {
      "text/html": [
       "<table class=\"dataframe\">\n",
       "<caption>A matrix: 4 × 4 of type dbl</caption>\n",
       "<thead>\n",
       "\t<tr><th></th><th scope=col>Murder</th><th scope=col>Assault</th><th scope=col>UrbanPop</th><th scope=col>Rape</th></tr>\n",
       "</thead>\n",
       "<tbody>\n",
       "\t<tr><th scope=row>Murder</th><td>1.00000000</td><td>0.8018733</td><td>0.06957262</td><td>0.5635788</td></tr>\n",
       "\t<tr><th scope=row>Assault</th><td>0.80187331</td><td>1.0000000</td><td>0.25887170</td><td>0.6652412</td></tr>\n",
       "\t<tr><th scope=row>UrbanPop</th><td>0.06957262</td><td>0.2588717</td><td>1.00000000</td><td>0.4113412</td></tr>\n",
       "\t<tr><th scope=row>Rape</th><td>0.56357883</td><td>0.6652412</td><td>0.41134124</td><td>1.0000000</td></tr>\n",
       "</tbody>\n",
       "</table>\n"
      ],
      "text/latex": [
       "A matrix: 4 × 4 of type dbl\n",
       "\\begin{tabular}{r|llll}\n",
       "  & Murder & Assault & UrbanPop & Rape\\\\\n",
       "\\hline\n",
       "\tMurder & 1.00000000 & 0.8018733 & 0.06957262 & 0.5635788\\\\\n",
       "\tAssault & 0.80187331 & 1.0000000 & 0.25887170 & 0.6652412\\\\\n",
       "\tUrbanPop & 0.06957262 & 0.2588717 & 1.00000000 & 0.4113412\\\\\n",
       "\tRape & 0.56357883 & 0.6652412 & 0.41134124 & 1.0000000\\\\\n",
       "\\end{tabular}\n"
      ],
      "text/markdown": [
       "\n",
       "A matrix: 4 × 4 of type dbl\n",
       "\n",
       "| <!--/--> | Murder | Assault | UrbanPop | Rape |\n",
       "|---|---|---|---|---|\n",
       "| Murder | 1.00000000 | 0.8018733 | 0.06957262 | 0.5635788 |\n",
       "| Assault | 0.80187331 | 1.0000000 | 0.25887170 | 0.6652412 |\n",
       "| UrbanPop | 0.06957262 | 0.2588717 | 1.00000000 | 0.4113412 |\n",
       "| Rape | 0.56357883 | 0.6652412 | 0.41134124 | 1.0000000 |\n",
       "\n"
      ],
      "text/plain": [
       "         Murder     Assault   UrbanPop   Rape     \n",
       "Murder   1.00000000 0.8018733 0.06957262 0.5635788\n",
       "Assault  0.80187331 1.0000000 0.25887170 0.6652412\n",
       "UrbanPop 0.06957262 0.2588717 1.00000000 0.4113412\n",
       "Rape     0.56357883 0.6652412 0.41134124 1.0000000"
      ]
     },
     "metadata": {},
     "output_type": "display_data"
    }
   ],
   "source": [
    "cor(USArrests)"
   ]
  },
  {
   "cell_type": "markdown",
   "metadata": {},
   "source": [
    "See [cor](https://www.rdocumentation.org/packages/stats/versions/3.6.2/topics/cor)."
   ]
  },
  {
   "cell_type": "markdown",
   "metadata": {},
   "source": [
    "All of the correlations are positive in sign. The small correlation of r =. 0.07 between Murder and UrbanPop is consistent with our interpretation of the scatterplot. There is a strong positive correlation (r = 0.80) between Murder and Assault, also consistent with the pairs-plot."
   ]
  },
  {
   "cell_type": "markdown",
   "metadata": {},
   "source": [
    "## Secciones 1.3, 1.4, 1.7, 1.8, 1.9, 1.10, 1.16, 1.17 del libro de texto \"Probability and Statistics with R\" de M.D. Ugarte, A. F. Militino, A. T. Arnholt, **2ed**."
   ]
  },
  {
   "cell_type": "markdown",
   "metadata": {},
   "source": [
    "El libro tiene github para sus scripts [alanarnholt/PASWR2E-Rscripts](https://github.com/alanarnholt/PASWR2E-Rscripts)"
   ]
  },
  {
   "cell_type": "markdown",
   "metadata": {},
   "source": [
    "Temas importantes a revisar:\n",
    "\n",
    "* Vectors (1.3)\n",
    "* Mode & Class of an Object (1.4)\n",
    "* Rstudio (1.7)\n",
    "* Packages (1.8)\n",
    "* R Data Structures (1.9)\n",
    "    * Arrays & Matrices\n",
    "    * Lists\n",
    "    * Data frames\n",
    "* Reading and Saving Data in R (1.10)\n",
    "* Flow Control (1.16)\n",
    "* Creating functions (1.17)"
   ]
  },
  {
   "cell_type": "markdown",
   "metadata": {},
   "source": [
    "Algunos enunciados relevantes en el libro:\n",
    "\n",
    "**sección 1.3**\n",
    "\n",
    "* \"... All of the elements of a **vector** must have the same mode, that is, data type...\". Para más sobre el *mode* de un objeto ver [3.1 Intrinsic attributes: mode and length](https://cran.r-project.org/doc/manuals/R-intro.html#The-intrinsic-attributes-mode-and-length).\n",
    "\n",
    "* \"..., how do vectors with more than one element interact with vectors containing a single element (scalars)? Mathematical operations may be applied to two vectors provided the vectors are of the same length. **When the two vectors are not of the same length, R recycles the values of the shorter vector until the length of the shorter vector matches that of the longer vector**... **\"...Objects of different modes stored together are automatically converted to the simplest mode to represent the information...\"**.\n",
    "\n",
    "* \"**Indices** for R vectors start at 1, unlike indices in C and C++, which start at 0. Individual elements of a vector are accessed with [] (square brackets)...\" (sección 1.3.2)\n",
    "\n",
    "**sección 1.4**\n",
    "\n",
    "* \"...Many functions in R will behave differently depending on the class of their arguments. **Functions** that behave in this fashion are known as generic functions. Two common generic functions are print() and summary()...\"\n",
    "\n",
    "* \"... Although the only type of data structure discussed thus far has been the vector, which was described as a variable and subsequently called an object, **everything in R is actually an object**. Stored results from analyses, matrices, arrays, vectors, and so on, are all considered objects in R...\" \n",
    "\n",
    "* \"...It is not always the case that the mode and class of an object coincide. The mode of a linear model object is stored as a list; however, the class of a linear model object is lm...\"\n",
    "\n",
    "**sección 1.9**\n",
    "\n",
    "* \"...The concept of a vector is crucial as other data structures are defined in terms of vectors... an array is a vector with a dimension attribute... a matrix is also a vector...most R lists are generic vectors...data frames are data structures similar to matrices that allow the columns (vectors) to be of different types... **Data frames are the fundamental data structure used for most R's modeling software**...\"\n",
    "\n",
    "* \"**Arrays** are multidimensional arrangements of elements. A very common example of an array is a **matrix**, which is a two-dimensional array\"\n",
    "\n",
    "* \"Although two-dimensional arrays are matrices and the array() function can be used to create a matrix, the matrix() function allows the user to create matrices by using row-major order as well as column-major order.\" Para ver más sobre arrays y matrices y operaciones, factorizaciones matriciales y concatenación: [5 Arrays and matrices](https://cran.r-project.org/doc/manuals/R-intro.html#Arrays-and-matrices)\n",
    "\n",
    "* \"A **factor** is a vector with additional information indicating the distinct values or levels of the vector. Many statistical problems use categorical variables to classify subjects or to subdivide the data. Examples include variables such as socioeconomic status, gender, and marriage status. When using R, one should store categorical data in factors. To create a factor from a vector, one can use the factor() function.\" (sección 1.9.3)\n",
    "\n",
    "* \"A **list** is an object whose elements can be of different modes\" (sección 1.9.4). Para ver más sobre listas ver: [6 Lists and data frames](https://cran.r-project.org/doc/manuals/R-intro.html#Lists-and-data-frames).\n",
    "\n",
    "* \"A **data frame** is similar to a matrix in the sense that it is a rectangular structure used to store information. **It is different in that all elements of a matrix must be of the same mode (numeric, character, etc.), but this restriction does not apply to data frames**...\" (sección 1.9.5).\n",
    "\n",
    "* Leer con atención el uso de la función `attach` y `detach` en la sección 1.9.5.2 \"Accessing Data Frames\" y sección 1.9.5.3 \"Accessing Data from Packages\"."
   ]
  },
  {
   "cell_type": "markdown",
   "metadata": {},
   "source": [
    "## Otras referencias utilizadas en esta nota:\n",
    "\n",
    "* https://cran.r-project.org/doc/manuals/R-intro.html"
   ]
  }
 ],
 "metadata": {
  "kernelspec": {
   "display_name": "R",
   "language": "R",
   "name": "ir"
  },
  "language_info": {
   "codemirror_mode": "r",
   "file_extension": ".r",
   "mimetype": "text/x-r-source",
   "name": "R",
   "pygments_lexer": "r",
   "version": "4.2.0"
  }
 },
 "nbformat": 4,
 "nbformat_minor": 4
}
