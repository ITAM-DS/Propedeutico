{
 "cells": [
  {
   "cell_type": "markdown",
   "metadata": {},
   "source": [
    "**Notas para contenedor de docker:**\n",
    "\n",
    "Comando de docker para ejecución de la nota de forma local:\n",
    "\n",
    "nota: cambiar `dir_montar` por la ruta de directorio que se desea mapear a `/datos` dentro del contenedor de docker.\n",
    "\n",
    "```\n",
    "dir_montar=<ruta completa de mi máquina a mi directorio>#aquí colocar la ruta al directorio a montar, por ejemplo: \n",
    "#dir_montar=/Users/erick/midirectorio.\n",
    "```\n",
    "\n",
    "Ejecutar:\n",
    "\n",
    "```\n",
    "$docker run --rm -v $dir_montar:/datos --name jupyterlab_prope_r_kernel_tidyverse -p 8888:8888 -d palmoreck/jupyterlab_prope_r_kernel_tidyverse:<versión imagen de docker>  \n",
    "\n",
    "```\n",
    "\n",
    "Ir a `localhost:8888` y escribir el password para jupyterlab: `qwerty`\n",
    "\n",
    "\n",
    "Detener el contenedor de docker:\n",
    "\n",
    "```\n",
    "docker stop jupyterlab_prope_r_kernel_tidyverse\n",
    "```\n",
    "\n",
    "Documentación de la imagen de docker palmoreck/jupyterlab_prope_r_kernel_tidyverse:<versión imagen de docker> en [liga](https://github.com/palmoreck/dockerfiles/tree/master/jupyterlab/prope_r_kernel_tidyverse)\n",
    "\n",
    "\n"
   ]
  },
  {
   "cell_type": "markdown",
   "metadata": {},
   "source": [
    "---"
   ]
  },
  {
   "cell_type": "markdown",
   "metadata": {},
   "source": [
    "Para ejecución de la nota usar:\n",
    "\n",
    "[docker](https://www.docker.com/) (instalación de forma **local** con [Get docker](https://docs.docker.com/install/)) y ejecutar comandos que están al inicio de la nota de forma **local**. \n",
    "\n",
    "O bien dar click en alguno de los botones siguientes:"
   ]
  },
  {
   "cell_type": "markdown",
   "metadata": {},
   "source": [
    "[![Binder](https://mybinder.org/badge_logo.svg)](https://mybinder.org/v2/gh/palmoreck/dockerfiles-for-binder/jupyterlab_prope_r_kernel_tidyerse?urlpath=lab/tree/Propedeutico/R/clases/2_probabilidad/6_teorema_de_Bayes.ipynb) esta opción crea una máquina individual en un servidor de Google, clona el repositorio y permite la ejecución de los notebooks de jupyter."
   ]
  },
  {
   "cell_type": "markdown",
   "metadata": {},
   "source": [
    "[![Run on Repl.it](https://repl.it/badge/github/palmoreck/dummy)](https://repl.it/languages/Rlang) esta opción no clona el repositorio, no ejecuta los notebooks de jupyter pero permite ejecución de instrucciones de Python de forma colaborativa con [repl.it](https://repl.it/). Al dar click se crearán nuevos ***repl*** debajo de sus users de ***repl.it***.\n"
   ]
  },
  {
   "cell_type": "markdown",
   "metadata": {},
   "source": [
    "### Lo siguiente está basado los libros:\n",
    "\n",
    "### * B. Rumbos, Pensando Antes de Actuar: Fundamentos de Elección Racional, 2009.\n",
    "\n",
    "### * G. J. Kerns, Introduction to Probability and Statistics Using R, 2014."
   ]
  },
  {
   "cell_type": "markdown",
   "metadata": {},
   "source": [
    "### El libro de G. J. Kerns tiene github: [jkerns/IPSUR](https://github.com/gjkerns/IPSUR)"
   ]
  },
  {
   "cell_type": "markdown",
   "metadata": {},
   "source": [
    "**Notas:**\n",
    "\n",
    "* Se utilizará el paquete [prob](https://cran.r-project.org/web/packages/prob/index.html) de *R* para los experimentos descritos en la nota y aunque con funciones nativas de *R* se pueden crear los experimentos, se le da preferencia a mostrar cómo en *R* se tienen paquetes para muchas aplicaciones.\n",
    "\n",
    "* Cuidado al utilizar las funciones del paquete `prob` para construir espacios de probabilidad grandes como lanzar un dado 9 veces... (tal experimento tiene 10 millones de posibles resultados)"
   ]
  },
  {
   "cell_type": "code",
   "execution_count": 1,
   "metadata": {},
   "outputs": [],
   "source": [
    "options(repr.plot.width=4, repr.plot.height=4) #esta línea sólo se ejecuta para jupyterlab con R"
   ]
  },
  {
   "cell_type": "code",
   "execution_count": 2,
   "metadata": {},
   "outputs": [
    {
     "name": "stderr",
     "output_type": "stream",
     "text": [
      "Loading required package: combinat\n",
      "\n",
      "\n",
      "Attaching package: ‘combinat’\n",
      "\n",
      "\n",
      "The following object is masked from ‘package:utils’:\n",
      "\n",
      "    combn\n",
      "\n",
      "\n",
      "Loading required package: fAsianOptions\n",
      "\n",
      "Loading required package: timeDate\n",
      "\n",
      "Loading required package: timeSeries\n",
      "\n",
      "Loading required package: fBasics\n",
      "\n",
      "Loading required package: fOptions\n",
      "\n",
      "\n",
      "Attaching package: ‘prob’\n",
      "\n",
      "\n",
      "The following objects are masked from ‘package:base’:\n",
      "\n",
      "    intersect, setdiff, union\n",
      "\n",
      "\n"
     ]
    }
   ],
   "source": [
    "library(prob)"
   ]
  },
  {
   "cell_type": "markdown",
   "metadata": {},
   "source": [
    "# Teorema de Bayes"
   ]
  },
  {
   "cell_type": "markdown",
   "metadata": {},
   "source": [
    "Supongamos que $E$ y $E^c$ representan los eventos de tener o no una enfermedad viral y que existe una prueba sanguínea para detectar este virus. Denotamos por $+$ al evento de tener una **prueba positiva** y por $-$ al que sea **negativa**. Las probabilidades $P(E)$ y $P(E^c)$ pueden pensarse como las probabilidades **a priori** o **iniciales** de tener o no la enfermedad respectivamente."
   ]
  },
  {
   "cell_type": "markdown",
   "metadata": {},
   "source": [
    "La probabilidad $P(E|+)$ cuantifica la probabilidad de tener la enfermedad dado que la prueba de sangre resultó positiva para el virus, es decir, mide **qué tan confiable es el resultado de la prueba** y se llaman probabilidades a **posteriori** o **finales** pues ya **contamos con información** acerca de la prueba de sangre. Una forma de calcularla es la siguiente:"
   ]
  },
  {
   "cell_type": "markdown",
   "metadata": {},
   "source": [
    "$$P(E|+) = \\frac{P(E \\cap +)}{P(+)} = \\frac{P(+|E)P(E)}{P(+)} = \\frac{P(+|E)P(E)}{P(+ \\cap E) + P(+ \\cap E^c)} = \\frac{P(+|E)P(E)}{P(+|E)P(E) + P(+|E^c)P(E^c)}$$"
   ]
  },
  {
   "cell_type": "markdown",
   "metadata": {},
   "source": [
    "**Obs:** obsérvese que se ha utilizado el **teorema de probabilidad total** en el denominador para calcular $P(+)$. Ver [2_propiedades_de_la_probabilidad](https://github.com/ITAM-DS/Propedeutico/blob/master/R/clases/2_probabilidad/2_propiedades_de_la_probabilidad.ipynb)"
   ]
  },
  {
   "cell_type": "markdown",
   "metadata": {},
   "source": [
    "Asimismo, $P(E|+), P(E^c|+), P(E|-)$ y $P(E^c|-)$ son probabilidades a posteriori o finales. Las probabilidades a posteriori son una **revisión de las probabilidades originales (las a priori o iniciales)**, actualizadas con la nueva información del resultado de la prueba de sangre. "
   ]
  },
  {
   "cell_type": "markdown",
   "metadata": {},
   "source": [
    "En contraste, la probabilidad $P(+|E)$ es la probabilidad de que la prueba resulte positiva dado que tenemos la enfermedad. Este número mide **qué tan confiable es la prueba de sangre**."
   ]
  },
  {
   "cell_type": "markdown",
   "metadata": {},
   "source": [
    "El cálculo previo para $P(E|+)$ se le conoce con el nombre de **teorema o fórmula o regla de Bayes**:"
   ]
  },
  {
   "cell_type": "markdown",
   "metadata": {},
   "source": [
    "Sean $E, E^c$ eventos complementarios de un espacio muestral y sea $F$ algún evento tal que $P(F)\\neq 0$, entonces, la probabilidad a posteriori o final de $E$ dado $F$ está dada por:\n",
    "\n",
    "$$P(E|F) = \\frac{P(F|E)P(E)}{P(F)}$$"
   ]
  },
  {
   "cell_type": "markdown",
   "metadata": {},
   "source": [
    "o equivalentemente, $$P(E|F) = \\frac{P(F|E)P(E)}{P(F|E)P(E) + P(F|E^c)P(E^c)}$$"
   ]
  },
  {
   "cell_type": "markdown",
   "metadata": {},
   "source": [
    "En general si el espacio muestral es la unión de los eventos $E_1, E_2,\\dots , E_n$ que son mutuamente excluyentes (nombrados también ajenos), exhaustivos y $F$ es algún evento con $P(F)\\neq 0$, la fórmula anterior se generaliza como sigue:\n",
    "\n",
    "$$P(E_i|F) = \\frac{P(F|E_i)P(E_i)}{P(F)} = \\frac{P(F|E_i)P(E_i)}{\\displaystyle \\sum_{j=1}^nP(F|E_j)P(E_j)}$$"
   ]
  },
  {
   "cell_type": "markdown",
   "metadata": {},
   "source": [
    "**Comentario:** la mayor aportación de **Thomas Bayes** (1702-1761) radica en la idea de inferencia inversa, que va de los efectos a las causas, en lugar de ir de las causas a los efectos. Si $E$ es la causa y $F$ el efecto, $P (E | F )$ representa la probabilidad de la causa dado que se observó el efecto. El teorema de Bayes contesta preguntas como, dado que el pavimento está mojado, ¿cuál es la probabilidad de que hubiese llovido? Dado que un testigo es confiable, ¿qué tan confiable es su testimonio? Dado que aumentó el desempleo, ¿qué tan probable es que haya una recesión económica?"
   ]
  },
  {
   "cell_type": "markdown",
   "metadata": {},
   "source": [
    "## Ejemplos"
   ]
  },
  {
   "cell_type": "markdown",
   "metadata": {},
   "source": [
    "1) La prueba para detectar la presencia de ciertos esteroides en el cuerpo de los atletas tiene falsos positivos, si la prueba es positiva sin haber utilizado esteroides y falsos negativos, si la prueba es negativa a pesar de haber utilizado esteroides. Denotemos por $E$ y $E^c$ a los eventos de haber utilizado o no esteroides y por $+$ y $-$ al resultado de una prueba de sangre positiva o negativa, respectivamente. Supongamos que se estima que el 4 % de cierto grupo de atletas ha utilizado esteroides, de manera que: $$P(E)= 0.04, P(E^c) = 0.96$$"
   ]
  },
  {
   "cell_type": "markdown",
   "metadata": {},
   "source": [
    "y que los falsos positivos y negativos están dados por $0.06, 0.05$ respectivamente."
   ]
  },
  {
   "cell_type": "markdown",
   "metadata": {},
   "source": [
    "Esto nos dice que en un $6\\%$ de los casos un atleta que no utiliza esteroides tiene una prueba positiva y, en un $5\\%$ un atleta que si los ha utilizado tiene una prueba negativa. Supongamos que un atleta es sometido a la prueba y ésta sale positiva, ¿cuál es la probabilidad de que haya utilizado esteroides? y ¿cuál es la probabilidad que no haya utilizado esteroides?"
   ]
  },
  {
   "cell_type": "markdown",
   "metadata": {},
   "source": [
    "2) Considerar el escenario del ejercicio anterior. Suponer que se realiza una segunda prueba, (condicionalmente) independiente de la primera. Calcular $P(E|+ \\cap +)$."
   ]
  },
  {
   "cell_type": "markdown",
   "metadata": {},
   "source": [
    "**(Tarea)** 3) Un albino es enjuiciado por haber cometido un crimen. El testigo principal asegura haber visto los hechos a través de una ventana de su casa e identifica a un individuo albino como el criminal. Realizando pruebas para la credibilidad del testigo, se determina que a la distancia y en las condiciones de luz desde las cuales presenció el crimen, identifica correctamente a una persona albina o no albina un 95% de las veces. Aproximadamente una de cada 17 mil personas presenta la condición de albinismo. ¿Cuál es la probabilidad de que el albino haya cometido el crimen dado que el testigo lo identificó?"
   ]
  },
  {
   "cell_type": "markdown",
   "metadata": {},
   "source": [
    "## (Tarea) Ejercicios"
   ]
  },
  {
   "cell_type": "markdown",
   "metadata": {},
   "source": [
    "**Nota: Varios de los siguientes ejercicios tienen su solución en las referencias dadas al inicio de la nota. Se sugiere resolverlos por su cuenta y posteriormente compararlos con sus respectivas soluciones.**"
   ]
  },
  {
   "cell_type": "markdown",
   "metadata": {},
   "source": [
    "1)El siguiente es un mecanismo conocido para elegir a una persona de un grupo pequeño. Digamos que en un grupo de 4 personas quiere seleccionarse a una de ellas para que realice alguna actividad, digamos ir por cervezas a la hielera. Para este efecto, se toman 4 palillos y uno de ellos se recorta; así, se tienen tres palillos largos y uno corto. Las personas toman turnos tomando palillos, ignorando cuál es el corto, y el que saca el palillo corto es el elegido para ir por las cervezas. ¿Tiene alguna ventaja escoger primero, segundo, tercero o cuarto?\n",
    "\n",
    "2)Considera el mismo escenario que el ejemplo $3$ pero en lugar de que el sospechoso sea un individuo albino ahora se tiene:\n",
    "\n",
    "a) El sospechoso del crimen es un individuo pelirrojo y la probabilidad de ser pelirrojo es del $2 \\%$. Encontrar $P(\\text{\\{pelirrojo\\}} | +),$ en donde $+$ representa: “el testigo identifica a una persona como pelirroja”.\n",
    "\n",
    "b) El sospechoso es un individuo de pelo rubio y la probabilidad de tener el pelo rubio es del $15 \\%$. Encontrar $P(\\text{\\{rubio\\}} | +)$, en donde $+$ representa: \"el testigo identifica a una persona como rubia\"."
   ]
  }
 ],
 "metadata": {
  "kernelspec": {
   "display_name": "R",
   "language": "R",
   "name": "ir"
  },
  "language_info": {
   "codemirror_mode": "r",
   "file_extension": ".r",
   "mimetype": "text/x-r-source",
   "name": "R",
   "pygments_lexer": "r",
   "version": "4.2.0"
  }
 },
 "nbformat": 4,
 "nbformat_minor": 4
}
