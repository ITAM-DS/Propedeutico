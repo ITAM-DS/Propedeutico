{
 "cells": [
  {
   "cell_type": "markdown",
   "metadata": {},
   "source": [
    "**Notas para contenedor de docker:**"
   ]
  },
  {
   "cell_type": "markdown",
   "metadata": {},
   "source": [
    "Comando de docker para ejecución de la nota de forma local:\n",
    "\n",
    "nota: cambiar `dir_montar` por la ruta de directorio que se desea mapear a `/datos` dentro del contenedor de docker.\n",
    "\n",
    "```\n",
    "dir_montar=<ruta completa de mi máquina a mi directorio>#aquí colocar la ruta al directorio a montar, por ejemplo: \n",
    "#dir_montar=/Users/erick/midirectorio.\n",
    "```\n",
    "\n",
    "Ejecutar:\n",
    "\n",
    "```\n",
    "$docker run --rm -v $dir_montar:/datos --name jupyterlab_prope_r_kernel_tidyverse -p 8888:8888 -d palmoreck/jupyterlab_prope_r_kernel_tidyverse:3.0.16   \n",
    "\n",
    "```"
   ]
  },
  {
   "cell_type": "markdown",
   "metadata": {},
   "source": [
    "Ir a `localhost:8888` y escribir el password para jupyterlab: `qwerty`\n",
    "\n",
    "Detener el contenedor de docker:\n",
    "\n",
    "```\n",
    "docker stop jupyterlab_prope_r_kernel_tidyverse\n",
    "```\n"
   ]
  },
  {
   "cell_type": "markdown",
   "metadata": {},
   "source": [
    "Documentación de la imagen de docker `palmoreck/jupyterlab_prope_r_kernel_tidyverse:3.0.16` en [liga](https://github.com/palmoreck/dockerfiles/tree/master/jupyterlab/prope_r_kernel_tidyverse)."
   ]
  },
  {
   "cell_type": "markdown",
   "metadata": {},
   "source": [
    "---"
   ]
  },
  {
   "cell_type": "markdown",
   "metadata": {},
   "source": [
    "Para ejecución de la nota usar:\n",
    "\n",
    "[docker](https://www.docker.com/) (instalación de forma **local** con [Get docker](https://docs.docker.com/install/)) y ejecutar comandos que están al inicio de la nota de forma **local**. \n",
    "\n",
    "O bien dar click en alguno de los botones siguientes:"
   ]
  },
  {
   "cell_type": "markdown",
   "metadata": {},
   "source": [
    "[![Binder](https://mybinder.org/badge_logo.svg)](https://mybinder.org/v2/gh/palmoreck/dockerfiles-for-binder/jupyterlab_prope_r_kernel_tidyerse?urlpath=lab/tree/Propedeutico/R/clases/2_probabilidad/2_propiedades_de_la_probabilidad.ipynb) esta opción crea una máquina individual en un servidor de Google, clona el repositorio y permite la ejecución de los notebooks de jupyter."
   ]
  },
  {
   "cell_type": "markdown",
   "metadata": {},
   "source": [
    "[![Run on Repl.it](https://repl.it/badge/github/palmoreck/dummy)](https://repl.it/languages/Rlang) esta opción no clona el repositorio, no ejecuta los notebooks de jupyter pero permite ejecución de instrucciones de Python de forma colaborativa con [repl.it](https://repl.it/). Al dar click se crearán nuevos ***repl*** debajo de sus users de ***repl.it***.\n"
   ]
  },
  {
   "cell_type": "markdown",
   "metadata": {},
   "source": [
    "### Lo siguiente está basado los libros:\n",
    "\n",
    "### * B. Rumbos, Pensando Antes de Actuar: Fundamentos de Elección Racional, 2009.\n",
    "\n",
    "### * G. J. Kerns, Introduction to Probability and Statistics Using R, 2014."
   ]
  },
  {
   "cell_type": "markdown",
   "metadata": {},
   "source": [
    "### El libro de G. J. Kerns tiene github: [jkerns/IPSUR](https://github.com/gjkerns/IPSUR)"
   ]
  },
  {
   "cell_type": "markdown",
   "metadata": {},
   "source": [
    "**Notas:**\n",
    "\n",
    "* Se utilizará el paquete [prob](https://cran.r-project.org/web/packages/prob/index.html) de R para los experimentos descritos en la nota y aunque con funciones nativas de R se pueden crear los experimentos, se le da preferencia a mostrar cómo en R se tienen paquetes para muchas aplicaciones.\n",
    "\n",
    "* En algunas líneas no es necesario colocar `print` y sólo se ha realizado para mostrar los resultados de las funciones en un formato similar al de R pues la nota se escribió con jupyterlab y R.\n",
    "\n",
    "* Cuidado al utilizar las funciones del paquete `prob` para construir espacios de probabilidad grandes como lanzar un dado 9 veces... (tal experimento tiene 10 millones de posibles resultados)"
   ]
  },
  {
   "cell_type": "code",
   "execution_count": 1,
   "metadata": {},
   "outputs": [],
   "source": [
    "options(repr.plot.width=4, repr.plot.height=4) #esta línea sólo se ejecuta para jupyterlab con R"
   ]
  },
  {
   "cell_type": "code",
   "execution_count": 2,
   "metadata": {},
   "outputs": [
    {
     "name": "stderr",
     "output_type": "stream",
     "text": [
      "Loading required package: combinat\n",
      "\n",
      "\n",
      "Attaching package: ‘combinat’\n",
      "\n",
      "\n",
      "The following object is masked from ‘package:utils’:\n",
      "\n",
      "    combn\n",
      "\n",
      "\n",
      "Loading required package: fAsianOptions\n",
      "\n",
      "Loading required package: timeDate\n",
      "\n",
      "Loading required package: timeSeries\n",
      "\n",
      "Loading required package: fBasics\n",
      "\n",
      "Loading required package: fOptions\n",
      "\n",
      "\n",
      "Attaching package: ‘prob’\n",
      "\n",
      "\n",
      "The following objects are masked from ‘package:base’:\n",
      "\n",
      "    intersect, setdiff, union\n",
      "\n",
      "\n"
     ]
    }
   ],
   "source": [
    "library(prob)"
   ]
  },
  {
   "cell_type": "markdown",
   "metadata": {},
   "source": [
    "# Funciones de probabilidad"
   ]
  },
  {
   "cell_type": "markdown",
   "metadata": {},
   "source": [
    "Una función de probabilidad es una regla que le asocia a cada evento $E$ del espacio muestral o espacio de resultados $S$, un único número $P(E) = p$ llamado probabilidad de $E$. Cualquier función de probabilidad $P$ satisface los siguientes axiomas de Kolmogorov:\n",
    "\n",
    "1) $P(E) \\geq 0$ para cualquier evento $E \\subset S$.\n",
    "\n",
    "2) $P(S) = 1$.\n",
    "\n",
    "3) Si los eventos $E_1, E_2, E_3, \\dots $ son ajenos entonces:\n",
    "\n",
    "$$P(\\displaystyle \\cup_{i=1}^n E_i) = \\sum_{i=1}^nP(E_i)$$ para toda $n$ y aún más: "
   ]
  },
  {
   "cell_type": "markdown",
   "metadata": {},
   "source": [
    "$$P(\\displaystyle \\cup_{i=1}^\\infty E_i) = \\sum_{i=1}^\\infty P(E_i)$$"
   ]
  },
  {
   "cell_type": "markdown",
   "metadata": {},
   "source": [
    "---\n",
    "\n",
    "**Observación** \n",
    "\n",
    "Para el último axioma piénsese en ¿cuál es la probabilidad de sacar un $1$ o un $2$ al lanzar un dado? como los eventos {sacar un $1$} y {sacar un $2$} son ajenos entonces la probabilidad de la unión es la suma de probabilidades.\n",
    "\n",
    "---"
   ]
  },
  {
   "cell_type": "markdown",
   "metadata": {},
   "source": [
    "# Propiedades"
   ]
  },
  {
   "cell_type": "markdown",
   "metadata": {},
   "source": [
    "Para cualquier par de eventos $E$ y $F$ se tiene:\n",
    "\n",
    "1) $P(E^c) = 1-P(E)$.\n",
    "\n",
    "2) $P(\\emptyset) = 0$.\n",
    "\n",
    "3) Si $E \\subset F$ entonces $P(E) \\leq P(F)$.\n",
    "\n",
    "4) $0 \\leq P(E) \\leq 1$.\n",
    "\n",
    "5) $P(E \\cup F) = P(E) + P(F) - P(E \\cap F)$ y más general: si $E_1, E_2, \\dots E_n$ son eventos entonces: "
   ]
  },
  {
   "cell_type": "markdown",
   "metadata": {},
   "source": [
    "$$P(\\displaystyle \\cup_{i=1}^n E_i ) = \\sum_{i=1}^nP(E_i) - \\sum_{i=1}^{n-1} \\sum_{j=i+1}^n P(E_i \\cap E_j) + \\dots + (-1)^{n-1}P(\\cap_{i=1}^n E_i)$$\n",
    "\n"
   ]
  },
  {
   "cell_type": "markdown",
   "metadata": {},
   "source": [
    "6) Si $F_1, F_2, \\dots, F_n$ son eventos mutuamente excluyentes y exhaustivos entonces: $P(E) = \\displaystyle \\sum_{i=1}^nP(E \\cap F_i)$ (teorema de probabilidad total).\n"
   ]
  },
  {
   "cell_type": "markdown",
   "metadata": {},
   "source": [
    "# Asignando probabilidades bajo el modelo equiprobable"
   ]
  },
  {
   "cell_type": "markdown",
   "metadata": {},
   "source": [
    "**Eventos elementales** son aquellos que dividen al espacio de resultados $S$ en una colección finita de eventos $\\{e_1, e_2, \\dots e_n \\}$ tal que cada $e_i$ tiene la misma probabilidad de ocurrir, son ajenos entre cada uno de ellos y cumplen:\n",
    "\n",
    "$$ P(S) = P(\\{e_1, e_2, \\dots , e_n\\}) = P(e_1 \\cup e_2 \\cup \\dots \\cup e_n) = \\displaystyle \\sum_{i=1}^n P(e_i)$$\n",
    "\n"
   ]
  },
  {
   "cell_type": "markdown",
   "metadata": {},
   "source": [
    "---\n",
    "\n",
    "**Observación** \n",
    "\n",
    "Obsérvese que este es el modelo equiprobable.\n",
    "\n",
    "---"
   ]
  },
  {
   "cell_type": "markdown",
   "metadata": {},
   "source": [
    "Bajo este modelo por lo tanto se tiene $P(e_i) = \\frac{1}{n}$ $\\forall i=1,2,\\dots ,n$ y para un evento $E \\subset S$ si $E$ se escribe como una colección de eventos elementales $E = \\{e_{i_1}, e_{i_2}, \\dots e_{i_k}\\}$ entonces $E$ tiene $k$ elementos y: $$P(E) = \\displaystyle \\sum_{i_j= 1}^kP(e_{i_j}) = \\displaystyle \\sum_{i_j=1}^k\\frac{1}{n}=\\frac{k}{n} = \\frac{\\#(E)}{\\#(S)}.$$"
   ]
  },
  {
   "cell_type": "markdown",
   "metadata": {},
   "source": [
    "Entonces bajo el modelo equiprobable, la probabilidad del evento $E$ está determinado por el número de eventos elementales que $E$ contiene."
   ]
  },
  {
   "cell_type": "markdown",
   "metadata": {},
   "source": [
    "## Ejemplos"
   ]
  },
  {
   "cell_type": "markdown",
   "metadata": {},
   "source": [
    "1) Lanzamiento de una moneda: $S = \\{\\text{águila}, \\text{sol}\\}$ y bajo el modelo equiprobable $P(\\text{águila}) = P(\\text{sol}) = \\frac{1}{2}$."
   ]
  },
  {
   "cell_type": "markdown",
   "metadata": {},
   "source": [
    "2)Lanzamiento de dos monedas **distintas** justas: $S = \\{AA, SA, AS, SS \\}$, bajo el modelo equiprobable (que es razonable de suponer pues cada moneda se lanza de una forma independiente e idéntica) $P(\\{SA\\}) = \\frac{1}{4}$ donde estamos calculando la probabilidad de obtener exactamente {SA} en este orden\\*."
   ]
  },
  {
   "cell_type": "markdown",
   "metadata": {},
   "source": [
    "\\* Este experimento es equivalente al de lanzar una sola moneda dos veces.\n",
    "\n",
    "\\* La probabilidad de obtener un águila y un sol es:\n",
    "\n",
    "$P(\\{AS\\} \\cup \\{SA\\}) = \\frac{1}{4} + \\frac{1}{4} = \\frac{1}{2}$\n",
    "\n",
    "pues no se hace distinción entre {SA} o {AS}.\n",
    "\n",
    "\\* Si las monedas no fueran distintas se puede argumentar que el evento {SA} y {AS} son eventos indistinguibles como en el punto anterior. Para este caso la probabilidad de $P(\\{SA\\})$ debe ser mayor que la de los eventos {AA} o {SS}. En concreto: $P(\\{SA\\}) = P(\\{SA\\} \\cup \\{AS\\}) = \\frac{1}{4} + \\frac{1}{4} = \\frac{1}{2}$. Otra forma es pensar a este experimento como el lanzamiento de un dado de cuatro caras en el que tenemos números del 1 al 3 y uno de los números está repetido (por lo que tenemos un dado cargado). Asociamos {SA} al número repetido en el dado por lo que su probabilidad también es $\\frac{1}{4} + \\frac{1}{4} = \\frac{1}{2}$"
   ]
  },
  {
   "cell_type": "markdown",
   "metadata": {},
   "source": [
    "### ¿Cómo hacerlo en R?"
   ]
  },
  {
   "cell_type": "markdown",
   "metadata": {},
   "source": [
    "En el paquete `prob` las probabilidades pueden calcularse con la función [Prob](https://www.rdocumentation.org/packages/prob/versions/1.0-1/topics/prob)."
   ]
  },
  {
   "cell_type": "markdown",
   "metadata": {},
   "source": [
    "Considérese el experimento de sacar una carta de una baraja. Sea $S$ el espacio de probabilidad asociado con el experimento y $E$ y $F$ subconjuntos de $S$ definidos como:"
   ]
  },
  {
   "cell_type": "code",
   "execution_count": 3,
   "metadata": {},
   "outputs": [],
   "source": [
    "S <- cards(makespace = TRUE) #arg makespace will compute probabilities\n",
    "                             #under equally likely model\n",
    "E <- subset(S, suit == \"Heart\")\n",
    "F <- subset(S, rank %in% 7:9)"
   ]
  },
  {
   "cell_type": "code",
   "execution_count": 4,
   "metadata": {},
   "outputs": [
    {
     "data": {
      "text/html": [
       "<style>\n",
       ".list-inline {list-style: none; margin:0; padding: 0}\n",
       ".list-inline>li {display: inline-block}\n",
       ".list-inline>li:not(:last-child)::after {content: \"\\00b7\"; padding: 0 .5ex}\n",
       "</style>\n",
       "<ol class=list-inline><li>'rank'</li><li>'suit'</li><li>'probs'</li></ol>\n"
      ],
      "text/latex": [
       "\\begin{enumerate*}\n",
       "\\item 'rank'\n",
       "\\item 'suit'\n",
       "\\item 'probs'\n",
       "\\end{enumerate*}\n"
      ],
      "text/markdown": [
       "1. 'rank'\n",
       "2. 'suit'\n",
       "3. 'probs'\n",
       "\n",
       "\n"
      ],
      "text/plain": [
       "[1] \"rank\"  \"suit\"  \"probs\""
      ]
     },
     "metadata": {},
     "output_type": "display_data"
    }
   ],
   "source": [
    "colnames(S)"
   ]
  },
  {
   "cell_type": "markdown",
   "metadata": {},
   "source": [
    "Entonces se puede calcular: "
   ]
  },
  {
   "cell_type": "code",
   "execution_count": 5,
   "metadata": {},
   "outputs": [
    {
     "data": {
      "text/html": [
       "0.25"
      ],
      "text/latex": [
       "0.25"
      ],
      "text/markdown": [
       "0.25"
      ],
      "text/plain": [
       "[1] 0.25"
      ]
     },
     "metadata": {},
     "output_type": "display_data"
    }
   ],
   "source": [
    "Prob(E) #we also could have computed it as Prob(S, suit == 'Heart')\n",
    "        #this one is the probability of drawing a heart from a deck of 52 cards"
   ]
  },
  {
   "cell_type": "code",
   "execution_count": 7,
   "metadata": {},
   "outputs": [
    {
     "data": {
      "text/html": [
       "0.230769230769231"
      ],
      "text/latex": [
       "0.230769230769231"
      ],
      "text/markdown": [
       "0.230769230769231"
      ],
      "text/plain": [
       "[1] 0.2307692"
      ]
     },
     "metadata": {},
     "output_type": "display_data"
    }
   ],
   "source": [
    "Prob(F) #probability of drawing one card either of 7 or 8 or 9 numbers\n",
    "        #from a deck of 52 cards, doesn't matter the suit"
   ]
  },
  {
   "cell_type": "markdown",
   "metadata": {},
   "source": [
    "---\n",
    "\n",
    "**Observación** \n",
    "\n",
    "La función `Prob` opera al sumar la columna `probs` de sus argumentos y encuentra subconjuntos al ejecutarse si son requeridos. Tiene tres argumentos: `x` que es el espacio de probabilidad (o un subconjunto de este), `event`, que es una expresión lógica usada para definir un subconjunto y `given` que se verá más adelante. `Prob(x,event)` calcula: `Prob(intersect(x, subset(x, event)))`.\n",
    "\n",
    "---"
   ]
  },
  {
   "cell_type": "markdown",
   "metadata": {},
   "source": [
    "## (Tarea) Ejercicios"
   ]
  },
  {
   "cell_type": "markdown",
   "metadata": {},
   "source": [
    "**Nota: Varios de los siguientes ejercicios tienen su solución en las referencias dadas al inicio de la nota. Se sugiere resolverlos por su cuenta y posteriormente compararlos con sus respectivas soluciones.**"
   ]
  },
  {
   "cell_type": "markdown",
   "metadata": {},
   "source": [
    "Calcula las siguientes probabilidades suponiendo el modelo equiprobable y experimentos justos:\n",
    "\n",
    "1) Durante 5 años el profesor X ha impartido el mismo curso. En total ha tenido 500 alumnos, de los cuales 80 se han dado de baja, 200 han reprobado y 220 han aprobado. Nos encontramos a uno de estos exalumnos. ¿Cuál es la probabilidad de que éste se haya dado de baja en el curso?\n",
    "\n",
    "2) Una moneda se lanza al aire 300 veces y se obtienen 152 águilas y 148 soles. ¿Cuál es la probabilidad de sacar un águila?\n",
    "\n",
    "3) El año pasado nacieron 1613 mujeres y 1531 hombres en la Delegación Coyoacán. Si se selecciona uno de estos bebes al azar, ¿cuál es la probabilidad de que sea niña? \n",
    "\n",
    "4) Se lanza un dado de seis caras al aire. Sean los eventos $E=${el resultado es un número par} y $F=${el resultado es un número primo}. Calcular la probabilidad de “el resultado es un número par o un número primo”.\n",
    "\n",
    "5) ¿Cuál es la probabilidad de tener exactamente dos hijos varones en una familia de tres hijos?  ¿a lo más dos hijos varones?\n",
    "\n",
    "6) Considera una baraja ¿cuál es la probabilidad de sacar un as? ¿de un corazón? ¿de un as de corazones? ¿de un as o de un corazón?\n",
    "\n",
    "7) Un sondeo de opinión entre la población adulta acerca de si se desea una nueva línea del metro nos da los siguientes resultados:\n",
    "\n",
    "\n",
    "|----|A favor|En contra|Total|\n",
    "|:---:|:---:|:---:|:---:\n",
    "|Mujeres|210|50|260|\n",
    "|Hombres|180|60|240|\n",
    "|Total|390|110|500|\n",
    "\n",
    "Sea $F$ el evento “la persona encuestada es mujer” y $C$ el evento “está en contra de la nueva línea del Metro”. Calcular $P(F), P(C), P(F \\cap C), P(F \\cup C)$."
   ]
  }
 ],
 "metadata": {
  "kernelspec": {
   "display_name": "R",
   "language": "R",
   "name": "ir"
  },
  "language_info": {
   "codemirror_mode": "r",
   "file_extension": ".r",
   "mimetype": "text/x-r-source",
   "name": "R",
   "pygments_lexer": "r",
   "version": "4.1.0"
  }
 },
 "nbformat": 4,
 "nbformat_minor": 4
}
