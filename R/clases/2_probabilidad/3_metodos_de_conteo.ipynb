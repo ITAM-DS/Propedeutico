{
 "cells": [
  {
   "cell_type": "markdown",
   "metadata": {},
   "source": [
    "**Notas para contenedor de docker:**"
   ]
  },
  {
   "cell_type": "markdown",
   "metadata": {},
   "source": [
    "Comando de docker para ejecución de la nota de forma local:\n",
    "\n",
    "nota: cambiar `dir_montar` por la ruta de directorio que se desea mapear a `/datos` dentro del contenedor de docker.\n",
    "\n",
    "```\n",
    "dir_montar=<ruta completa de mi máquina a mi directorio>#aquí colocar la ruta al directorio a montar, por ejemplo: \n",
    "#dir_montar=/Users/erick/midirectorio.\n",
    "```\n",
    "\n",
    "Ejecutar:\n",
    "\n",
    "```\n",
    "$docker run --rm -v $dir_montar:/datos --name jupyterlab_prope_r_kernel_tidyverse -p 8888:8888 -d palmoreck/jupyterlab_prope_r_kernel_tidyverse:3.0.16   \n",
    "\n",
    "```"
   ]
  },
  {
   "cell_type": "markdown",
   "metadata": {},
   "source": [
    "Ir a `localhost:8888` y escribir el password para jupyterlab: `qwerty`\n",
    "\n",
    "Detener el contenedor de docker:\n",
    "\n",
    "```\n",
    "docker stop jupyterlab_prope_r_kernel_tidyverse\n",
    "```\n"
   ]
  },
  {
   "cell_type": "markdown",
   "metadata": {},
   "source": [
    "Documentación de la imagen de docker `palmoreck/jupyterlab_prope_r_kernel_tidyverse:3.0.16` en [liga](https://github.com/palmoreck/dockerfiles/tree/master/jupyterlab/prope_r_kernel_tidyverse)."
   ]
  },
  {
   "cell_type": "markdown",
   "metadata": {},
   "source": [
    "---"
   ]
  },
  {
   "cell_type": "markdown",
   "metadata": {},
   "source": [
    "Para ejecución de la nota usar:\n",
    "\n",
    "[docker](https://www.docker.com/) (instalación de forma **local** con [Get docker](https://docs.docker.com/install/)) y ejecutar comandos que están al inicio de la nota de forma **local**. \n",
    "\n",
    "O bien dar click en alguno de los botones siguientes:"
   ]
  },
  {
   "cell_type": "markdown",
   "metadata": {},
   "source": [
    "[![Binder](https://mybinder.org/badge_logo.svg)](https://mybinder.org/v2/gh/palmoreck/dockerfiles-for-binder/jupyterlab_prope_r_kernel_tidyerse?urlpath=lab/tree/Propedeutico/R/clases/2_probabilidad/3_metodos_de_conteo.ipynb) esta opción crea una máquina individual en un servidor de Google, clona el repositorio y permite la ejecución de los notebooks de jupyter."
   ]
  },
  {
   "cell_type": "markdown",
   "metadata": {},
   "source": [
    "[![Run on Repl.it](https://repl.it/badge/github/palmoreck/dummy)](https://repl.it/languages/Rlang) esta opción no clona el repositorio, no ejecuta los notebooks de jupyter pero permite ejecución de instrucciones de Python de forma colaborativa con [repl.it](https://repl.it/). Al dar click se crearán nuevos ***repl*** debajo de sus users de ***repl.it***.\n"
   ]
  },
  {
   "cell_type": "markdown",
   "metadata": {},
   "source": [
    "### Lo siguiente está basado los libros:\n",
    "\n",
    "### * B. Rumbos, Pensando Antes de Actuar: Fundamentos de Elección Racional, 2009.\n",
    "\n",
    "### * G. J. Kerns, Introduction to Probability and Statistics Using R, 2014."
   ]
  },
  {
   "cell_type": "markdown",
   "metadata": {},
   "source": [
    "### El libro de G. J. Kerns tiene github: [jkerns/IPSUR](https://github.com/gjkerns/IPSUR)"
   ]
  },
  {
   "cell_type": "markdown",
   "metadata": {},
   "source": [
    "**Notas:**\n",
    "\n",
    "* Se utilizará el paquete [prob](https://cran.r-project.org/web/packages/prob/index.html) de *R* para los experimentos descritos en la nota y aunque con funciones nativas de *R* se pueden crear los experimentos, se le da preferencia a mostrar cómo en *R* se tienen paquetes para muchas aplicaciones.\n",
    "\n",
    "* Cuidado al utilizar las funciones del paquete `prob` para construir espacios de probabilidad grandes como lanzar un dado 9 veces... (tal experimento tiene 10 millones de posibles resultados)"
   ]
  },
  {
   "cell_type": "code",
   "execution_count": 1,
   "metadata": {},
   "outputs": [],
   "source": [
    "options(repr.plot.width=4, repr.plot.height=4) #esta línea sólo se ejecuta para jupyterlab con R"
   ]
  },
  {
   "cell_type": "code",
   "execution_count": 2,
   "metadata": {},
   "outputs": [
    {
     "name": "stderr",
     "output_type": "stream",
     "text": [
      "Loading required package: combinat\n",
      "\n",
      "\n",
      "Attaching package: ‘combinat’\n",
      "\n",
      "\n",
      "The following object is masked from ‘package:utils’:\n",
      "\n",
      "    combn\n",
      "\n",
      "\n",
      "Loading required package: fAsianOptions\n",
      "\n",
      "Loading required package: timeDate\n",
      "\n",
      "Loading required package: timeSeries\n",
      "\n",
      "Loading required package: fBasics\n",
      "\n",
      "Loading required package: fOptions\n",
      "\n",
      "\n",
      "Attaching package: ‘prob’\n",
      "\n",
      "\n",
      "The following objects are masked from ‘package:base’:\n",
      "\n",
      "    intersect, setdiff, union\n",
      "\n",
      "\n"
     ]
    }
   ],
   "source": [
    "library(prob)"
   ]
  },
  {
   "cell_type": "markdown",
   "metadata": {},
   "source": [
    "# Modelo equiprobable"
   ]
  },
  {
   "cell_type": "markdown",
   "metadata": {},
   "source": [
    "El modelo equiprobable es una forma conveniente y popular de analizar experimentos aleatorios. Si es posible suponer tal modelo, calcular la probabilidad del evento $E$ se traduce en calcular el número de resultados del experimento contenidos en $E$ junto con el número de eventos en $S$. Esto en la práctica se traduce en conocer algunas técnicas de conteo como son: el principio multiplicativo y permutaciones y combinaciones."
   ]
  },
  {
   "cell_type": "markdown",
   "metadata": {},
   "source": [
    "## Ejemplo"
   ]
  },
  {
   "cell_type": "markdown",
   "metadata": {},
   "source": [
    "Considérese el experimento de lanzar cuatro veces un dado. Entonces el espacio de resultados $S$ se puede describir como $S = \\{abcd, \\text{ tales que } a,b,c,d \\in \\{1,2,3,4,5,6\\} \\}$. Entonces $S$ consiste en todas las cuartetas de números en los que se puede elegir cualquier número entre el $1$ y el $6$. ¿Cuántos elementos tiene $S$?"
   ]
  },
  {
   "cell_type": "markdown",
   "metadata": {},
   "source": [
    "El ejemplo anterior ilustra un principio básico de conteo.\n",
    "\n"
   ]
  },
  {
   "cell_type": "markdown",
   "metadata": {},
   "source": [
    "## El principio multiplicativo\n",
    "\n",
    "Si un procedimiento consiste de $k$ pasos o etapas **independientes** y cada paso puede ocurrir de $n_i$ formas distintas, entonces, el procedimiento puede llevarse a cabo de: $n_1\\cdot n_2 \\cdot \\cdots \\cdot n_k$ maneras distintas. En particular, si $n_i = n$ para toda $i$, entonces hay $n^k$ formas distintas."
   ]
  },
  {
   "cell_type": "markdown",
   "metadata": {},
   "source": [
    "## Ejemplos"
   ]
  },
  {
   "cell_type": "markdown",
   "metadata": {},
   "source": [
    "1) Hay 5 caminos diferentes para ir de la CdMx  a Toluca, 3 caminos para ir de Toluca a Morelia y 4 para ir de Morelia a Guadalajara. ¿Cuántos posibles caminos hay para ir de la CdMx a Guadalajara? \n",
    "\n",
    "2) ¿Cuántos números telefónicos posibles hay, si cada número tiene ocho cifras? \n",
    "\n",
    "3) (Ejemplo de no principio multiplicativo) Supongamos que en el menú de una casa se ofrecen dos platillos: una entrada y un plato principal. Se quiere que la familia tenga una comida balanceada, de manera que si la entrada es rica en carbohidratos, entonces, el plato principal debe ser bajo en carbohidratos y rico en proteína y viceversa. Las opciones para cada plato son: rico en carbohidratos o rico en proteínas. ¿De cuántas formas pueden escogerse la entrada y el plato principal? "
   ]
  },
  {
   "cell_type": "markdown",
   "metadata": {},
   "source": [
    "## Muestras ordenadas"
   ]
  },
  {
   "cell_type": "markdown",
   "metadata": {},
   "source": [
    "Imaginemos una bolsa con $n$ canicas distinguibles. Agitamos la bolsa y elegimos $k$ canicas de forma aleatoria y anotamos el atributo que las distingue en una libreta (por ejemplo el color). ¿Cuántas posibles secuencias podemos observar?"
   ]
  },
  {
   "cell_type": "markdown",
   "metadata": {},
   "source": [
    "El número de formas en las que una persona puede seleccionar una **muestra ordenada** de tamaño $k$ de una población que tiene $n$ objetos distinguibles es:\n",
    "\n",
    "* $n^k$ si el muestreo se realiza **con reemplazo**.\n",
    "\n",
    "* $n(n-1)(n-2)\\cdots(n-k+1)$ si el muestreo se realiza **sin reemplazo**."
   ]
  },
  {
   "cell_type": "markdown",
   "metadata": {},
   "source": [
    "### Permutaciones"
   ]
  },
  {
   "cell_type": "markdown",
   "metadata": {},
   "source": [
    "Si $n>k$ son enteros positivos, se definen las permutaciones de $n$ objetos tomadas en grupos de tamaño $k$ como: $_nP_k = n(n-1)(n-2)\\cdots(n-k+1) = \\frac{n!}{(n-k)!}$ y se lee \"permutaciones de $n$ en $k$\"."
   ]
  },
  {
   "cell_type": "markdown",
   "metadata": {},
   "source": [
    "### Ejemplos"
   ]
  },
  {
   "cell_type": "markdown",
   "metadata": {},
   "source": [
    "1) ¿Cuántas secuencias posibles de Águila y Sol pueden obtenerse en siete lanzamientos de una moneda?\n",
    "\n",
    "2) Rentamos 5 películas para ver hoy por la noche y mañana por la noche. Hoy queremos ver $3$ películas. ¿De cuántas formas distintas podemos elegir las tres películas para ver hoy si nos importa el orden?\n",
    "\n",
    "3) ¿Cuál es la probabilidad de que en un grupo de $k$ $(2 \\leq k \\leq 365)$ personas todas tengan cumpleaños diferentes? Asumir que no hay años bisiestos."
   ]
  },
  {
   "cell_type": "markdown",
   "metadata": {},
   "source": [
    "## Muestras sin orden"
   ]
  },
  {
   "cell_type": "markdown",
   "metadata": {},
   "source": [
    "El número de formas en las que una persona puede seleccionar una **muestra no ordenada** de tamaño $k$ de una población que tiene $n$ objetos distinguibles es:\n",
    "\n",
    "* $\\frac{(n-1+k)!}{(n-1)!k!}$ si la muestra se hace **con reemplazo**.\n",
    "\n",
    "* $\\frac{n!}{k!(n-k)!}$ si la muestra se hace **sin reemplazo**."
   ]
  },
  {
   "cell_type": "markdown",
   "metadata": {},
   "source": [
    "### Combinaciones"
   ]
  },
  {
   "cell_type": "markdown",
   "metadata": {},
   "source": [
    "La cantidad $\\frac{n!}{k!(n-k)!}$ se llama coeficiente binomial y se denota: $\\binom{n}{k}$ y se lee \"combinaciones de $n$ en $k$\"."
   ]
  },
  {
   "cell_type": "markdown",
   "metadata": {},
   "source": [
    "### Ejemplos"
   ]
  },
  {
   "cell_type": "markdown",
   "metadata": {},
   "source": [
    "1) ¿Cuántas manos de poker posibles existen en una baraja?\n",
    "\n",
    "2) Si se tienen 12 accionistas, ¿de cuántas formas puede elegirse entre ellos un comité de 3 miembros?\n",
    "\n",
    "3) La lotería Melate consiste en elegir una combinación de seis números diferentes entre el 1 y el 56. ¿Cuál es la probabilidad de escoger la combinación ganadora?\n",
    "\n",
    "4) En una mano de poker, ¿cuál es la probabilidad de obtener una corrida del mismo palo? (las corridas pueden iniciar en cualquier número del 1 al 10) ¿cuál es la probabilidad de obtener cuatro cartas del mismo número y distinto palo?"
   ]
  },
  {
   "cell_type": "markdown",
   "metadata": {},
   "source": [
    "## ¿Cómo hacerlo en R?"
   ]
  },
  {
   "cell_type": "markdown",
   "metadata": {},
   "source": [
    "El factorial de un número entero no negativo $n$ se calcula con la ejecución `factorial(n)`, ver [factorial](https://www.rdocumentation.org/packages/SparkR/versions/2.1.2/topics/factorial) y el coeficiente binomial $\\binom{n}{k}$ se calcula con `choose(n,k)`, ver [special](https://www.rdocumentation.org/packages/base/versions/3.6.2/topics/Special). Con la función [nsamp](https://www.rdocumentation.org/packages/prob/versions/1.0-1/topics/nsamp) del paquete `prob` se calcula el número de renglones en un espacio de resultados construído por [urnsamples](https://www.rdocumentation.org/packages/prob/versions/1.0-1/topics/urnsamples) sin necesidad de generar el espacio completo. Los argumentos de `nsamp` son: `n`, el número de objetos distinguibles en la urna, `k` el tamaño de muestra y `replace` y `ordered` como antes."
   ]
  },
  {
   "cell_type": "markdown",
   "metadata": {},
   "source": [
    "Se tiene la siguiente tabla del muestreo de tamaño $k$ de $n$ objetos con `urnsamples`:\n",
    "\n",
    "|-----|ordered=T|ordered=F|\n",
    "|:-----|:-----:|:-----:|\n",
    "|replace=T| $n^k$| $\\binom{n-1+k}{k}=\\frac{(n-1+k)!}{(n-1)!k!}$|\n",
    "|replace=F|$_nP_k=\\frac{n!}{(n-k)!}$|$\\binom{n}{k}=\\frac{n!}{k!(n-k)!}$|"
   ]
  },
  {
   "cell_type": "markdown",
   "metadata": {},
   "source": [
    "### Ejemplo"
   ]
  },
  {
   "cell_type": "markdown",
   "metadata": {},
   "source": [
    "1) **Experimento:** sacar 2 canicas distinguibles de una urna. ¿Número de formas distintas de extraerlas?"
   ]
  },
  {
   "cell_type": "code",
   "execution_count": 25,
   "metadata": {},
   "outputs": [
    {
     "data": {
      "text/html": [
       "9"
      ],
      "text/latex": [
       "9"
      ],
      "text/markdown": [
       "9"
      ],
      "text/plain": [
       "[1] 9"
      ]
     },
     "metadata": {},
     "output_type": "display_data"
    },
    {
     "data": {
      "text/html": [
       "6"
      ],
      "text/latex": [
       "6"
      ],
      "text/markdown": [
       "6"
      ],
      "text/plain": [
       "[1] 6"
      ]
     },
     "metadata": {},
     "output_type": "display_data"
    },
    {
     "data": {
      "text/html": [
       "3"
      ],
      "text/latex": [
       "3"
      ],
      "text/markdown": [
       "3"
      ],
      "text/plain": [
       "[1] 3"
      ]
     },
     "metadata": {},
     "output_type": "display_data"
    },
    {
     "data": {
      "text/html": [
       "6"
      ],
      "text/latex": [
       "6"
      ],
      "text/markdown": [
       "6"
      ],
      "text/plain": [
       "[1] 6"
      ]
     },
     "metadata": {},
     "output_type": "display_data"
    }
   ],
   "source": [
    "nsamp(n=3, k=2, replace = TRUE, ordered = TRUE)\n",
    "nsamp(n=3, k=2, replace = FALSE, ordered = TRUE)\n",
    "nsamp(n=3, k=2, replace = FALSE, ordered = FALSE)\n",
    "nsamp(n=3, k=2, replace = TRUE, ordered = FALSE)"
   ]
  },
  {
   "cell_type": "markdown",
   "metadata": {},
   "source": [
    "2) **Experimento:** elección de artistas, pinturas y luz...\n",
    "\n",
    "11 artistas enviarán sus portafolios con contenido de 7 pinturas cada uno para competir en una exhibición de arte. La directora de la galería sólo tiene espacio para acomodar 12 pinturas de los tres primeros lugares a lo largo de una fila en tres paredes que se encuentran una al lado de otra y la primera pared se le asignará al primer lugar, la segunda pared al segundo lugar y la tercera al tercer lugar. La directora le dará a cada persona ganadora una pared para exhibir sus pinturas y cada artista las acomodará de acuerdo al orden que elija (al artista le importa el orden). Además en las paredes se puede proyectar un color de los 31 distintos colores de luz para la exhibición. ¿Cuántos diferentes arreglos entre artistas que ganan los tres primeros lugares, elección de sus pinturas y colores se pueden tener en la exhibición de la galería?"
   ]
  },
  {
   "cell_type": "markdown",
   "metadata": {},
   "source": [
    "Se tiene el siguiente análisis del problema:\n",
    "\n",
    "* Se eligen 3 artistas de los 11 que ganan los 3 primeros lugares, esta es una elección sin reemplazo y con orden: $_{11}P_3$.\n",
    "\n",
    "* Cada artista elige 4 pinturas de sus 7 pinturas de su portafolio y sí le interesa el orden de exhibición de sus pinturas, esta es una elección sin reemplazo y con orden: $_7P_4$.\n",
    "\n",
    "* Cada artista elige la luz de su preferencia, esta es una elección con reemplazo y con orden: $31*31*31$.\n",
    "\n",
    "Entonces:"
   ]
  },
  {
   "cell_type": "code",
   "execution_count": 26,
   "metadata": {},
   "outputs": [],
   "source": [
    "n <- c(11, 7, 31)\n",
    "k <- c(3,4,3)\n",
    "replace <- c(FALSE, FALSE, TRUE)\n",
    "\n",
    "#in the next execution observe that argument `order=TRUE` will\n",
    "#be recycled to match the length of the values of replace vector\n",
    "x<- nsamp(n, k, replace, order=TRUE)\n"
   ]
  },
  {
   "cell_type": "markdown",
   "metadata": {},
   "source": [
    "La solución del ejercicio se resuelve con el principio multiplicativo y es:"
   ]
  },
  {
   "cell_type": "code",
   "execution_count": 27,
   "metadata": {},
   "outputs": [
    {
     "data": {
      "text/html": [
       "24774195600"
      ],
      "text/latex": [
       "24774195600"
      ],
      "text/markdown": [
       "24774195600"
      ],
      "text/plain": [
       "[1] 24774195600"
      ]
     },
     "metadata": {},
     "output_type": "display_data"
    }
   ],
   "source": [
    "prod(x)"
   ]
  },
  {
   "cell_type": "markdown",
   "metadata": {},
   "source": [
    "Los diferentes arreglos entre artistas de los tres primeros lugares, pinturas y colores se puede realizar de 24, 774, 195, 600 formas distintas."
   ]
  },
  {
   "cell_type": "markdown",
   "metadata": {},
   "source": [
    "## (Tarea) Ejercicios"
   ]
  },
  {
   "cell_type": "markdown",
   "metadata": {},
   "source": [
    "**Nota: Varios de los siguientes ejercicios tienen su solución en las referencias dadas al inicio de la nota. Se sugiere resolverlos y compararlos con sus respectivas soluciones.**"
   ]
  },
  {
   "cell_type": "markdown",
   "metadata": {},
   "source": [
    "1) Tenemos 5 ingredientes de los cuales podemos elegir para pedir nuestra pizza: peperoni, salchicha, anchoas, huitlacoche y aceitunas. ¿Cuántas pizzas distintas podemos formar?\n",
    "\n",
    "2) Para construir una computadora podemos elegir entre las opciones que están en una tienda: dos procesadores, tres sistemas operativos, cuatro tamaños distintos de memoria, 4 discos duros de distinto tamaño y 10 opciones de monitor. ¿Cuántas opciones de computadoras podemos construir?\n",
    "\n",
    "3) ¿Cuántas formas distintas se pueden construir números de tres cifras sin repetir ningún número?\n",
    "\n",
    "4) Cuatro personas ordenan diferentes bebidas en un bar. El cantinero sirve las bebidas pero por falta de atención olvida completamente quién ordenó qué. ¿Cuál es la probabilidad de que el cantinero coloque las bebidas correctamente? \n",
    "\n",
    "5) Rentas $5$ películas para ver: $3$ hoy y $2$ mañana por la noche pero tu amiga Mariana te pide prestadas $2$ películas. ¿De cuántas formas distintas puede Mariana elegir las $2$ películas?\n",
    "\n",
    "6) ¿Cuántas manos de poker contienen (exactamente) una tercia? ---> (excluye par, esto es, excluye el llamado full)"
   ]
  }
 ],
 "metadata": {
  "kernelspec": {
   "display_name": "R",
   "language": "R",
   "name": "ir"
  },
  "language_info": {
   "codemirror_mode": "r",
   "file_extension": ".r",
   "mimetype": "text/x-r-source",
   "name": "R",
   "pygments_lexer": "r",
   "version": "4.1.0"
  }
 },
 "nbformat": 4,
 "nbformat_minor": 4
}
